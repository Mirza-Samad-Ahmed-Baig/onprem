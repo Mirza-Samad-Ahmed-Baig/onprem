{
 "cells": [
  {
   "cell_type": "markdown",
   "metadata": {},
   "source": [
    "# OnPrem.LLM"
   ]
  },
  {
   "cell_type": "markdown",
   "metadata": {},
   "source": [
    "> A toolkit for running large language models on-premises using non-public data\n",
    "\n",
    "**[OnPrem.LLM](https://github.com/amaiya/onprem)** is a simple Python package that makes it easier to apply large language models (LLMs) to non-public data on your own machines (possibly behind corporate firewalls). Inspired largely by the [privateGPT](https://github.com/imartinez/privateGPT) GitHub repo, **OnPrem.LLM** is intended to help integrate local LLMs into practical applications.\n",
    "\n",
    "The full documentation is [here](https://amaiya.github.io/onprem/). \n",
    "\n",
    "A Google Colab demo of installing and using **OnPrem.LLM** is [here](https://colab.research.google.com/drive/1LVeacsQ9dmE1BVzwR3eTLukpeRIMmUqi?usp=sharing)."
   ]
  },
  {
   "cell_type": "markdown",
   "metadata": {},
   "source": [
    "---\n",
    "\n",
    "*Latest News* 🔥\n",
    "\n",
    "- [2024/12] v0.7.0 released and now includes support for [structured outputs](https://amaiya.github.io/onprem/#structured-and-guided-outputs).\n",
    "- [2024/12] v0.6.0 released and now includes support for PDF to Markdown conversion (which includes Markdown representations of tables), as shown [here](https://amaiya.github.io/onprem/#extract-text-from-documents).\n",
    "- [2024/11] v0.5.0 released and now includes support for running LLMs with Hugging Face [transformers](https://github.com/huggingface/transformers) as the backend instead of [llama.cpp](https://github.com/abetlen/llama-cpp-python). See [this example](https://amaiya.github.io/onprem/#using-hugging-face-transformers-instead-of-llama.cpp).\n",
    "- [2024/11] v0.4.0 released and now includes a `default_model` parameter to more easily use models like **Llama-3.1** and **Zephyr-7B-beta**.\n",
    "- [2024/10] v0.3.0 released and now includes support for [concept-focused summarization](https://amaiya.github.io/onprem/examples_summarization.html#concept-focused-summarization)\n",
    "- [2024/09] v0.2.0 released and now includes PDF OCR support and better PDF table handling.\n",
    "- [2024/06] v0.1.0 of **OnPrem.LLM** has been released. Lots of new updates!\n",
    "  \n",
    "  - [Ability to use with any OpenAI-compatible API](https://amaiya.github.io/onprem/#connecting-to-llms-served-through-rest-apis) (e.g., vLLM, Ollama, OpenLLM, etc.).\n",
    "  - Pipeline for [information extraction](https://amaiya.github.io/onprem/examples_information_extraction.html) from raw documents.\n",
    "  - Pipeline for [few-shot text classification](https://amaiya.github.io/onprem/examples_classification.html) (i.e., training a classifier on a tiny number of labeled examples) along with the ability to explain few-shot predictions.\n",
    "  - Default model changed to [Mistral-7B-Instruct-v0.2](https://huggingface.co/TheBloke/Mistral-7B-Instruct-v0.2-GGUF)\n",
    "  - [API augmentations and bug fixes](https://github.com/amaiya/onprem/blob/master/CHANGELOG.md)\n",
    "\n",
    "---"
   ]
  },
  {
   "cell_type": "markdown",
   "metadata": {},
   "source": [
    "## Install"
   ]
  },
  {
   "cell_type": "markdown",
   "metadata": {},
   "source": [
    "Once you have [installed PyTorch](https://pytorch.org/get-started/locally/), you can install **OnPrem.LLM** with the following steps:\n",
    "\n",
    "1. Install **llama-cpp-python**:\n",
    "    - **CPU:** `pip install llama-cpp-python` ([extra steps](https://github.com/amaiya/onprem/blob/master/MSWindows.md) required for Microsoft Windows)\n",
    "    - **GPU**: Follow [instructions below](https://amaiya.github.io/onprem/#on-gpu-accelerated-inference).\n",
    "2. Install **OnPrem.LLM**: `pip install onprem`\n",
    "\n",
    "### On GPU-Accelerated Inference\n",
    "\n",
    "When installing **llama-cpp-python** with `pip install llama-cpp-python`, the LLM will run on your **CPU**.  To generate answers much faster, you can run the LLM on your **GPU** by building **llama-cpp-python** based on your operating system.\n",
    "\n",
    "- **Linux**: `CMAKE_ARGS=\"-DGGML_CUDA=on\" FORCE_CMAKE=1 pip install --upgrade --force-reinstall llama-cpp-python --no-cache-dir` \n",
    "- **Mac**: `CMAKE_ARGS=\"-DGGML_METAL=on\" pip install llama-cpp-python`\n",
    "- **Windows 11**: Follow the instructions [here](https://github.com/amaiya/onprem/blob/master/MSWindows.md#using-the-system-python-in-windows-11s).\n",
    "- **Windows Subsystem for Linux (WSL2)**: Follow the instructions [here](https://github.com/amaiya/onprem/blob/master/MSWindows.md#using-wsl2-with-gpu-acceleration).\n",
    "\n",
    "\n",
    "For Linux and Windows, you will need [an up-to-date NVIDIA driver](https://www.nvidia.com/en-us/drivers/) along with the [CUDA toolkit](https://developer.nvidia.com/cuda-downloads) installed before running the installation commands above.\n",
    "\n",
    "After following the instructions above, supply the `n_gpu_layers=-1` parameter when instantiating an LLM to use your GPU for fast inference:\n",
    "```python\n",
    "llm = LLM(n_gpu_layers=-1, ...)\n",
    "```\n",
    "\n",
    "Quantized models with 8B parameters and below can typically run on GPUs with as little as 6GB of VRAM.  If a model does not fit on your GPU (e.g., you get a \"CUDA Error: Out-of-Memory\" error), you can offload a subset of layers to the GPU by experimenting with different values for the `n_gpu_layers` parameter (e.g., `n_gpu_layers=20`). Setting `n_gpu_layers=-1`, as shown above, offloads all layers to the GPU. \n",
    "\n",
    "See [the FAQ](https://amaiya.github.io/onprem/#faq) for extra tips, if you experience issues with [llama-cpp-python](https://pypi.org/project/llama-cpp-python/) installation.\n",
    "\n",
    "\n",
    "**Note:**  Installing **llama-cpp-python** is optional if either the following is true:\n",
    "\n",
    "- You use Hugging Face Transformers (instead of llama-cpp-python) as the LLM backend by supplying the `model_id` parameter when instantiating an LLM, as [shown here](https://amaiya.github.io/onprem/#using-hugging-face-transformers-instead-of-llama.cpp).\n",
    "- You are using **OnPrem.LLM** with an LLM being served through an [external REST API](#connecting-to-llms-served-through-rest-apis) (e.g., vLLM, OpenLLM, Ollama).\n",
    "\n",
    "\n"
   ]
  },
  {
   "cell_type": "markdown",
   "metadata": {},
   "source": [
    "## How to Use"
   ]
  },
  {
   "cell_type": "markdown",
   "metadata": {},
   "source": [
    "### Setup"
   ]
  },
  {
   "cell_type": "code",
   "execution_count": null,
   "metadata": {},
   "outputs": [],
   "source": [
    "# | notest\n",
    "\n",
    "from onprem import LLM\n",
    "\n",
    "llm = LLM()"
   ]
  },
  {
   "cell_type": "markdown",
   "metadata": {},
   "source": [
    "By default, a 7B-parameter model (**Mistral-7B-Instruct-v0.2**) is downloaded and used. If `default_model='llama'` is supplied, then a **Llama-3.1-8B-Instsruct** model is  automatically downloaded and used (which is useful if the default Mistral model struggles with a particular task):\n",
    "```python\n",
    "# Llama 3.1 is downloaded here and the correct prompt template for Llama-3.1 is automatically configured and used\n",
    "llm = LLM(default_model='llama')\n",
    "```\n",
    "Similarly, suppyling `default_model='zephyr`, will use **Zephyr-7B-beta**. Of course, you can also easily supply the URL to an LLM of your choosing to `LLM` (see the the [code generation example](https://amaiya.github.io/onprem/examples_code.html) or the [FAQ](https://amaiya.github.io/onprem/#faq) for examples). Any extra parameters supplied to `LLM` are forwarded directly to `llama-cpp-python`. \n",
    "\n",
    "**Note:** The default context window size (`n_ctx`) is set to 3900 and the default output size (`max_tokens`) is set 512. Both are configurable parameters to `LLM`.  Increase if you  have larger prompts or need longer outputs."
   ]
  },
  {
   "cell_type": "markdown",
   "metadata": {},
   "source": [
    "### Send Prompts to the LLM to Solve Problems\n",
    "This is an example of few-shot prompting, where we provide an example of what we want the LLM to do."
   ]
  },
  {
   "cell_type": "code",
   "execution_count": null,
   "metadata": {},
   "outputs": [
    {
     "name": "stdout",
     "output_type": "stream",
     "text": [
      " Cillian Murphy, Florence Pugh."
     ]
    }
   ],
   "source": [
    "# | notest\n",
    "\n",
    "prompt = \"\"\"Extract the names of people in the supplied sentences. Here is an example:\n",
    "Sentence: James Gandolfini and Paul Newman were great actors.\n",
    "People:\n",
    "James Gandolfini, Paul Newman\n",
    "Sentence:\n",
    "I like Cillian Murphy's acting. Florence Pugh is great, too.\n",
    "People:\"\"\"\n",
    "\n",
    "saved_output = llm.prompt(prompt)"
   ]
  },
  {
   "cell_type": "markdown",
   "metadata": {},
   "source": [
    "Additional prompt examples are [shown here](https://amaiya.github.io/onprem/examples.html)."
   ]
  },
  {
   "cell_type": "markdown",
   "metadata": {},
   "source": [
    "### Talk to Your Documents\n",
    "\n",
    "Answers are generated from the content of your documents (i.e., [retrieval augmented generation](https://arxiv.org/abs/2005.11401) or RAG). Here, we will use [GPU offloading](https://amaiya.github.io/onprem/#speeding-up-inference-using-a-gpu) to speed up answer generation using the default model. However, the Zephyr-7B model may perform even better, responds faster, and is used in our [example notebook](https://amaiya.github.io/onprem/examples_rag.html)."
   ]
  },
  {
   "cell_type": "code",
   "execution_count": null,
   "metadata": {},
   "outputs": [],
   "source": [
    "# | notest\n",
    "from onprem import LLM\n",
    "\n",
    "llm = LLM(n_gpu_layers=-1)"
   ]
  },
  {
   "cell_type": "markdown",
   "metadata": {},
   "source": [
    "#### Step 1: Ingest the  Documents into a Vector Database"
   ]
  },
  {
   "cell_type": "code",
   "execution_count": null,
   "metadata": {},
   "outputs": [
    {
     "name": "stdout",
     "output_type": "stream",
     "text": [
      "Creating new vectorstore at /home/amaiya/onprem_data/vectordb\n",
      "Loading documents from ./sample_data\n"
     ]
    },
    {
     "name": "stderr",
     "output_type": "stream",
     "text": [
      "Loading new documents: 100%|██████████████████████| 3/3 [00:00<00:00, 13.71it/s]\n"
     ]
    },
    {
     "name": "stdout",
     "output_type": "stream",
     "text": [
      "Loaded 12 new documents from ./sample_data\n",
      "Split into 153 chunks of text (max. 500 chars each)\n",
      "Creating embeddings. May take some minutes...\n"
     ]
    },
    {
     "name": "stderr",
     "output_type": "stream",
     "text": [
      "100%|█████████████████████████████████████████████████████████████████████████████████████████████████████████████████████████████████████████████████████████████████████████████| 1/1 [00:02<00:00,  2.49s/it]"
     ]
    },
    {
     "name": "stdout",
     "output_type": "stream",
     "text": [
      "Ingestion complete! You can now query your documents using the LLM.ask or LLM.chat methods\n"
     ]
    },
    {
     "name": "stderr",
     "output_type": "stream",
     "text": [
      "\n"
     ]
    }
   ],
   "source": [
    "# | notest\n",
    "llm.ingest(\"./tests/sample_data\")"
   ]
  },
  {
   "cell_type": "markdown",
   "metadata": {},
   "source": [
    "#### Step 2: Answer Questions About the Documents"
   ]
  },
  {
   "cell_type": "code",
   "execution_count": null,
   "metadata": {},
   "outputs": [
    {
     "name": "stdout",
     "output_type": "stream",
     "text": [
      " Ktrain is a low-code machine learning library designed to facilitate the full machine learning workflow from curating and preprocessing inputs to training, tuning, troubleshooting, and applying models. Ktrain is well-suited for domain experts who may have less experience with machine learning and software coding."
     ]
    }
   ],
   "source": [
    "# | notest\n",
    "question = \"\"\"What is  ktrain?\"\"\"\n",
    "result = llm.ask(question)"
   ]
  },
  {
   "cell_type": "markdown",
   "metadata": {},
   "source": [
    "The sources used by the model to generate the answer are stored in `result['source_documents']`:"
   ]
  },
  {
   "cell_type": "code",
   "execution_count": null,
   "metadata": {},
   "outputs": [
    {
     "name": "stdout",
     "output_type": "stream",
     "text": [
      "\n",
      "Sources:\n",
      "\n",
      "\n",
      "1.> /home/amaiya/projects/ghub/onprem/nbs/sample_data/1/ktrain_paper.pdf:\n",
      "lection (He et al., 2019). By contrast, ktrain places less emphasis on this aspect of au-\n",
      "tomation and instead focuses on either partially or fully automating other aspects of the\n",
      "machine learning (ML) workﬂow. For these reasons, ktrain is less of a traditional Au-\n",
      "2\n",
      "\n",
      "2.> /home/amaiya/projects/ghub/onprem/nbs/sample_data/1/ktrain_paper.pdf:\n",
      "possible, ktrain automates (either algorithmically or through setting well-performing de-\n",
      "faults), but also allows users to make choices that best ﬁt their unique application require-\n",
      "ments. In this way, ktrain uses automation to augment and complement human engineers\n",
      "rather than attempting to entirely replace them. In doing so, the strengths of both are\n",
      "better exploited. Following inspiration from a blog post1 by Rachel Thomas of fast.ai\n",
      "\n",
      "3.> /home/amaiya/projects/ghub/onprem/nbs/sample_data/1/ktrain_paper.pdf:\n",
      "with custom models and data formats, as well.\n",
      "Inspired by other low-code (and no-\n",
      "code) open-source ML libraries such as fastai (Howard and Gugger, 2020) and ludwig\n",
      "(Molino et al., 2019), ktrain is intended to help further democratize machine learning by\n",
      "enabling beginners and domain experts with minimal programming or data science experi-\n",
      "4. http://archive.ics.uci.edu/ml/datasets/Twenty+Newsgroups\n",
      "6\n",
      "\n",
      "4.> /home/amaiya/projects/ghub/onprem/nbs/sample_data/1/ktrain_paper.pdf:\n",
      "ktrain: A Low-Code Library for Augmented Machine Learning\n",
      "toML platform and more of what might be called a “low-code” ML platform. Through\n",
      "automation or semi-automation, ktrain facilitates the full machine learning workﬂow from\n",
      "curating and preprocessing inputs (i.e., ground-truth-labeled training data) to training,\n",
      "tuning, troubleshooting, and applying models. In this way, ktrain is well-suited for domain\n",
      "experts who may have less experience with machine learning and software coding. Where\n"
     ]
    }
   ],
   "source": [
    "# | notest\n",
    "print(\"\\nSources:\\n\")\n",
    "for i, document in enumerate(result[\"source_documents\"]):\n",
    "    print(f\"\\n{i+1}.> \" + document.metadata[\"source\"] + \":\")\n",
    "    print(document.page_content)"
   ]
  },
  {
   "cell_type": "markdown",
   "metadata": {},
   "source": [
    "### Extract Text from Documents\n",
    "\n",
    "The `load_single_document` function can extract text from a range of different document formats (e.g., PDFs, Microsoft PowerPoint, Microsoft Word, etc.). It is automatically invoked when calling `LLM.ingest`. Extracted text is represented as LangChain `Document` objects, where `Document.page_content` stores the extracted text and `Document.metadata` stores any extracted document metadata. \n",
    "\n",
    "For PDFs, in particular, a number of different options are available depending on your use case.  \n",
    "\n",
    "**Fast PDF Extraction (default)**\n",
    "\n",
    "- **Pro:** Fast\n",
    "- **Con:** Does not infer/retain structure of tables in PDF documents"
   ]
  },
  {
   "cell_type": "code",
   "execution_count": null,
   "metadata": {},
   "outputs": [
    {
     "data": {
      "text/plain": [
       "{'source': '/home/amaiya/projects/ghub/onprem/nbs/sample_data/1/ktrain_paper.pdf',\n",
       " 'file_path': '/home/amaiya/projects/ghub/onprem/nbs/sample_data/1/ktrain_paper.pdf',\n",
       " 'page': 0,\n",
       " 'total_pages': 9,\n",
       " 'format': 'PDF 1.4',\n",
       " 'title': '',\n",
       " 'author': '',\n",
       " 'subject': '',\n",
       " 'keywords': '',\n",
       " 'creator': 'LaTeX with hyperref',\n",
       " 'producer': 'dvips + GPL Ghostscript GIT PRERELEASE 9.22',\n",
       " 'creationDate': \"D:20220406214054-04'00'\",\n",
       " 'modDate': \"D:20220406214054-04'00'\",\n",
       " 'trapped': ''}"
      ]
     },
     "execution_count": null,
     "metadata": {},
     "output_type": "execute_result"
    }
   ],
   "source": [
    "# | notest\n",
    "\n",
    "\n",
    "from onprem.ingest import load_single_document\n",
    "\n",
    "docs = load_single_document('tests/sample_data/ktrain_paper/ktrain_paper.pdf')\n",
    "docs[0].metadata"
   ]
  },
  {
   "cell_type": "markdown",
   "metadata": {},
   "source": [
    "**Automatic OCR of PDFs**\n",
    "\n",
    "- **Pro:** Automatically extracts text from scanned PDFs\n",
    "- **Con:** Slow\n",
    "\n",
    "The `load_single_document` function will automatically OCR PDFs that require it (i.e., PDFs that are scanned hard-copies of documents). If a document is OCR'ed during extraction, the `metadata['ocr']` field will be populated with `True`.\n"
   ]
  },
  {
   "cell_type": "code",
   "execution_count": null,
   "metadata": {},
   "outputs": [
    {
     "data": {
      "text/plain": [
       "{'source': '/home/amaiya/projects/ghub/onprem/nbs/sample_data/4/lynn1975.pdf',\n",
       " 'ocr': True}"
      ]
     },
     "execution_count": null,
     "metadata": {},
     "output_type": "execute_result"
    }
   ],
   "source": [
    "# | notest\n",
    "\n",
    "docs = load_single_document('tests/sample_data/ocr_document/lynn1975.pdf')\n",
    "docs[0].metadata"
   ]
  },
  {
   "cell_type": "markdown",
   "metadata": {},
   "source": [
    "**Markdown Conversion in PDFs**\n",
    "\n",
    "- **Pro**: Better chunking for QA\n",
    "- **Con**: Slower than default PDF extraction\n",
    "\n",
    "The `load_single_document` function can convert PDFs to Markdown instead of plain text by supplying the `pdf_markdown=True` as an argument:\n",
    "\n",
    "```python\n",
    "docs = load_single_document('your_pdf_document.pdf', \n",
    "                            pdf_markdown=True)\n",
    "```\n",
    "Converting to Markdown can facilitate downstream tasks like question-answering. For instance, when supplying `pdf_markdown=True` to `LLM.ingest`, documents are chunked in a Markdown-aware fashion (e.g., the abstract of a research paper tends to be kept together into a single chunk instead of being split up). Note that Markdown will not be extracted if the document requires OCR.\n",
    "\n",
    "**Inferring Table Structure in PDFs**\n",
    "\n",
    "- **Pro**: Makes it easier for LLMs to analyze information in tables\n",
    "- **Con**: Slower than default PDF extraction\n",
    "\n",
    "When supplying `infer_table_structure=True` to either `load_single_document` or `LLM.ingest`, tables are inferred and extracted from PDFs using a TableTransformer model.  Tables are represented as **Markdown** (or **HTML** if Markdown conversion is not possible).\n",
    "\n",
    "```python\n",
    "docs = load_single_document('your_pdf_document.pdf', \n",
    "                            infer_table_structure=True)\n",
    "```\n",
    "\n",
    "**Parsing Extracted Text Into Sentences or Paragraphs**\n",
    "\n",
    "For some analyses (e.g., using prompts for information extraction), it may be useful to parse the text extracted from documents into individual sentences or paragraphs. This can be accomplished using the `segment` function:\n"
   ]
  },
  {
   "cell_type": "code",
   "execution_count": null,
   "metadata": {},
   "outputs": [],
   "source": [
    "# | notest\n",
    "\n",
    "from onprem.ingest import load_single_document\n",
    "from onprem.utils import segment\n",
    "text = load_single_document('tests/sample_data/sotu/state_of_the_union.txt')[0].page_content"
   ]
  },
  {
   "cell_type": "code",
   "execution_count": null,
   "metadata": {},
   "outputs": [
    {
     "data": {
      "text/plain": [
       "'Madam Speaker, Madam Vice President, our First Lady and Second Gentleman.  Members of Congress and the Cabinet.  Justices of the Supreme Court.  My fellow Americans.'"
      ]
     },
     "execution_count": null,
     "metadata": {},
     "output_type": "execute_result"
    }
   ],
   "source": [
    "# | notest\n",
    "\n",
    "segment(text, unit='paragraph')[0]"
   ]
  },
  {
   "cell_type": "code",
   "execution_count": null,
   "metadata": {},
   "outputs": [
    {
     "data": {
      "text/plain": [
       "'Madam Speaker, Madam Vice President, our First Lady and Second Gentleman.'"
      ]
     },
     "execution_count": null,
     "metadata": {},
     "output_type": "execute_result"
    }
   ],
   "source": [
    "# | notest\n",
    "\n",
    "segment(text, unit='sentence')[0]"
   ]
  },
  {
   "cell_type": "markdown",
   "metadata": {},
   "source": [
    "### Summarization Pipeline\n",
    "\n",
    "Summarize your raw documents (e.g., PDFs, MS Word) with an LLM.\n",
    "\n",
    "#### Map-Reduce Summarization\n",
    "Summarize each chunk in a document and then generate a single summary from the individual summaries."
   ]
  },
  {
   "cell_type": "code",
   "execution_count": null,
   "metadata": {},
   "outputs": [],
   "source": [
    "# | notest\n",
    "\n",
    "from onprem import LLM\n",
    "llm = LLM(n_gpu_layers=-1, verbose=False, mute_stream=True) # disabling viewing of intermediate summarization prompts/inferences"
   ]
  },
  {
   "cell_type": "code",
   "execution_count": null,
   "metadata": {},
   "outputs": [
    {
     "name": "stdout",
     "output_type": "stream",
     "text": [
      " Ktrain is an open-source machine learning library that offers a unified interface for various machine learning tasks. The library supports both supervised and non-supervised machine learning, and includes methods for training models, evaluating models, making predictions on new data, and providing explanations for model decisions. Additionally, the library integrates with various explainable AI libraries such as shap, eli5 with lime, and others to provide more interpretable models.\n"
     ]
    }
   ],
   "source": [
    "# | notest\n",
    "\n",
    "from onprem.pipelines import Summarizer\n",
    "summ = Summarizer(llm)\n",
    "\n",
    "resp = summ.summarize('tests/sample_data/ktrain_paper/ktrain_paper.pdf', max_chunks_to_use=5) # omit max_chunks_to_use parameter to consider entire document\n",
    "print(resp['output_text'])"
   ]
  },
  {
   "cell_type": "markdown",
   "metadata": {},
   "source": [
    "#### Concept-Focused Summarization\n",
    "\n",
    "Summarize a large document with respect to a particular concept of interest."
   ]
  },
  {
   "cell_type": "code",
   "execution_count": null,
   "metadata": {},
   "outputs": [],
   "source": [
    "# | notest\n",
    "\n",
    "from onprem import LLM\n",
    "from onprem.pipelines import Summarizer"
   ]
  },
  {
   "cell_type": "code",
   "execution_count": null,
   "metadata": {},
   "outputs": [
    {
     "name": "stdout",
     "output_type": "stream",
     "text": [
      "\n",
      "The context provided describes the implementation of an open-domain question-answering system using ktrain, a low-code library for augmented machine learning. The system follows three main steps: indexing documents into a search engine, locating documents containing words in the question, and extracting candidate answers from those documents using a BERT model pretrained on the SQuAD dataset. Confidence scores are used to sort and prune candidate answers before returning results. The entire workflow can be implemented with only three lines of code using ktrain's SimpleQA module. This system allows for the submission of natural language questions and receives exact answers, as demonstrated in the provided example. Overall, the context highlights the ease and accessibility of building sophisticated machine learning models, including open-domain question-answering systems, through ktrain's low-code interface."
     ]
    }
   ],
   "source": [
    "# | notest\n",
    "\n",
    "llm = LLM(default_model='zephyr', n_gpu_layers=-1, verbose=False, temperature=0)\n",
    "summ = Summarizer(llm)\n",
    "summary, sources = summ.summarize_by_concept('tests/sample_data/ktrain_paper/ktrain_paper.pdf', concept_description=\"question answering\")"
   ]
  },
  {
   "cell_type": "markdown",
   "metadata": {},
   "source": [
    "### Information Extraction Pipeline\n",
    "\n",
    "Extract information from raw documents (e.g., PDFs, MS Word documents) with an LLM. "
   ]
  },
  {
   "cell_type": "code",
   "execution_count": null,
   "metadata": {},
   "outputs": [
    {
     "name": "stderr",
     "output_type": "stream",
     "text": [
      "/home/amaiya/projects/ghub/onprem/onprem/core.py:159: UserWarning: The model you supplied is gpt-3.5-turbo, an external service (i.e., not on-premises). Use with caution, as your data and prompts will be sent externally.\n",
      "  warnings.warn(f'The model you supplied is {self.model_name}, an external service (i.e., not on-premises). '+\\\n"
     ]
    },
    {
     "data": {
      "text/plain": [
       "'Institute for Defense Analyses'"
      ]
     },
     "execution_count": null,
     "metadata": {},
     "output_type": "execute_result"
    }
   ],
   "source": [
    "# | notest\n",
    "from onprem import LLM\n",
    "from onprem.pipelines import Extractor\n",
    "# Notice that we're using a cloud-based, off-premises model here! See \"OpenAI\" section below.\n",
    "llm = LLM(model_url='openai://gpt-3.5-turbo', verbose=False, mute_stream=True, temperature=0) \n",
    "extractor = Extractor(llm)\n",
    "prompt = \"\"\"Extract the names of research institutions (e.g., universities, research labs, corporations, etc.) \n",
    "from the following sentence delimited by three backticks. If there are no organizations, return NA.  \n",
    "If there are multiple organizations, separate them with commas.\n",
    "```{text}```\n",
    "\"\"\"\n",
    "df = extractor.apply(prompt, fpath='tests/sample_data/ktrain_paper/ktrain_paper.pdf', pdf_pages=[1], stop=['\\n'])\n",
    "df.loc[df['Extractions'] != 'NA'].Extractions[0]"
   ]
  },
  {
   "cell_type": "markdown",
   "metadata": {},
   "source": [
    "### Few-Shot Classification\n",
    "\n",
    "Make accurate text classification predictions using only a tiny number of labeled examples.\n",
    "\n",
    "```python\n",
    "# create classifier\n",
    "from onprem.pipelines import FewShotClassifier\n",
    "clf = FewShotClassifier(use_smaller=True)\n",
    "\n",
    "# Fetching data\n",
    "from sklearn.datasets import fetch_20newsgroups\n",
    "import pandas as pd\n",
    "import numpy as np\n",
    "classes = [\"soc.religion.christian\", \"sci.space\"]\n",
    "newsgroups = fetch_20newsgroups(subset=\"all\", categories=classes)\n",
    "corpus, group_labels = np.array(newsgroups.data), np.array(newsgroups.target_names)[newsgroups.target]\n",
    "\n",
    "# Wrangling data into a dataframe and selecting training examples\n",
    "data = pd.DataFrame({\"text\": corpus, \"label\": group_labels})\n",
    "train_df = data.groupby(\"label\").sample(5)\n",
    "test_df = data.drop(index=train_df.index)\n",
    "\n",
    "# X_sample only contains 5 examples of each class!\n",
    "X_sample, y_sample = train_df['text'].values, train_df['label'].values\n",
    "\n",
    "# test set\n",
    "X_test, y_test = test_df['text'].values, test_df['label'].values\n",
    "\n",
    "# train\n",
    "clf.train(X_sample,  y_sample, max_steps=20)\n",
    "\n",
    "# evaluate\n",
    "print(clf.evaluate(X_test, y_test)['accuracy'])\n",
    "#output: 0.98\n",
    "\n",
    "# make predictions\n",
    "clf.predict(['Elon Musk likes launching satellites.']).tolist()[0]\n",
    "#output: sci.space\n",
    "```"
   ]
  },
  {
   "cell_type": "markdown",
   "metadata": {},
   "source": [
    "### Using Hugging Face Transformers Instead of Llama.cpp\n",
    "\n",
    "By default, the LLM backend employed by **OnPrem.LLM** is [llama-cpp-python](https://github.com/abetlen/llama-cpp-python), which requires models in [GGUF format](https://huggingface.co/docs/hub/gguf). As of v0.5.0, it is now possible to use [Hugging Face transformers](https://github.com/huggingface/transformers) as the LLM backend instead. This is accomplished by using the `model_id` parameter (instead of supplying a `model_url` argument). In the example below, we run the [Llama-3.1-8B](https://huggingface.co/hugging-quants/Meta-Llama-3.1-8B-Instruct-AWQ-INT4) model.\n",
    "\n",
    "```python\n",
    "# llama-cpp-python does NOT need to be installed when using model_id parameter\n",
    "llm = LLM(model_id=\"hugging-quants/Meta-Llama-3.1-8B-Instruct-AWQ-INT4\", device_map='cuda')\n",
    "```\n",
    "\n",
    "This allows you to more easily use any model on the Hugging Face hub in [SafeTensors format](https://huggingface.co/docs/safetensors/index) provided it can be loaded with the Hugging Face `transformers.pipeline`. Note that, when using the `model_id` parameter, the `prompt_template` is set automatically by `transformers`.\n",
    "\n",
    "The Llama-3.1 model loaded above was quantized using [AWQ](https://huggingface.co/docs/transformers/main/en/quantization/awq), which allows the model to fit onto smaller GPUs (e.g., laptop GPUs with 6GB of VRAM) similar to the default GGUF format. AWQ models will require the [autoawq](https://pypi.org/project/autoawq/) package to be installed: `pip install autoawq` (AWQ only supports Linux system, including Windows Subsystem for Linux). If you do need to load a model that is not quantized, you can supply a quantization configuration at load time (known as \"inflight quantization\"). In the following example, we load an unquantized [Zephyr-7B-beta model](https://huggingface.co/HuggingFaceH4/zephyr-7b-beta) that will be quantized during loading to fit on GPUs with as little as 6GB of VRAM:\n",
    "\n",
    "```python\n",
    "from transformers import BitsAndBytesConfig\n",
    "quantization_config = BitsAndBytesConfig(\n",
    "    load_in_4bit=True,\n",
    "    bnb_4bit_quant_type=\"nf4\",\n",
    "    bnb_4bit_compute_dtype=\"float16\",\n",
    "    bnb_4bit_use_double_quant=True,\n",
    ")\n",
    "llm = LLM(model_id=\"HuggingFaceH4/zephyr-7b-beta\", device_map='cuda', \n",
    "          model_kwargs={\"quantization_config\":quantization_config})\n",
    "```\n",
    "When supplying a `quantization_config`, the [bitsandbytes](https://huggingface.co/docs/bitsandbytes/main/en/installation) library, a lightweight Python wrapper around CUDA custom functions, in particular 8-bit optimizers, matrix multiplication (LLM.int8()), and 8 & 4-bit quantization functions, is used.  There are ongoing efforts by the bitsandbytes team to support multiple backends in addition to CUDA. If you receive errors related to bitsandbytes, please refer to the [bitsandbytes documentation](https://huggingface.co/docs/bitsandbytes/main/en/installation). "
   ]
  },
  {
   "cell_type": "markdown",
   "metadata": {},
   "source": [
    "### Connecting to LLMs Served Through REST APIs\n",
    "\n",
    "**OnPrem.LLM** can be used with LLMs being served through any OpenAI-compatible REST API.  This means you can easily use **OnPrem.LLM** with tools like [vLLM](https://github.com/vllm-project/vllm), [OpenLLM](https://github.com/bentoml/OpenLLM), [Ollama](https://ollama.com/blog/openai-compatibility), and the [llama.cpp server](https://github.com/ggerganov/llama.cpp/blob/master/examples/server/README.md).\n",
    "\n",
    "\n",
    "#### vLLM Example\n",
    "For instance, using [vLLM](https://github.com/vllm-project/vllm), you can serve an LLM as follows (replace the `--model` argument with model you want to use):\n",
    "```sh\n",
    "python -m vllm.entrypoints.openai.api_server --model Qwen/Qwen2.5-0.5B-Instruct --dtype auto --api-key token-abc123\n",
    "```\n",
    "You can then connect OnPrem.LLM to the LLM by supplying the URL of the server you just started:\n",
    "```python\n",
    "from onprem import LLM\n",
    "llm = LLM(model_url='http://localhost:8000/v1', api_key='token-abc123', model='Qwen/Qwen2.5-0.5B-Instruct') \n",
    "# Note: The API key can either be supplied directly or stored in the OPENAI_API_KEY environment variable.\n",
    "#       If the server does not require an API key, `api_key` should still be supplied with a dummy value like 'na'.\n",
    "#       The model argument must exactly match what was supplied when starting the vLLM server.\n",
    "```\n",
    "\n",
    "That's it! Solve problems with **OnPrem.LLM** as you normally would (e.g., RAG question-answering, summarization, few-shot prompting, code generation, etc.).\n",
    "\n",
    "#### Ollama Example\n",
    "\n",
    "After [downloading and installing Ollama](https://ollama.com/) and pulling a model (eg., `ollama pull llama3.2`), you can use it in OnPrem.LLM as follows:\n",
    "\n",
    "```python\n",
    "from onprem import LLM\n",
    "llm = LLM(model_url='http://localhost:11434/v1', api_key='NA', model='llama3.2')\n",
    "output = llm.prompt('What is the capital of France?')\n",
    "\n",
    "# OUTPUT:\n",
    "# The capital of France is Paris.\n",
    "```\n",
    "If using OnPrem.LLM with Ollama or vLLM, then `llama-cpp-python` does **not** need to be installed.\n",
    "\n"
   ]
  },
  {
   "cell_type": "markdown",
   "metadata": {},
   "source": [
    "### Using OpenAI Models with OnPrem.LLM\n",
    "\n",
    "Even when using on-premises language models, it can sometimes be useful to have easy access to non-local, cloud-based models (e.g., OpenAI) for testing, producing baselines for comparison, and generating synthetic examples for fine-tuning. For these reasons, in spite of the name, **OnPrem.LLM** now includes support for OpenAI chat models:  "
   ]
  },
  {
   "cell_type": "code",
   "execution_count": null,
   "metadata": {},
   "outputs": [
    {
     "name": "stderr",
     "output_type": "stream",
     "text": [
      "/home/amaiya/projects/ghub/onprem/onprem/core.py:196: UserWarning: The model you supplied is gpt-4o, an external service (i.e., not on-premises). Use with caution, as your data and prompts will be sent externally.\n",
      "  warnings.warn(f'The model you supplied is {self.model_name}, an external service (i.e., not on-premises). '+\\\n"
     ]
    }
   ],
   "source": [
    "# | notest\n",
    "\n",
    "from onprem import LLM\n",
    "llm = LLM(model_url='openai://gpt-4o', temperature=0)"
   ]
  },
  {
   "cell_type": "markdown",
   "metadata": {},
   "source": [
    "This OpenAI `LLM` instance can now be used with as the engine for most features in OnPrem.LLM (e.g., RAG, information extraction, summarization, etc.). Here we simply use it for general prompting:"
   ]
  },
  {
   "cell_type": "code",
   "execution_count": null,
   "metadata": {},
   "outputs": [
    {
     "name": "stdout",
     "output_type": "stream",
     "text": [
      "Certainly! Here are three cute names for a cat, along with explanations for why each is adorable:\n",
      "\n",
      "1. **Whiskers**: This name is cute because it highlights one of the most distinctive and charming features of a cat—their whiskers. It's playful and endearing, evoking the image of a curious cat twitching its whiskers as it explores its surroundings.\n",
      "\n",
      "2. **Mittens**: This name is cute because it conjures up the image of a cat with little white paws that look like they are wearing mittens. It's a cozy and affectionate name that suggests warmth and cuddliness, much like a pair of soft mittens.\n",
      "\n",
      "3. **Pumpkin**: This name is cute because it brings to mind the warm, orange hues of a pumpkin, which can be reminiscent of certain cat fur colors. It's also associated with the fall season, which is often linked to comfort and coziness. Plus, the name \"Pumpkin\" has a sweet and affectionate ring to it, making it perfect for a beloved pet."
     ]
    }
   ],
   "source": [
    "# | notest\n",
    "\n",
    "saved_result = llm.prompt('List three cute  names for a cat and explain why each is cute.')"
   ]
  },
  {
   "cell_type": "markdown",
   "metadata": {},
   "source": [
    "**Using Vision Capabilities in GPT-4o**"
   ]
  },
  {
   "cell_type": "code",
   "execution_count": null,
   "metadata": {},
   "outputs": [
    {
     "name": "stdout",
     "output_type": "stream",
     "text": [
      "The weather in the image appears to be clear and sunny. The sky is mostly blue with some scattered clouds, suggesting a pleasant day with good visibility. The sunlight is bright, illuminating the green grass and landscape."
     ]
    }
   ],
   "source": [
    "# | notest\n",
    "\n",
    "image_url = \"https://upload.wikimedia.org/wikipedia/commons/thumb/d/dd/Gfp-wisconsin-madison-the-nature-boardwalk.jpg/2560px-Gfp-wisconsin-madison-the-nature-boardwalk.jpg\"\n",
    "saved_result = llm.prompt('Describe the weather in this image.', image_path_or_url=image_url)"
   ]
  },
  {
   "cell_type": "markdown",
   "metadata": {},
   "source": [
    "**Using OpenAI-Style Message Dictionaries**"
   ]
  },
  {
   "cell_type": "code",
   "execution_count": null,
   "metadata": {},
   "outputs": [
    {
     "name": "stdout",
     "output_type": "stream",
     "text": [
      "The weather in the image appears to be clear and sunny. The sky is mostly blue with some scattered clouds, suggesting a pleasant day with good visibility. The sunlight is bright, casting clear shadows and illuminating the green landscape."
     ]
    }
   ],
   "source": [
    "# | notest\n",
    "\n",
    "messages = [\n",
    "    {'content': [{'text': 'describe the weather in this image', \n",
    "                  'type': 'text'},\n",
    "                 {'image_url': {'url': image_url},\n",
    "                  'type': 'image_url'}],\n",
    "     'role': 'user'}]\n",
    "saved_result = llm.prompt(messages)"
   ]
  },
  {
   "cell_type": "markdown",
   "metadata": {},
   "source": [
    "**Azure OpenAI**\n",
    "\n",
    "For Azure OpenAI models, use the following URL format:\n",
    "```python\n",
    "llm = LLM(model_url='azure://<deployment_name>', ...) \n",
    "# <deployment_name> is the Azure deployment name and additional Azure-specific parameters \n",
    "# can be supplied as extra arguments to LLM (or set as environment variables)\n",
    "```"
   ]
  },
  {
   "cell_type": "markdown",
   "metadata": {},
   "source": [
    "### Structured and Guided Outputs\n",
    "\n",
    "The `LLM.pydantic_prompt` method allows you to specify the desired structure of the LLM's output as a Pydantic model."
   ]
  },
  {
   "cell_type": "code",
   "execution_count": null,
   "metadata": {},
   "outputs": [
    {
     "name": "stderr",
     "output_type": "stream",
     "text": [
      "llama_new_context_with_model: n_ctx_per_seq (3904) < n_ctx_train (131072) -- the full capacity of the model will not be utilized\n"
     ]
    },
    {
     "name": "stdout",
     "output_type": "stream",
     "text": [
      "{\n",
      "  \"setup\": \"Why couldn't the bicycle stand alone?\",\n",
      "  \"punchline\": \"Because it was two-tired!\"\n",
      "}"
     ]
    }
   ],
   "source": [
    "# | notest\n",
    "\n",
    "from pydantic import BaseModel, Field\n",
    "\n",
    "class Joke(BaseModel):\n",
    "    setup: str = Field(description=\"question to set up a joke\")\n",
    "    punchline: str = Field(description=\"answer to resolve the joke\")\n",
    "\n",
    "from onprem import LLM\n",
    "llm = LLM(default_model='llama', verbose=False)\n",
    "structured_output = llm.pydantic_prompt('Tell me a joke.', pydantic_model=Joke)"
   ]
  },
  {
   "cell_type": "markdown",
   "metadata": {},
   "source": [
    "The output is a Pydantic object instead of a string:"
   ]
  },
  {
   "cell_type": "code",
   "execution_count": null,
   "metadata": {},
   "outputs": [
    {
     "data": {
      "text/plain": [
       "Joke(setup=\"Why couldn't the bicycle stand alone?\", punchline='Because it was two-tired!')"
      ]
     },
     "execution_count": null,
     "metadata": {},
     "output_type": "execute_result"
    }
   ],
   "source": [
    "# | notest\n",
    "\n",
    "structured_output"
   ]
  },
  {
   "cell_type": "code",
   "execution_count": null,
   "metadata": {},
   "outputs": [
    {
     "name": "stdout",
     "output_type": "stream",
     "text": [
      "Why couldn't the bicycle stand alone?\n",
      "\n",
      "Because it was two-tired!\n"
     ]
    }
   ],
   "source": [
    "# | notest\n",
    "\n",
    "print(structured_output.setup)\n",
    "print()\n",
    "print(structured_output.punchline)"
   ]
  },
  {
   "cell_type": "markdown",
   "metadata": {},
   "source": [
    "\n",
    "You can also use **OnPrem.LLM** with the [Guidance](https://github.com/guidance-ai/guidance) package to guide the LLM to generate outputs based on your conditions and constraints. We'll show a couple of examples here, but see [our documentation on guided prompts](https://amaiya.github.io/onprem/examples_guided_prompts.html) for more information.\n"
   ]
  },
  {
   "cell_type": "code",
   "execution_count": null,
   "metadata": {},
   "outputs": [],
   "source": [
    "# | notest\n",
    "\n",
    "from onprem import LLM\n",
    "\n",
    "llm = LLM(n_gpu_layers=-1, verbose=False)\n",
    "from onprem.pipelines.guider import Guider\n",
    "guider = Guider(llm)"
   ]
  },
  {
   "cell_type": "markdown",
   "metadata": {},
   "source": [
    "With the Guider, you can use use Regular Expressions to control LLM generation:"
   ]
  },
  {
   "cell_type": "code",
   "execution_count": null,
   "metadata": {},
   "outputs": [
    {
     "data": {
      "text/plain": [
       "{'answer': '7'}"
      ]
     },
     "execution_count": null,
     "metadata": {},
     "output_type": "execute_result"
    }
   ],
   "source": [
    "# | notest\n",
    "\n",
    "prompt = f\"\"\"Question: Luke has ten balls. He gives three to his brother. How many balls does he have left?\n",
    "Answer: \"\"\" + gen(name='answer', regex='\\d+')\n",
    "\n",
    "guider.prompt(prompt, echo=False)"
   ]
  },
  {
   "cell_type": "code",
   "execution_count": null,
   "metadata": {},
   "outputs": [
    {
     "data": {
      "text/html": [
       "<pre style='margin: 0px; padding: 0px; padding-left: 8px; margin-left: -8px; border-radius: 0px; border-left: 1px solid rgba(127, 127, 127, 0.2); white-space: pre-wrap; font-family: ColfaxAI, Arial; font-size: 15px; line-height: 23px;'>19, 18<span style='background-color: rgba(0, 165, 0, 0.15); border-radius: 3px;' title='0.0'>,</span><span style='background-color: rgba(0, 165, 0, 0.15); border-radius: 3px;' title='0.0'> 1</span><span style='background-color: rgba(0, 165, 0, 0.15); border-radius: 3px;' title='0.0'>7</span><span style='background-color: rgba(0, 165, 0, 0.15); border-radius: 3px;' title='0.0'>,</span><span style='background-color: rgba(0, 165, 0, 0.15); border-radius: 3px;' title='0.0'> 1</span><span style='background-color: rgba(0, 165, 0, 0.15); border-radius: 3px;' title='0.0'>6</span><span style='background-color: rgba(0, 165, 0, 0.15); border-radius: 3px;' title='0.0'>,</span><span style='background-color: rgba(0, 165, 0, 0.15); border-radius: 3px;' title='0.0'> 1</span><span style='background-color: rgba(0, 165, 0, 0.15); border-radius: 3px;' title='0.0'>5</span><span style='background-color: rgba(0, 165, 0, 0.15); border-radius: 3px;' title='0.0'>,</span><span style='background-color: rgba(0, 165, 0, 0.15); border-radius: 3px;' title='0.0'> 1</span><span style='background-color: rgba(0, 165, 0, 0.15); border-radius: 3px;' title='0.0'>4</span><span style='background-color: rgba(0, 165, 0, 0.15); border-radius: 3px;' title='0.0'>,</span><span style='background-color: rgba(0, 165, 0, 0.15); border-radius: 3px;' title='0.0'> 1</span><span style='background-color: rgba(0, 165, 0, 0.15); border-radius: 3px;' title='0.0'>3</span><span style='background-color: rgba(0, 165, 0, 0.15); border-radius: 3px;' title='0.0'>,</span><span style='background-color: rgba(0, 165, 0, 0.15); border-radius: 3px;' title='0.0'> 1</span><span style='background-color: rgba(0, 165, 0, 0.15); border-radius: 3px;' title='0.0'>2</span><span style='background-color: rgba(0, 165, 0, 0.15); border-radius: 3px;' title='0.0'>,</span><span style='background-color: rgba(0, 165, 0, 0.15); border-radius: 3px;' title='0.0'> 1</span><span style='background-color: rgba(0, 165, 0, 0.15); border-radius: 3px;' title='0.0'>1</span><span style='background-color: rgba(0, 165, 0, 0.15); border-radius: 3px;' title='0.0'>,</span><span style='background-color: rgba(0, 165, 0, 0.15); border-radius: 3px;' title='0.0'> 1</span><span style='background-color: rgba(0, 165, 0, 0.15); border-radius: 3px;' title='0.0'>0</span><span style='background-color: rgba(0, 165, 0, 0.15); border-radius: 3px;' title='0.0'>,</span><span style='background-color: rgba(0, 165, 0, 0.15); border-radius: 3px;' title='0.0'> 9</span><span style='background-color: rgba(0, 165, 0, 0.15); border-radius: 3px;' title='0.0'>,</span><span style='background-color: rgba(0, 165, 0, 0.15); border-radius: 3px;' title='0.0'> 8</span><span style='background-color: rgba(0, 165, 0, 0.15); border-radius: 3px;' title='0.0'>,</span></pre>"
      ],
      "text/plain": [
       "<IPython.core.display.HTML object>"
      ]
     },
     "metadata": {},
     "output_type": "display_data"
    },
    {
     "data": {
      "text/plain": [
       "{'output': ' 17, 16, 15, 14, 13, 12, 11, 10, 9, 8,'}"
      ]
     },
     "execution_count": null,
     "metadata": {},
     "output_type": "execute_result"
    }
   ],
   "source": [
    "# | notest\n",
    "\n",
    "prompt = '19, 18,' + gen(name='output', max_tokens=50, stop_regex='[^\\d]7[^\\d]')\n",
    "guider.prompt(prompt)"
   ]
  },
  {
   "cell_type": "markdown",
   "metadata": {},
   "source": [
    "See [the documentation](https://amaiya.github.io/onprem/examples_guided_prompts.html) for more examples of how to use [Guidance](https://github.com/guidance-ai/guidance) with **OnPrem.LLM**."
   ]
  },
  {
   "cell_type": "markdown",
   "metadata": {},
   "source": [
    "## Built-In Web App\n",
    "\n",
    "**OnPrem.LLM** includes a built-in Web app to access the LLM. To start it, run the following command after installation:\n",
    "\n",
    "```shell\n",
    "onprem --port 8000\n",
    "```\n",
    "Then, enter `localhost:8000` (or `<domain_name>:8000` if running on remote server) in a Web browser to access the application:\n",
    "\n",
    "<img src=\"https://raw.githubusercontent.com/amaiya/onprem/master/images/onprem_screenshot.png\" border=\"1\" alt=\"screenshot\" width=\"775\"/>"
   ]
  },
  {
   "cell_type": "markdown",
   "metadata": {},
   "source": [
    "For more information, [see the corresponding documentation](https://amaiya.github.io/onprem/webapp.html)."
   ]
  },
  {
   "cell_type": "markdown",
   "metadata": {},
   "source": [
    "## FAQ\n",
    "\n",
    "1. **How do I use other models with OnPrem.LLM?**\n",
    "\n",
    "    >You can supply the URL to other models to the `LLM` constructor, as we did above in the code generation example.\n",
    "\n",
    "    >As of v0.0.20, we support models in GGUF format, which supersedes the older GGML format. You can find llama.cpp-supported models with `GGUF` in the file name on [huggingface.co](https://huggingface.co/models?sort=trending&search=gguf).\n",
    "    \n",
    "    >Make sure you are pointing to the URL of the actual GGUF model file, which is the \"download\" link on the model's page. An example for **Mistral-7B** is shown below:\n",
    "\n",
    "    ><img src=\"https://raw.githubusercontent.com/amaiya/onprem/master/images/model_download_link.png\" border=\"1\" alt=\"screenshot\" width=\"775\"/>\n",
    "\n",
    "    > Note that some models have specific prompt formats. For instance, the prompt template required for **Zephyr-7B**, as described on the [model's page](https://huggingface.co/TheBloke/zephyr-7B-beta-GGUF), is:\n",
    "    >\n",
    "    > ```<|system|>\\n</s>\\n<|user|>\\n{prompt}</s>\\n<|assistant|>```\n",
    "    >\n",
    "    > So, to use the **Zephyr-7B** model, you must supply the `prompt_template` argument to the `LLM` constructor (or specify it in the `webapp.yml` configuration for the Web app).\n",
    "    >\n",
    "    > ```python\n",
    "    > # how to use Zephyr-7B with OnPrem.LLM\n",
    "    > llm = LLM(model_url='https://huggingface.co/TheBloke/zephyr-7B-beta-GGUF/resolve/main/zephyr-7b-beta.Q4_K_M.gguf',\n",
    "    >           prompt_template = \"<|system|>\\n</s>\\n<|user|>\\n{prompt}</s>\\n<|assistant|>\",\n",
    "    >           n_gpu_layers=33)\n",
    "    > llm.prompt(\"List three cute names for a cat.\")\n",
    "    >```\n",
    "\n",
    "2. **When installing `onprem`, I'm getting \"build\" errors related to `llama-cpp-python` (or `chroma-hnswlib`) on Windows/Mac/Linux?** \n",
    "\n",
    "    > See [this LangChain documentation on LLama.cpp](https://python.langchain.com/docs/integrations/llms/llamacpp) for help on installing the `llama-cpp-python` package for your system. Additional tips for different operating systems are shown below:\n",
    "   \n",
    "    > For **Linux** systems like Ubuntu, try this: `sudo apt-get install build-essential g++ clang`.  Other tips are [here](https://github.com/oobabooga/text-generation-webui/issues/1534).\n",
    "    \n",
    "    > For **Windows** systems, please try following [these instructions](https://github.com/amaiya/onprem/blob/master/MSWindows.md).  We recommend you use [Windows Subsystem for Linux (WSL)](https://learn.microsoft.com/en-us/windows/wsl/install) instead of using Microsoft Windows directly. If you do need to use Microsoft Window directly, be sure to install the [Microsoft C++ Build Tools](https://visualstudio.microsoft.com/visual-cpp-build-tools/) and make sure the **Desktop development with C++** is selected. \n",
    "    \n",
    "    > For **Macs**, try following [these tips](https://github.com/imartinez/privateGPT/issues/445#issuecomment-1563333950).\n",
    "    \n",
    "    > There are also various other tips for each of the above OSes in [this privateGPT repo thread](https://github.com/imartinez/privateGPT/issues/445).  Of course, you can also [easily use](https://colab.research.google.com/drive/1LVeacsQ9dmE1BVzwR3eTLukpeRIMmUqi?usp=sharing) **OnPrem.LLM** on Google Colab.\n",
    "    \n",
    "    >  Finally, if you still can't overcome issues with building `llama-cpp-python`, you can try [installing the pre-built wheel file](https://abetlen.github.io/llama-cpp-python/whl/cpu/llama-cpp-python/) for your system:\n",
    "    \n",
    "    > **Example:** `pip install llama-cpp-python==0.2.90 --extra-index-url https://abetlen.github.io/llama-cpp-python/whl/cpu`\n",
    "    >\n",
    "    > **Tip:** There are [pre-built wheel files for `chroma-hnswlib`](https://pypi.org/project/chroma-hnswlib/#files), as well. If running `pip install onprem` fails on building `chroma-hnswlib`, it may be because a pre-built wheel doesn't yet exist for the version of Python you're using (in which case you can try downgrading Python).   \n",
    "\n",
    "\n",
    "3. **I'm behind a corporate firewall and am receiving an SSL error when trying to download the model?**\n",
    "\n",
    "    >Try this:\n",
    "    >```python\n",
    "    >from onprem import LLM\n",
    "    >LLM.download_model(url, ssl_verify=False)\n",
    "    >```\n",
    "\n",
    "    >You can download the embedding model (used by `LLM.ingest` and `LLM.ask`) as follows:\n",
    "    >```sh\n",
    "    >wget --no-check-certificate https://public.ukp.informatik.tu-darmstadt.de/reimers/sentence-transformers/v0.2/all-MiniLM-L6-v2.zip\n",
    "    >```\n",
    "    \n",
    "    >Supply the unzipped folder name as the `embedding_model_name` argument to `LLM`.\n",
    "    \n",
    "    > If you're getting SSL errors when even running `pip install`, try this:\n",
    "    >```sh\n",
    "    > pip install –-trusted-host pypi.org –-trusted-host files.pythonhosted.org pip_system_certs\n",
    "    >```\n",
    "    \n",
    "\n",
    "4. **How do I use this on a machine with no internet access?**\n",
    "\n",
    "    >Use the `LLM.download_model` method to download the model files to `<your_home_directory>/onprem_data` and transfer them to the same location on the air-gapped  machine.\n",
    "\n",
    "    >For the `ingest` and `ask` methods, you will need to also download and transfer the embedding model files:\n",
    "    >```python\n",
    "    >from sentence_transformers import SentenceTransformer\n",
    "    >model = SentenceTransformer('sentence-transformers/all-MiniLM-L6-v2')\n",
    "    >model.save('/some/folder')\n",
    "    >```\n",
    "    \n",
    "    >Copy the `some/folder` folder to the air-gapped machine and supply the path to `LLM` via the `embedding_model_name` parameter.\n",
    " \n",
    " \n",
    "\n",
    "5. **My model is not loading when I call `llm = LLM(...)`?** \n",
    "\n",
    "    > This can happen if the model file is corrupt (in which case you should delete from `<home directory>/onprem_data` and re-download). It can also  happen if the version of `llama-cpp-python` needs to be upgraded to the latest.\n",
    "\n",
    "6. **I'm getting an `“Illegal instruction (core dumped)` error when instantiating a `langchain.llms.Llamacpp` or `onprem.LLM` object?**\n",
    "\n",
    "   > Your CPU may not support instructions that `cmake` is using for one reason or another (e.g., [due to Hyper-V in VirtualBox settings](https://stackoverflow.com/questions/65780506/how-to-enable-avx-avx2-in-virtualbox-6-1-16-with-ubuntu-20-04-64bit)). You can try turning them off when building and installing `llama-cpp-python`:\n",
    "\n",
    "    >```sh\n",
    "    ># example\n",
    "    >CMAKE_ARGS=\"-DGGML_CUDA=ON -DGGML_AVX2=OFF -DGGML_AVX=OFF -DGGML_F16C=OFF -DGGML_FMA=OFF\" FORCE_CMAKE=1 pip install --force-reinstall llama-cpp-python --no-cache-dir\n",
    "    >```\n",
    "\n",
    "7. **How can I speed up `LLM.ingest` using my GPU?**\n",
    "\n",
    "    >\n",
    "    >Try using the `embedding_model_kwargs` argument:\n",
    "    >```python\n",
    "    >from onprem import LLM\n",
    "    >llm  = LLM(embedding_model_kwargs={'device':'cuda'})\n",
    "    >```"
   ]
  },
  {
   "cell_type": "code",
   "execution_count": null,
   "metadata": {},
   "outputs": [],
   "source": []
  }
 ],
 "metadata": {
  "kernelspec": {
   "display_name": "python3",
   "language": "python",
   "name": "python3"
  }
 },
 "nbformat": 4,
 "nbformat_minor": 4
}
