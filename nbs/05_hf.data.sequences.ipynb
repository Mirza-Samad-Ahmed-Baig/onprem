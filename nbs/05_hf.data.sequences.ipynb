{
 "cells": [
  {
   "cell_type": "markdown",
   "metadata": {},
   "source": [
    "# hf.data.sequences\n",
    "\n",
    "> Sequences module"
   ]
  },
  {
   "cell_type": "code",
   "execution_count": null,
   "metadata": {},
   "outputs": [],
   "source": [
    "# | default_exp hf.data.sequences"
   ]
  },
  {
   "cell_type": "code",
   "execution_count": null,
   "metadata": {},
   "outputs": [],
   "source": [
    "# | hide\n",
    "from nbdev.showdoc import *"
   ]
  },
  {
   "cell_type": "code",
   "execution_count": null,
   "metadata": {},
   "outputs": [],
   "source": [
    "# | export\n",
    "\n",
    "\"\"\"\n",
    "Sequences module\n",
    "\"\"\"\n",
    "\n",
    "from onprem.hf.data.base import Data\n",
    "\n",
    "\n",
    "class Sequences(Data):\n",
    "    \"\"\"\n",
    "    Tokenizes sequence-sequence datasets as input for training sequence-sequence models\n",
    "    \"\"\"\n",
    "\n",
    "    def __init__(self, tokenizer, columns, maxlength, prefix):\n",
    "        \"\"\"\n",
    "        Creates a new instance for tokenizing Sequences training data.\n",
    "\n",
    "        Args:\n",
    "            tokenizer: model tokenizer\n",
    "            columns: tuple of columns to use for text/label\n",
    "            maxlength: maximum sequence length\n",
    "            prefix: source prefix\n",
    "        \"\"\"\n",
    "\n",
    "        super().__init__(tokenizer, columns, maxlength)\n",
    "\n",
    "        # Standardize columns\n",
    "        if not self.columns:\n",
    "            self.columns = (\"source\", \"target\")\n",
    "\n",
    "        # Save source prefix\n",
    "        self.prefix = prefix\n",
    "\n",
    "    def process(self, data):\n",
    "        # Column keys\n",
    "        source, target = self.columns\n",
    "\n",
    "        # Tokenize source\n",
    "        source = [self.prefix + x if self.prefix else x for x in data[source]]\n",
    "        inputs = self.tokenizer(source, max_length=self.maxlength, padding=False, truncation=True)\n",
    "\n",
    "        # Tokenize target\n",
    "        with self.tokenizer.as_target_tokenizer():\n",
    "            targets = self.tokenizer(data[target], max_length=self.maxlength, padding=False, truncation=True)\n",
    "\n",
    "        # Combine inputs\n",
    "        inputs[\"labels\"] = targets[\"input_ids\"]\n",
    "\n",
    "        return inputs\n"
   ]
  },
  {
   "cell_type": "code",
   "execution_count": null,
   "metadata": {},
   "outputs": [],
   "source": [
    "# | hide\n",
    "import nbdev\n",
    "\n",
    "nbdev.nbdev_export()"
   ]
  },
  {
   "cell_type": "code",
   "execution_count": null,
   "metadata": {},
   "outputs": [],
   "source": []
  }
 ],
 "metadata": {
  "kernelspec": {
   "display_name": "python3",
   "language": "python",
   "name": "python3"
  }
 },
 "nbformat": 4,
 "nbformat_minor": 4
}
