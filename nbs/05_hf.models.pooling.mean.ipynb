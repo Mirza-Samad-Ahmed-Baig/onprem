{
 "cells": [
  {
   "cell_type": "markdown",
   "metadata": {},
   "source": [
    "# hf.models.pooling.mean\n",
    "\n",
    "> Pooling Mean module"
   ]
  },
  {
   "cell_type": "code",
   "execution_count": null,
   "metadata": {},
   "outputs": [],
   "source": [
    "# | default_exp hf.models.pooling.mean"
   ]
  },
  {
   "cell_type": "code",
   "execution_count": null,
   "metadata": {},
   "outputs": [],
   "source": [
    "# | hide\n",
    "from nbdev.showdoc import *"
   ]
  },
  {
   "cell_type": "code",
   "execution_count": null,
   "metadata": {},
   "outputs": [],
   "source": [
    "# | export\n",
    "\n",
    "\"\"\"\n",
    "Mean module\n",
    "\"\"\"\n",
    "\n",
    "import torch\n",
    "\n",
    "from onprem.hf.models.pooling.base import Pooling\n",
    "\n",
    "\n",
    "class MeanPooling(Pooling):\n",
    "    \"\"\"\n",
    "    Builds mean pooled vectors usings outputs from a transformers model.\n",
    "    \"\"\"\n",
    "\n",
    "    def forward(self, **inputs):\n",
    "        \"\"\"\n",
    "        Runs mean pooling on token embeddings taking the input mask into account.\n",
    "\n",
    "        Args:\n",
    "            inputs: model inputs\n",
    "\n",
    "        Returns:\n",
    "            mean pooled embeddings using output token embeddings (i.e. last hidden state)\n",
    "        \"\"\"\n",
    "\n",
    "        # Run through transformers model\n",
    "        tokens = super().forward(**inputs)\n",
    "        mask = inputs[\"attention_mask\"]\n",
    "\n",
    "        # Mean pooling\n",
    "        # pylint: disable=E1101\n",
    "        mask = mask.unsqueeze(-1).expand(tokens.size()).float()\n",
    "        return torch.sum(tokens * mask, 1) / torch.clamp(mask.sum(1), min=1e-9)\n",
    "\n"
   ]
  },
  {
   "cell_type": "code",
   "execution_count": null,
   "metadata": {},
   "outputs": [],
   "source": [
    "# | hide\n",
    "import nbdev\n",
    "\n",
    "nbdev.nbdev_export()"
   ]
  },
  {
   "cell_type": "code",
   "execution_count": null,
   "metadata": {},
   "outputs": [],
   "source": []
  }
 ],
 "metadata": {
  "kernelspec": {
   "display_name": "python3",
   "language": "python",
   "name": "python3"
  }
 },
 "nbformat": 4,
 "nbformat_minor": 4
}
