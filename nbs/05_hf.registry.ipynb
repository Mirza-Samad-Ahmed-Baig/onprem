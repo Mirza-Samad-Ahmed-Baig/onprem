{
 "cells": [
  {
   "cell_type": "markdown",
   "metadata": {},
   "source": [
    "# hf.registry\n",
    "\n",
    "> Registry"
   ]
  },
  {
   "cell_type": "code",
   "execution_count": null,
   "metadata": {},
   "outputs": [],
   "source": [
    "# | default_exp hf.registry"
   ]
  },
  {
   "cell_type": "code",
   "execution_count": null,
   "metadata": {},
   "outputs": [],
   "source": [
    "# | hide\n",
    "from nbdev.showdoc import *"
   ]
  },
  {
   "cell_type": "code",
   "execution_count": null,
   "metadata": {},
   "outputs": [],
   "source": [
    "# | export\n",
    "\n",
    "\"\"\"\n",
    "Registry module\n",
    "\"\"\"\n",
    "\n",
    "from transformers import AutoModel, AutoModelForQuestionAnswering, AutoModelForSequenceClassification\n",
    "from transformers.models.auto.tokenization_auto import TOKENIZER_MAPPING\n",
    "\n",
    "\n",
    "class Registry:\n",
    "    \"\"\"\n",
    "    Methods to register models and fully support pipelines.\n",
    "    \"\"\"\n",
    "\n",
    "    @staticmethod\n",
    "    def register(model, config=None):\n",
    "        \"\"\"\n",
    "        Registers a model with auto model and tokenizer configuration to fully support pipelines.\n",
    "\n",
    "        Args:\n",
    "            model: model to register\n",
    "            config: config class name\n",
    "        \"\"\"\n",
    "\n",
    "        # Default config class name to model name if not provided\n",
    "        name = model.__class__.__name__\n",
    "        if not config:\n",
    "            config = name\n",
    "\n",
    "        # Default model config_class if empty\n",
    "        if hasattr(model.__class__, \"config_class\") and not model.__class__.config_class:\n",
    "            model.__class__.config_class = config\n",
    "\n",
    "        # Add references for this class to supported AutoModel classes\n",
    "        for mapping in [AutoModel, AutoModelForQuestionAnswering, AutoModelForSequenceClassification]:\n",
    "            mapping.register(config, model.__class__)\n",
    "\n",
    "        # Add references for this class to support pipeline AutoTokenizers\n",
    "        if hasattr(model, \"config\") and type(model.config) not in TOKENIZER_MAPPING:\n",
    "            TOKENIZER_MAPPING.register(type(model.config), type(model.config).__name__)\n"
   ]
  },
  {
   "cell_type": "code",
   "execution_count": null,
   "metadata": {},
   "outputs": [],
   "source": [
    "# | hide\n",
    "import nbdev\n",
    "\n",
    "nbdev.nbdev_export()"
   ]
  },
  {
   "cell_type": "code",
   "execution_count": null,
   "metadata": {},
   "outputs": [],
   "source": []
  }
 ],
 "metadata": {
  "kernelspec": {
   "display_name": "python3",
   "language": "python",
   "name": "python3"
  }
 },
 "nbformat": 4,
 "nbformat_minor": 4
}
