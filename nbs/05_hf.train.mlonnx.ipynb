{
 "cells": [
  {
   "cell_type": "markdown",
   "metadata": {},
   "source": [
    "# hf.train.mlonnx\n",
    "\n",
    "> Machine learning model to ONNX export module"
   ]
  },
  {
   "cell_type": "code",
   "execution_count": null,
   "metadata": {},
   "outputs": [],
   "source": [
    "# | default_exp hf.train.mlonnx"
   ]
  },
  {
   "cell_type": "code",
   "execution_count": null,
   "metadata": {},
   "outputs": [],
   "source": [
    "# | hide\n",
    "from nbdev.showdoc import *"
   ]
  },
  {
   "cell_type": "code",
   "execution_count": null,
   "metadata": {},
   "outputs": [],
   "source": [
    "# | export\n",
    "\n",
    "\"\"\"\n",
    "Machine learning model to ONNX export module\n",
    "\"\"\"\n",
    "\n",
    "from onprem.hf.base import Pipeline\n",
    "\n",
    "try:\n",
    "    from onnxmltools import convert_sklearn\n",
    "    from onnxmltools.convert.common.data_types import StringTensorType\n",
    "\n",
    "    from skl2onnx.helpers.onnx_helper import save_onnx_model, select_model_inputs_outputs\n",
    "\n",
    "    ONNX_MLTOOLS = True\n",
    "except ImportError:\n",
    "    ONNX_MLTOOLS = False\n",
    "\n",
    "\n",
    "class MLOnnx(Pipeline):\n",
    "    \"\"\"\n",
    "    Exports a machine learning model to ONNX using ONNXMLTools.\n",
    "    \"\"\"\n",
    "\n",
    "    def __init__(self):\n",
    "        \"\"\"\n",
    "        Creates a new MLOnnx pipeline.\n",
    "        \"\"\"\n",
    "\n",
    "        if not ONNX_MLTOOLS:\n",
    "            raise ImportError('MLOnnx pipeline is not available: pip install onnxmltools skl2onnx')\n",
    "\n",
    "    def __call__(self, model, task=\"default\", output=None, opset=12):\n",
    "        \"\"\"\n",
    "        Exports a machine learning model to ONNX using ONNXMLTools.\n",
    "\n",
    "        Args:\n",
    "            model: model to export\n",
    "            task: optional model task or category\n",
    "            output: optional output model path, defaults to return byte array if None\n",
    "            opset: onnx opset, defaults to 12\n",
    "\n",
    "        Returns:\n",
    "            path to model output or model as bytes depending on output parameter\n",
    "        \"\"\"\n",
    "\n",
    "        # Convert scikit-learn model to ONNX\n",
    "        model = convert_sklearn(model, task, initial_types=[(\"input_ids\", StringTensorType([None, None]))], target_opset=opset)\n",
    "\n",
    "        # Prune model graph down to only output probabilities\n",
    "        model = select_model_inputs_outputs(model, outputs=\"probabilities\")\n",
    "\n",
    "        # pylint: disable=E1101\n",
    "        # Rename output to logits for consistency with other models\n",
    "        model.graph.output[0].name = \"logits\"\n",
    "\n",
    "        # Find probabilities output node and rename to logits\n",
    "        for node in model.graph.node:\n",
    "            for x, _ in enumerate(node.output):\n",
    "                if node.output[x] == \"probabilities\":\n",
    "                    node.output[x] = \"logits\"\n",
    "\n",
    "        # Save model to specified output path or return bytes\n",
    "        model = save_onnx_model(model, output)\n",
    "        return output if output else model\n"
   ]
  },
  {
   "cell_type": "code",
   "execution_count": null,
   "metadata": {},
   "outputs": [],
   "source": [
    "# | hide\n",
    "import nbdev\n",
    "\n",
    "nbdev.nbdev_export()"
   ]
  },
  {
   "cell_type": "code",
   "execution_count": null,
   "metadata": {},
   "outputs": [],
   "source": []
  }
 ],
 "metadata": {
  "kernelspec": {
   "display_name": "python3",
   "language": "python",
   "name": "python3"
  }
 },
 "nbformat": 4,
 "nbformat_minor": 4
}
