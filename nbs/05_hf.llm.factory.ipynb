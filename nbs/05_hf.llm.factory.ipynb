{
 "cells": [
  {
   "cell_type": "markdown",
   "metadata": {},
   "source": [
    "# hf.llm.factory\n",
    "\n",
    "> HF LLM Factory"
   ]
  },
  {
   "cell_type": "code",
   "execution_count": null,
   "metadata": {},
   "outputs": [],
   "source": [
    "# | default_exp hf.llm.factory"
   ]
  },
  {
   "cell_type": "code",
   "execution_count": null,
   "metadata": {},
   "outputs": [],
   "source": [
    "# | hide\n",
    "from nbdev.showdoc import *"
   ]
  },
  {
   "cell_type": "code",
   "execution_count": null,
   "metadata": {},
   "outputs": [],
   "source": [
    "# | export\n",
    "\"\"\"\n",
    "Factory module\n",
    "\"\"\"\n",
    "\n",
    "from onprem.hf.resolver import Resolver\n",
    "\n",
    "from onprem.hf.llm.huggingface import HFGeneration\n",
    "\n",
    "\n",
    "class GenerationFactory:\n",
    "    \"\"\"\n",
    "    Methods to create generative models.\n",
    "    \"\"\"\n",
    "\n",
    "    @staticmethod\n",
    "    def create(path, method='transformers', **kwargs):\n",
    "        \"\"\"\n",
    "        Creates a new Generation instance.\n",
    "\n",
    "        Args:\n",
    "            path: model path\n",
    "            method: llm framework\n",
    "            kwargs: model keyword arguments\n",
    "        \"\"\"\n",
    "\n",
    "        # Derive method\n",
    "        method = GenerationFactory.method(path, method)\n",
    "\n",
    "        # Hugging Face Transformers generation\n",
    "        if method == \"transformers\":\n",
    "            return HFGeneration(path, **kwargs)\n",
    "        else:\n",
    "            raise ValueError(f'Unknown method: {method}')\n",
    "\n",
    "        # Resolve custom method\n",
    "        return GenerationFactory.resolve(path, method, **kwargs)\n",
    "\n",
    "    @staticmethod\n",
    "    def method(path, method):\n",
    "        \"\"\"\n",
    "        Get or derives the LLM framework.\n",
    "\n",
    "        Args:\n",
    "            path: model path\n",
    "            method: llm framework\n",
    "\n",
    "        Return:\n",
    "            llm framework\n",
    "        \"\"\"\n",
    "\n",
    "        if not method:\n",
    "            method = \"transformers\"\n",
    "\n",
    "        return method\n",
    "\n",
    "    @staticmethod\n",
    "    def resolve(path, method, **kwargs):\n",
    "        \"\"\"\n",
    "        Attempt to resolve a custom LLM framework.\n",
    "\n",
    "        Args:\n",
    "            path: model path\n",
    "            method: llm framework\n",
    "            kwargs: model keyword arguments\n",
    "\n",
    "        Returns:\n",
    "            Generation instance\n",
    "        \"\"\"\n",
    "\n",
    "        try:\n",
    "            return Resolver()(method)(path, **kwargs)\n",
    "        except Exception as e:\n",
    "            raise ImportError(f\"Unable to resolve generation framework: '{method}'\") from e\n",
    "\n"
   ]
  },
  {
   "cell_type": "code",
   "execution_count": null,
   "metadata": {},
   "outputs": [],
   "source": [
    "# | hide\n",
    "import nbdev\n",
    "\n",
    "nbdev.nbdev_export()"
   ]
  },
  {
   "cell_type": "code",
   "execution_count": null,
   "metadata": {},
   "outputs": [],
   "source": []
  }
 ],
 "metadata": {
  "kernelspec": {
   "display_name": "python3",
   "language": "python",
   "name": "python3"
  }
 },
 "nbformat": 4,
 "nbformat_minor": 4
}
