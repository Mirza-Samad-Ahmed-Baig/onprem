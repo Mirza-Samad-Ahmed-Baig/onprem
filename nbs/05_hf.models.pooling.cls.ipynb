{
 "cells": [
  {
   "cell_type": "markdown",
   "metadata": {},
   "source": [
    "# hf.models.pooling.cls\n",
    "\n",
    "> CLS module"
   ]
  },
  {
   "cell_type": "code",
   "execution_count": null,
   "metadata": {},
   "outputs": [],
   "source": [
    "# | default_exp hf.models.pooling.cls"
   ]
  },
  {
   "cell_type": "code",
   "execution_count": null,
   "metadata": {},
   "outputs": [],
   "source": [
    "# | hide\n",
    "from nbdev.showdoc import *"
   ]
  },
  {
   "cell_type": "code",
   "execution_count": null,
   "metadata": {},
   "outputs": [],
   "source": [
    "# | export\n",
    "\n",
    "\"\"\"\n",
    "CLS module\n",
    "\"\"\"\n",
    "\n",
    "from onprem.hf.models.pooling.base import Pooling\n",
    "\n",
    "\n",
    "class ClsPooling(Pooling):\n",
    "    \"\"\"\n",
    "    Builds CLS pooled vectors using outputs from a transformers model.\n",
    "    \"\"\"\n",
    "\n",
    "    def forward(self, **inputs):\n",
    "        \"\"\"\n",
    "        Runs CLS pooling on token embeddings.\n",
    "\n",
    "        Args:\n",
    "            inputs: model inputs\n",
    "\n",
    "        Returns:\n",
    "            CLS pooled embeddings using output token embeddings (i.e. last hidden state)\n",
    "        \"\"\"\n",
    "\n",
    "        # Run through transformers model\n",
    "        tokens = super().forward(**inputs)\n",
    "\n",
    "        # CLS token pooling\n",
    "        return tokens[:, 0]\n"
   ]
  },
  {
   "cell_type": "code",
   "execution_count": null,
   "metadata": {},
   "outputs": [],
   "source": [
    "# | hide\n",
    "import nbdev\n",
    "\n",
    "nbdev.nbdev_export()"
   ]
  },
  {
   "cell_type": "code",
   "execution_count": null,
   "metadata": {},
   "outputs": [],
   "source": []
  }
 ],
 "metadata": {
  "kernelspec": {
   "display_name": "python3",
   "language": "python",
   "name": "python3"
  }
 },
 "nbformat": 4,
 "nbformat_minor": 4
}
