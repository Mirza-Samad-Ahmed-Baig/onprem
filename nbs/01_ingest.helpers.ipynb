{
 "cells": [
  {
   "cell_type": "markdown",
   "metadata": {},
   "source": [
    "# ingest.helpers\n",
    "\n",
    "> helper utilities for ingesting documents"
   ]
  },
  {
   "cell_type": "code",
   "execution_count": null,
   "metadata": {},
   "outputs": [],
   "source": [
    "# | default_exp ingest.helpers"
   ]
  },
  {
   "cell_type": "code",
   "execution_count": null,
   "metadata": {},
   "outputs": [],
   "source": [
    "# | hide\n",
    "from nbdev.showdoc import *"
   ]
  },
  {
   "cell_type": "code",
   "execution_count": null,
   "metadata": {},
   "outputs": [],
   "source": [
    "# | export\n",
    "\n",
    "from typing import List, Union, Optional\n",
    "import os.path\n",
    "import glob\n",
    "from langchain_core.documents import Document\n",
    "from onprem.utils import contains_sentence\n",
    "\n",
    "CAPTION_DELIMITER = '||CAPTION||'\n",
    "def includes_caption(d:Document):\n",
    "    \"\"\"\n",
    "    Returns True if content of supplied Document includes a table caption\n",
    "    \"\"\"\n",
    "    table_captions = d.metadata.get('table_captions', '')\n",
    "    if not table_captions: return False\n",
    "    table_captions = table_captions.split(CAPTION_DELIMITER)\n",
    "    for c in table_captions:\n",
    "        if contains_sentence(c, d.page_content):\n",
    "            return True\n",
    "    return False\n",
    "\n",
    "\n",
    "def extract_tables(filepath:Optional[str]=None, docs:Optional[List[Document]]=[]) -> List[Document]:\n",
    "    \"\"\"\n",
    "    Extract tables from PDF and append to end of supplied Document list.\n",
    "    Accepts either a `filepath` or a list of LangChain `Document` objects \n",
    "    all from a **single** file. If `filepath` is empty, the file path of interest \n",
    "    is extracted from `docs`. \n",
    "\n",
    "    Returns an updated list of Document objects appended with extracted tables.\n",
    "    \"\"\"\n",
    "    from onprem.ingest.pdftables import PDFTables\n",
    "\n",
    "    # get filepath of document under consideration\n",
    "    docs = [] if not docs else docs\n",
    "    if not filepath and not docs:\n",
    "        raise ValueError('filepath and docs cannot both be empty.')\n",
    "    if filepath and docs:\n",
    "        raise ValueError('filepath and docs are mutually exclusive.')\n",
    "    if docs:\n",
    "        filepath = None if not docs else docs[0].metadata['source']\n",
    "    if not filepath: return docs\n",
    "        \n",
    "    if extract_extension(filepath) != \".pdf\": return docs\n",
    "    pdftab = PDFTables.from_file(filepath, verbose=False)\n",
    "    md_tables = pdftab.get_markdown_tables()\n",
    "\n",
    "    # tag document objects that contain extracted tables\n",
    "    captions = pdftab.get_captions()\n",
    "    for c in captions:\n",
    "        for d in docs:\n",
    "            if contains_sentence(c, d.page_content):\n",
    "                table_captions = d.metadata.get('table_captions', [])\n",
    "                if isinstance(table_captions, str):\n",
    "                    table_captions = table_captions.split(CAPTION_DELIMITER)\n",
    "                table_captions.append(c)\n",
    "                d.metadata['table_captions'] = CAPTION_DELIMITER.join(table_captions)\n",
    "\n",
    "    # augment docs with extracted tables\n",
    "    tabledocs = []\n",
    "    for md_table in md_tables:\n",
    "        tabledoc = Document(page_content=md_table,\n",
    "                metadata={'source':filepath, 'markdown':True, 'table':True})\n",
    "        tabledocs.append(tabledoc)\n",
    "    docs.extend(tabledocs)\n",
    "    return docs\n",
    "\n",
    "def extract_extension(file_path:str):\n",
    "    \"\"\"\n",
    "    Extracts file extension (including dot) from file path\n",
    "    \"\"\"\n",
    "    return \".\" + file_path.rsplit(\".\", 1)[-1].lower()\n",
    "\n",
    "\n",
    "def extract_files(source_dir:str, extensions:Union[dict,list]):\n",
    "    \"\"\"\n",
    "    Extract files of all supplied extensions.\n",
    "    \"\"\"\n",
    "    if not extensions:\n",
    "        raise ValueError('The extensions argument is required.')\n",
    "    extensions = list(extensions.keys()) if isinstance(extensions, dict) else extensions\n",
    "    source_dir = os.path.abspath(source_dir)\n",
    "    all_files = []\n",
    "    for ext in extensions:\n",
    "        all_files.extend(\n",
    "            glob.glob(os.path.join(source_dir, f\"**/*{ext.lower()}\"), recursive=True)\n",
    "        )\n",
    "        all_files.extend(\n",
    "            glob.glob(os.path.join(source_dir, f\"**/*{ext.upper()}\"), recursive=True)\n",
    "        )\n",
    "    return all_files"
   ]
  },
  {
   "cell_type": "code",
   "execution_count": null,
   "metadata": {},
   "outputs": [],
   "source": [
    "# | hide\n",
    "import nbdev\n",
    "\n",
    "nbdev.nbdev_export()"
   ]
  },
  {
   "cell_type": "code",
   "execution_count": null,
   "metadata": {},
   "outputs": [],
   "source": []
  }
 ],
 "metadata": {
  "kernelspec": {
   "display_name": "python3",
   "language": "python",
   "name": "python3"
  }
 },
 "nbformat": 4,
 "nbformat_minor": 4
}
