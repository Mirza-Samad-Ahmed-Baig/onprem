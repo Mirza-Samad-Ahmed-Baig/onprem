{
 "cells": [
  {
   "cell_type": "markdown",
   "metadata": {},
   "source": [
    "# hf.base\n",
    "\n",
    "> Pipeline module"
   ]
  },
  {
   "cell_type": "code",
   "execution_count": null,
   "metadata": {},
   "outputs": [],
   "source": [
    "# | default_exp hf.base"
   ]
  },
  {
   "cell_type": "code",
   "execution_count": null,
   "metadata": {},
   "outputs": [],
   "source": [
    "# | hide\n",
    "from nbdev.showdoc import *"
   ]
  },
  {
   "cell_type": "code",
   "execution_count": null,
   "metadata": {},
   "outputs": [],
   "source": [
    "# | export\n",
    "\n",
    "\"\"\"\n",
    "Pipeline module\n",
    "\"\"\"\n",
    "\n",
    "\n",
    "class Pipeline:\n",
    "    \"\"\"\n",
    "    Base class for all Pipelines. The only interface requirement is to define a __call___ method.\n",
    "    \"\"\"\n",
    "\n",
    "    def batch(self, data, size):\n",
    "        \"\"\"\n",
    "        Splits data into separate batch sizes specified by size.\n",
    "\n",
    "        Args:\n",
    "            data: data elements\n",
    "            size: batch size\n",
    "\n",
    "        Returns:\n",
    "            list of evenly sized batches with the last batch having the remaining elements\n",
    "        \"\"\"\n",
    "\n",
    "        return [data[x : x + size] for x in range(0, len(data), size)]"
   ]
  },
  {
   "cell_type": "code",
   "execution_count": null,
   "metadata": {},
   "outputs": [],
   "source": [
    "# | hide\n",
    "import nbdev\n",
    "\n",
    "nbdev.nbdev_export()"
   ]
  },
  {
   "cell_type": "code",
   "execution_count": null,
   "metadata": {},
   "outputs": [],
   "source": []
  }
 ],
 "metadata": {
  "kernelspec": {
   "display_name": "python3",
   "language": "python",
   "name": "python3"
  }
 },
 "nbformat": 4,
 "nbformat_minor": 4
}
