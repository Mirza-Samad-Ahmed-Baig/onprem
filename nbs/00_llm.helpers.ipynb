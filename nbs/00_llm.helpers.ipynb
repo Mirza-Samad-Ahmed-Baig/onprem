{
 "cells": [
  {
   "cell_type": "markdown",
   "metadata": {},
   "source": [
    "# llm helpers\n",
    "\n",
    "> Helper utilities for using LLMs"
   ]
  },
  {
   "cell_type": "code",
   "execution_count": null,
   "metadata": {},
   "outputs": [],
   "source": [
    "# | default_exp llm.helpers"
   ]
  },
  {
   "cell_type": "code",
   "execution_count": null,
   "metadata": {},
   "outputs": [],
   "source": [
    "# | hide\n",
    "from nbdev.showdoc import *"
   ]
  },
  {
   "cell_type": "code",
   "execution_count": null,
   "metadata": {},
   "outputs": [],
   "source": [
    "# | export\n",
    "\n",
    "from onprem import utils as U\n",
    "import json\n",
    "import yaml\n",
    "from typing import List, Any"
   ]
  },
  {
   "cell_type": "code",
   "execution_count": null,
   "metadata": {},
   "outputs": [],
   "source": [
    "# | export\n",
    "\n",
    "def _marshal_llm_to_json(output: str) -> str:\n",
    "    \"\"\"\n",
    "    Extract a substring containing valid JSON or array from a string.\n",
    "\n",
    "    **Args:**\n",
    "    \n",
    "        - output: A string that may contain a valid JSON object or array surrounded by extraneous characters or information.\n",
    "\n",
    "    **Returns:**\n",
    "        \n",
    "        - A string containing a valid JSON object or array.\n",
    "    \"\"\"\n",
    "    output = output.strip()\n",
    "\n",
    "    left_square = output.find(\"[\")\n",
    "    left_brace = output.find(\"{\")\n",
    "\n",
    "    if left_square < left_brace and left_square != -1:\n",
    "        left = left_square\n",
    "        right = output.rfind(\"]\")\n",
    "    else:\n",
    "        left = left_brace\n",
    "        right = output.rfind(\"}\")\n",
    "\n",
    "    return output[left : right + 1]\n",
    "\n",
    "\n",
    "def parse_json_markdown(text: str) -> Any:\n",
    "    \"\"\"\n",
    "    Parse json embedded in markdown into dictionary\n",
    "    \"\"\"\n",
    "    if \"```json\" in text:\n",
    "        text = text.split(\"```json\")[1].strip().strip(\"```\").strip()\n",
    "\n",
    "    json_string = _marshal_llm_to_json(text)\n",
    "\n",
    "    try:\n",
    "        json_obj = json.loads(json_string)\n",
    "    except json.JSONDecodeError as e_json:\n",
    "        try:\n",
    "            # NOTE: parsing again with pyyaml\n",
    "            #       pyyaml is less strict, and allows for trailing commas\n",
    "            #       right now we rely on this since guidance program generates\n",
    "            #       trailing commas\n",
    "            json_obj = yaml.safe_load(json_string)\n",
    "        except yaml.YAMLError as e_yaml:\n",
    "            raise OutputParserException(\n",
    "                f\"Got invalid JSON object. Error: {e_json} {e_yaml}. \"\n",
    "                f\"Got JSON string: {json_string}\"\n",
    "            )\n",
    "        except NameError as exc:\n",
    "            raise ImportError(\"Please pip install PyYAML.\") from exc\n",
    "\n",
    "    return json_obj\n",
    "\n",
    "def parse_code_markdown(text: str, only_last: bool) -> List[str]:\n",
    "    \"\"\"\n",
    "    Parsing embedded code out of markdown string\n",
    "    \"\"\"\n",
    "    # Regular expression pattern to match code within triple-backticks\n",
    "    pattern = r\"```(.*?)```\"\n",
    "\n",
    "    # Find all matches of the pattern in the text\n",
    "    matches = re.findall(pattern, text, re.DOTALL)\n",
    "\n",
    "    # Return the last matched group if requested\n",
    "    code = matches[-1] if matches and only_last else matches\n",
    "\n",
    "    # If empty we optimistically assume the output is the code\n",
    "    if not code:\n",
    "        # we want to handle cases where the code may start or end with triple\n",
    "        # backticks\n",
    "        # we also want to handle cases where the code is surrounded by regular\n",
    "        # quotes\n",
    "        # we can't just remove all backticks due to JS template strings\n",
    "\n",
    "        candidate = text.strip()\n",
    "\n",
    "        if candidate.startswith('\"') and candidate.endswith('\"'):\n",
    "            candidate = candidate[1:-1]\n",
    "\n",
    "        if candidate.startswith(\"'\") and candidate.endswith(\"'\"):\n",
    "            candidate = candidate[1:-1]\n",
    "\n",
    "        if candidate.startswith(\"`\") and candidate.endswith(\"`\"):\n",
    "            candidate = candidate[1:-1]\n",
    "\n",
    "        # For triple backticks we split the handling of the start and end\n",
    "        # partly because there can be cases where only one and not the other\n",
    "        # is present, and partly because we don't need to be so worried\n",
    "        # about it being a string in a programming language\n",
    "        if candidate.startswith(\"```\"):\n",
    "            candidate = re.sub(r\"^```[a-zA-Z]*\", \"\", candidate)\n",
    "\n",
    "        if candidate.endswith(\"```\"):\n",
    "            candidate = candidate[:-3]\n",
    "        code = [candidate.strip()]\n",
    "\n",
    "    return code"
   ]
  },
  {
   "cell_type": "code",
   "execution_count": null,
   "metadata": {},
   "outputs": [],
   "source": [
    "# | export\n",
    "\n",
    "SUBQUESTION_PROMPT = \"\"\"\\\n",
    "Given a user question, output a list of relevant sub-questions \\\n",
    "in json markdown that when composed can help answer the full user question.\n",
    "Only return the JSON response, with no additional text or explanations.\n",
    "\n",
    "# Example 1\n",
    "<User Question>\n",
    "Compare and contrast the revenue growth and EBITDA of Uber and Lyft for year 2021\n",
    "\n",
    "<Output>\n",
    "```json\n",
    "{\n",
    "    \"items\": [\n",
    "        {\n",
    "            \"sub_question\": \"What is the revenue growth of Uber\",\n",
    "        },\n",
    "        {\n",
    "            \"sub_question\": \"What is the EBITDA of Uber\",\n",
    "        },\n",
    "        {\n",
    "            \"sub_question\": \"What is the revenue growth of Lyft\",\n",
    "        },\n",
    "        {\n",
    "            \"sub_question\": \"What is the EBITDA of Lyft\",\n",
    "        }\n",
    "    ]\n",
    "}\n",
    "```\n",
    "\n",
    "# Example 2\n",
    "<User Question>\n",
    "{query_str}\n",
    "\n",
    "<Output>\n",
    "\"\"\"\n",
    "\n",
    "def decompose_question(question:str, llm, parse=True):\n",
    "    \"\"\"\n",
    "    Decompose a question into subquestions\n",
    "    \"\"\"\n",
    "    prompt = U.SafeFormatter({'query_str': question}).format(SUBQUESTION_PROMPT)\n",
    "    json_string = llm.prompt(prompt)\n",
    "    json_dict = parse_json_markdown(json_string)\n",
    "    subquestions = [d['sub_question'] for d in json_dict['items']]\n",
    "    return subquestions\n",
    "    "
   ]
  },
  {
   "cell_type": "code",
   "execution_count": null,
   "metadata": {},
   "outputs": [],
   "source": [
    "# | export\n",
    "\n",
    "FOLLOWUP_PROMPT = \"\"\"\\\n",
    "Given a question, answer \"yes\" only if the question is complex and follow-up questions are needed or \"no\" if not.\n",
    "Always respond with \"no\" for short questions that are less than 8 words.\n",
    "Answer only with either \"yes\" or \"no\" with no additional text or explanations.\n",
    "\n",
    "# Example 1\n",
    "<User Question>\n",
    "Compare and contrast the revenue growth and EBITDA of Uber and Lyft for year 2021\n",
    "\n",
    "<Output>\n",
    "yes\n",
    "\n",
    "# Example 2\n",
    "<User Question>\n",
    "How is the Coast Guard using artificial intelligence?\n",
    "\n",
    "<Output>\n",
    "No\n",
    "\n",
    "# Example 3\n",
    "<User Question\n",
    "What is AutoGluon?\n",
    "\n",
    "<Output>\n",
    "No\n",
    "\n",
    "# Example 4\n",
    "<User Question>\n",
    "{query_str}\n",
    "\n",
    "<Output>\n",
    "\"\"\"\n",
    "\n",
    "def needs_followup(question:str, llm, parse=True):\n",
    "    \"\"\"\n",
    "    Decide if follow-up questions are needed\n",
    "    \"\"\"\n",
    "    prompt = U.SafeFormatter({'query_str': question}).format(FOLLOWUP_PROMPT)\n",
    "    output = llm.prompt(prompt)\n",
    "    return \"yes\" in output.lower()"
   ]
  },
  {
   "cell_type": "markdown",
   "metadata": {},
   "source": [
    "## Examples"
   ]
  },
  {
   "cell_type": "code",
   "execution_count": null,
   "metadata": {},
   "outputs": [],
   "source": [
    "# | notest\n",
    "from onprem import LLM"
   ]
  },
  {
   "cell_type": "code",
   "execution_count": null,
   "metadata": {},
   "outputs": [
    {
     "name": "stderr",
     "output_type": "stream",
     "text": [
      "llama_new_context_with_model: n_ctx_per_seq (3904) < n_ctx_train (131072) -- the full capacity of the model will not be utilized\n"
     ]
    }
   ],
   "source": [
    "# |  notest\n",
    "\n",
    "llm = LLM(default_model='llama', n_gpu_layers=-1, verbose=False, mute_stream=True)"
   ]
  },
  {
   "cell_type": "markdown",
   "metadata": {},
   "source": [
    "### Deciding on Follow-Up Questions"
   ]
  },
  {
   "cell_type": "code",
   "execution_count": null,
   "metadata": {},
   "outputs": [
    {
     "data": {
      "text/plain": [
       "'no'"
      ]
     },
     "execution_count": null,
     "metadata": {},
     "output_type": "execute_result"
    }
   ],
   "source": [
    "# |  notest\n",
    "\n",
    "needs_followup('What is ktrain?', llm=llm)"
   ]
  },
  {
   "cell_type": "code",
   "execution_count": null,
   "metadata": {},
   "outputs": [
    {
     "data": {
      "text/plain": [
       "'no'"
      ]
     },
     "execution_count": null,
     "metadata": {},
     "output_type": "execute_result"
    }
   ],
   "source": [
    "# |  notest\n",
    "\n",
    "needs_followup('What is the capital of France?', llm=llm)"
   ]
  },
  {
   "cell_type": "code",
   "execution_count": null,
   "metadata": {},
   "outputs": [
    {
     "data": {
      "text/plain": [
       "'yes'"
      ]
     },
     "execution_count": null,
     "metadata": {},
     "output_type": "execute_result"
    }
   ],
   "source": [
    "# |  notest\n",
    "\n",
    "needs_followup(\"How was Paul Grahams life different before, during, and after YC?\", llm)"
   ]
  },
  {
   "cell_type": "code",
   "execution_count": null,
   "metadata": {},
   "outputs": [
    {
     "data": {
      "text/plain": [
       "'yes'"
      ]
     },
     "execution_count": null,
     "metadata": {},
     "output_type": "execute_result"
    }
   ],
   "source": [
    "# |  notest\n",
    "\n",
    "needs_followup(\"Compare and contrast the customer segments and geographies of Lyft and Uber that grew the fastest.\", llm)"
   ]
  },
  {
   "cell_type": "code",
   "execution_count": null,
   "metadata": {},
   "outputs": [
    {
     "data": {
      "text/plain": [
       "'yes'"
      ]
     },
     "execution_count": null,
     "metadata": {},
     "output_type": "execute_result"
    }
   ],
   "source": [
    "# |  notest\n",
    "\n",
    "needs_followup(\"Compare and contrast Uber and Lyft.\", llm)"
   ]
  },
  {
   "cell_type": "markdown",
   "metadata": {},
   "source": [
    "### Generating Follow-Up Questions"
   ]
  },
  {
   "cell_type": "code",
   "execution_count": null,
   "metadata": {},
   "outputs": [
    {
     "name": "stdout",
     "output_type": "stream",
     "text": [
      "\n",
      "['What are the customer segments of Lyft that grew the fastest', 'What are the geographies where Lyft grew the fastest', 'What are the customer segments of Uber that grew the fastest', 'What are the geographies where Uber grew the fastest']\n"
     ]
    }
   ],
   "source": [
    "# | notest\n",
    "\n",
    "question = \"Compare and contrast the customer segments and geographies of Lyft and Uber that grew the fastest.\"\n",
    "subquestions = decompose_question(question, llm=llm, parse=False)\n",
    "print()\n",
    "print(subquestions)"
   ]
  },
  {
   "cell_type": "code",
   "execution_count": null,
   "metadata": {},
   "outputs": [],
   "source": [
    "# | hide\n",
    "import nbdev\n",
    "\n",
    "nbdev.nbdev_export()"
   ]
  }
 ],
 "metadata": {
  "kernelspec": {
   "display_name": "python3",
   "language": "python",
   "name": "python3"
  }
 },
 "nbformat": 4,
 "nbformat_minor": 4
}
