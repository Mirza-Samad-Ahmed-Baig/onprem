{
 "cells": [
  {
   "cell_type": "markdown",
   "metadata": {},
   "source": [
    "# hf.data.labels\n",
    "\n",
    "> Labels module"
   ]
  },
  {
   "cell_type": "code",
   "execution_count": null,
   "metadata": {},
   "outputs": [],
   "source": [
    "# | default_exp hf.data.labels"
   ]
  },
  {
   "cell_type": "code",
   "execution_count": null,
   "metadata": {},
   "outputs": [],
   "source": [
    "# | hide\n",
    "from nbdev.showdoc import *"
   ]
  },
  {
   "cell_type": "code",
   "execution_count": null,
   "metadata": {},
   "outputs": [],
   "source": [
    "# | export\n",
    "\n",
    "\"\"\"\n",
    "Labels module\n",
    "\"\"\"\n",
    "\n",
    "from onprem.hf.data.base import Data\n",
    "\n",
    "\n",
    "class Labels(Data):\n",
    "    \"\"\"\n",
    "    Tokenizes text-classification datasets as input for training text-classification models.\n",
    "    \"\"\"\n",
    "\n",
    "    def __init__(self, tokenizer, columns, maxlength):\n",
    "        \"\"\"\n",
    "        Creates a new instance for tokenizing Labels training data.\n",
    "\n",
    "        Args:\n",
    "            tokenizer: model tokenizer\n",
    "            columns: tuple of columns to use for text/label\n",
    "            maxlength: maximum sequence length\n",
    "        \"\"\"\n",
    "\n",
    "        super().__init__(tokenizer, columns, maxlength)\n",
    "\n",
    "        # Standardize columns\n",
    "        if not self.columns:\n",
    "            self.columns = (\"text\", None, \"label\")\n",
    "        elif len(columns) < 3:\n",
    "            self.columns = (self.columns[0], None, self.columns[-1])\n",
    "\n",
    "    def process(self, data):\n",
    "        # Column keys\n",
    "        text1, text2, label = self.columns\n",
    "\n",
    "        # Tokenizer inputs can be single string or string pair, depending on task\n",
    "        text = (data[text1], data[text2]) if text2 else (data[text1],)\n",
    "\n",
    "        # Tokenize text and add label\n",
    "        inputs = self.tokenizer(*text, max_length=self.maxlength, padding=True, truncation=True)\n",
    "        inputs[label] = data[label]\n",
    "\n",
    "        return inputs\n"
   ]
  },
  {
   "cell_type": "code",
   "execution_count": null,
   "metadata": {},
   "outputs": [],
   "source": [
    "# | hide\n",
    "import nbdev\n",
    "\n",
    "nbdev.nbdev_export()"
   ]
  },
  {
   "cell_type": "code",
   "execution_count": null,
   "metadata": {},
   "outputs": [],
   "source": []
  }
 ],
 "metadata": {
  "kernelspec": {
   "display_name": "python3",
   "language": "python",
   "name": "python3"
  }
 },
 "nbformat": 4,
 "nbformat_minor": 4
}
