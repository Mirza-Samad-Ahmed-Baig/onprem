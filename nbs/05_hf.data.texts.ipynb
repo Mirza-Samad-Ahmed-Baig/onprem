{
 "cells": [
  {
   "cell_type": "markdown",
   "metadata": {},
   "source": [
    "# hf.data.texts\n",
    "\n",
    "> Texts module"
   ]
  },
  {
   "cell_type": "code",
   "execution_count": null,
   "metadata": {},
   "outputs": [],
   "source": [
    "# | default_exp hf.data.texts"
   ]
  },
  {
   "cell_type": "code",
   "execution_count": null,
   "metadata": {},
   "outputs": [],
   "source": [
    "# | hide\n",
    "from nbdev.showdoc import *"
   ]
  },
  {
   "cell_type": "code",
   "execution_count": null,
   "metadata": {},
   "outputs": [],
   "source": [
    "# | export\n",
    "\n",
    "\"\"\"\n",
    "Texts module\n",
    "\"\"\"\n",
    "\n",
    "from itertools import chain\n",
    "\n",
    "from onprem.hf.data.base import Data\n",
    "\n",
    "\n",
    "class Texts(Data):\n",
    "    \"\"\"\n",
    "    Tokenizes text datasets as input for training language models.\n",
    "    \"\"\"\n",
    "\n",
    "    def __init__(self, tokenizer, columns, maxlength):\n",
    "        \"\"\"\n",
    "        Creates a new instance for tokenizing Texts training data.\n",
    "\n",
    "        Args:\n",
    "            tokenizer: model tokenizer\n",
    "            columns: tuple of columns to use for text\n",
    "            maxlength: maximum sequence length\n",
    "        \"\"\"\n",
    "\n",
    "        super().__init__(tokenizer, columns, maxlength)\n",
    "\n",
    "        # Standardize columns\n",
    "        if not self.columns:\n",
    "            self.columns = (\"text\", None)\n",
    "\n",
    "    def process(self, data):\n",
    "        # Column keys\n",
    "        text1, text2 = self.columns\n",
    "\n",
    "        # Tokenizer inputs can be single string or string pair, depending on task\n",
    "        text = (data[text1], data[text2]) if text2 else (data[text1],)\n",
    "\n",
    "        # Tokenize text and add label\n",
    "        inputs = self.tokenizer(*text, return_special_tokens_mask=True)\n",
    "\n",
    "        # Concat and return tokenized inputs\n",
    "        return self.concat(inputs)\n",
    "\n",
    "    def concat(self, inputs):\n",
    "        \"\"\"\n",
    "        Concatenates tokenized text into chunks of maxlength.\n",
    "\n",
    "        Args:\n",
    "            inputs: tokenized input\n",
    "\n",
    "        Returns:\n",
    "            Chunks of tokenized text each with a size of maxlength\n",
    "        \"\"\"\n",
    "\n",
    "        # Concatenate tokenized text\n",
    "        concat = {k: list(chain(*inputs[k])) for k in inputs.keys()}\n",
    "\n",
    "        # Calculate total length\n",
    "        length = len(concat[list(inputs.keys())[0]])\n",
    "\n",
    "        # Ensure total is multiple of maxlength, drop last incomplete chunk\n",
    "        if length >= self.maxlength:\n",
    "            length = (length // self.maxlength) * self.maxlength\n",
    "\n",
    "        # Split into chunks of maxlength\n",
    "        result = {k: [v[x : x + self.maxlength] for x in range(0, length, self.maxlength)] for k, v in concat.items()}\n",
    "\n",
    "        return result\n",
    "\n"
   ]
  },
  {
   "cell_type": "code",
   "execution_count": null,
   "metadata": {},
   "outputs": [],
   "source": [
    "# | hide\n",
    "import nbdev\n",
    "\n",
    "nbdev.nbdev_export()"
   ]
  },
  {
   "cell_type": "code",
   "execution_count": null,
   "metadata": {},
   "outputs": [],
   "source": []
  }
 ],
 "metadata": {
  "kernelspec": {
   "display_name": "python3",
   "language": "python",
   "name": "python3"
  }
 },
 "nbformat": 4,
 "nbformat_minor": 4
}
