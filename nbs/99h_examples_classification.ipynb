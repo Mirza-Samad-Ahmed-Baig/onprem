{
 "cells": [
  {
   "cell_type": "code",
   "execution_count": 1,
   "metadata": {},
   "outputs": [],
   "source": [
    "%reload_ext autoreload\n",
    "%autoreload 2"
   ]
  },
  {
   "cell_type": "code",
   "execution_count": 2,
   "metadata": {},
   "outputs": [],
   "source": [
    "# | hide\n",
    "from onprem.core import *"
   ]
  },
  {
   "cell_type": "markdown",
   "metadata": {},
   "source": [
    "# Few-Shot Classification\n",
    "\n"
   ]
  },
  {
   "cell_type": "markdown",
   "metadata": {},
   "source": [
    "The `pipelines.FewShotClassifier` is a simple wrapper around the `SetFit` package and allows you to make text classification predictions on only a few labeled examples (e.g., 8 examples per class). It is useful when only a small amount of labeled examples are available for training a model. We will supply the `use_smaller=True` argument to use the smaller version of the default model."
   ]
  },
  {
   "cell_type": "code",
   "execution_count": 3,
   "metadata": {},
   "outputs": [
    {
     "name": "stderr",
     "output_type": "stream",
     "text": [
      "model_head.pkl not found on HuggingFace Hub, initialising classification head with random weights. You should TRAIN this model on a downstream task to use it for predictions and inference.\n"
     ]
    }
   ],
   "source": [
    "# | notest\n",
    "from onprem.pipelines import FewShotClassifier\n",
    "clf = FewShotClassifier(use_smaller=True)"
   ]
  },
  {
   "cell_type": "markdown",
   "metadata": {},
   "source": [
    "In this example, we will classify a sample of the 20NewsGroup dataset."
   ]
  },
  {
   "cell_type": "code",
   "execution_count": 4,
   "metadata": {},
   "outputs": [],
   "source": [
    "# | notest\n",
    "\n",
    "from sklearn.datasets import fetch_20newsgroups\n",
    "import numpy as np\n",
    "import pandas as pd\n",
    "\n",
    "# Fetching data\n",
    "classes = [\"soc.religion.christian\", \"sci.space\"]\n",
    "newsgroups = fetch_20newsgroups(subset=\"all\", categories=classes)\n",
    "corpus = np.array(newsgroups.data)\n",
    "group_labels = np.array(newsgroups.target_names)[newsgroups.target]\n",
    "\n",
    "# Wrangling data into a dataframe and selecting training examples\n",
    "data = pd.DataFrame({\"text\": corpus, \"label\": group_labels})\n",
    "train_df = data.groupby(\"label\").sample(5)\n",
    "test_df = data.drop(index=train_df.index)\n",
    "\n",
    "# small sample of entire dataset set (and much smaller than the test set)\n",
    "X_sample = train_df['text'].values\n",
    "y_sample = train_df['label'].values\n",
    "\n",
    "# test set\n",
    "X_test = test_df['text'].values\n",
    "y_test = test_df['label'].values\n"
   ]
  },
  {
   "cell_type": "markdown",
   "metadata": {},
   "source": [
    "There are only 10 training examples."
   ]
  },
  {
   "cell_type": "code",
   "execution_count": 5,
   "metadata": {},
   "outputs": [
    {
     "data": {
      "text/plain": [
       "10"
      ]
     },
     "execution_count": 5,
     "metadata": {},
     "output_type": "execute_result"
    }
   ],
   "source": [
    "# | notest\n",
    "\n",
    "len(X_sample)"
   ]
  },
  {
   "cell_type": "markdown",
   "metadata": {},
   "source": [
    "There are 1974 test examples."
   ]
  },
  {
   "cell_type": "code",
   "execution_count": 6,
   "metadata": {},
   "outputs": [
    {
     "data": {
      "text/plain": [
       "1974"
      ]
     },
     "execution_count": 6,
     "metadata": {},
     "output_type": "execute_result"
    }
   ],
   "source": [
    "# | notest\n",
    "\n",
    "len(X_test)"
   ]
  },
  {
   "cell_type": "markdown",
   "metadata": {},
   "source": [
    "Let's train:"
   ]
  },
  {
   "cell_type": "code",
   "execution_count": 7,
   "metadata": {},
   "outputs": [
    {
     "name": "stderr",
     "output_type": "stream",
     "text": [
      "Applying column mapping to the training dataset\n"
     ]
    },
    {
     "data": {
      "application/vnd.jupyter.widget-view+json": {
       "model_id": "02ab07f84b7548b5876c6b7b0b9d1ba2",
       "version_major": 2,
       "version_minor": 0
      },
      "text/plain": [
       "Map:   0%|          | 0/10 [00:00<?, ? examples/s]"
      ]
     },
     "metadata": {},
     "output_type": "display_data"
    },
    {
     "name": "stderr",
     "output_type": "stream",
     "text": [
      "***** Running training *****\n",
      "  Num unique pairs = 400\n",
      "  Batch size = 16\n",
      "  Num epochs = 1\n",
      "  Total optimization steps = 25\n"
     ]
    },
    {
     "data": {
      "text/html": [
       "\n",
       "    <div>\n",
       "      \n",
       "      <progress value='25' max='25' style='width:300px; height:20px; vertical-align: middle;'></progress>\n",
       "      [25/25 00:04, Epoch 1/0]\n",
       "    </div>\n",
       "    <table border=\"1\" class=\"dataframe\">\n",
       "  <thead>\n",
       " <tr style=\"text-align: left;\">\n",
       "      <th>Step</th>\n",
       "      <th>Training Loss</th>\n",
       "    </tr>\n",
       "  </thead>\n",
       "  <tbody>\n",
       "  </tbody>\n",
       "</table><p>"
      ],
      "text/plain": [
       "<IPython.core.display.HTML object>"
      ]
     },
     "metadata": {},
     "output_type": "display_data"
    }
   ],
   "source": [
    "# | notest\n",
    "\n",
    "clf.train(X_sample,  y_sample, num_epochs=1, batch_size=16, num_iterations=20)"
   ]
  },
  {
   "cell_type": "code",
   "execution_count": 8,
   "metadata": {},
   "outputs": [
    {
     "name": "stdout",
     "output_type": "stream",
     "text": [
      "                        precision    recall  f1-score   support\n",
      "\n",
      "             sci.space       0.98      0.98      0.98       982\n",
      "soc.religion.christian       0.98      0.98      0.98       992\n",
      "\n",
      "              accuracy                           0.98      1974\n",
      "             macro avg       0.98      0.98      0.98      1974\n",
      "          weighted avg       0.98      0.98      0.98      1974\n",
      "\n"
     ]
    }
   ],
   "source": [
    "# | notest\n",
    "\n",
    "print(clf.evaluate(X_test, y_test, labels=clf.model.labels, print_report=True))"
   ]
  },
  {
   "cell_type": "markdown",
   "metadata": {},
   "source": [
    "Make predictions on new data:"
   ]
  },
  {
   "cell_type": "code",
   "execution_count": 9,
   "metadata": {},
   "outputs": [
    {
     "data": {
      "text/plain": [
       "array(['sci.space'], dtype='<U22')"
      ]
     },
     "execution_count": 9,
     "metadata": {},
     "output_type": "execute_result"
    }
   ],
   "source": [
    "# | notest\n",
    "\n",
    "clf.predict(['Elon Musk likes launching satellites.'])"
   ]
  },
  {
   "cell_type": "code",
   "execution_count": 10,
   "metadata": {},
   "outputs": [
    {
     "data": {
      "text/plain": [
       "array(['soc.religion.christian'], dtype='<U22')"
      ]
     },
     "execution_count": 10,
     "metadata": {},
     "output_type": "execute_result"
    }
   ],
   "source": [
    "# | notest\n",
    "\n",
    "\n",
    "clf.predict(['My mom likes going to church.'])"
   ]
  },
  {
   "cell_type": "markdown",
   "metadata": {},
   "source": [
    "Show prediction probabilities:"
   ]
  },
  {
   "cell_type": "code",
   "execution_count": 11,
   "metadata": {},
   "outputs": [
    {
     "data": {
      "text/plain": [
       "tensor([[0.6076, 0.3924]], dtype=torch.float64)"
      ]
     },
     "execution_count": 11,
     "metadata": {},
     "output_type": "execute_result"
    }
   ],
   "source": [
    "# | notest\n",
    "\n",
    "clf.predict_proba(['Elon Musk likes launching satellites.'])"
   ]
  },
  {
   "cell_type": "markdown",
   "metadata": {},
   "source": [
    "Explain predictions:"
   ]
  },
  {
   "cell_type": "code",
   "execution_count": 12,
   "metadata": {},
   "outputs": [
    {
     "data": {
      "text/html": [
       "\n",
       "<br>\n",
       "<hr style=\"height: 1px; background-color: #fff; border: none; margin-top: 18px; margin-bottom: 18px; border-top: 1px dashed #ccc;\"\">\n",
       "<div align=\"center\" style=\"margin-top: -35px;\"><div style=\"display: inline-block; background: #fff; padding: 5px; color: #999; font-family: monospace\">[0]</div>\n",
       "</div>\n",
       "            <div align='center'>\n",
       "<script>\n",
       "    document._hover_bxnczycldiqesbevkkpm = '_tp_bxnczycldiqesbevkkpm_output_0';\n",
       "    document._zoom_bxnczycldiqesbevkkpm = undefined;\n",
       "    function _output_onclick_bxnczycldiqesbevkkpm(i) {\n",
       "        var next_id = undefined;\n",
       "\n",
       "        if (document._zoom_bxnczycldiqesbevkkpm !== undefined) {\n",
       "            document.getElementById(document._zoom_bxnczycldiqesbevkkpm+ '_zoom').style.display = 'none';\n",
       "\n",
       "            if (document._zoom_bxnczycldiqesbevkkpm === '_tp_bxnczycldiqesbevkkpm_output_' + i) {\n",
       "                document.getElementById(document._zoom_bxnczycldiqesbevkkpm).style.display = 'block';\n",
       "                document.getElementById(document._zoom_bxnczycldiqesbevkkpm+'_name').style.borderBottom = '3px solid #000000';\n",
       "            } else {\n",
       "                document.getElementById(document._zoom_bxnczycldiqesbevkkpm).style.display = 'none';\n",
       "                document.getElementById(document._zoom_bxnczycldiqesbevkkpm+'_name').style.borderBottom = 'none';\n",
       "            }\n",
       "        }\n",
       "        if (document._zoom_bxnczycldiqesbevkkpm !== '_tp_bxnczycldiqesbevkkpm_output_' + i) {\n",
       "            next_id = '_tp_bxnczycldiqesbevkkpm_output_' + i;\n",
       "            document.getElementById(next_id).style.display = 'none';\n",
       "            document.getElementById(next_id + '_zoom').style.display = 'block';\n",
       "            document.getElementById(next_id+'_name').style.borderBottom = '3px solid #000000';\n",
       "        }\n",
       "        document._zoom_bxnczycldiqesbevkkpm = next_id;\n",
       "    }\n",
       "    function _output_onmouseover_bxnczycldiqesbevkkpm(i, el) {\n",
       "        if (document._zoom_bxnczycldiqesbevkkpm !== undefined) { return; }\n",
       "        if (document._hover_bxnczycldiqesbevkkpm !== undefined) {\n",
       "            document.getElementById(document._hover_bxnczycldiqesbevkkpm + '_name').style.borderBottom = 'none';\n",
       "            document.getElementById(document._hover_bxnczycldiqesbevkkpm).style.display = 'none';\n",
       "        }\n",
       "        document.getElementById('_tp_bxnczycldiqesbevkkpm_output_' + i).style.display = 'block';\n",
       "        el.style.borderBottom = '3px solid #000000';\n",
       "        document._hover_bxnczycldiqesbevkkpm = '_tp_bxnczycldiqesbevkkpm_output_' + i;\n",
       "    }\n",
       "</script>\n",
       "<div style=\"color: rgb(120,120,120); font-size: 12px;\">outputs</div>\n",
       "<div style=\"display: inline; border-bottom: 3px solid #000000; background: rgba(255.0, 13.0, 87.0, 1.0); border-radius: 3px; padding: 0px\" id=\"_tp_bxnczycldiqesbevkkpm_output_0_name\"\n",
       "    onclick=\"_output_onclick_bxnczycldiqesbevkkpm(0)\"\n",
       "    onmouseover=\"_output_onmouseover_bxnczycldiqesbevkkpm(0, this);\">sci.space</div>\n",
       "<div style=\"display: inline; border-bottom: none; background: rgba(255.0, 13.0, 87.0, 0.6452762923351159); border-radius: 3px; padding: 0px\" id=\"_tp_bxnczycldiqesbevkkpm_output_1_name\"\n",
       "    onclick=\"_output_onclick_bxnczycldiqesbevkkpm(1)\"\n",
       "    onmouseover=\"_output_onmouseover_bxnczycldiqesbevkkpm(1, this);\">soc.religion.christian</div><br><br><div id='_tp_bxnczycldiqesbevkkpm_output_0' style='display: block';><svg width=\"100%\" height=\"80px\"><line x1=\"0\" y1=\"33\" x2=\"100%\" y2=\"33\" style=\"stroke:rgb(150,150,150);stroke-width:1\" /><line x1=\"49.99999794227803%\" y1=\"33\" x2=\"49.99999794227803%\" y2=\"37\" style=\"stroke:rgb(150,150,150);stroke-width:1\" /><text x=\"49.99999794227803%\" y=\"27\" font-size=\"12px\" fill=\"rgb(120,120,120)\" dominant-baseline=\"bottom\" text-anchor=\"middle\">0.5</text><line x1=\"37.6536661414124%\" y1=\"33\" x2=\"37.6536661414124%\" y2=\"37\" style=\"stroke:rgb(150,150,150);stroke-width:1\" /><text x=\"37.6536661414124%\" y=\"27\" font-size=\"12px\" fill=\"rgb(120,120,120)\" dominant-baseline=\"bottom\" text-anchor=\"middle\">0.47</text><line x1=\"25.30733434054679%\" y1=\"33\" x2=\"25.30733434054679%\" y2=\"37\" style=\"stroke:rgb(150,150,150);stroke-width:1\" /><text x=\"25.30733434054679%\" y=\"27\" font-size=\"12px\" fill=\"rgb(120,120,120)\" dominant-baseline=\"bottom\" text-anchor=\"middle\">0.44</text><line x1=\"12.961002539681184%\" y1=\"33\" x2=\"12.961002539681184%\" y2=\"37\" style=\"stroke:rgb(150,150,150);stroke-width:1\" /><text x=\"12.961002539681184%\" y=\"27\" font-size=\"12px\" fill=\"rgb(120,120,120)\" dominant-baseline=\"bottom\" text-anchor=\"middle\">0.41</text><line x1=\"62.34632974314366%\" y1=\"33\" x2=\"62.34632974314366%\" y2=\"37\" style=\"stroke:rgb(150,150,150);stroke-width:1\" /><text x=\"62.34632974314366%\" y=\"27\" font-size=\"12px\" fill=\"rgb(120,120,120)\" dominant-baseline=\"bottom\" text-anchor=\"middle\">0.53</text><line x1=\"74.6926615440093%\" y1=\"33\" x2=\"74.6926615440093%\" y2=\"37\" style=\"stroke:rgb(150,150,150);stroke-width:1\" /><text x=\"74.6926615440093%\" y=\"27\" font-size=\"12px\" fill=\"rgb(120,120,120)\" dominant-baseline=\"bottom\" text-anchor=\"middle\">0.56</text><line x1=\"87.03899334487488%\" y1=\"33\" x2=\"87.03899334487488%\" y2=\"37\" style=\"stroke:rgb(150,150,150);stroke-width:1\" /><text x=\"87.03899334487488%\" y=\"27\" font-size=\"12px\" fill=\"rgb(120,120,120)\" dominant-baseline=\"bottom\" text-anchor=\"middle\">0.59</text><line x1=\"51.59781362864912%\" y1=\"33\" x2=\"51.59781362864912%\" y2=\"37\" style=\"stroke:rgb(150,150,150);stroke-width:1\" /><text x=\"51.59781362864912%\" y=\"27\" font-size=\"13px\" style=\"stroke:#ffffff;stroke-width:8px;\" fill=\"rgb(255,255,255)\" dominant-baseline=\"bottom\" text-anchor=\"middle\">0.503882</text><text x=\"51.59781362864912%\" y=\"27\" font-size=\"12px\" fill=\"rgb(120,120,120)\" dominant-baseline=\"bottom\" text-anchor=\"middle\">0.503882</text><text x=\"51.59781362864912%\" y=\"10\" font-size=\"12px\" fill=\"rgb(120,120,120)\" dominant-baseline=\"bottom\" text-anchor=\"middle\">base value</text><line x1=\"94.28194625788237%\" y1=\"33\" x2=\"94.28194625788237%\" y2=\"37\" style=\"stroke:rgb(150,150,150);stroke-width:1\" /><text x=\"94.28194625788237%\" y=\"27\" font-size=\"13px\" style=\"stroke:#ffffff;stroke-width:8px;\" font-weight=\"bold\" fill=\"rgb(255,255,255)\" dominant-baseline=\"bottom\" text-anchor=\"middle\">0.607599</text><text x=\"94.28194625788237%\" y=\"27\" font-size=\"13px\" font-weight=\"bold\" fill=\"rgb(0,0,0)\" dominant-baseline=\"bottom\" text-anchor=\"middle\">0.607599</text><text x=\"94.28194625788237%\" y=\"10\" font-size=\"12px\" fill=\"rgb(120,120,120)\" dominant-baseline=\"bottom\" text-anchor=\"middle\">f<tspan baseline-shift=\"sub\" font-size=\"8px\">sci.space</tspan>(inputs)</text><rect x=\"50.389783325523815%\" width=\"43.89216293235855%\" y=\"40\" height=\"18\" style=\"fill:rgb(255.0, 0.0, 81.08083606031792); stroke-width:0; stroke:rgb(0,0,0)\" /><line x1=\"68.60261435356718%\" x2=\"94.28194625788237%\" y1=\"60\" y2=\"60\" id=\"_fb_jaszzrjjrrcgjnvnavln_ind_7\" style=\"stroke:rgb(255.0, 0.0, 81.08083606031792);stroke-width:2; opacity: 0\"/><text x=\"81.44228030572478%\" y=\"71\" font-size=\"12px\" id=\"_fs_jaszzrjjrrcgjnvnavln_ind_7\" fill=\"rgb(255.0, 0.0, 81.08083606031792)\" style=\"opacity: 0\" dominant-baseline=\"middle\" text-anchor=\"middle\">0.062</text><svg x=\"68.60261435356718%\" y=\"40\" height=\"20\" width=\"25.67933190431519%\">  <svg x=\"0\" y=\"0\" width=\"100%\" height=\"100%\">    <text x=\"50%\" y=\"9\" font-size=\"12px\" fill=\"rgb(255,255,255)\" dominant-baseline=\"middle\" text-anchor=\"middle\">satellites</text>  </svg></svg><line x1=\"59.78200936130085%\" x2=\"68.60261435356718%\" y1=\"60\" y2=\"60\" id=\"_fb_jaszzrjjrrcgjnvnavln_ind_6\" style=\"stroke:rgb(255.0, 0.0, 81.08083606031792);stroke-width:2; opacity: 0\"/><text x=\"64.19231185743402%\" y=\"71\" font-size=\"12px\" id=\"_fs_jaszzrjjrrcgjnvnavln_ind_6\" fill=\"rgb(255.0, 0.0, 81.08083606031792)\" style=\"opacity: 0\" dominant-baseline=\"middle\" text-anchor=\"middle\">0.021</text><svg x=\"59.78200936130085%\" y=\"40\" height=\"20\" width=\"8.820604992266325%\">  <svg x=\"0\" y=\"0\" width=\"100%\" height=\"100%\">    <text x=\"50%\" y=\"9\" font-size=\"12px\" fill=\"rgb(255,255,255)\" dominant-baseline=\"middle\" text-anchor=\"middle\">launching</text>  </svg></svg><line x1=\"55.7551788429861%\" x2=\"59.78200936130085%\" y1=\"60\" y2=\"60\" id=\"_fb_jaszzrjjrrcgjnvnavln_ind_8\" style=\"stroke:rgb(255.0, 0.0, 81.08083606031792);stroke-width:2; opacity: 0\"/><text x=\"57.768594102143474%\" y=\"71\" font-size=\"12px\" id=\"_fs_jaszzrjjrrcgjnvnavln_ind_8\" fill=\"rgb(255.0, 0.0, 81.08083606031792)\" style=\"opacity: 0\" dominant-baseline=\"middle\" text-anchor=\"middle\">0.01</text><svg x=\"55.7551788429861%\" y=\"40\" height=\"20\" width=\"4.026830518314753%\">  <svg x=\"0\" y=\"0\" width=\"100%\" height=\"100%\">    <text x=\"50%\" y=\"9\" font-size=\"12px\" fill=\"rgb(255,255,255)\" dominant-baseline=\"middle\" text-anchor=\"middle\">.</text>  </svg></svg><line x1=\"51.8680111490196%\" x2=\"55.7551788429861%\" y1=\"60\" y2=\"60\" id=\"_fb_jaszzrjjrrcgjnvnavln_ind_4\" style=\"stroke:rgb(255.0, 0.0, 81.08083606031792);stroke-width:2; opacity: 0\"/><text x=\"53.81159499600285%\" y=\"71\" font-size=\"12px\" id=\"_fs_jaszzrjjrrcgjnvnavln_ind_4\" fill=\"rgb(255.0, 0.0, 81.08083606031792)\" style=\"opacity: 0\" dominant-baseline=\"middle\" text-anchor=\"middle\">0.009</text><svg x=\"51.8680111490196%\" y=\"40\" height=\"20\" width=\"3.8871676939664965%\">  <svg x=\"0\" y=\"0\" width=\"100%\" height=\"100%\">    <text x=\"50%\" y=\"9\" font-size=\"12px\" fill=\"rgb(255,255,255)\" dominant-baseline=\"middle\" text-anchor=\"middle\">sk</text>  </svg></svg><line x1=\"50.9296654004816%\" x2=\"51.8680111490196%\" y1=\"60\" y2=\"60\" id=\"_fb_jaszzrjjrrcgjnvnavln_ind_2\" style=\"stroke:rgb(255.0, 0.0, 81.08083606031792);stroke-width:2; opacity: 0\"/><text x=\"51.3988382747506%\" y=\"71\" font-size=\"12px\" id=\"_fs_jaszzrjjrrcgjnvnavln_ind_2\" fill=\"rgb(255.0, 0.0, 81.08083606031792)\" style=\"opacity: 0\" dominant-baseline=\"middle\" text-anchor=\"middle\">0.002</text><svg x=\"50.9296654004816%\" y=\"40\" height=\"20\" width=\"0.9383457485379978%\">  <svg x=\"0\" y=\"0\" width=\"100%\" height=\"100%\">    <text x=\"50%\" y=\"9\" font-size=\"12px\" fill=\"rgb(255,255,255)\" dominant-baseline=\"middle\" text-anchor=\"middle\">on</text>  </svg></svg><line x1=\"50.389784186576215%\" x2=\"50.9296654004816%\" y1=\"60\" y2=\"60\" id=\"_fb_jaszzrjjrrcgjnvnavln_ind_5\" style=\"stroke:rgb(255.0, 0.0, 81.08083606031792);stroke-width:2; opacity: 0\"/><text x=\"50.65972479352891%\" y=\"71\" font-size=\"12px\" id=\"_fs_jaszzrjjrrcgjnvnavln_ind_5\" fill=\"rgb(255.0, 0.0, 81.08083606031792)\" style=\"opacity: 0\" dominant-baseline=\"middle\" text-anchor=\"middle\">0.001</text><svg x=\"50.389784186576215%\" y=\"40\" height=\"20\" width=\"0.5398812139053888%\">  <svg x=\"0\" y=\"0\" width=\"100%\" height=\"100%\">    <text x=\"50%\" y=\"9\" font-size=\"12px\" fill=\"rgb(255,255,255)\" dominant-baseline=\"middle\" text-anchor=\"middle\">likes</text>  </svg></svg><line x1=\"50.38978366884993%\" x2=\"50.389784186576215%\" y1=\"60\" y2=\"60\" id=\"_fb_jaszzrjjrrcgjnvnavln_ind_0\" style=\"stroke:rgb(255.0, 0.0, 81.08083606031792);stroke-width:2; opacity: 0\"/><text x=\"50.38978392771307%\" y=\"71\" font-size=\"12px\" id=\"_fs_jaszzrjjrrcgjnvnavln_ind_0\" fill=\"rgb(255.0, 0.0, 81.08083606031792)\" style=\"opacity: 0\" dominant-baseline=\"middle\" text-anchor=\"middle\">0.0</text><svg x=\"50.38978366884993%\" y=\"40\" height=\"20\" width=\"5.177262849542785e-07%\">  <svg x=\"0\" y=\"0\" width=\"100%\" height=\"100%\">    <text x=\"50%\" y=\"9\" font-size=\"12px\" fill=\"rgb(255,255,255)\" dominant-baseline=\"middle\" text-anchor=\"middle\"></text>  </svg></svg><line x1=\"50.389783325523815%\" x2=\"50.38978366884993%\" y1=\"60\" y2=\"60\" id=\"_fb_jaszzrjjrrcgjnvnavln_ind_9\" style=\"stroke:rgb(255.0, 0.0, 81.08083606031792);stroke-width:2; opacity: 0\"/><text x=\"50.38978349718687%\" y=\"71\" font-size=\"12px\" id=\"_fs_jaszzrjjrrcgjnvnavln_ind_9\" fill=\"rgb(255.0, 0.0, 81.08083606031792)\" style=\"opacity: 0\" dominant-baseline=\"middle\" text-anchor=\"middle\">0.0</text><svg x=\"50.389783325523815%\" y=\"40\" height=\"20\" width=\"3.4332611420495596e-07%\">  <svg x=\"0\" y=\"0\" width=\"100%\" height=\"100%\">    <text x=\"50%\" y=\"9\" font-size=\"12px\" fill=\"rgb(255,255,255)\" dominant-baseline=\"middle\" text-anchor=\"middle\"></text>  </svg></svg><g transform=\"translate(0,0)\">  <svg x=\"68.60261435356718%\" y=\"40\" height=\"18\" overflow=\"visible\" width=\"30\">    <path d=\"M 0 -9 l 6 18 L 0 25\" fill=\"none\" style=\"stroke:rgb(255.0, 0.0, 81.08083606031792);stroke-width:2\" />  </svg></g><g transform=\"translate(2,0)\">  <svg x=\"68.60261435356718%\" y=\"40\" height=\"18\" overflow=\"visible\" width=\"30\">    <path d=\"M 0 -9 l 6 18 L 0 25\" fill=\"none\" style=\"stroke:rgb(255.0, 0.0, 81.08083606031792);stroke-width:2\" />  </svg></g><g transform=\"translate(4,0)\">  <svg x=\"68.60261435356718%\" y=\"40\" height=\"18\" overflow=\"visible\" width=\"30\">    <path d=\"M 0 -9 l 6 18 L 0 25\" fill=\"none\" style=\"stroke:rgb(255.0, 0.0, 81.08083606031792);stroke-width:2\" />  </svg></g><g transform=\"translate(6,0)\">  <svg x=\"68.60261435356718%\" y=\"40\" height=\"18\" overflow=\"visible\" width=\"30\">    <path d=\"M 0 -9 l 6 18 L 0 25\" fill=\"none\" style=\"stroke:rgb(255.0, 0.0, 81.08083606031792);stroke-width:2\" />  </svg></g><g transform=\"translate(-8,0)\">  <svg x=\"68.60261435356718%\" y=\"40\" height=\"18\" overflow=\"visible\" width=\"30\">    <path d=\"M 0 -9 l 6 18 L 0 25\" fill=\"none\" style=\"stroke:rgb(255.0, 0.0, 81.08083606031792);stroke-width:2\" />  </svg></g><g transform=\"translate(-6,0)\">  <svg x=\"68.60261435356718%\" y=\"40\" height=\"18\" overflow=\"visible\" width=\"30\">    <path d=\"M 0 -9 l 6 18 L 0 25\" fill=\"none\" style=\"stroke:rgb(255.0, 0.0, 81.08083606031792);stroke-width:2\" />  </svg></g><g transform=\"translate(-4,0)\">  <svg x=\"68.60261435356718%\" y=\"40\" height=\"18\" overflow=\"visible\" width=\"30\">    <path d=\"M 0 -9 l 6 18 L 0 25\" fill=\"none\" style=\"stroke:rgb(255.0, 0.0, 81.08083606031792);stroke-width:2\" />  </svg></g><g transform=\"translate(-2,0)\">  <svg x=\"68.60261435356718%\" y=\"40\" height=\"18\" overflow=\"visible\" width=\"30\">    <path d=\"M 0 -9 l 6 18 L 0 25\" fill=\"none\" style=\"stroke:rgb(255.0, 0.0, 81.08083606031792);stroke-width:2\" />  </svg></g><g transform=\"translate(0,0)\">  <svg x=\"59.78200936130085%\" y=\"40\" height=\"18\" overflow=\"visible\" width=\"30\">    <path d=\"M 0 -9 l 6 18 L 0 25\" fill=\"none\" style=\"stroke:rgb(255.0, 0.0, 81.08083606031792);stroke-width:2\" />  </svg></g><g transform=\"translate(2,0)\">  <svg x=\"59.78200936130085%\" y=\"40\" height=\"18\" overflow=\"visible\" width=\"30\">    <path d=\"M 0 -9 l 6 18 L 0 25\" fill=\"none\" style=\"stroke:rgb(255.0, 0.0, 81.08083606031792);stroke-width:2\" />  </svg></g><g transform=\"translate(4,0)\">  <svg x=\"59.78200936130085%\" y=\"40\" height=\"18\" overflow=\"visible\" width=\"30\">    <path d=\"M 0 -9 l 6 18 L 0 25\" fill=\"none\" style=\"stroke:rgb(255.0, 0.0, 81.08083606031792);stroke-width:2\" />  </svg></g><g transform=\"translate(6,0)\">  <svg x=\"59.78200936130085%\" y=\"40\" height=\"18\" overflow=\"visible\" width=\"30\">    <path d=\"M 0 -9 l 6 18 L 0 25\" fill=\"none\" style=\"stroke:rgb(255.0, 0.0, 81.08083606031792);stroke-width:2\" />  </svg></g><g transform=\"translate(-8,0)\">  <svg x=\"59.78200936130085%\" y=\"40\" height=\"18\" overflow=\"visible\" width=\"30\">    <path d=\"M 0 -9 l 6 18 L 0 25\" fill=\"none\" style=\"stroke:rgb(255.0, 0.0, 81.08083606031792);stroke-width:2\" />  </svg></g><g transform=\"translate(-6,0)\">  <svg x=\"59.78200936130085%\" y=\"40\" height=\"18\" overflow=\"visible\" width=\"30\">    <path d=\"M 0 -9 l 6 18 L 0 25\" fill=\"none\" style=\"stroke:rgb(255.0, 0.0, 81.08083606031792);stroke-width:2\" />  </svg></g><g transform=\"translate(-4,0)\">  <svg x=\"59.78200936130085%\" y=\"40\" height=\"18\" overflow=\"visible\" width=\"30\">    <path d=\"M 0 -9 l 6 18 L 0 25\" fill=\"none\" style=\"stroke:rgb(255.0, 0.0, 81.08083606031792);stroke-width:2\" />  </svg></g><g transform=\"translate(-2,0)\">  <svg x=\"59.78200936130085%\" y=\"40\" height=\"18\" overflow=\"visible\" width=\"30\">    <path d=\"M 0 -9 l 6 18 L 0 25\" fill=\"none\" style=\"stroke:rgb(255.0, 0.0, 81.08083606031792);stroke-width:2\" />  </svg></g><g transform=\"translate(0,0)\">  <svg x=\"55.7551788429861%\" y=\"40\" height=\"18\" overflow=\"visible\" width=\"30\">    <path d=\"M 0 -9 l 6 18 L 0 25\" fill=\"none\" style=\"stroke:rgb(255.0, 0.0, 81.08083606031792);stroke-width:2\" />  </svg></g><g transform=\"translate(2,0)\">  <svg x=\"55.7551788429861%\" y=\"40\" height=\"18\" overflow=\"visible\" width=\"30\">    <path d=\"M 0 -9 l 6 18 L 0 25\" fill=\"none\" style=\"stroke:rgb(255.0, 0.0, 81.08083606031792);stroke-width:2\" />  </svg></g><g transform=\"translate(4,0)\">  <svg x=\"55.7551788429861%\" y=\"40\" height=\"18\" overflow=\"visible\" width=\"30\">    <path d=\"M 0 -9 l 6 18 L 0 25\" fill=\"none\" style=\"stroke:rgb(255.0, 0.0, 81.08083606031792);stroke-width:2\" />  </svg></g><g transform=\"translate(6,0)\">  <svg x=\"55.7551788429861%\" y=\"40\" height=\"18\" overflow=\"visible\" width=\"30\">    <path d=\"M 0 -9 l 6 18 L 0 25\" fill=\"none\" style=\"stroke:rgb(255.0, 0.0, 81.08083606031792);stroke-width:2\" />  </svg></g><g transform=\"translate(-8,0)\">  <svg x=\"55.7551788429861%\" y=\"40\" height=\"18\" overflow=\"visible\" width=\"30\">    <path d=\"M 0 -9 l 6 18 L 0 25\" fill=\"none\" style=\"stroke:rgb(255.0, 0.0, 81.08083606031792);stroke-width:2\" />  </svg></g><g transform=\"translate(-6,0)\">  <svg x=\"55.7551788429861%\" y=\"40\" height=\"18\" overflow=\"visible\" width=\"30\">    <path d=\"M 0 -9 l 6 18 L 0 25\" fill=\"none\" style=\"stroke:rgb(255.0, 0.0, 81.08083606031792);stroke-width:2\" />  </svg></g><g transform=\"translate(-4,0)\">  <svg x=\"55.7551788429861%\" y=\"40\" height=\"18\" overflow=\"visible\" width=\"30\">    <path d=\"M 0 -9 l 6 18 L 0 25\" fill=\"none\" style=\"stroke:rgb(255.0, 0.0, 81.08083606031792);stroke-width:2\" />  </svg></g><g transform=\"translate(-2,0)\">  <svg x=\"55.7551788429861%\" y=\"40\" height=\"18\" overflow=\"visible\" width=\"30\">    <path d=\"M 0 -9 l 6 18 L 0 25\" fill=\"none\" style=\"stroke:rgb(255.0, 0.0, 81.08083606031792);stroke-width:2\" />  </svg></g><g transform=\"translate(0,0)\">  <svg x=\"51.8680111490196%\" y=\"40\" height=\"18\" overflow=\"visible\" width=\"30\">    <path d=\"M 0 -9 l 6 18 L 0 25\" fill=\"none\" style=\"stroke:rgb(255.0, 0.0, 81.08083606031792);stroke-width:2\" />  </svg></g><g transform=\"translate(2,0)\">  <svg x=\"51.8680111490196%\" y=\"40\" height=\"18\" overflow=\"visible\" width=\"30\">    <path d=\"M 0 -9 l 6 18 L 0 25\" fill=\"none\" style=\"stroke:rgb(255.0, 0.0, 81.08083606031792);stroke-width:2\" />  </svg></g><g transform=\"translate(4,0)\">  <svg x=\"51.8680111490196%\" y=\"40\" height=\"18\" overflow=\"visible\" width=\"30\">    <path d=\"M 0 -9 l 6 18 L 0 25\" fill=\"none\" style=\"stroke:rgb(255.0, 0.0, 81.08083606031792);stroke-width:2\" />  </svg></g><g transform=\"translate(6,0)\">  <svg x=\"51.8680111490196%\" y=\"40\" height=\"18\" overflow=\"visible\" width=\"30\">    <path d=\"M 0 -9 l 6 18 L 0 25\" fill=\"none\" style=\"stroke:rgb(255.0, 0.0, 81.08083606031792);stroke-width:2\" />  </svg></g><g transform=\"translate(-8,0)\">  <svg x=\"51.8680111490196%\" y=\"40\" height=\"18\" overflow=\"visible\" width=\"30\">    <path d=\"M 0 -9 l 6 18 L 0 25\" fill=\"none\" style=\"stroke:rgb(255.0, 0.0, 81.08083606031792);stroke-width:2\" />  </svg></g><g transform=\"translate(-6,0)\">  <svg x=\"51.8680111490196%\" y=\"40\" height=\"18\" overflow=\"visible\" width=\"30\">    <path d=\"M 0 -9 l 6 18 L 0 25\" fill=\"none\" style=\"stroke:rgb(255.0, 0.0, 81.08083606031792);stroke-width:2\" />  </svg></g><g transform=\"translate(-4,0)\">  <svg x=\"51.8680111490196%\" y=\"40\" height=\"18\" overflow=\"visible\" width=\"30\">    <path d=\"M 0 -9 l 6 18 L 0 25\" fill=\"none\" style=\"stroke:rgb(255.0, 0.0, 81.08083606031792);stroke-width:2\" />  </svg></g><g transform=\"translate(-2,0)\">  <svg x=\"51.8680111490196%\" y=\"40\" height=\"18\" overflow=\"visible\" width=\"30\">    <path d=\"M 0 -9 l 6 18 L 0 25\" fill=\"none\" style=\"stroke:rgb(255.0, 0.0, 81.08083606031792);stroke-width:2\" />  </svg></g><g transform=\"translate(0,0)\">  <svg x=\"50.9296654004816%\" y=\"40\" height=\"18\" overflow=\"visible\" width=\"30\">    <path d=\"M 0 -9 l 6 18 L 0 25\" fill=\"none\" style=\"stroke:rgb(255.0, 0.0, 81.08083606031792);stroke-width:2\" />  </svg></g><g transform=\"translate(2,0)\">  <svg x=\"50.9296654004816%\" y=\"40\" height=\"18\" overflow=\"visible\" width=\"30\">    <path d=\"M 0 -9 l 6 18 L 0 25\" fill=\"none\" style=\"stroke:rgb(255.0, 0.0, 81.08083606031792);stroke-width:2\" />  </svg></g><g transform=\"translate(4,0)\">  <svg x=\"50.9296654004816%\" y=\"40\" height=\"18\" overflow=\"visible\" width=\"30\">    <path d=\"M 0 -9 l 6 18 L 0 25\" fill=\"none\" style=\"stroke:rgb(255.0, 0.0, 81.08083606031792);stroke-width:2\" />  </svg></g><g transform=\"translate(6,0)\">  <svg x=\"50.9296654004816%\" y=\"40\" height=\"18\" overflow=\"visible\" width=\"30\">    <path d=\"M 0 -9 l 6 18 L 0 25\" fill=\"none\" style=\"stroke:rgb(255.0, 0.0, 81.08083606031792);stroke-width:2\" />  </svg></g><g transform=\"translate(-8,0)\">  <svg x=\"50.9296654004816%\" y=\"40\" height=\"18\" overflow=\"visible\" width=\"30\">    <path d=\"M 0 -9 l 6 18 L 0 25\" fill=\"none\" style=\"stroke:rgb(255.0, 0.0, 81.08083606031792);stroke-width:2\" />  </svg></g><g transform=\"translate(-6,0)\">  <svg x=\"50.9296654004816%\" y=\"40\" height=\"18\" overflow=\"visible\" width=\"30\">    <path d=\"M 0 -9 l 6 18 L 0 25\" fill=\"none\" style=\"stroke:rgb(255.0, 0.0, 81.08083606031792);stroke-width:2\" />  </svg></g><g transform=\"translate(-4,0)\">  <svg x=\"50.9296654004816%\" y=\"40\" height=\"18\" overflow=\"visible\" width=\"30\">    <path d=\"M 0 -9 l 6 18 L 0 25\" fill=\"none\" style=\"stroke:rgb(255.0, 0.0, 81.08083606031792);stroke-width:2\" />  </svg></g><g transform=\"translate(-2,0)\">  <svg x=\"50.9296654004816%\" y=\"40\" height=\"18\" overflow=\"visible\" width=\"30\">    <path d=\"M 0 -9 l 6 18 L 0 25\" fill=\"none\" style=\"stroke:rgb(255.0, 0.0, 81.08083606031792);stroke-width:2\" />  </svg></g><g transform=\"translate(0,0)\">  <svg x=\"50.389784186576215%\" y=\"40\" height=\"18\" overflow=\"visible\" width=\"30\">    <path d=\"M 0 -9 l 6 18 L 0 25\" fill=\"none\" style=\"stroke:rgb(255.0, 0.0, 81.08083606031792);stroke-width:2\" />  </svg></g><g transform=\"translate(2,0)\">  <svg x=\"50.389784186576215%\" y=\"40\" height=\"18\" overflow=\"visible\" width=\"30\">    <path d=\"M 0 -9 l 6 18 L 0 25\" fill=\"none\" style=\"stroke:rgb(255.0, 0.0, 81.08083606031792);stroke-width:2\" />  </svg></g><g transform=\"translate(4,0)\">  <svg x=\"50.389784186576215%\" y=\"40\" height=\"18\" overflow=\"visible\" width=\"30\">    <path d=\"M 0 -9 l 6 18 L 0 25\" fill=\"none\" style=\"stroke:rgb(255.0, 0.0, 81.08083606031792);stroke-width:2\" />  </svg></g><g transform=\"translate(6,0)\">  <svg x=\"50.389784186576215%\" y=\"40\" height=\"18\" overflow=\"visible\" width=\"30\">    <path d=\"M 0 -9 l 6 18 L 0 25\" fill=\"none\" style=\"stroke:rgb(255.0, 0.0, 81.08083606031792);stroke-width:2\" />  </svg></g><g transform=\"translate(-8,0)\">  <svg x=\"50.389784186576215%\" y=\"40\" height=\"18\" overflow=\"visible\" width=\"30\">    <path d=\"M 0 -9 l 6 18 L 0 25\" fill=\"none\" style=\"stroke:rgb(255.0, 0.0, 81.08083606031792);stroke-width:2\" />  </svg></g><g transform=\"translate(-6,0)\">  <svg x=\"50.389784186576215%\" y=\"40\" height=\"18\" overflow=\"visible\" width=\"30\">    <path d=\"M 0 -9 l 6 18 L 0 25\" fill=\"none\" style=\"stroke:rgb(255.0, 0.0, 81.08083606031792);stroke-width:2\" />  </svg></g><g transform=\"translate(-4,0)\">  <svg x=\"50.389784186576215%\" y=\"40\" height=\"18\" overflow=\"visible\" width=\"30\">    <path d=\"M 0 -9 l 6 18 L 0 25\" fill=\"none\" style=\"stroke:rgb(255.0, 0.0, 81.08083606031792);stroke-width:2\" />  </svg></g><g transform=\"translate(-2,0)\">  <svg x=\"50.389784186576215%\" y=\"40\" height=\"18\" overflow=\"visible\" width=\"30\">    <path d=\"M 0 -9 l 6 18 L 0 25\" fill=\"none\" style=\"stroke:rgb(255.0, 0.0, 81.08083606031792);stroke-width:2\" />  </svg></g><g transform=\"translate(0,0)\">  <svg x=\"50.38978366884993%\" y=\"40\" height=\"18\" overflow=\"visible\" width=\"30\">    <path d=\"M 0 -9 l 6 18 L 0 25\" fill=\"none\" style=\"stroke:rgb(255.0, 0.0, 81.08083606031792);stroke-width:2\" />  </svg></g><g transform=\"translate(2,0)\">  <svg x=\"50.38978366884993%\" y=\"40\" height=\"18\" overflow=\"visible\" width=\"30\">    <path d=\"M 0 -9 l 6 18 L 0 25\" fill=\"none\" style=\"stroke:rgb(255.0, 0.0, 81.08083606031792);stroke-width:2\" />  </svg></g><g transform=\"translate(4,0)\">  <svg x=\"50.38978366884993%\" y=\"40\" height=\"18\" overflow=\"visible\" width=\"30\">    <path d=\"M 0 -9 l 6 18 L 0 25\" fill=\"none\" style=\"stroke:rgb(255.0, 0.0, 81.08083606031792);stroke-width:2\" />  </svg></g><g transform=\"translate(6,0)\">  <svg x=\"50.38978366884993%\" y=\"40\" height=\"18\" overflow=\"visible\" width=\"30\">    <path d=\"M 0 -9 l 6 18 L 0 25\" fill=\"none\" style=\"stroke:rgb(255.0, 0.0, 81.08083606031792);stroke-width:2\" />  </svg></g><g transform=\"translate(-8,0)\">  <svg x=\"50.38978366884993%\" y=\"40\" height=\"18\" overflow=\"visible\" width=\"30\">    <path d=\"M 0 -9 l 6 18 L 0 25\" fill=\"none\" style=\"stroke:rgb(255.0, 0.0, 81.08083606031792);stroke-width:2\" />  </svg></g><g transform=\"translate(-6,0)\">  <svg x=\"50.38978366884993%\" y=\"40\" height=\"18\" overflow=\"visible\" width=\"30\">    <path d=\"M 0 -9 l 6 18 L 0 25\" fill=\"none\" style=\"stroke:rgb(255.0, 0.0, 81.08083606031792);stroke-width:2\" />  </svg></g><g transform=\"translate(-4,0)\">  <svg x=\"50.38978366884993%\" y=\"40\" height=\"18\" overflow=\"visible\" width=\"30\">    <path d=\"M 0 -9 l 6 18 L 0 25\" fill=\"none\" style=\"stroke:rgb(255.0, 0.0, 81.08083606031792);stroke-width:2\" />  </svg></g><g transform=\"translate(-2,0)\">  <svg x=\"50.38978366884993%\" y=\"40\" height=\"18\" overflow=\"visible\" width=\"30\">    <path d=\"M 0 -9 l 6 18 L 0 25\" fill=\"none\" style=\"stroke:rgb(255.0, 0.0, 81.08083606031792);stroke-width:2\" />  </svg></g><rect transform=\"translate(-8,0)\" x=\"94.28194625788237%\" y=\"40\" width=\"8\" height=\"18\" style=\"fill:rgb(255.0, 0.0, 81.08083606031792)\"/><g transform=\"translate(-11.5,0)\">  <svg x=\"50.389783325523815%\" y=\"40\" height=\"18\" overflow=\"visible\" width=\"30\">    <path d=\"M 10 -9 l 6 18 L 10 25 L 0 25 L 0 -9\" fill=\"#ffffff\" style=\"stroke:rgb(255,255,255);stroke-width:2\" />  </svg></g><g transform=\"translate(-1.5,0)\">  <svg x=\"94.28194625788237%\" y=\"40\" height=\"18\" overflow=\"visible\" width=\"30\">    <path d=\"M 0 -9 l 6 18 L 0 25\" fill=\"none\" style=\"stroke:rgb(255, 195, 213);stroke-width:2\" />  </svg></g><rect x=\"68.60261435356718%\" y=\"40\" height=\"20\" width=\"25.67933190431519%\"      onmouseover=\"document.getElementById('_tp_jaszzrjjrrcgjnvnavln_ind_7').style.textDecoration = 'underline';document.getElementById('_fs_jaszzrjjrrcgjnvnavln_ind_7').style.opacity = 1;document.getElementById('_fb_jaszzrjjrrcgjnvnavln_ind_7').style.opacity = 1;\"      onmouseout=\"document.getElementById('_tp_jaszzrjjrrcgjnvnavln_ind_7').style.textDecoration = 'none';document.getElementById('_fs_jaszzrjjrrcgjnvnavln_ind_7').style.opacity = 0;document.getElementById('_fb_jaszzrjjrrcgjnvnavln_ind_7').style.opacity = 0;\" style=\"fill:rgb(0,0,0,0)\" /><g transform=\"translate(-1.5,0)\">  <svg x=\"68.60261435356718%\" y=\"40\" height=\"18\" overflow=\"visible\" width=\"30\">    <path d=\"M 0 -9 l 6 18 L 0 25\" fill=\"none\" style=\"stroke:rgb(255, 195, 213);stroke-width:2\" />  </svg></g><rect x=\"59.78200936130085%\" y=\"40\" height=\"20\" width=\"8.820604992266325%\"      onmouseover=\"document.getElementById('_tp_jaszzrjjrrcgjnvnavln_ind_6').style.textDecoration = 'underline';document.getElementById('_fs_jaszzrjjrrcgjnvnavln_ind_6').style.opacity = 1;document.getElementById('_fb_jaszzrjjrrcgjnvnavln_ind_6').style.opacity = 1;\"      onmouseout=\"document.getElementById('_tp_jaszzrjjrrcgjnvnavln_ind_6').style.textDecoration = 'none';document.getElementById('_fs_jaszzrjjrrcgjnvnavln_ind_6').style.opacity = 0;document.getElementById('_fb_jaszzrjjrrcgjnvnavln_ind_6').style.opacity = 0;\" style=\"fill:rgb(0,0,0,0)\" /><g transform=\"translate(-1.5,0)\">  <svg x=\"59.78200936130085%\" y=\"40\" height=\"18\" overflow=\"visible\" width=\"30\">    <path d=\"M 0 -9 l 6 18 L 0 25\" fill=\"none\" style=\"stroke:rgb(255, 195, 213);stroke-width:2\" />  </svg></g><rect x=\"55.7551788429861%\" y=\"40\" height=\"20\" width=\"4.026830518314753%\"      onmouseover=\"document.getElementById('_tp_jaszzrjjrrcgjnvnavln_ind_8').style.textDecoration = 'underline';document.getElementById('_fs_jaszzrjjrrcgjnvnavln_ind_8').style.opacity = 1;document.getElementById('_fb_jaszzrjjrrcgjnvnavln_ind_8').style.opacity = 1;\"      onmouseout=\"document.getElementById('_tp_jaszzrjjrrcgjnvnavln_ind_8').style.textDecoration = 'none';document.getElementById('_fs_jaszzrjjrrcgjnvnavln_ind_8').style.opacity = 0;document.getElementById('_fb_jaszzrjjrrcgjnvnavln_ind_8').style.opacity = 0;\" style=\"fill:rgb(0,0,0,0)\" /><g transform=\"translate(-1.5,0)\">  <svg x=\"55.7551788429861%\" y=\"40\" height=\"18\" overflow=\"visible\" width=\"30\">    <path d=\"M 0 -9 l 6 18 L 0 25\" fill=\"none\" style=\"stroke:rgb(255, 195, 213);stroke-width:2\" />  </svg></g><rect x=\"51.8680111490196%\" y=\"40\" height=\"20\" width=\"3.8871676939664965%\"      onmouseover=\"document.getElementById('_tp_jaszzrjjrrcgjnvnavln_ind_4').style.textDecoration = 'underline';document.getElementById('_fs_jaszzrjjrrcgjnvnavln_ind_4').style.opacity = 1;document.getElementById('_fb_jaszzrjjrrcgjnvnavln_ind_4').style.opacity = 1;\"      onmouseout=\"document.getElementById('_tp_jaszzrjjrrcgjnvnavln_ind_4').style.textDecoration = 'none';document.getElementById('_fs_jaszzrjjrrcgjnvnavln_ind_4').style.opacity = 0;document.getElementById('_fb_jaszzrjjrrcgjnvnavln_ind_4').style.opacity = 0;\" style=\"fill:rgb(0,0,0,0)\" /><g transform=\"translate(-1.5,0)\">  <svg x=\"51.8680111490196%\" y=\"40\" height=\"18\" overflow=\"visible\" width=\"30\">    <path d=\"M 0 -9 l 6 18 L 0 25\" fill=\"none\" style=\"stroke:rgb(255, 195, 213);stroke-width:2\" />  </svg></g><rect x=\"50.9296654004816%\" y=\"40\" height=\"20\" width=\"0.9383457485379978%\"      onmouseover=\"document.getElementById('_tp_jaszzrjjrrcgjnvnavln_ind_2').style.textDecoration = 'underline';document.getElementById('_fs_jaszzrjjrrcgjnvnavln_ind_2').style.opacity = 1;document.getElementById('_fb_jaszzrjjrrcgjnvnavln_ind_2').style.opacity = 1;\"      onmouseout=\"document.getElementById('_tp_jaszzrjjrrcgjnvnavln_ind_2').style.textDecoration = 'none';document.getElementById('_fs_jaszzrjjrrcgjnvnavln_ind_2').style.opacity = 0;document.getElementById('_fb_jaszzrjjrrcgjnvnavln_ind_2').style.opacity = 0;\" style=\"fill:rgb(0,0,0,0)\" /><g transform=\"translate(-1.5,0)\">  <svg x=\"50.9296654004816%\" y=\"40\" height=\"18\" overflow=\"visible\" width=\"30\">    <path d=\"M 0 -9 l 6 18 L 0 25\" fill=\"none\" style=\"stroke:rgb(255, 195, 213);stroke-width:2\" />  </svg></g><rect x=\"50.389784186576215%\" y=\"40\" height=\"20\" width=\"0.5398812139053888%\"      onmouseover=\"document.getElementById('_tp_jaszzrjjrrcgjnvnavln_ind_5').style.textDecoration = 'underline';document.getElementById('_fs_jaszzrjjrrcgjnvnavln_ind_5').style.opacity = 1;document.getElementById('_fb_jaszzrjjrrcgjnvnavln_ind_5').style.opacity = 1;\"      onmouseout=\"document.getElementById('_tp_jaszzrjjrrcgjnvnavln_ind_5').style.textDecoration = 'none';document.getElementById('_fs_jaszzrjjrrcgjnvnavln_ind_5').style.opacity = 0;document.getElementById('_fb_jaszzrjjrrcgjnvnavln_ind_5').style.opacity = 0;\" style=\"fill:rgb(0,0,0,0)\" /><g transform=\"translate(-1.5,0)\">  <svg x=\"50.389784186576215%\" y=\"40\" height=\"18\" overflow=\"visible\" width=\"30\">    <path d=\"M 0 -9 l 6 18 L 0 25\" fill=\"none\" style=\"stroke:rgb(255, 195, 213);stroke-width:2\" />  </svg></g><rect x=\"50.38978366884993%\" y=\"40\" height=\"20\" width=\"5.177262849542785e-07%\"      onmouseover=\"document.getElementById('_tp_jaszzrjjrrcgjnvnavln_ind_0').style.textDecoration = 'underline';document.getElementById('_fs_jaszzrjjrrcgjnvnavln_ind_0').style.opacity = 1;document.getElementById('_fb_jaszzrjjrrcgjnvnavln_ind_0').style.opacity = 1;\"      onmouseout=\"document.getElementById('_tp_jaszzrjjrrcgjnvnavln_ind_0').style.textDecoration = 'none';document.getElementById('_fs_jaszzrjjrrcgjnvnavln_ind_0').style.opacity = 0;document.getElementById('_fb_jaszzrjjrrcgjnvnavln_ind_0').style.opacity = 0;\" style=\"fill:rgb(0,0,0,0)\" /><rect x=\"50.389783325523815%\" y=\"40\" height=\"20\" width=\"3.4332611420495596e-07%\"      onmouseover=\"document.getElementById('_tp_jaszzrjjrrcgjnvnavln_ind_9').style.textDecoration = 'underline';document.getElementById('_fs_jaszzrjjrrcgjnvnavln_ind_9').style.opacity = 1;document.getElementById('_fb_jaszzrjjrrcgjnvnavln_ind_9').style.opacity = 1;\"      onmouseout=\"document.getElementById('_tp_jaszzrjjrrcgjnvnavln_ind_9').style.textDecoration = 'none';document.getElementById('_fs_jaszzrjjrrcgjnvnavln_ind_9').style.opacity = 0;document.getElementById('_fb_jaszzrjjrrcgjnvnavln_ind_9').style.opacity = 0;\" style=\"fill:rgb(0,0,0,0)\" /><rect x=\"94.28194625788237%\" width=\"1.2080303031253061%\" y=\"40\" height=\"18\" style=\"fill:rgb(0.0, 138.56128015770727, 250.76166088685727); stroke-width:0; stroke:rgb(0,0,0)\" /><line x1=\"94.28194625788237%\" x2=\"94.8983705236676%\" y1=\"60\" y2=\"60\" id=\"_fb_jaszzrjjrrcgjnvnavln_ind_3\" style=\"stroke:rgb(0.0, 138.56128015770727, 250.76166088685727);stroke-width:2; opacity: 0\"/><text x=\"94.59015839077497%\" y=\"71\" font-size=\"12px\" fill=\"rgb(0.0, 138.56128015770727, 250.76166088685727)\" id=\"_fs_jaszzrjjrrcgjnvnavln_ind_3\" style=\"opacity: 0\" dominant-baseline=\"middle\" text-anchor=\"middle\">-0.001</text><svg x=\"94.28194625788237%\" y=\"40\" height=\"20\" width=\"0.616424265785227%\">  <svg x=\"0\" y=\"0\" width=\"100%\" height=\"100%\">    <text x=\"50%\" y=\"9\" font-size=\"12px\" fill=\"rgb(255,255,255)\" dominant-baseline=\"middle\" text-anchor=\"middle\">Mu</text>  </svg></svg><line x1=\"94.8983705236676%\" x2=\"95.48997656100767%\" y1=\"60\" y2=\"60\" id=\"_fb_jaszzrjjrrcgjnvnavln_ind_1\" style=\"stroke:rgb(0.0, 138.56128015770727, 250.76166088685727);stroke-width:2; opacity: 0\"/><text x=\"95.19417354233764%\" y=\"71\" font-size=\"12px\" fill=\"rgb(0.0, 138.56128015770727, 250.76166088685727)\" id=\"_fs_jaszzrjjrrcgjnvnavln_ind_1\" style=\"opacity: 0\" dominant-baseline=\"middle\" text-anchor=\"middle\">-0.001</text><svg x=\"94.8983705236676%\" y=\"40\" height=\"20\" width=\"0.5916060373400711%\">  <svg x=\"0\" y=\"0\" width=\"100%\" height=\"100%\">    <text x=\"50%\" y=\"9\" font-size=\"12px\" fill=\"rgb(255,255,255)\" dominant-baseline=\"middle\" text-anchor=\"middle\">El</text>  </svg></svg><g transform=\"translate(-8,0)\">  <svg x=\"94.8983705236676%\" y=\"40\" height=\"18\" overflow=\"visible\" width=\"30\">    <path d=\"M 8 -9 l -6 18 L 8 25\" fill=\"none\" style=\"stroke:rgb(0.0, 138.56128015770727, 250.76166088685727);stroke-width:2\" />  </svg></g><g transform=\"translate(-10,0)\">  <svg x=\"94.8983705236676%\" y=\"40\" height=\"18\" overflow=\"visible\" width=\"30\">    <path d=\"M 8 -9 l -6 18 L 8 25\" fill=\"none\" style=\"stroke:rgb(0.0, 138.56128015770727, 250.76166088685727);stroke-width:2\" />  </svg></g><g transform=\"translate(-12,0)\">  <svg x=\"94.8983705236676%\" y=\"40\" height=\"18\" overflow=\"visible\" width=\"30\">    <path d=\"M 8 -9 l -6 18 L 8 25\" fill=\"none\" style=\"stroke:rgb(0.0, 138.56128015770727, 250.76166088685727);stroke-width:2\" />  </svg></g><g transform=\"translate(-14,0)\">  <svg x=\"94.8983705236676%\" y=\"40\" height=\"18\" overflow=\"visible\" width=\"30\">    <path d=\"M 8 -9 l -6 18 L 8 25\" fill=\"none\" style=\"stroke:rgb(0.0, 138.56128015770727, 250.76166088685727);stroke-width:2\" />  </svg></g><g transform=\"translate(2,0)\">  <svg x=\"94.8983705236676%\" y=\"40\" height=\"18\" overflow=\"visible\" width=\"30\">    <path d=\"M 8 -9 l -6 18 L 8 25\" fill=\"none\" style=\"stroke:rgb(0.0, 138.56128015770727, 250.76166088685727);stroke-width:2\" />  </svg></g><g transform=\"translate(0,0)\">  <svg x=\"94.8983705236676%\" y=\"40\" height=\"18\" overflow=\"visible\" width=\"30\">    <path d=\"M 8 -9 l -6 18 L 8 25\" fill=\"none\" style=\"stroke:rgb(0.0, 138.56128015770727, 250.76166088685727);stroke-width:2\" />  </svg></g><g transform=\"translate(-2,0)\">  <svg x=\"94.8983705236676%\" y=\"40\" height=\"18\" overflow=\"visible\" width=\"30\">    <path d=\"M 8 -9 l -6 18 L 8 25\" fill=\"none\" style=\"stroke:rgb(0.0, 138.56128015770727, 250.76166088685727);stroke-width:2\" />  </svg></g><g transform=\"translate(-4,0)\">  <svg x=\"94.8983705236676%\" y=\"40\" height=\"18\" overflow=\"visible\" width=\"30\">    <path d=\"M 8 -9 l -6 18 L 8 25\" fill=\"none\" style=\"stroke:rgb(0.0, 138.56128015770727, 250.76166088685727);stroke-width:2\" />  </svg></g><rect transform=\"translate(0,0)\" x=\"94.28194625788237%\" y=\"40\" width=\"8\" height=\"18\" style=\"fill:rgb(0.0, 138.56128015770727, 250.76166088685727)\"/><g transform=\"translate(-6.0,0)\">  <svg x=\"95.48997656100767%\" y=\"40\" height=\"18\" overflow=\"visible\" width=\"30\">    <path d=\"M 8 -9 l -6 18 L 8 25 L 20 25 L 20 -9\" fill=\"#ffffff\" style=\"stroke:rgb(255,255,255);stroke-width:2\" />  </svg></g><g transform=\"translate(-6.0,0)\">  <svg x=\"94.8983705236676%\" y=\"40\" height=\"18\" overflow=\"visible\" width=\"30\">    <path d=\"M 8 -9 l -6 18 L 8 25\" fill=\"none\" style=\"stroke:rgb(208, 230, 250);stroke-width:2\" />  </svg></g><rect x=\"94.28194625788237%\" y=\"40\" height=\"20\" width=\"0.616424265785227%\"      onmouseover=\"document.getElementById('_tp_jaszzrjjrrcgjnvnavln_ind_3').style.textDecoration = 'underline';document.getElementById('_fs_jaszzrjjrrcgjnvnavln_ind_3').style.opacity = 1;document.getElementById('_fb_jaszzrjjrrcgjnvnavln_ind_3').style.opacity = 1;\"      onmouseout=\"document.getElementById('_tp_jaszzrjjrrcgjnvnavln_ind_3').style.textDecoration = 'none';document.getElementById('_fs_jaszzrjjrrcgjnvnavln_ind_3').style.opacity = 0;document.getElementById('_fb_jaszzrjjrrcgjnvnavln_ind_3').style.opacity = 0;\" style=\"fill:rgb(0,0,0,0)\" /><rect x=\"94.8983705236676%\" y=\"40\" height=\"20\" width=\"0.5916060373400711%\"      onmouseover=\"document.getElementById('_tp_jaszzrjjrrcgjnvnavln_ind_1').style.textDecoration = 'underline';document.getElementById('_fs_jaszzrjjrrcgjnvnavln_ind_1').style.opacity = 1;document.getElementById('_fb_jaszzrjjrrcgjnvnavln_ind_1').style.opacity = 1;\"      onmouseout=\"document.getElementById('_tp_jaszzrjjrrcgjnvnavln_ind_1').style.textDecoration = 'none';document.getElementById('_fs_jaszzrjjrrcgjnvnavln_ind_1').style.opacity = 0;document.getElementById('_fb_jaszzrjjrrcgjnvnavln_ind_1').style.opacity = 0;\" style=\"fill:rgb(0,0,0,0)\" /></svg><div align='center'><div style=\"color: rgb(120,120,120); font-size: 12px; margin-top: -15px;\">inputs</div><div style='display: inline; text-align: center;'\n",
       "    ><div style='display: none; color: #999; padding-top: 0px; font-size: 12px;'>0.0</div\n",
       "        ><div id='_tp_jaszzrjjrrcgjnvnavln_ind_0'\n",
       "            style='display: inline; background: rgba(230.2941176470614, 26.505882352939775, 102.59215686274348, 0.0); border-radius: 3px; padding: 0px'\n",
       "            onclick=\"\n",
       "            if (this.previousSibling.style.display == 'none') {\n",
       "                this.previousSibling.style.display = 'block';\n",
       "                this.parentNode.style.display = 'inline-block';\n",
       "            } else {\n",
       "                this.previousSibling.style.display = 'none';\n",
       "                this.parentNode.style.display = 'inline';\n",
       "            }\"\n",
       "            onmouseover=\"document.getElementById('_fb_jaszzrjjrrcgjnvnavln_ind_0').style.opacity = 1; document.getElementById('_fs_jaszzrjjrrcgjnvnavln_ind_0').style.opacity = 1;\"\n",
       "            onmouseout=\"document.getElementById('_fb_jaszzrjjrrcgjnvnavln_ind_0').style.opacity = 0; document.getElementById('_fs_jaszzrjjrrcgjnvnavln_ind_0').style.opacity = 0;\"\n",
       "        ></div></div><div style='display: inline; text-align: center;'\n",
       "    ><div style='display: none; color: #999; padding-top: 0px; font-size: 12px;'>-0.001</div\n",
       "        ><div id='_tp_jaszzrjjrrcgjnvnavln_ind_1'\n",
       "            style='display: inline; background: rgba(30.0, 136.0, 229.0, 0.014656367597544028); border-radius: 3px; padding: 0px'\n",
       "            onclick=\"\n",
       "            if (this.previousSibling.style.display == 'none') {\n",
       "                this.previousSibling.style.display = 'block';\n",
       "                this.parentNode.style.display = 'inline-block';\n",
       "            } else {\n",
       "                this.previousSibling.style.display = 'none';\n",
       "                this.parentNode.style.display = 'inline';\n",
       "            }\"\n",
       "            onmouseover=\"document.getElementById('_fb_jaszzrjjrrcgjnvnavln_ind_1').style.opacity = 1; document.getElementById('_fs_jaszzrjjrrcgjnvnavln_ind_1').style.opacity = 1;\"\n",
       "            onmouseout=\"document.getElementById('_fb_jaszzrjjrrcgjnvnavln_ind_1').style.opacity = 0; document.getElementById('_fs_jaszzrjjrrcgjnvnavln_ind_1').style.opacity = 0;\"\n",
       "        >El</div></div><div style='display: inline; text-align: center;'\n",
       "    ><div style='display: none; color: #999; padding-top: 0px; font-size: 12px;'>0.002</div\n",
       "        ><div id='_tp_jaszzrjjrrcgjnvnavln_ind_2'\n",
       "            style='display: inline; background: rgba(255.0, 13.0, 87.0, 0.030421865715983164); border-radius: 3px; padding: 0px'\n",
       "            onclick=\"\n",
       "            if (this.previousSibling.style.display == 'none') {\n",
       "                this.previousSibling.style.display = 'block';\n",
       "                this.parentNode.style.display = 'inline-block';\n",
       "            } else {\n",
       "                this.previousSibling.style.display = 'none';\n",
       "                this.parentNode.style.display = 'inline';\n",
       "            }\"\n",
       "            onmouseover=\"document.getElementById('_fb_jaszzrjjrrcgjnvnavln_ind_2').style.opacity = 1; document.getElementById('_fs_jaszzrjjrrcgjnvnavln_ind_2').style.opacity = 1;\"\n",
       "            onmouseout=\"document.getElementById('_fb_jaszzrjjrrcgjnvnavln_ind_2').style.opacity = 0; document.getElementById('_fs_jaszzrjjrrcgjnvnavln_ind_2').style.opacity = 0;\"\n",
       "        >on </div></div><div style='display: inline; text-align: center;'\n",
       "    ><div style='display: none; color: #999; padding-top: 0px; font-size: 12px;'>-0.001</div\n",
       "        ><div id='_tp_jaszzrjjrrcgjnvnavln_ind_3'\n",
       "            style='display: inline; background: rgba(30.0, 136.0, 229.0, 0.022539116656763607); border-radius: 3px; padding: 0px'\n",
       "            onclick=\"\n",
       "            if (this.previousSibling.style.display == 'none') {\n",
       "                this.previousSibling.style.display = 'block';\n",
       "                this.parentNode.style.display = 'inline-block';\n",
       "            } else {\n",
       "                this.previousSibling.style.display = 'none';\n",
       "                this.parentNode.style.display = 'inline';\n",
       "            }\"\n",
       "            onmouseover=\"document.getElementById('_fb_jaszzrjjrrcgjnvnavln_ind_3').style.opacity = 1; document.getElementById('_fs_jaszzrjjrrcgjnvnavln_ind_3').style.opacity = 1;\"\n",
       "            onmouseout=\"document.getElementById('_fb_jaszzrjjrrcgjnvnavln_ind_3').style.opacity = 0; document.getElementById('_fs_jaszzrjjrrcgjnvnavln_ind_3').style.opacity = 0;\"\n",
       "        >Mu</div></div><div style='display: inline; text-align: center;'\n",
       "    ><div style='display: none; color: #999; padding-top: 0px; font-size: 12px;'>0.009</div\n",
       "        ><div id='_tp_jaszzrjjrrcgjnvnavln_ind_4'\n",
       "            style='display: inline; background: rgba(255.0, 13.0, 87.0, 0.14866310160427795); border-radius: 3px; padding: 0px'\n",
       "            onclick=\"\n",
       "            if (this.previousSibling.style.display == 'none') {\n",
       "                this.previousSibling.style.display = 'block';\n",
       "                this.parentNode.style.display = 'inline-block';\n",
       "            } else {\n",
       "                this.previousSibling.style.display = 'none';\n",
       "                this.parentNode.style.display = 'inline';\n",
       "            }\"\n",
       "            onmouseover=\"document.getElementById('_fb_jaszzrjjrrcgjnvnavln_ind_4').style.opacity = 1; document.getElementById('_fs_jaszzrjjrrcgjnvnavln_ind_4').style.opacity = 1;\"\n",
       "            onmouseout=\"document.getElementById('_fb_jaszzrjjrrcgjnvnavln_ind_4').style.opacity = 0; document.getElementById('_fs_jaszzrjjrrcgjnvnavln_ind_4').style.opacity = 0;\"\n",
       "        >sk </div></div><div style='display: inline; text-align: center;'\n",
       "    ><div style='display: none; color: #999; padding-top: 0px; font-size: 12px;'>0.001</div\n",
       "        ><div id='_tp_jaszzrjjrrcgjnvnavln_ind_5'\n",
       "            style='display: inline; background: rgba(255.0, 13.0, 87.0, 0.014656367597544035); border-radius: 3px; padding: 0px'\n",
       "            onclick=\"\n",
       "            if (this.previousSibling.style.display == 'none') {\n",
       "                this.previousSibling.style.display = 'block';\n",
       "                this.parentNode.style.display = 'inline-block';\n",
       "            } else {\n",
       "                this.previousSibling.style.display = 'none';\n",
       "                this.parentNode.style.display = 'inline';\n",
       "            }\"\n",
       "            onmouseover=\"document.getElementById('_fb_jaszzrjjrrcgjnvnavln_ind_5').style.opacity = 1; document.getElementById('_fs_jaszzrjjrrcgjnvnavln_ind_5').style.opacity = 1;\"\n",
       "            onmouseout=\"document.getElementById('_fb_jaszzrjjrrcgjnvnavln_ind_5').style.opacity = 0; document.getElementById('_fs_jaszzrjjrrcgjnvnavln_ind_5').style.opacity = 0;\"\n",
       "        >likes </div></div><div style='display: inline; text-align: center;'\n",
       "    ><div style='display: none; color: #999; padding-top: 0px; font-size: 12px;'>0.021</div\n",
       "        ><div id='_tp_jaszzrjjrrcgjnvnavln_ind_6'\n",
       "            style='display: inline; background: rgba(255.0, 13.0, 87.0, 0.33784907902554967); border-radius: 3px; padding: 0px'\n",
       "            onclick=\"\n",
       "            if (this.previousSibling.style.display == 'none') {\n",
       "                this.previousSibling.style.display = 'block';\n",
       "                this.parentNode.style.display = 'inline-block';\n",
       "            } else {\n",
       "                this.previousSibling.style.display = 'none';\n",
       "                this.parentNode.style.display = 'inline';\n",
       "            }\"\n",
       "            onmouseover=\"document.getElementById('_fb_jaszzrjjrrcgjnvnavln_ind_6').style.opacity = 1; document.getElementById('_fs_jaszzrjjrrcgjnvnavln_ind_6').style.opacity = 1;\"\n",
       "            onmouseout=\"document.getElementById('_fb_jaszzrjjrrcgjnvnavln_ind_6').style.opacity = 0; document.getElementById('_fs_jaszzrjjrrcgjnvnavln_ind_6').style.opacity = 0;\"\n",
       "        >launching </div></div><div style='display: inline; text-align: center;'\n",
       "    ><div style='display: none; color: #999; padding-top: 0px; font-size: 12px;'>0.062</div\n",
       "        ><div id='_tp_jaszzrjjrrcgjnvnavln_ind_7'\n",
       "            style='display: inline; background: rgba(255.0, 13.0, 87.0, 1.0); border-radius: 3px; padding: 0px'\n",
       "            onclick=\"\n",
       "            if (this.previousSibling.style.display == 'none') {\n",
       "                this.previousSibling.style.display = 'block';\n",
       "                this.parentNode.style.display = 'inline-block';\n",
       "            } else {\n",
       "                this.previousSibling.style.display = 'none';\n",
       "                this.parentNode.style.display = 'inline';\n",
       "            }\"\n",
       "            onmouseover=\"document.getElementById('_fb_jaszzrjjrrcgjnvnavln_ind_7').style.opacity = 1; document.getElementById('_fs_jaszzrjjrrcgjnvnavln_ind_7').style.opacity = 1;\"\n",
       "            onmouseout=\"document.getElementById('_fb_jaszzrjjrrcgjnvnavln_ind_7').style.opacity = 0; document.getElementById('_fs_jaszzrjjrrcgjnvnavln_ind_7').style.opacity = 0;\"\n",
       "        >satellites</div></div><div style='display: inline; text-align: center;'\n",
       "    ><div style='display: none; color: #999; padding-top: 0px; font-size: 12px;'>0.01</div\n",
       "        ><div id='_tp_jaszzrjjrrcgjnvnavln_ind_8'\n",
       "            style='display: inline; background: rgba(255.0, 13.0, 87.0, 0.15654585066349747); border-radius: 3px; padding: 0px'\n",
       "            onclick=\"\n",
       "            if (this.previousSibling.style.display == 'none') {\n",
       "                this.previousSibling.style.display = 'block';\n",
       "                this.parentNode.style.display = 'inline-block';\n",
       "            } else {\n",
       "                this.previousSibling.style.display = 'none';\n",
       "                this.parentNode.style.display = 'inline';\n",
       "            }\"\n",
       "            onmouseover=\"document.getElementById('_fb_jaszzrjjrrcgjnvnavln_ind_8').style.opacity = 1; document.getElementById('_fs_jaszzrjjrrcgjnvnavln_ind_8').style.opacity = 1;\"\n",
       "            onmouseout=\"document.getElementById('_fb_jaszzrjjrrcgjnvnavln_ind_8').style.opacity = 0; document.getElementById('_fs_jaszzrjjrrcgjnvnavln_ind_8').style.opacity = 0;\"\n",
       "        >.</div></div><div style='display: inline; text-align: center;'\n",
       "    ><div style='display: none; color: #999; padding-top: 0px; font-size: 12px;'>0.0</div\n",
       "        ><div id='_tp_jaszzrjjrrcgjnvnavln_ind_9'\n",
       "            style='display: inline; background: rgba(230.2941176470614, 26.505882352939775, 102.59215686274348, 0.0); border-radius: 3px; padding: 0px'\n",
       "            onclick=\"\n",
       "            if (this.previousSibling.style.display == 'none') {\n",
       "                this.previousSibling.style.display = 'block';\n",
       "                this.parentNode.style.display = 'inline-block';\n",
       "            } else {\n",
       "                this.previousSibling.style.display = 'none';\n",
       "                this.parentNode.style.display = 'inline';\n",
       "            }\"\n",
       "            onmouseover=\"document.getElementById('_fb_jaszzrjjrrcgjnvnavln_ind_9').style.opacity = 1; document.getElementById('_fs_jaszzrjjrrcgjnvnavln_ind_9').style.opacity = 1;\"\n",
       "            onmouseout=\"document.getElementById('_fb_jaszzrjjrrcgjnvnavln_ind_9').style.opacity = 0; document.getElementById('_fs_jaszzrjjrrcgjnvnavln_ind_9').style.opacity = 0;\"\n",
       "        ></div></div></div></div><div id='_tp_bxnczycldiqesbevkkpm_output_0_zoom' style='display: none;'><svg width=\"100%\" height=\"80px\"><line x1=\"0\" y1=\"33\" x2=\"100%\" y2=\"33\" style=\"stroke:rgb(150,150,150);stroke-width:1\" /><line x1=\"53.238676828913974%\" y1=\"33\" x2=\"53.238676828913974%\" y2=\"37\" style=\"stroke:rgb(150,150,150);stroke-width:1\" /><text x=\"53.238676828913974%\" y=\"27\" font-size=\"12px\" fill=\"rgb(120,120,120)\" dominant-baseline=\"bottom\" text-anchor=\"middle\">0.56</text><line x1=\"38.030155070907995%\" y1=\"33\" x2=\"38.030155070907995%\" y2=\"37\" style=\"stroke:rgb(150,150,150);stroke-width:1\" /><text x=\"38.030155070907995%\" y=\"27\" font-size=\"12px\" fill=\"rgb(120,120,120)\" dominant-baseline=\"bottom\" text-anchor=\"middle\">0.54</text><line x1=\"22.821633312902012%\" y1=\"33\" x2=\"22.821633312902012%\" y2=\"37\" style=\"stroke:rgb(150,150,150);stroke-width:1\" /><text x=\"22.821633312902012%\" y=\"27\" font-size=\"12px\" fill=\"rgb(120,120,120)\" dominant-baseline=\"bottom\" text-anchor=\"middle\">0.52</text><line x1=\"7.613111554896027%\" y1=\"33\" x2=\"7.613111554896027%\" y2=\"37\" style=\"stroke:rgb(150,150,150);stroke-width:1\" /><text x=\"7.613111554896027%\" y=\"27\" font-size=\"12px\" fill=\"rgb(120,120,120)\" dominant-baseline=\"bottom\" text-anchor=\"middle\">0.5</text><line x1=\"68.44719858691997%\" y1=\"33\" x2=\"68.44719858691997%\" y2=\"37\" style=\"stroke:rgb(150,150,150);stroke-width:1\" /><text x=\"68.44719858691997%\" y=\"27\" font-size=\"12px\" fill=\"rgb(120,120,120)\" dominant-baseline=\"bottom\" text-anchor=\"middle\">0.58</text><line x1=\"83.65572034492595%\" y1=\"33\" x2=\"83.65572034492595%\" y2=\"37\" style=\"stroke:rgb(150,150,150);stroke-width:1\" /><text x=\"83.65572034492595%\" y=\"27\" font-size=\"12px\" fill=\"rgb(120,120,120)\" dominant-baseline=\"bottom\" text-anchor=\"middle\">0.6</text><line x1=\"10.565455824846019%\" y1=\"33\" x2=\"10.565455824846019%\" y2=\"37\" style=\"stroke:rgb(150,150,150);stroke-width:1\" /><text x=\"10.565455824846019%\" y=\"27\" font-size=\"13px\" style=\"stroke:#ffffff;stroke-width:8px;\" fill=\"rgb(255,255,255)\" dominant-baseline=\"bottom\" text-anchor=\"middle\">0.503882</text><text x=\"10.565455824846019%\" y=\"27\" font-size=\"12px\" fill=\"rgb(120,120,120)\" dominant-baseline=\"bottom\" text-anchor=\"middle\">0.503882</text><text x=\"10.565455824846019%\" y=\"10\" font-size=\"12px\" fill=\"rgb(120,120,120)\" dominant-baseline=\"bottom\" text-anchor=\"middle\">base value</text><line x1=\"89.4345365708931%\" y1=\"33\" x2=\"89.4345365708931%\" y2=\"37\" style=\"stroke:rgb(150,150,150);stroke-width:1\" /><text x=\"89.4345365708931%\" y=\"27\" font-size=\"13px\" style=\"stroke:#ffffff;stroke-width:8px;\" font-weight=\"bold\" fill=\"rgb(255,255,255)\" dominant-baseline=\"bottom\" text-anchor=\"middle\">0.607599</text><text x=\"89.4345365708931%\" y=\"27\" font-size=\"13px\" font-weight=\"bold\" fill=\"rgb(0,0,0)\" dominant-baseline=\"bottom\" text-anchor=\"middle\">0.607599</text><text x=\"89.4345365708931%\" y=\"10\" font-size=\"12px\" fill=\"rgb(120,120,120)\" dominant-baseline=\"bottom\" text-anchor=\"middle\">f<tspan baseline-shift=\"sub\" font-size=\"8px\">sci.space</tspan>(inputs)</text><rect x=\"8.333332699644934%\" width=\"81.10120387124817%\" y=\"40\" height=\"18\" style=\"fill:rgb(255.0, 0.0, 81.08083606031792); stroke-width:0; stroke:rgb(0,0,0)\" /><line x1=\"41.98586708384116%\" x2=\"89.4345365708931%\" y1=\"60\" y2=\"60\" id=\"_fb_flkucoesahiqblfhmymy_ind_7\" style=\"stroke:rgb(255.0, 0.0, 81.08083606031792);stroke-width:2; opacity: 0\"/><text x=\"65.71020182736713%\" y=\"71\" font-size=\"12px\" id=\"_fs_flkucoesahiqblfhmymy_ind_7\" fill=\"rgb(255.0, 0.0, 81.08083606031792)\" style=\"opacity: 0\" dominant-baseline=\"middle\" text-anchor=\"middle\">0.062</text><svg x=\"41.98586708384116%\" y=\"40\" height=\"20\" width=\"47.448669487051944%\">  <svg x=\"0\" y=\"0\" width=\"100%\" height=\"100%\">    <text x=\"50%\" y=\"9\" font-size=\"12px\" fill=\"rgb(255,255,255)\" dominant-baseline=\"middle\" text-anchor=\"middle\">satellites</text>  </svg></svg><line x1=\"25.68770276580624%\" x2=\"41.98586708384116%\" y1=\"60\" y2=\"60\" id=\"_fb_flkucoesahiqblfhmymy_ind_6\" style=\"stroke:rgb(255.0, 0.0, 81.08083606031792);stroke-width:2; opacity: 0\"/><text x=\"33.8367849248237%\" y=\"71\" font-size=\"12px\" id=\"_fs_flkucoesahiqblfhmymy_ind_6\" fill=\"rgb(255.0, 0.0, 81.08083606031792)\" style=\"opacity: 0\" dominant-baseline=\"middle\" text-anchor=\"middle\">0.021</text><svg x=\"25.68770276580624%\" y=\"40\" height=\"20\" width=\"16.298164318034917%\">  <svg x=\"0\" y=\"0\" width=\"100%\" height=\"100%\">    <text x=\"50%\" y=\"9\" font-size=\"12px\" fill=\"rgb(255,255,255)\" dominant-baseline=\"middle\" text-anchor=\"middle\">launching</text>  </svg></svg><line x1=\"18.247176234359237%\" x2=\"25.68770276580624%\" y1=\"60\" y2=\"60\" id=\"_fb_flkucoesahiqblfhmymy_ind_8\" style=\"stroke:rgb(255.0, 0.0, 81.08083606031792);stroke-width:2; opacity: 0\"/><text x=\"21.96743950008274%\" y=\"71\" font-size=\"12px\" id=\"_fs_flkucoesahiqblfhmymy_ind_8\" fill=\"rgb(255.0, 0.0, 81.08083606031792)\" style=\"opacity: 0\" dominant-baseline=\"middle\" text-anchor=\"middle\">0.01</text><svg x=\"18.247176234359237%\" y=\"40\" height=\"20\" width=\"7.440526531447002%\">  <svg x=\"0\" y=\"0\" width=\"100%\" height=\"100%\">    <text x=\"50%\" y=\"9\" font-size=\"12px\" fill=\"rgb(255,255,255)\" dominant-baseline=\"middle\" text-anchor=\"middle\">.</text>  </svg></svg><line x1=\"11.064709967751718%\" x2=\"18.247176234359237%\" y1=\"60\" y2=\"60\" id=\"_fb_flkucoesahiqblfhmymy_ind_4\" style=\"stroke:rgb(255.0, 0.0, 81.08083606031792);stroke-width:2; opacity: 0\"/><text x=\"14.655943101055477%\" y=\"71\" font-size=\"12px\" id=\"_fs_flkucoesahiqblfhmymy_ind_4\" fill=\"rgb(255.0, 0.0, 81.08083606031792)\" style=\"opacity: 0\" dominant-baseline=\"middle\" text-anchor=\"middle\">0.009</text><svg x=\"11.064709967751718%\" y=\"40\" height=\"20\" width=\"7.18246626660752%\">  <svg x=\"0\" y=\"0\" width=\"100%\" height=\"100%\">    <text x=\"50%\" y=\"9\" font-size=\"12px\" fill=\"rgb(255,255,255)\" dominant-baseline=\"middle\" text-anchor=\"middle\">sk</text>  </svg></svg><line x1=\"9.330893159243617%\" x2=\"11.064709967751718%\" y1=\"60\" y2=\"60\" id=\"_fb_flkucoesahiqblfhmymy_ind_2\" style=\"stroke:rgb(255.0, 0.0, 81.08083606031792);stroke-width:2; opacity: 0\"/><text x=\"10.197801563497666%\" y=\"71\" font-size=\"12px\" id=\"_fs_flkucoesahiqblfhmymy_ind_2\" fill=\"rgb(255.0, 0.0, 81.08083606031792)\" style=\"opacity: 0\" dominant-baseline=\"middle\" text-anchor=\"middle\">0.002</text><svg x=\"9.330893159243617%\" y=\"40\" height=\"20\" width=\"1.7338168085081005%\">  <svg x=\"0\" y=\"0\" width=\"100%\" height=\"100%\">    <text x=\"50%\" y=\"9\" font-size=\"12px\" fill=\"rgb(255,255,255)\" dominant-baseline=\"middle\" text-anchor=\"middle\">on</text>  </svg></svg><line x1=\"8.333334290643915%\" x2=\"9.330893159243617%\" y1=\"60\" y2=\"60\" id=\"_fb_flkucoesahiqblfhmymy_ind_5\" style=\"stroke:rgb(255.0, 0.0, 81.08083606031792);stroke-width:2; opacity: 0\"/><text x=\"8.832113724943767%\" y=\"71\" font-size=\"12px\" id=\"_fs_flkucoesahiqblfhmymy_ind_5\" fill=\"rgb(255.0, 0.0, 81.08083606031792)\" style=\"opacity: 0\" dominant-baseline=\"middle\" text-anchor=\"middle\">0.001</text><svg x=\"8.333334290643915%\" y=\"40\" height=\"20\" width=\"0.9975588685997021%\">  <svg x=\"0\" y=\"0\" width=\"100%\" height=\"100%\">    <text x=\"50%\" y=\"9\" font-size=\"12px\" fill=\"rgb(255,255,255)\" dominant-baseline=\"middle\" text-anchor=\"middle\">likes</text>  </svg></svg><line x1=\"8.333333334021535%\" x2=\"8.333334290643915%\" y1=\"60\" y2=\"60\" id=\"_fb_flkucoesahiqblfhmymy_ind_0\" style=\"stroke:rgb(255.0, 0.0, 81.08083606031792);stroke-width:2; opacity: 0\"/><text x=\"8.333333812332725%\" y=\"71\" font-size=\"12px\" id=\"_fs_flkucoesahiqblfhmymy_ind_0\" fill=\"rgb(255.0, 0.0, 81.08083606031792)\" style=\"opacity: 0\" dominant-baseline=\"middle\" text-anchor=\"middle\">0.0</text><svg x=\"8.333333334021535%\" y=\"40\" height=\"20\" width=\"9.566223795332007e-07%\">  <svg x=\"0\" y=\"0\" width=\"100%\" height=\"100%\">    <text x=\"50%\" y=\"9\" font-size=\"12px\" fill=\"rgb(255,255,255)\" dominant-baseline=\"middle\" text-anchor=\"middle\"></text>  </svg></svg><line x1=\"8.333332699644934%\" x2=\"8.333333334021535%\" y1=\"60\" y2=\"60\" id=\"_fb_flkucoesahiqblfhmymy_ind_9\" style=\"stroke:rgb(255.0, 0.0, 81.08083606031792);stroke-width:2; opacity: 0\"/><text x=\"8.333333016833235%\" y=\"71\" font-size=\"12px\" id=\"_fs_flkucoesahiqblfhmymy_ind_9\" fill=\"rgb(255.0, 0.0, 81.08083606031792)\" style=\"opacity: 0\" dominant-baseline=\"middle\" text-anchor=\"middle\">0.0</text><svg x=\"8.333332699644934%\" y=\"40\" height=\"20\" width=\"6.343766010274976e-07%\">  <svg x=\"0\" y=\"0\" width=\"100%\" height=\"100%\">    <text x=\"50%\" y=\"9\" font-size=\"12px\" fill=\"rgb(255,255,255)\" dominant-baseline=\"middle\" text-anchor=\"middle\"></text>  </svg></svg><g transform=\"translate(0,0)\">  <svg x=\"41.98586708384116%\" y=\"40\" height=\"18\" overflow=\"visible\" width=\"30\">    <path d=\"M 0 -9 l 6 18 L 0 25\" fill=\"none\" style=\"stroke:rgb(255.0, 0.0, 81.08083606031792);stroke-width:2\" />  </svg></g><g transform=\"translate(2,0)\">  <svg x=\"41.98586708384116%\" y=\"40\" height=\"18\" overflow=\"visible\" width=\"30\">    <path d=\"M 0 -9 l 6 18 L 0 25\" fill=\"none\" style=\"stroke:rgb(255.0, 0.0, 81.08083606031792);stroke-width:2\" />  </svg></g><g transform=\"translate(4,0)\">  <svg x=\"41.98586708384116%\" y=\"40\" height=\"18\" overflow=\"visible\" width=\"30\">    <path d=\"M 0 -9 l 6 18 L 0 25\" fill=\"none\" style=\"stroke:rgb(255.0, 0.0, 81.08083606031792);stroke-width:2\" />  </svg></g><g transform=\"translate(6,0)\">  <svg x=\"41.98586708384116%\" y=\"40\" height=\"18\" overflow=\"visible\" width=\"30\">    <path d=\"M 0 -9 l 6 18 L 0 25\" fill=\"none\" style=\"stroke:rgb(255.0, 0.0, 81.08083606031792);stroke-width:2\" />  </svg></g><g transform=\"translate(-8,0)\">  <svg x=\"41.98586708384116%\" y=\"40\" height=\"18\" overflow=\"visible\" width=\"30\">    <path d=\"M 0 -9 l 6 18 L 0 25\" fill=\"none\" style=\"stroke:rgb(255.0, 0.0, 81.08083606031792);stroke-width:2\" />  </svg></g><g transform=\"translate(-6,0)\">  <svg x=\"41.98586708384116%\" y=\"40\" height=\"18\" overflow=\"visible\" width=\"30\">    <path d=\"M 0 -9 l 6 18 L 0 25\" fill=\"none\" style=\"stroke:rgb(255.0, 0.0, 81.08083606031792);stroke-width:2\" />  </svg></g><g transform=\"translate(-4,0)\">  <svg x=\"41.98586708384116%\" y=\"40\" height=\"18\" overflow=\"visible\" width=\"30\">    <path d=\"M 0 -9 l 6 18 L 0 25\" fill=\"none\" style=\"stroke:rgb(255.0, 0.0, 81.08083606031792);stroke-width:2\" />  </svg></g><g transform=\"translate(-2,0)\">  <svg x=\"41.98586708384116%\" y=\"40\" height=\"18\" overflow=\"visible\" width=\"30\">    <path d=\"M 0 -9 l 6 18 L 0 25\" fill=\"none\" style=\"stroke:rgb(255.0, 0.0, 81.08083606031792);stroke-width:2\" />  </svg></g><g transform=\"translate(0,0)\">  <svg x=\"25.68770276580624%\" y=\"40\" height=\"18\" overflow=\"visible\" width=\"30\">    <path d=\"M 0 -9 l 6 18 L 0 25\" fill=\"none\" style=\"stroke:rgb(255.0, 0.0, 81.08083606031792);stroke-width:2\" />  </svg></g><g transform=\"translate(2,0)\">  <svg x=\"25.68770276580624%\" y=\"40\" height=\"18\" overflow=\"visible\" width=\"30\">    <path d=\"M 0 -9 l 6 18 L 0 25\" fill=\"none\" style=\"stroke:rgb(255.0, 0.0, 81.08083606031792);stroke-width:2\" />  </svg></g><g transform=\"translate(4,0)\">  <svg x=\"25.68770276580624%\" y=\"40\" height=\"18\" overflow=\"visible\" width=\"30\">    <path d=\"M 0 -9 l 6 18 L 0 25\" fill=\"none\" style=\"stroke:rgb(255.0, 0.0, 81.08083606031792);stroke-width:2\" />  </svg></g><g transform=\"translate(6,0)\">  <svg x=\"25.68770276580624%\" y=\"40\" height=\"18\" overflow=\"visible\" width=\"30\">    <path d=\"M 0 -9 l 6 18 L 0 25\" fill=\"none\" style=\"stroke:rgb(255.0, 0.0, 81.08083606031792);stroke-width:2\" />  </svg></g><g transform=\"translate(-8,0)\">  <svg x=\"25.68770276580624%\" y=\"40\" height=\"18\" overflow=\"visible\" width=\"30\">    <path d=\"M 0 -9 l 6 18 L 0 25\" fill=\"none\" style=\"stroke:rgb(255.0, 0.0, 81.08083606031792);stroke-width:2\" />  </svg></g><g transform=\"translate(-6,0)\">  <svg x=\"25.68770276580624%\" y=\"40\" height=\"18\" overflow=\"visible\" width=\"30\">    <path d=\"M 0 -9 l 6 18 L 0 25\" fill=\"none\" style=\"stroke:rgb(255.0, 0.0, 81.08083606031792);stroke-width:2\" />  </svg></g><g transform=\"translate(-4,0)\">  <svg x=\"25.68770276580624%\" y=\"40\" height=\"18\" overflow=\"visible\" width=\"30\">    <path d=\"M 0 -9 l 6 18 L 0 25\" fill=\"none\" style=\"stroke:rgb(255.0, 0.0, 81.08083606031792);stroke-width:2\" />  </svg></g><g transform=\"translate(-2,0)\">  <svg x=\"25.68770276580624%\" y=\"40\" height=\"18\" overflow=\"visible\" width=\"30\">    <path d=\"M 0 -9 l 6 18 L 0 25\" fill=\"none\" style=\"stroke:rgb(255.0, 0.0, 81.08083606031792);stroke-width:2\" />  </svg></g><g transform=\"translate(0,0)\">  <svg x=\"18.247176234359237%\" y=\"40\" height=\"18\" overflow=\"visible\" width=\"30\">    <path d=\"M 0 -9 l 6 18 L 0 25\" fill=\"none\" style=\"stroke:rgb(255.0, 0.0, 81.08083606031792);stroke-width:2\" />  </svg></g><g transform=\"translate(2,0)\">  <svg x=\"18.247176234359237%\" y=\"40\" height=\"18\" overflow=\"visible\" width=\"30\">    <path d=\"M 0 -9 l 6 18 L 0 25\" fill=\"none\" style=\"stroke:rgb(255.0, 0.0, 81.08083606031792);stroke-width:2\" />  </svg></g><g transform=\"translate(4,0)\">  <svg x=\"18.247176234359237%\" y=\"40\" height=\"18\" overflow=\"visible\" width=\"30\">    <path d=\"M 0 -9 l 6 18 L 0 25\" fill=\"none\" style=\"stroke:rgb(255.0, 0.0, 81.08083606031792);stroke-width:2\" />  </svg></g><g transform=\"translate(6,0)\">  <svg x=\"18.247176234359237%\" y=\"40\" height=\"18\" overflow=\"visible\" width=\"30\">    <path d=\"M 0 -9 l 6 18 L 0 25\" fill=\"none\" style=\"stroke:rgb(255.0, 0.0, 81.08083606031792);stroke-width:2\" />  </svg></g><g transform=\"translate(-8,0)\">  <svg x=\"18.247176234359237%\" y=\"40\" height=\"18\" overflow=\"visible\" width=\"30\">    <path d=\"M 0 -9 l 6 18 L 0 25\" fill=\"none\" style=\"stroke:rgb(255.0, 0.0, 81.08083606031792);stroke-width:2\" />  </svg></g><g transform=\"translate(-6,0)\">  <svg x=\"18.247176234359237%\" y=\"40\" height=\"18\" overflow=\"visible\" width=\"30\">    <path d=\"M 0 -9 l 6 18 L 0 25\" fill=\"none\" style=\"stroke:rgb(255.0, 0.0, 81.08083606031792);stroke-width:2\" />  </svg></g><g transform=\"translate(-4,0)\">  <svg x=\"18.247176234359237%\" y=\"40\" height=\"18\" overflow=\"visible\" width=\"30\">    <path d=\"M 0 -9 l 6 18 L 0 25\" fill=\"none\" style=\"stroke:rgb(255.0, 0.0, 81.08083606031792);stroke-width:2\" />  </svg></g><g transform=\"translate(-2,0)\">  <svg x=\"18.247176234359237%\" y=\"40\" height=\"18\" overflow=\"visible\" width=\"30\">    <path d=\"M 0 -9 l 6 18 L 0 25\" fill=\"none\" style=\"stroke:rgb(255.0, 0.0, 81.08083606031792);stroke-width:2\" />  </svg></g><g transform=\"translate(0,0)\">  <svg x=\"11.064709967751718%\" y=\"40\" height=\"18\" overflow=\"visible\" width=\"30\">    <path d=\"M 0 -9 l 6 18 L 0 25\" fill=\"none\" style=\"stroke:rgb(255.0, 0.0, 81.08083606031792);stroke-width:2\" />  </svg></g><g transform=\"translate(2,0)\">  <svg x=\"11.064709967751718%\" y=\"40\" height=\"18\" overflow=\"visible\" width=\"30\">    <path d=\"M 0 -9 l 6 18 L 0 25\" fill=\"none\" style=\"stroke:rgb(255.0, 0.0, 81.08083606031792);stroke-width:2\" />  </svg></g><g transform=\"translate(4,0)\">  <svg x=\"11.064709967751718%\" y=\"40\" height=\"18\" overflow=\"visible\" width=\"30\">    <path d=\"M 0 -9 l 6 18 L 0 25\" fill=\"none\" style=\"stroke:rgb(255.0, 0.0, 81.08083606031792);stroke-width:2\" />  </svg></g><g transform=\"translate(6,0)\">  <svg x=\"11.064709967751718%\" y=\"40\" height=\"18\" overflow=\"visible\" width=\"30\">    <path d=\"M 0 -9 l 6 18 L 0 25\" fill=\"none\" style=\"stroke:rgb(255.0, 0.0, 81.08083606031792);stroke-width:2\" />  </svg></g><g transform=\"translate(-8,0)\">  <svg x=\"11.064709967751718%\" y=\"40\" height=\"18\" overflow=\"visible\" width=\"30\">    <path d=\"M 0 -9 l 6 18 L 0 25\" fill=\"none\" style=\"stroke:rgb(255.0, 0.0, 81.08083606031792);stroke-width:2\" />  </svg></g><g transform=\"translate(-6,0)\">  <svg x=\"11.064709967751718%\" y=\"40\" height=\"18\" overflow=\"visible\" width=\"30\">    <path d=\"M 0 -9 l 6 18 L 0 25\" fill=\"none\" style=\"stroke:rgb(255.0, 0.0, 81.08083606031792);stroke-width:2\" />  </svg></g><g transform=\"translate(-4,0)\">  <svg x=\"11.064709967751718%\" y=\"40\" height=\"18\" overflow=\"visible\" width=\"30\">    <path d=\"M 0 -9 l 6 18 L 0 25\" fill=\"none\" style=\"stroke:rgb(255.0, 0.0, 81.08083606031792);stroke-width:2\" />  </svg></g><g transform=\"translate(-2,0)\">  <svg x=\"11.064709967751718%\" y=\"40\" height=\"18\" overflow=\"visible\" width=\"30\">    <path d=\"M 0 -9 l 6 18 L 0 25\" fill=\"none\" style=\"stroke:rgb(255.0, 0.0, 81.08083606031792);stroke-width:2\" />  </svg></g><g transform=\"translate(0,0)\">  <svg x=\"9.330893159243617%\" y=\"40\" height=\"18\" overflow=\"visible\" width=\"30\">    <path d=\"M 0 -9 l 6 18 L 0 25\" fill=\"none\" style=\"stroke:rgb(255.0, 0.0, 81.08083606031792);stroke-width:2\" />  </svg></g><g transform=\"translate(2,0)\">  <svg x=\"9.330893159243617%\" y=\"40\" height=\"18\" overflow=\"visible\" width=\"30\">    <path d=\"M 0 -9 l 6 18 L 0 25\" fill=\"none\" style=\"stroke:rgb(255.0, 0.0, 81.08083606031792);stroke-width:2\" />  </svg></g><g transform=\"translate(4,0)\">  <svg x=\"9.330893159243617%\" y=\"40\" height=\"18\" overflow=\"visible\" width=\"30\">    <path d=\"M 0 -9 l 6 18 L 0 25\" fill=\"none\" style=\"stroke:rgb(255.0, 0.0, 81.08083606031792);stroke-width:2\" />  </svg></g><g transform=\"translate(6,0)\">  <svg x=\"9.330893159243617%\" y=\"40\" height=\"18\" overflow=\"visible\" width=\"30\">    <path d=\"M 0 -9 l 6 18 L 0 25\" fill=\"none\" style=\"stroke:rgb(255.0, 0.0, 81.08083606031792);stroke-width:2\" />  </svg></g><g transform=\"translate(-8,0)\">  <svg x=\"9.330893159243617%\" y=\"40\" height=\"18\" overflow=\"visible\" width=\"30\">    <path d=\"M 0 -9 l 6 18 L 0 25\" fill=\"none\" style=\"stroke:rgb(255.0, 0.0, 81.08083606031792);stroke-width:2\" />  </svg></g><g transform=\"translate(-6,0)\">  <svg x=\"9.330893159243617%\" y=\"40\" height=\"18\" overflow=\"visible\" width=\"30\">    <path d=\"M 0 -9 l 6 18 L 0 25\" fill=\"none\" style=\"stroke:rgb(255.0, 0.0, 81.08083606031792);stroke-width:2\" />  </svg></g><g transform=\"translate(-4,0)\">  <svg x=\"9.330893159243617%\" y=\"40\" height=\"18\" overflow=\"visible\" width=\"30\">    <path d=\"M 0 -9 l 6 18 L 0 25\" fill=\"none\" style=\"stroke:rgb(255.0, 0.0, 81.08083606031792);stroke-width:2\" />  </svg></g><g transform=\"translate(-2,0)\">  <svg x=\"9.330893159243617%\" y=\"40\" height=\"18\" overflow=\"visible\" width=\"30\">    <path d=\"M 0 -9 l 6 18 L 0 25\" fill=\"none\" style=\"stroke:rgb(255.0, 0.0, 81.08083606031792);stroke-width:2\" />  </svg></g><g transform=\"translate(0,0)\">  <svg x=\"8.333334290643915%\" y=\"40\" height=\"18\" overflow=\"visible\" width=\"30\">    <path d=\"M 0 -9 l 6 18 L 0 25\" fill=\"none\" style=\"stroke:rgb(255.0, 0.0, 81.08083606031792);stroke-width:2\" />  </svg></g><g transform=\"translate(2,0)\">  <svg x=\"8.333334290643915%\" y=\"40\" height=\"18\" overflow=\"visible\" width=\"30\">    <path d=\"M 0 -9 l 6 18 L 0 25\" fill=\"none\" style=\"stroke:rgb(255.0, 0.0, 81.08083606031792);stroke-width:2\" />  </svg></g><g transform=\"translate(4,0)\">  <svg x=\"8.333334290643915%\" y=\"40\" height=\"18\" overflow=\"visible\" width=\"30\">    <path d=\"M 0 -9 l 6 18 L 0 25\" fill=\"none\" style=\"stroke:rgb(255.0, 0.0, 81.08083606031792);stroke-width:2\" />  </svg></g><g transform=\"translate(6,0)\">  <svg x=\"8.333334290643915%\" y=\"40\" height=\"18\" overflow=\"visible\" width=\"30\">    <path d=\"M 0 -9 l 6 18 L 0 25\" fill=\"none\" style=\"stroke:rgb(255.0, 0.0, 81.08083606031792);stroke-width:2\" />  </svg></g><g transform=\"translate(-8,0)\">  <svg x=\"8.333334290643915%\" y=\"40\" height=\"18\" overflow=\"visible\" width=\"30\">    <path d=\"M 0 -9 l 6 18 L 0 25\" fill=\"none\" style=\"stroke:rgb(255.0, 0.0, 81.08083606031792);stroke-width:2\" />  </svg></g><g transform=\"translate(-6,0)\">  <svg x=\"8.333334290643915%\" y=\"40\" height=\"18\" overflow=\"visible\" width=\"30\">    <path d=\"M 0 -9 l 6 18 L 0 25\" fill=\"none\" style=\"stroke:rgb(255.0, 0.0, 81.08083606031792);stroke-width:2\" />  </svg></g><g transform=\"translate(-4,0)\">  <svg x=\"8.333334290643915%\" y=\"40\" height=\"18\" overflow=\"visible\" width=\"30\">    <path d=\"M 0 -9 l 6 18 L 0 25\" fill=\"none\" style=\"stroke:rgb(255.0, 0.0, 81.08083606031792);stroke-width:2\" />  </svg></g><g transform=\"translate(-2,0)\">  <svg x=\"8.333334290643915%\" y=\"40\" height=\"18\" overflow=\"visible\" width=\"30\">    <path d=\"M 0 -9 l 6 18 L 0 25\" fill=\"none\" style=\"stroke:rgb(255.0, 0.0, 81.08083606031792);stroke-width:2\" />  </svg></g><g transform=\"translate(0,0)\">  <svg x=\"8.333333334021535%\" y=\"40\" height=\"18\" overflow=\"visible\" width=\"30\">    <path d=\"M 0 -9 l 6 18 L 0 25\" fill=\"none\" style=\"stroke:rgb(255.0, 0.0, 81.08083606031792);stroke-width:2\" />  </svg></g><g transform=\"translate(2,0)\">  <svg x=\"8.333333334021535%\" y=\"40\" height=\"18\" overflow=\"visible\" width=\"30\">    <path d=\"M 0 -9 l 6 18 L 0 25\" fill=\"none\" style=\"stroke:rgb(255.0, 0.0, 81.08083606031792);stroke-width:2\" />  </svg></g><g transform=\"translate(4,0)\">  <svg x=\"8.333333334021535%\" y=\"40\" height=\"18\" overflow=\"visible\" width=\"30\">    <path d=\"M 0 -9 l 6 18 L 0 25\" fill=\"none\" style=\"stroke:rgb(255.0, 0.0, 81.08083606031792);stroke-width:2\" />  </svg></g><g transform=\"translate(6,0)\">  <svg x=\"8.333333334021535%\" y=\"40\" height=\"18\" overflow=\"visible\" width=\"30\">    <path d=\"M 0 -9 l 6 18 L 0 25\" fill=\"none\" style=\"stroke:rgb(255.0, 0.0, 81.08083606031792);stroke-width:2\" />  </svg></g><g transform=\"translate(-8,0)\">  <svg x=\"8.333333334021535%\" y=\"40\" height=\"18\" overflow=\"visible\" width=\"30\">    <path d=\"M 0 -9 l 6 18 L 0 25\" fill=\"none\" style=\"stroke:rgb(255.0, 0.0, 81.08083606031792);stroke-width:2\" />  </svg></g><g transform=\"translate(-6,0)\">  <svg x=\"8.333333334021535%\" y=\"40\" height=\"18\" overflow=\"visible\" width=\"30\">    <path d=\"M 0 -9 l 6 18 L 0 25\" fill=\"none\" style=\"stroke:rgb(255.0, 0.0, 81.08083606031792);stroke-width:2\" />  </svg></g><g transform=\"translate(-4,0)\">  <svg x=\"8.333333334021535%\" y=\"40\" height=\"18\" overflow=\"visible\" width=\"30\">    <path d=\"M 0 -9 l 6 18 L 0 25\" fill=\"none\" style=\"stroke:rgb(255.0, 0.0, 81.08083606031792);stroke-width:2\" />  </svg></g><g transform=\"translate(-2,0)\">  <svg x=\"8.333333334021535%\" y=\"40\" height=\"18\" overflow=\"visible\" width=\"30\">    <path d=\"M 0 -9 l 6 18 L 0 25\" fill=\"none\" style=\"stroke:rgb(255.0, 0.0, 81.08083606031792);stroke-width:2\" />  </svg></g><rect transform=\"translate(-8,0)\" x=\"89.4345365708931%\" y=\"40\" width=\"8\" height=\"18\" style=\"fill:rgb(255.0, 0.0, 81.08083606031792)\"/><g transform=\"translate(-11.5,0)\">  <svg x=\"8.333332699644934%\" y=\"40\" height=\"18\" overflow=\"visible\" width=\"30\">    <path d=\"M 10 -9 l 6 18 L 10 25 L 0 25 L 0 -9\" fill=\"#ffffff\" style=\"stroke:rgb(255,255,255);stroke-width:2\" />  </svg></g><g transform=\"translate(-1.5,0)\">  <svg x=\"89.4345365708931%\" y=\"40\" height=\"18\" overflow=\"visible\" width=\"30\">    <path d=\"M 0 -9 l 6 18 L 0 25\" fill=\"none\" style=\"stroke:rgb(255, 195, 213);stroke-width:2\" />  </svg></g><rect x=\"41.98586708384116%\" y=\"40\" height=\"20\" width=\"47.448669487051944%\"      onmouseover=\"document.getElementById('_tp_flkucoesahiqblfhmymy_ind_7').style.textDecoration = 'underline';document.getElementById('_fs_flkucoesahiqblfhmymy_ind_7').style.opacity = 1;document.getElementById('_fb_flkucoesahiqblfhmymy_ind_7').style.opacity = 1;\"      onmouseout=\"document.getElementById('_tp_flkucoesahiqblfhmymy_ind_7').style.textDecoration = 'none';document.getElementById('_fs_flkucoesahiqblfhmymy_ind_7').style.opacity = 0;document.getElementById('_fb_flkucoesahiqblfhmymy_ind_7').style.opacity = 0;\" style=\"fill:rgb(0,0,0,0)\" /><g transform=\"translate(-1.5,0)\">  <svg x=\"41.98586708384116%\" y=\"40\" height=\"18\" overflow=\"visible\" width=\"30\">    <path d=\"M 0 -9 l 6 18 L 0 25\" fill=\"none\" style=\"stroke:rgb(255, 195, 213);stroke-width:2\" />  </svg></g><rect x=\"25.68770276580624%\" y=\"40\" height=\"20\" width=\"16.298164318034917%\"      onmouseover=\"document.getElementById('_tp_flkucoesahiqblfhmymy_ind_6').style.textDecoration = 'underline';document.getElementById('_fs_flkucoesahiqblfhmymy_ind_6').style.opacity = 1;document.getElementById('_fb_flkucoesahiqblfhmymy_ind_6').style.opacity = 1;\"      onmouseout=\"document.getElementById('_tp_flkucoesahiqblfhmymy_ind_6').style.textDecoration = 'none';document.getElementById('_fs_flkucoesahiqblfhmymy_ind_6').style.opacity = 0;document.getElementById('_fb_flkucoesahiqblfhmymy_ind_6').style.opacity = 0;\" style=\"fill:rgb(0,0,0,0)\" /><g transform=\"translate(-1.5,0)\">  <svg x=\"25.68770276580624%\" y=\"40\" height=\"18\" overflow=\"visible\" width=\"30\">    <path d=\"M 0 -9 l 6 18 L 0 25\" fill=\"none\" style=\"stroke:rgb(255, 195, 213);stroke-width:2\" />  </svg></g><rect x=\"18.247176234359237%\" y=\"40\" height=\"20\" width=\"7.440526531447002%\"      onmouseover=\"document.getElementById('_tp_flkucoesahiqblfhmymy_ind_8').style.textDecoration = 'underline';document.getElementById('_fs_flkucoesahiqblfhmymy_ind_8').style.opacity = 1;document.getElementById('_fb_flkucoesahiqblfhmymy_ind_8').style.opacity = 1;\"      onmouseout=\"document.getElementById('_tp_flkucoesahiqblfhmymy_ind_8').style.textDecoration = 'none';document.getElementById('_fs_flkucoesahiqblfhmymy_ind_8').style.opacity = 0;document.getElementById('_fb_flkucoesahiqblfhmymy_ind_8').style.opacity = 0;\" style=\"fill:rgb(0,0,0,0)\" /><g transform=\"translate(-1.5,0)\">  <svg x=\"18.247176234359237%\" y=\"40\" height=\"18\" overflow=\"visible\" width=\"30\">    <path d=\"M 0 -9 l 6 18 L 0 25\" fill=\"none\" style=\"stroke:rgb(255, 195, 213);stroke-width:2\" />  </svg></g><rect x=\"11.064709967751718%\" y=\"40\" height=\"20\" width=\"7.18246626660752%\"      onmouseover=\"document.getElementById('_tp_flkucoesahiqblfhmymy_ind_4').style.textDecoration = 'underline';document.getElementById('_fs_flkucoesahiqblfhmymy_ind_4').style.opacity = 1;document.getElementById('_fb_flkucoesahiqblfhmymy_ind_4').style.opacity = 1;\"      onmouseout=\"document.getElementById('_tp_flkucoesahiqblfhmymy_ind_4').style.textDecoration = 'none';document.getElementById('_fs_flkucoesahiqblfhmymy_ind_4').style.opacity = 0;document.getElementById('_fb_flkucoesahiqblfhmymy_ind_4').style.opacity = 0;\" style=\"fill:rgb(0,0,0,0)\" /><g transform=\"translate(-1.5,0)\">  <svg x=\"11.064709967751718%\" y=\"40\" height=\"18\" overflow=\"visible\" width=\"30\">    <path d=\"M 0 -9 l 6 18 L 0 25\" fill=\"none\" style=\"stroke:rgb(255, 195, 213);stroke-width:2\" />  </svg></g><rect x=\"9.330893159243617%\" y=\"40\" height=\"20\" width=\"1.7338168085081005%\"      onmouseover=\"document.getElementById('_tp_flkucoesahiqblfhmymy_ind_2').style.textDecoration = 'underline';document.getElementById('_fs_flkucoesahiqblfhmymy_ind_2').style.opacity = 1;document.getElementById('_fb_flkucoesahiqblfhmymy_ind_2').style.opacity = 1;\"      onmouseout=\"document.getElementById('_tp_flkucoesahiqblfhmymy_ind_2').style.textDecoration = 'none';document.getElementById('_fs_flkucoesahiqblfhmymy_ind_2').style.opacity = 0;document.getElementById('_fb_flkucoesahiqblfhmymy_ind_2').style.opacity = 0;\" style=\"fill:rgb(0,0,0,0)\" /><g transform=\"translate(-1.5,0)\">  <svg x=\"9.330893159243617%\" y=\"40\" height=\"18\" overflow=\"visible\" width=\"30\">    <path d=\"M 0 -9 l 6 18 L 0 25\" fill=\"none\" style=\"stroke:rgb(255, 195, 213);stroke-width:2\" />  </svg></g><rect x=\"8.333334290643915%\" y=\"40\" height=\"20\" width=\"0.9975588685997021%\"      onmouseover=\"document.getElementById('_tp_flkucoesahiqblfhmymy_ind_5').style.textDecoration = 'underline';document.getElementById('_fs_flkucoesahiqblfhmymy_ind_5').style.opacity = 1;document.getElementById('_fb_flkucoesahiqblfhmymy_ind_5').style.opacity = 1;\"      onmouseout=\"document.getElementById('_tp_flkucoesahiqblfhmymy_ind_5').style.textDecoration = 'none';document.getElementById('_fs_flkucoesahiqblfhmymy_ind_5').style.opacity = 0;document.getElementById('_fb_flkucoesahiqblfhmymy_ind_5').style.opacity = 0;\" style=\"fill:rgb(0,0,0,0)\" /><g transform=\"translate(-1.5,0)\">  <svg x=\"8.333334290643915%\" y=\"40\" height=\"18\" overflow=\"visible\" width=\"30\">    <path d=\"M 0 -9 l 6 18 L 0 25\" fill=\"none\" style=\"stroke:rgb(255, 195, 213);stroke-width:2\" />  </svg></g><rect x=\"8.333333334021535%\" y=\"40\" height=\"20\" width=\"9.566223795332007e-07%\"      onmouseover=\"document.getElementById('_tp_flkucoesahiqblfhmymy_ind_0').style.textDecoration = 'underline';document.getElementById('_fs_flkucoesahiqblfhmymy_ind_0').style.opacity = 1;document.getElementById('_fb_flkucoesahiqblfhmymy_ind_0').style.opacity = 1;\"      onmouseout=\"document.getElementById('_tp_flkucoesahiqblfhmymy_ind_0').style.textDecoration = 'none';document.getElementById('_fs_flkucoesahiqblfhmymy_ind_0').style.opacity = 0;document.getElementById('_fb_flkucoesahiqblfhmymy_ind_0').style.opacity = 0;\" style=\"fill:rgb(0,0,0,0)\" /><rect x=\"8.333332699644934%\" y=\"40\" height=\"20\" width=\"6.343766010274976e-07%\"      onmouseover=\"document.getElementById('_tp_flkucoesahiqblfhmymy_ind_9').style.textDecoration = 'underline';document.getElementById('_fs_flkucoesahiqblfhmymy_ind_9').style.opacity = 1;document.getElementById('_fb_flkucoesahiqblfhmymy_ind_9').style.opacity = 1;\"      onmouseout=\"document.getElementById('_tp_flkucoesahiqblfhmymy_ind_9').style.textDecoration = 'none';document.getElementById('_fs_flkucoesahiqblfhmymy_ind_9').style.opacity = 0;document.getElementById('_fb_flkucoesahiqblfhmymy_ind_9').style.opacity = 0;\" style=\"fill:rgb(0,0,0,0)\" /><rect x=\"89.4345365708931%\" width=\"2.2321231252010802%\" y=\"40\" height=\"18\" style=\"fill:rgb(0.0, 138.56128015770727, 250.76166088685727); stroke-width:0; stroke:rgb(0,0,0)\" /><line x1=\"89.4345365708931%\" x2=\"90.5735269215777%\" y1=\"60\" y2=\"60\" id=\"_fb_flkucoesahiqblfhmymy_ind_3\" style=\"stroke:rgb(0.0, 138.56128015770727, 250.76166088685727);stroke-width:2; opacity: 0\"/><text x=\"90.0040317462354%\" y=\"71\" font-size=\"12px\" fill=\"rgb(0.0, 138.56128015770727, 250.76166088685727)\" id=\"_fs_flkucoesahiqblfhmymy_ind_3\" style=\"opacity: 0\" dominant-baseline=\"middle\" text-anchor=\"middle\">-0.001</text><svg x=\"89.4345365708931%\" y=\"40\" height=\"20\" width=\"1.138990350684594%\">  <svg x=\"0\" y=\"0\" width=\"100%\" height=\"100%\">    <text x=\"50%\" y=\"9\" font-size=\"12px\" fill=\"rgb(255,255,255)\" dominant-baseline=\"middle\" text-anchor=\"middle\">Mu</text>  </svg></svg><line x1=\"90.5735269215777%\" x2=\"91.66665969609419%\" y1=\"60\" y2=\"60\" id=\"_fb_flkucoesahiqblfhmymy_ind_1\" style=\"stroke:rgb(0.0, 138.56128015770727, 250.76166088685727);stroke-width:2; opacity: 0\"/><text x=\"91.12009330883595%\" y=\"71\" font-size=\"12px\" fill=\"rgb(0.0, 138.56128015770727, 250.76166088685727)\" id=\"_fs_flkucoesahiqblfhmymy_ind_1\" style=\"opacity: 0\" dominant-baseline=\"middle\" text-anchor=\"middle\">-0.001</text><svg x=\"90.5735269215777%\" y=\"40\" height=\"20\" width=\"1.0931327745164907%\">  <svg x=\"0\" y=\"0\" width=\"100%\" height=\"100%\">    <text x=\"50%\" y=\"9\" font-size=\"12px\" fill=\"rgb(255,255,255)\" dominant-baseline=\"middle\" text-anchor=\"middle\">El</text>  </svg></svg><g transform=\"translate(-8,0)\">  <svg x=\"90.5735269215777%\" y=\"40\" height=\"18\" overflow=\"visible\" width=\"30\">    <path d=\"M 8 -9 l -6 18 L 8 25\" fill=\"none\" style=\"stroke:rgb(0.0, 138.56128015770727, 250.76166088685727);stroke-width:2\" />  </svg></g><g transform=\"translate(-10,0)\">  <svg x=\"90.5735269215777%\" y=\"40\" height=\"18\" overflow=\"visible\" width=\"30\">    <path d=\"M 8 -9 l -6 18 L 8 25\" fill=\"none\" style=\"stroke:rgb(0.0, 138.56128015770727, 250.76166088685727);stroke-width:2\" />  </svg></g><g transform=\"translate(-12,0)\">  <svg x=\"90.5735269215777%\" y=\"40\" height=\"18\" overflow=\"visible\" width=\"30\">    <path d=\"M 8 -9 l -6 18 L 8 25\" fill=\"none\" style=\"stroke:rgb(0.0, 138.56128015770727, 250.76166088685727);stroke-width:2\" />  </svg></g><g transform=\"translate(-14,0)\">  <svg x=\"90.5735269215777%\" y=\"40\" height=\"18\" overflow=\"visible\" width=\"30\">    <path d=\"M 8 -9 l -6 18 L 8 25\" fill=\"none\" style=\"stroke:rgb(0.0, 138.56128015770727, 250.76166088685727);stroke-width:2\" />  </svg></g><g transform=\"translate(2,0)\">  <svg x=\"90.5735269215777%\" y=\"40\" height=\"18\" overflow=\"visible\" width=\"30\">    <path d=\"M 8 -9 l -6 18 L 8 25\" fill=\"none\" style=\"stroke:rgb(0.0, 138.56128015770727, 250.76166088685727);stroke-width:2\" />  </svg></g><g transform=\"translate(0,0)\">  <svg x=\"90.5735269215777%\" y=\"40\" height=\"18\" overflow=\"visible\" width=\"30\">    <path d=\"M 8 -9 l -6 18 L 8 25\" fill=\"none\" style=\"stroke:rgb(0.0, 138.56128015770727, 250.76166088685727);stroke-width:2\" />  </svg></g><g transform=\"translate(-2,0)\">  <svg x=\"90.5735269215777%\" y=\"40\" height=\"18\" overflow=\"visible\" width=\"30\">    <path d=\"M 8 -9 l -6 18 L 8 25\" fill=\"none\" style=\"stroke:rgb(0.0, 138.56128015770727, 250.76166088685727);stroke-width:2\" />  </svg></g><g transform=\"translate(-4,0)\">  <svg x=\"90.5735269215777%\" y=\"40\" height=\"18\" overflow=\"visible\" width=\"30\">    <path d=\"M 8 -9 l -6 18 L 8 25\" fill=\"none\" style=\"stroke:rgb(0.0, 138.56128015770727, 250.76166088685727);stroke-width:2\" />  </svg></g><rect transform=\"translate(0,0)\" x=\"89.4345365708931%\" y=\"40\" width=\"8\" height=\"18\" style=\"fill:rgb(0.0, 138.56128015770727, 250.76166088685727)\"/><g transform=\"translate(-6.0,0)\">  <svg x=\"91.66665969609419%\" y=\"40\" height=\"18\" overflow=\"visible\" width=\"30\">    <path d=\"M 8 -9 l -6 18 L 8 25 L 20 25 L 20 -9\" fill=\"#ffffff\" style=\"stroke:rgb(255,255,255);stroke-width:2\" />  </svg></g><g transform=\"translate(-6.0,0)\">  <svg x=\"90.5735269215777%\" y=\"40\" height=\"18\" overflow=\"visible\" width=\"30\">    <path d=\"M 8 -9 l -6 18 L 8 25\" fill=\"none\" style=\"stroke:rgb(208, 230, 250);stroke-width:2\" />  </svg></g><rect x=\"89.4345365708931%\" y=\"40\" height=\"20\" width=\"1.138990350684594%\"      onmouseover=\"document.getElementById('_tp_flkucoesahiqblfhmymy_ind_3').style.textDecoration = 'underline';document.getElementById('_fs_flkucoesahiqblfhmymy_ind_3').style.opacity = 1;document.getElementById('_fb_flkucoesahiqblfhmymy_ind_3').style.opacity = 1;\"      onmouseout=\"document.getElementById('_tp_flkucoesahiqblfhmymy_ind_3').style.textDecoration = 'none';document.getElementById('_fs_flkucoesahiqblfhmymy_ind_3').style.opacity = 0;document.getElementById('_fb_flkucoesahiqblfhmymy_ind_3').style.opacity = 0;\" style=\"fill:rgb(0,0,0,0)\" /><rect x=\"90.5735269215777%\" y=\"40\" height=\"20\" width=\"1.0931327745164907%\"      onmouseover=\"document.getElementById('_tp_flkucoesahiqblfhmymy_ind_1').style.textDecoration = 'underline';document.getElementById('_fs_flkucoesahiqblfhmymy_ind_1').style.opacity = 1;document.getElementById('_fb_flkucoesahiqblfhmymy_ind_1').style.opacity = 1;\"      onmouseout=\"document.getElementById('_tp_flkucoesahiqblfhmymy_ind_1').style.textDecoration = 'none';document.getElementById('_fs_flkucoesahiqblfhmymy_ind_1').style.opacity = 0;document.getElementById('_fb_flkucoesahiqblfhmymy_ind_1').style.opacity = 0;\" style=\"fill:rgb(0,0,0,0)\" /></svg><div align='center'><div style=\"color: rgb(120,120,120); font-size: 12px; margin-top: -15px;\">inputs</div><div style='display: inline; text-align: center;'\n",
       "    ><div style='display: none; color: #999; padding-top: 0px; font-size: 12px;'>0.0</div\n",
       "        ><div id='_tp_flkucoesahiqblfhmymy_ind_0'\n",
       "            style='display: inline; background: rgba(230.2941176470614, 26.505882352939775, 102.59215686274348, 0.0); border-radius: 3px; padding: 0px'\n",
       "            onclick=\"\n",
       "            if (this.previousSibling.style.display == 'none') {\n",
       "                this.previousSibling.style.display = 'block';\n",
       "                this.parentNode.style.display = 'inline-block';\n",
       "            } else {\n",
       "                this.previousSibling.style.display = 'none';\n",
       "                this.parentNode.style.display = 'inline';\n",
       "            }\"\n",
       "            onmouseover=\"document.getElementById('_fb_flkucoesahiqblfhmymy_ind_0').style.opacity = 1; document.getElementById('_fs_flkucoesahiqblfhmymy_ind_0').style.opacity = 1;\"\n",
       "            onmouseout=\"document.getElementById('_fb_flkucoesahiqblfhmymy_ind_0').style.opacity = 0; document.getElementById('_fs_flkucoesahiqblfhmymy_ind_0').style.opacity = 0;\"\n",
       "        ></div></div><div style='display: inline; text-align: center;'\n",
       "    ><div style='display: none; color: #999; padding-top: 0px; font-size: 12px;'>-0.001</div\n",
       "        ><div id='_tp_flkucoesahiqblfhmymy_ind_1'\n",
       "            style='display: inline; background: rgba(30.0, 136.0, 229.0, 0.014656367597544028); border-radius: 3px; padding: 0px'\n",
       "            onclick=\"\n",
       "            if (this.previousSibling.style.display == 'none') {\n",
       "                this.previousSibling.style.display = 'block';\n",
       "                this.parentNode.style.display = 'inline-block';\n",
       "            } else {\n",
       "                this.previousSibling.style.display = 'none';\n",
       "                this.parentNode.style.display = 'inline';\n",
       "            }\"\n",
       "            onmouseover=\"document.getElementById('_fb_flkucoesahiqblfhmymy_ind_1').style.opacity = 1; document.getElementById('_fs_flkucoesahiqblfhmymy_ind_1').style.opacity = 1;\"\n",
       "            onmouseout=\"document.getElementById('_fb_flkucoesahiqblfhmymy_ind_1').style.opacity = 0; document.getElementById('_fs_flkucoesahiqblfhmymy_ind_1').style.opacity = 0;\"\n",
       "        >El</div></div><div style='display: inline; text-align: center;'\n",
       "    ><div style='display: none; color: #999; padding-top: 0px; font-size: 12px;'>0.002</div\n",
       "        ><div id='_tp_flkucoesahiqblfhmymy_ind_2'\n",
       "            style='display: inline; background: rgba(255.0, 13.0, 87.0, 0.030421865715983164); border-radius: 3px; padding: 0px'\n",
       "            onclick=\"\n",
       "            if (this.previousSibling.style.display == 'none') {\n",
       "                this.previousSibling.style.display = 'block';\n",
       "                this.parentNode.style.display = 'inline-block';\n",
       "            } else {\n",
       "                this.previousSibling.style.display = 'none';\n",
       "                this.parentNode.style.display = 'inline';\n",
       "            }\"\n",
       "            onmouseover=\"document.getElementById('_fb_flkucoesahiqblfhmymy_ind_2').style.opacity = 1; document.getElementById('_fs_flkucoesahiqblfhmymy_ind_2').style.opacity = 1;\"\n",
       "            onmouseout=\"document.getElementById('_fb_flkucoesahiqblfhmymy_ind_2').style.opacity = 0; document.getElementById('_fs_flkucoesahiqblfhmymy_ind_2').style.opacity = 0;\"\n",
       "        >on </div></div><div style='display: inline; text-align: center;'\n",
       "    ><div style='display: none; color: #999; padding-top: 0px; font-size: 12px;'>-0.001</div\n",
       "        ><div id='_tp_flkucoesahiqblfhmymy_ind_3'\n",
       "            style='display: inline; background: rgba(30.0, 136.0, 229.0, 0.022539116656763607); border-radius: 3px; padding: 0px'\n",
       "            onclick=\"\n",
       "            if (this.previousSibling.style.display == 'none') {\n",
       "                this.previousSibling.style.display = 'block';\n",
       "                this.parentNode.style.display = 'inline-block';\n",
       "            } else {\n",
       "                this.previousSibling.style.display = 'none';\n",
       "                this.parentNode.style.display = 'inline';\n",
       "            }\"\n",
       "            onmouseover=\"document.getElementById('_fb_flkucoesahiqblfhmymy_ind_3').style.opacity = 1; document.getElementById('_fs_flkucoesahiqblfhmymy_ind_3').style.opacity = 1;\"\n",
       "            onmouseout=\"document.getElementById('_fb_flkucoesahiqblfhmymy_ind_3').style.opacity = 0; document.getElementById('_fs_flkucoesahiqblfhmymy_ind_3').style.opacity = 0;\"\n",
       "        >Mu</div></div><div style='display: inline; text-align: center;'\n",
       "    ><div style='display: none; color: #999; padding-top: 0px; font-size: 12px;'>0.009</div\n",
       "        ><div id='_tp_flkucoesahiqblfhmymy_ind_4'\n",
       "            style='display: inline; background: rgba(255.0, 13.0, 87.0, 0.14866310160427795); border-radius: 3px; padding: 0px'\n",
       "            onclick=\"\n",
       "            if (this.previousSibling.style.display == 'none') {\n",
       "                this.previousSibling.style.display = 'block';\n",
       "                this.parentNode.style.display = 'inline-block';\n",
       "            } else {\n",
       "                this.previousSibling.style.display = 'none';\n",
       "                this.parentNode.style.display = 'inline';\n",
       "            }\"\n",
       "            onmouseover=\"document.getElementById('_fb_flkucoesahiqblfhmymy_ind_4').style.opacity = 1; document.getElementById('_fs_flkucoesahiqblfhmymy_ind_4').style.opacity = 1;\"\n",
       "            onmouseout=\"document.getElementById('_fb_flkucoesahiqblfhmymy_ind_4').style.opacity = 0; document.getElementById('_fs_flkucoesahiqblfhmymy_ind_4').style.opacity = 0;\"\n",
       "        >sk </div></div><div style='display: inline; text-align: center;'\n",
       "    ><div style='display: none; color: #999; padding-top: 0px; font-size: 12px;'>0.001</div\n",
       "        ><div id='_tp_flkucoesahiqblfhmymy_ind_5'\n",
       "            style='display: inline; background: rgba(255.0, 13.0, 87.0, 0.014656367597544035); border-radius: 3px; padding: 0px'\n",
       "            onclick=\"\n",
       "            if (this.previousSibling.style.display == 'none') {\n",
       "                this.previousSibling.style.display = 'block';\n",
       "                this.parentNode.style.display = 'inline-block';\n",
       "            } else {\n",
       "                this.previousSibling.style.display = 'none';\n",
       "                this.parentNode.style.display = 'inline';\n",
       "            }\"\n",
       "            onmouseover=\"document.getElementById('_fb_flkucoesahiqblfhmymy_ind_5').style.opacity = 1; document.getElementById('_fs_flkucoesahiqblfhmymy_ind_5').style.opacity = 1;\"\n",
       "            onmouseout=\"document.getElementById('_fb_flkucoesahiqblfhmymy_ind_5').style.opacity = 0; document.getElementById('_fs_flkucoesahiqblfhmymy_ind_5').style.opacity = 0;\"\n",
       "        >likes </div></div><div style='display: inline; text-align: center;'\n",
       "    ><div style='display: none; color: #999; padding-top: 0px; font-size: 12px;'>0.021</div\n",
       "        ><div id='_tp_flkucoesahiqblfhmymy_ind_6'\n",
       "            style='display: inline; background: rgba(255.0, 13.0, 87.0, 0.33784907902554967); border-radius: 3px; padding: 0px'\n",
       "            onclick=\"\n",
       "            if (this.previousSibling.style.display == 'none') {\n",
       "                this.previousSibling.style.display = 'block';\n",
       "                this.parentNode.style.display = 'inline-block';\n",
       "            } else {\n",
       "                this.previousSibling.style.display = 'none';\n",
       "                this.parentNode.style.display = 'inline';\n",
       "            }\"\n",
       "            onmouseover=\"document.getElementById('_fb_flkucoesahiqblfhmymy_ind_6').style.opacity = 1; document.getElementById('_fs_flkucoesahiqblfhmymy_ind_6').style.opacity = 1;\"\n",
       "            onmouseout=\"document.getElementById('_fb_flkucoesahiqblfhmymy_ind_6').style.opacity = 0; document.getElementById('_fs_flkucoesahiqblfhmymy_ind_6').style.opacity = 0;\"\n",
       "        >launching </div></div><div style='display: inline; text-align: center;'\n",
       "    ><div style='display: none; color: #999; padding-top: 0px; font-size: 12px;'>0.062</div\n",
       "        ><div id='_tp_flkucoesahiqblfhmymy_ind_7'\n",
       "            style='display: inline; background: rgba(255.0, 13.0, 87.0, 1.0); border-radius: 3px; padding: 0px'\n",
       "            onclick=\"\n",
       "            if (this.previousSibling.style.display == 'none') {\n",
       "                this.previousSibling.style.display = 'block';\n",
       "                this.parentNode.style.display = 'inline-block';\n",
       "            } else {\n",
       "                this.previousSibling.style.display = 'none';\n",
       "                this.parentNode.style.display = 'inline';\n",
       "            }\"\n",
       "            onmouseover=\"document.getElementById('_fb_flkucoesahiqblfhmymy_ind_7').style.opacity = 1; document.getElementById('_fs_flkucoesahiqblfhmymy_ind_7').style.opacity = 1;\"\n",
       "            onmouseout=\"document.getElementById('_fb_flkucoesahiqblfhmymy_ind_7').style.opacity = 0; document.getElementById('_fs_flkucoesahiqblfhmymy_ind_7').style.opacity = 0;\"\n",
       "        >satellites</div></div><div style='display: inline; text-align: center;'\n",
       "    ><div style='display: none; color: #999; padding-top: 0px; font-size: 12px;'>0.01</div\n",
       "        ><div id='_tp_flkucoesahiqblfhmymy_ind_8'\n",
       "            style='display: inline; background: rgba(255.0, 13.0, 87.0, 0.15654585066349747); border-radius: 3px; padding: 0px'\n",
       "            onclick=\"\n",
       "            if (this.previousSibling.style.display == 'none') {\n",
       "                this.previousSibling.style.display = 'block';\n",
       "                this.parentNode.style.display = 'inline-block';\n",
       "            } else {\n",
       "                this.previousSibling.style.display = 'none';\n",
       "                this.parentNode.style.display = 'inline';\n",
       "            }\"\n",
       "            onmouseover=\"document.getElementById('_fb_flkucoesahiqblfhmymy_ind_8').style.opacity = 1; document.getElementById('_fs_flkucoesahiqblfhmymy_ind_8').style.opacity = 1;\"\n",
       "            onmouseout=\"document.getElementById('_fb_flkucoesahiqblfhmymy_ind_8').style.opacity = 0; document.getElementById('_fs_flkucoesahiqblfhmymy_ind_8').style.opacity = 0;\"\n",
       "        >.</div></div><div style='display: inline; text-align: center;'\n",
       "    ><div style='display: none; color: #999; padding-top: 0px; font-size: 12px;'>0.0</div\n",
       "        ><div id='_tp_flkucoesahiqblfhmymy_ind_9'\n",
       "            style='display: inline; background: rgba(230.2941176470614, 26.505882352939775, 102.59215686274348, 0.0); border-radius: 3px; padding: 0px'\n",
       "            onclick=\"\n",
       "            if (this.previousSibling.style.display == 'none') {\n",
       "                this.previousSibling.style.display = 'block';\n",
       "                this.parentNode.style.display = 'inline-block';\n",
       "            } else {\n",
       "                this.previousSibling.style.display = 'none';\n",
       "                this.parentNode.style.display = 'inline';\n",
       "            }\"\n",
       "            onmouseover=\"document.getElementById('_fb_flkucoesahiqblfhmymy_ind_9').style.opacity = 1; document.getElementById('_fs_flkucoesahiqblfhmymy_ind_9').style.opacity = 1;\"\n",
       "            onmouseout=\"document.getElementById('_fb_flkucoesahiqblfhmymy_ind_9').style.opacity = 0; document.getElementById('_fs_flkucoesahiqblfhmymy_ind_9').style.opacity = 0;\"\n",
       "        ></div></div></div></div><div id='_tp_bxnczycldiqesbevkkpm_output_1' style='display: none';><svg width=\"100%\" height=\"80px\"><line x1=\"0\" y1=\"33\" x2=\"100%\" y2=\"33\" style=\"stroke:rgb(150,150,150);stroke-width:1\" /><line x1=\"49.99999794227803%\" y1=\"33\" x2=\"49.99999794227803%\" y2=\"37\" style=\"stroke:rgb(150,150,150);stroke-width:1\" /><text x=\"49.99999794227803%\" y=\"27\" font-size=\"12px\" fill=\"rgb(120,120,120)\" dominant-baseline=\"bottom\" text-anchor=\"middle\">0.5</text><line x1=\"37.6536661414124%\" y1=\"33\" x2=\"37.6536661414124%\" y2=\"37\" style=\"stroke:rgb(150,150,150);stroke-width:1\" /><text x=\"37.6536661414124%\" y=\"27\" font-size=\"12px\" fill=\"rgb(120,120,120)\" dominant-baseline=\"bottom\" text-anchor=\"middle\">0.47</text><line x1=\"25.30733434054679%\" y1=\"33\" x2=\"25.30733434054679%\" y2=\"37\" style=\"stroke:rgb(150,150,150);stroke-width:1\" /><text x=\"25.30733434054679%\" y=\"27\" font-size=\"12px\" fill=\"rgb(120,120,120)\" dominant-baseline=\"bottom\" text-anchor=\"middle\">0.44</text><line x1=\"12.961002539681184%\" y1=\"33\" x2=\"12.961002539681184%\" y2=\"37\" style=\"stroke:rgb(150,150,150);stroke-width:1\" /><text x=\"12.961002539681184%\" y=\"27\" font-size=\"12px\" fill=\"rgb(120,120,120)\" dominant-baseline=\"bottom\" text-anchor=\"middle\">0.41</text><line x1=\"62.34632974314366%\" y1=\"33\" x2=\"62.34632974314366%\" y2=\"37\" style=\"stroke:rgb(150,150,150);stroke-width:1\" /><text x=\"62.34632974314366%\" y=\"27\" font-size=\"12px\" fill=\"rgb(120,120,120)\" dominant-baseline=\"bottom\" text-anchor=\"middle\">0.53</text><line x1=\"74.6926615440093%\" y1=\"33\" x2=\"74.6926615440093%\" y2=\"37\" style=\"stroke:rgb(150,150,150);stroke-width:1\" /><text x=\"74.6926615440093%\" y=\"27\" font-size=\"12px\" fill=\"rgb(120,120,120)\" dominant-baseline=\"bottom\" text-anchor=\"middle\">0.56</text><line x1=\"87.03899334487488%\" y1=\"33\" x2=\"87.03899334487488%\" y2=\"37\" style=\"stroke:rgb(150,150,150);stroke-width:1\" /><text x=\"87.03899334487488%\" y=\"27\" font-size=\"12px\" fill=\"rgb(120,120,120)\" dominant-baseline=\"bottom\" text-anchor=\"middle\">0.59</text><line x1=\"48.402182255906965%\" y1=\"33\" x2=\"48.402182255906965%\" y2=\"37\" style=\"stroke:rgb(150,150,150);stroke-width:1\" /><text x=\"48.402182255906965%\" y=\"27\" font-size=\"13px\" style=\"stroke:#ffffff;stroke-width:8px;\" fill=\"rgb(255,255,255)\" dominant-baseline=\"bottom\" text-anchor=\"middle\">0.496118</text><text x=\"48.402182255906965%\" y=\"27\" font-size=\"12px\" fill=\"rgb(120,120,120)\" dominant-baseline=\"bottom\" text-anchor=\"middle\">0.496118</text><text x=\"48.402182255906965%\" y=\"10\" font-size=\"12px\" fill=\"rgb(120,120,120)\" dominant-baseline=\"bottom\" text-anchor=\"middle\">base value</text><line x1=\"5.718049626673699%\" y1=\"33\" x2=\"5.718049626673699%\" y2=\"37\" style=\"stroke:rgb(150,150,150);stroke-width:1\" /><text x=\"5.718049626673699%\" y=\"27\" font-size=\"13px\" style=\"stroke:#ffffff;stroke-width:8px;\" font-weight=\"bold\" fill=\"rgb(255,255,255)\" dominant-baseline=\"bottom\" text-anchor=\"middle\">0.392401</text><text x=\"5.718049626673699%\" y=\"27\" font-size=\"13px\" font-weight=\"bold\" fill=\"rgb(0,0,0)\" dominant-baseline=\"bottom\" text-anchor=\"middle\">0.392401</text><text x=\"5.718049626673699%\" y=\"10\" font-size=\"12px\" fill=\"rgb(120,120,120)\" dominant-baseline=\"bottom\" text-anchor=\"middle\">f<tspan baseline-shift=\"sub\" font-size=\"8px\">soc.religion.christian</tspan>(inputs)</text><rect x=\"4.5100193235483905%\" width=\"1.2080303031253046%\" y=\"40\" height=\"18\" style=\"fill:rgb(255.0, 0.0, 81.08083606031792); stroke-width:0; stroke:rgb(0,0,0)\" /><line x1=\"5.101625360888471%\" x2=\"5.718049626673699%\" y1=\"60\" y2=\"60\" id=\"_fb_eyjetxaguigabqzznaiu_ind_3\" style=\"stroke:rgb(255.0, 0.0, 81.08083606031792);stroke-width:2; opacity: 0\"/><text x=\"5.409837493781085%\" y=\"71\" font-size=\"12px\" id=\"_fs_eyjetxaguigabqzznaiu_ind_3\" fill=\"rgb(255.0, 0.0, 81.08083606031792)\" style=\"opacity: 0\" dominant-baseline=\"middle\" text-anchor=\"middle\">0.001</text><svg x=\"5.101625360888471%\" y=\"40\" height=\"20\" width=\"0.6164242657852279%\">  <svg x=\"0\" y=\"0\" width=\"100%\" height=\"100%\">    <text x=\"50%\" y=\"9\" font-size=\"12px\" fill=\"rgb(255,255,255)\" dominant-baseline=\"middle\" text-anchor=\"middle\">Mu</text>  </svg></svg><line x1=\"4.5100193235483905%\" x2=\"5.101625360888471%\" y1=\"60\" y2=\"60\" id=\"_fb_eyjetxaguigabqzznaiu_ind_1\" style=\"stroke:rgb(255.0, 0.0, 81.08083606031792);stroke-width:2; opacity: 0\"/><text x=\"4.8058223422184305%\" y=\"71\" font-size=\"12px\" id=\"_fs_eyjetxaguigabqzznaiu_ind_1\" fill=\"rgb(255.0, 0.0, 81.08083606031792)\" style=\"opacity: 0\" dominant-baseline=\"middle\" text-anchor=\"middle\">0.001</text><svg x=\"4.5100193235483905%\" y=\"40\" height=\"20\" width=\"0.5916060373400809%\">  <svg x=\"0\" y=\"0\" width=\"100%\" height=\"100%\">    <text x=\"50%\" y=\"9\" font-size=\"12px\" fill=\"rgb(255,255,255)\" dominant-baseline=\"middle\" text-anchor=\"middle\">El</text>  </svg></svg><g transform=\"translate(0,0)\">  <svg x=\"5.101625360888471%\" y=\"40\" height=\"18\" overflow=\"visible\" width=\"30\">    <path d=\"M 0 -9 l 6 18 L 0 25\" fill=\"none\" style=\"stroke:rgb(255.0, 0.0, 81.08083606031792);stroke-width:2\" />  </svg></g><g transform=\"translate(2,0)\">  <svg x=\"5.101625360888471%\" y=\"40\" height=\"18\" overflow=\"visible\" width=\"30\">    <path d=\"M 0 -9 l 6 18 L 0 25\" fill=\"none\" style=\"stroke:rgb(255.0, 0.0, 81.08083606031792);stroke-width:2\" />  </svg></g><g transform=\"translate(4,0)\">  <svg x=\"5.101625360888471%\" y=\"40\" height=\"18\" overflow=\"visible\" width=\"30\">    <path d=\"M 0 -9 l 6 18 L 0 25\" fill=\"none\" style=\"stroke:rgb(255.0, 0.0, 81.08083606031792);stroke-width:2\" />  </svg></g><g transform=\"translate(6,0)\">  <svg x=\"5.101625360888471%\" y=\"40\" height=\"18\" overflow=\"visible\" width=\"30\">    <path d=\"M 0 -9 l 6 18 L 0 25\" fill=\"none\" style=\"stroke:rgb(255.0, 0.0, 81.08083606031792);stroke-width:2\" />  </svg></g><g transform=\"translate(-8,0)\">  <svg x=\"5.101625360888471%\" y=\"40\" height=\"18\" overflow=\"visible\" width=\"30\">    <path d=\"M 0 -9 l 6 18 L 0 25\" fill=\"none\" style=\"stroke:rgb(255.0, 0.0, 81.08083606031792);stroke-width:2\" />  </svg></g><g transform=\"translate(-6,0)\">  <svg x=\"5.101625360888471%\" y=\"40\" height=\"18\" overflow=\"visible\" width=\"30\">    <path d=\"M 0 -9 l 6 18 L 0 25\" fill=\"none\" style=\"stroke:rgb(255.0, 0.0, 81.08083606031792);stroke-width:2\" />  </svg></g><g transform=\"translate(-4,0)\">  <svg x=\"5.101625360888471%\" y=\"40\" height=\"18\" overflow=\"visible\" width=\"30\">    <path d=\"M 0 -9 l 6 18 L 0 25\" fill=\"none\" style=\"stroke:rgb(255.0, 0.0, 81.08083606031792);stroke-width:2\" />  </svg></g><g transform=\"translate(-2,0)\">  <svg x=\"5.101625360888471%\" y=\"40\" height=\"18\" overflow=\"visible\" width=\"30\">    <path d=\"M 0 -9 l 6 18 L 0 25\" fill=\"none\" style=\"stroke:rgb(255.0, 0.0, 81.08083606031792);stroke-width:2\" />  </svg></g><rect transform=\"translate(-8,0)\" x=\"5.718049626673699%\" y=\"40\" width=\"8\" height=\"18\" style=\"fill:rgb(255.0, 0.0, 81.08083606031792)\"/><g transform=\"translate(-11.5,0)\">  <svg x=\"4.5100193235483905%\" y=\"40\" height=\"18\" overflow=\"visible\" width=\"30\">    <path d=\"M 10 -9 l 6 18 L 10 25 L 0 25 L 0 -9\" fill=\"#ffffff\" style=\"stroke:rgb(255,255,255);stroke-width:2\" />  </svg></g><g transform=\"translate(-1.5,0)\">  <svg x=\"5.718049626673699%\" y=\"40\" height=\"18\" overflow=\"visible\" width=\"30\">    <path d=\"M 0 -9 l 6 18 L 0 25\" fill=\"none\" style=\"stroke:rgb(255, 195, 213);stroke-width:2\" />  </svg></g><rect x=\"5.101625360888471%\" y=\"40\" height=\"20\" width=\"0.6164242657852279%\"      onmouseover=\"document.getElementById('_tp_eyjetxaguigabqzznaiu_ind_3').style.textDecoration = 'underline';document.getElementById('_fs_eyjetxaguigabqzznaiu_ind_3').style.opacity = 1;document.getElementById('_fb_eyjetxaguigabqzznaiu_ind_3').style.opacity = 1;\"      onmouseout=\"document.getElementById('_tp_eyjetxaguigabqzznaiu_ind_3').style.textDecoration = 'none';document.getElementById('_fs_eyjetxaguigabqzznaiu_ind_3').style.opacity = 0;document.getElementById('_fb_eyjetxaguigabqzznaiu_ind_3').style.opacity = 0;\" style=\"fill:rgb(0,0,0,0)\" /><rect x=\"4.5100193235483905%\" y=\"40\" height=\"20\" width=\"0.5916060373400809%\"      onmouseover=\"document.getElementById('_tp_eyjetxaguigabqzznaiu_ind_1').style.textDecoration = 'underline';document.getElementById('_fs_eyjetxaguigabqzznaiu_ind_1').style.opacity = 1;document.getElementById('_fb_eyjetxaguigabqzznaiu_ind_1').style.opacity = 1;\"      onmouseout=\"document.getElementById('_tp_eyjetxaguigabqzznaiu_ind_1').style.textDecoration = 'none';document.getElementById('_fs_eyjetxaguigabqzznaiu_ind_1').style.opacity = 0;document.getElementById('_fb_eyjetxaguigabqzznaiu_ind_1').style.opacity = 0;\" style=\"fill:rgb(0,0,0,0)\" /><rect x=\"5.718049626673699%\" width=\"43.89216293235857%\" y=\"40\" height=\"18\" style=\"fill:rgb(0.0, 138.56128015770727, 250.76166088685727); stroke-width:0; stroke:rgb(0,0,0)\" /><line x1=\"5.718049626673699%\" x2=\"31.397381530988888%\" y1=\"60\" y2=\"60\" id=\"_fb_eyjetxaguigabqzznaiu_ind_7\" style=\"stroke:rgb(0.0, 138.56128015770727, 250.76166088685727);stroke-width:2; opacity: 0\"/><text x=\"18.557715578831292%\" y=\"71\" font-size=\"12px\" fill=\"rgb(0.0, 138.56128015770727, 250.76166088685727)\" id=\"_fs_eyjetxaguigabqzznaiu_ind_7\" style=\"opacity: 0\" dominant-baseline=\"middle\" text-anchor=\"middle\">-0.062</text><svg x=\"5.718049626673699%\" y=\"40\" height=\"20\" width=\"25.679331904315188%\">  <svg x=\"0\" y=\"0\" width=\"100%\" height=\"100%\">    <text x=\"50%\" y=\"9\" font-size=\"12px\" fill=\"rgb(255,255,255)\" dominant-baseline=\"middle\" text-anchor=\"middle\">satellites</text>  </svg></svg><line x1=\"31.397381530988888%\" x2=\"40.21798652325524%\" y1=\"60\" y2=\"60\" id=\"_fb_eyjetxaguigabqzznaiu_ind_6\" style=\"stroke:rgb(0.0, 138.56128015770727, 250.76166088685727);stroke-width:2; opacity: 0\"/><text x=\"35.807684027122065%\" y=\"71\" font-size=\"12px\" fill=\"rgb(0.0, 138.56128015770727, 250.76166088685727)\" id=\"_fs_eyjetxaguigabqzznaiu_ind_6\" style=\"opacity: 0\" dominant-baseline=\"middle\" text-anchor=\"middle\">-0.021</text><svg x=\"31.397381530988888%\" y=\"40\" height=\"20\" width=\"8.820604992266354%\">  <svg x=\"0\" y=\"0\" width=\"100%\" height=\"100%\">    <text x=\"50%\" y=\"9\" font-size=\"12px\" fill=\"rgb(255,255,255)\" dominant-baseline=\"middle\" text-anchor=\"middle\">launching</text>  </svg></svg><line x1=\"40.21798652325524%\" x2=\"44.244817041569966%\" y1=\"60\" y2=\"60\" id=\"_fb_eyjetxaguigabqzznaiu_ind_8\" style=\"stroke:rgb(0.0, 138.56128015770727, 250.76166088685727);stroke-width:2; opacity: 0\"/><text x=\"42.231401782412604%\" y=\"71\" font-size=\"12px\" fill=\"rgb(0.0, 138.56128015770727, 250.76166088685727)\" id=\"_fs_eyjetxaguigabqzznaiu_ind_8\" style=\"opacity: 0\" dominant-baseline=\"middle\" text-anchor=\"middle\">-0.01</text><svg x=\"40.21798652325524%\" y=\"40\" height=\"20\" width=\"4.026830518314725%\">  <svg x=\"0\" y=\"0\" width=\"100%\" height=\"100%\">    <text x=\"50%\" y=\"9\" font-size=\"12px\" fill=\"rgb(255,255,255)\" dominant-baseline=\"middle\" text-anchor=\"middle\">.</text>  </svg></svg><line x1=\"44.244817041569966%\" x2=\"48.13198473553646%\" y1=\"60\" y2=\"60\" id=\"_fb_eyjetxaguigabqzznaiu_ind_4\" style=\"stroke:rgb(0.0, 138.56128015770727, 250.76166088685727);stroke-width:2; opacity: 0\"/><text x=\"46.18840088855322%\" y=\"71\" font-size=\"12px\" fill=\"rgb(0.0, 138.56128015770727, 250.76166088685727)\" id=\"_fs_eyjetxaguigabqzznaiu_ind_4\" style=\"opacity: 0\" dominant-baseline=\"middle\" text-anchor=\"middle\">-0.009</text><svg x=\"44.244817041569966%\" y=\"40\" height=\"20\" width=\"3.8871676939664965%\">  <svg x=\"0\" y=\"0\" width=\"100%\" height=\"100%\">    <text x=\"50%\" y=\"9\" font-size=\"12px\" fill=\"rgb(255,255,255)\" dominant-baseline=\"middle\" text-anchor=\"middle\">sk</text>  </svg></svg><line x1=\"48.13198473553646%\" x2=\"49.07033048407445%\" y1=\"60\" y2=\"60\" id=\"_fb_eyjetxaguigabqzznaiu_ind_2\" style=\"stroke:rgb(0.0, 138.56128015770727, 250.76166088685727);stroke-width:2; opacity: 0\"/><text x=\"48.601157609805455%\" y=\"71\" font-size=\"12px\" fill=\"rgb(0.0, 138.56128015770727, 250.76166088685727)\" id=\"_fs_eyjetxaguigabqzznaiu_ind_2\" style=\"opacity: 0\" dominant-baseline=\"middle\" text-anchor=\"middle\">-0.002</text><svg x=\"48.13198473553646%\" y=\"40\" height=\"20\" width=\"0.9383457485379836%\">  <svg x=\"0\" y=\"0\" width=\"100%\" height=\"100%\">    <text x=\"50%\" y=\"9\" font-size=\"12px\" fill=\"rgb(255,255,255)\" dominant-baseline=\"middle\" text-anchor=\"middle\">on</text>  </svg></svg><line x1=\"49.07033048407445%\" x2=\"49.61021169797983%\" y1=\"60\" y2=\"60\" id=\"_fb_eyjetxaguigabqzznaiu_ind_5\" style=\"stroke:rgb(0.0, 138.56128015770727, 250.76166088685727);stroke-width:2; opacity: 0\"/><text x=\"49.340271091027134%\" y=\"71\" font-size=\"12px\" fill=\"rgb(0.0, 138.56128015770727, 250.76166088685727)\" id=\"_fs_eyjetxaguigabqzznaiu_ind_5\" style=\"opacity: 0\" dominant-baseline=\"middle\" text-anchor=\"middle\">-0.001</text><svg x=\"49.07033048407445%\" y=\"40\" height=\"20\" width=\"0.5398812139053817%\">  <svg x=\"0\" y=\"0\" width=\"100%\" height=\"100%\">    <text x=\"50%\" y=\"9\" font-size=\"12px\" fill=\"rgb(255,255,255)\" dominant-baseline=\"middle\" text-anchor=\"middle\">likes</text>  </svg></svg><line x1=\"49.61021169797983%\" x2=\"49.61021221570614%\" y1=\"60\" y2=\"60\" id=\"_fb_eyjetxaguigabqzznaiu_ind_0\" style=\"stroke:rgb(0.0, 138.56128015770727, 250.76166088685727);stroke-width:2; opacity: 0\"/><text x=\"49.61021195684299%\" y=\"71\" font-size=\"12px\" fill=\"rgb(0.0, 138.56128015770727, 250.76166088685727)\" id=\"_fs_eyjetxaguigabqzznaiu_ind_0\" style=\"opacity: 0\" dominant-baseline=\"middle\" text-anchor=\"middle\">-0.0</text><svg x=\"49.61021169797983%\" y=\"40\" height=\"20\" width=\"5.17726313375988e-07%\">  <svg x=\"0\" y=\"0\" width=\"100%\" height=\"100%\">    <text x=\"50%\" y=\"9\" font-size=\"12px\" fill=\"rgb(255,255,255)\" dominant-baseline=\"middle\" text-anchor=\"middle\"></text>  </svg></svg><line x1=\"49.61021221570614%\" x2=\"49.61021255903228%\" y1=\"60\" y2=\"60\" id=\"_fb_eyjetxaguigabqzznaiu_ind_9\" style=\"stroke:rgb(0.0, 138.56128015770727, 250.76166088685727);stroke-width:2; opacity: 0\"/><text x=\"49.61021238736921%\" y=\"71\" font-size=\"12px\" fill=\"rgb(0.0, 138.56128015770727, 250.76166088685727)\" id=\"_fs_eyjetxaguigabqzznaiu_ind_9\" style=\"opacity: 0\" dominant-baseline=\"middle\" text-anchor=\"middle\">-0.0</text><svg x=\"49.61021221570614%\" y=\"40\" height=\"20\" width=\"3.4332613552123803e-07%\">  <svg x=\"0\" y=\"0\" width=\"100%\" height=\"100%\">    <text x=\"50%\" y=\"9\" font-size=\"12px\" fill=\"rgb(255,255,255)\" dominant-baseline=\"middle\" text-anchor=\"middle\"></text>  </svg></svg><g transform=\"translate(-8,0)\">  <svg x=\"31.397381530988888%\" y=\"40\" height=\"18\" overflow=\"visible\" width=\"30\">    <path d=\"M 8 -9 l -6 18 L 8 25\" fill=\"none\" style=\"stroke:rgb(0.0, 138.56128015770727, 250.76166088685727);stroke-width:2\" />  </svg></g><g transform=\"translate(-10,0)\">  <svg x=\"31.397381530988888%\" y=\"40\" height=\"18\" overflow=\"visible\" width=\"30\">    <path d=\"M 8 -9 l -6 18 L 8 25\" fill=\"none\" style=\"stroke:rgb(0.0, 138.56128015770727, 250.76166088685727);stroke-width:2\" />  </svg></g><g transform=\"translate(-12,0)\">  <svg x=\"31.397381530988888%\" y=\"40\" height=\"18\" overflow=\"visible\" width=\"30\">    <path d=\"M 8 -9 l -6 18 L 8 25\" fill=\"none\" style=\"stroke:rgb(0.0, 138.56128015770727, 250.76166088685727);stroke-width:2\" />  </svg></g><g transform=\"translate(-14,0)\">  <svg x=\"31.397381530988888%\" y=\"40\" height=\"18\" overflow=\"visible\" width=\"30\">    <path d=\"M 8 -9 l -6 18 L 8 25\" fill=\"none\" style=\"stroke:rgb(0.0, 138.56128015770727, 250.76166088685727);stroke-width:2\" />  </svg></g><g transform=\"translate(2,0)\">  <svg x=\"31.397381530988888%\" y=\"40\" height=\"18\" overflow=\"visible\" width=\"30\">    <path d=\"M 8 -9 l -6 18 L 8 25\" fill=\"none\" style=\"stroke:rgb(0.0, 138.56128015770727, 250.76166088685727);stroke-width:2\" />  </svg></g><g transform=\"translate(0,0)\">  <svg x=\"31.397381530988888%\" y=\"40\" height=\"18\" overflow=\"visible\" width=\"30\">    <path d=\"M 8 -9 l -6 18 L 8 25\" fill=\"none\" style=\"stroke:rgb(0.0, 138.56128015770727, 250.76166088685727);stroke-width:2\" />  </svg></g><g transform=\"translate(-2,0)\">  <svg x=\"31.397381530988888%\" y=\"40\" height=\"18\" overflow=\"visible\" width=\"30\">    <path d=\"M 8 -9 l -6 18 L 8 25\" fill=\"none\" style=\"stroke:rgb(0.0, 138.56128015770727, 250.76166088685727);stroke-width:2\" />  </svg></g><g transform=\"translate(-4,0)\">  <svg x=\"31.397381530988888%\" y=\"40\" height=\"18\" overflow=\"visible\" width=\"30\">    <path d=\"M 8 -9 l -6 18 L 8 25\" fill=\"none\" style=\"stroke:rgb(0.0, 138.56128015770727, 250.76166088685727);stroke-width:2\" />  </svg></g><g transform=\"translate(-8,0)\">  <svg x=\"40.21798652325524%\" y=\"40\" height=\"18\" overflow=\"visible\" width=\"30\">    <path d=\"M 8 -9 l -6 18 L 8 25\" fill=\"none\" style=\"stroke:rgb(0.0, 138.56128015770727, 250.76166088685727);stroke-width:2\" />  </svg></g><g transform=\"translate(-10,0)\">  <svg x=\"40.21798652325524%\" y=\"40\" height=\"18\" overflow=\"visible\" width=\"30\">    <path d=\"M 8 -9 l -6 18 L 8 25\" fill=\"none\" style=\"stroke:rgb(0.0, 138.56128015770727, 250.76166088685727);stroke-width:2\" />  </svg></g><g transform=\"translate(-12,0)\">  <svg x=\"40.21798652325524%\" y=\"40\" height=\"18\" overflow=\"visible\" width=\"30\">    <path d=\"M 8 -9 l -6 18 L 8 25\" fill=\"none\" style=\"stroke:rgb(0.0, 138.56128015770727, 250.76166088685727);stroke-width:2\" />  </svg></g><g transform=\"translate(-14,0)\">  <svg x=\"40.21798652325524%\" y=\"40\" height=\"18\" overflow=\"visible\" width=\"30\">    <path d=\"M 8 -9 l -6 18 L 8 25\" fill=\"none\" style=\"stroke:rgb(0.0, 138.56128015770727, 250.76166088685727);stroke-width:2\" />  </svg></g><g transform=\"translate(2,0)\">  <svg x=\"40.21798652325524%\" y=\"40\" height=\"18\" overflow=\"visible\" width=\"30\">    <path d=\"M 8 -9 l -6 18 L 8 25\" fill=\"none\" style=\"stroke:rgb(0.0, 138.56128015770727, 250.76166088685727);stroke-width:2\" />  </svg></g><g transform=\"translate(0,0)\">  <svg x=\"40.21798652325524%\" y=\"40\" height=\"18\" overflow=\"visible\" width=\"30\">    <path d=\"M 8 -9 l -6 18 L 8 25\" fill=\"none\" style=\"stroke:rgb(0.0, 138.56128015770727, 250.76166088685727);stroke-width:2\" />  </svg></g><g transform=\"translate(-2,0)\">  <svg x=\"40.21798652325524%\" y=\"40\" height=\"18\" overflow=\"visible\" width=\"30\">    <path d=\"M 8 -9 l -6 18 L 8 25\" fill=\"none\" style=\"stroke:rgb(0.0, 138.56128015770727, 250.76166088685727);stroke-width:2\" />  </svg></g><g transform=\"translate(-4,0)\">  <svg x=\"40.21798652325524%\" y=\"40\" height=\"18\" overflow=\"visible\" width=\"30\">    <path d=\"M 8 -9 l -6 18 L 8 25\" fill=\"none\" style=\"stroke:rgb(0.0, 138.56128015770727, 250.76166088685727);stroke-width:2\" />  </svg></g><g transform=\"translate(-8,0)\">  <svg x=\"44.244817041569966%\" y=\"40\" height=\"18\" overflow=\"visible\" width=\"30\">    <path d=\"M 8 -9 l -6 18 L 8 25\" fill=\"none\" style=\"stroke:rgb(0.0, 138.56128015770727, 250.76166088685727);stroke-width:2\" />  </svg></g><g transform=\"translate(-10,0)\">  <svg x=\"44.244817041569966%\" y=\"40\" height=\"18\" overflow=\"visible\" width=\"30\">    <path d=\"M 8 -9 l -6 18 L 8 25\" fill=\"none\" style=\"stroke:rgb(0.0, 138.56128015770727, 250.76166088685727);stroke-width:2\" />  </svg></g><g transform=\"translate(-12,0)\">  <svg x=\"44.244817041569966%\" y=\"40\" height=\"18\" overflow=\"visible\" width=\"30\">    <path d=\"M 8 -9 l -6 18 L 8 25\" fill=\"none\" style=\"stroke:rgb(0.0, 138.56128015770727, 250.76166088685727);stroke-width:2\" />  </svg></g><g transform=\"translate(-14,0)\">  <svg x=\"44.244817041569966%\" y=\"40\" height=\"18\" overflow=\"visible\" width=\"30\">    <path d=\"M 8 -9 l -6 18 L 8 25\" fill=\"none\" style=\"stroke:rgb(0.0, 138.56128015770727, 250.76166088685727);stroke-width:2\" />  </svg></g><g transform=\"translate(2,0)\">  <svg x=\"44.244817041569966%\" y=\"40\" height=\"18\" overflow=\"visible\" width=\"30\">    <path d=\"M 8 -9 l -6 18 L 8 25\" fill=\"none\" style=\"stroke:rgb(0.0, 138.56128015770727, 250.76166088685727);stroke-width:2\" />  </svg></g><g transform=\"translate(0,0)\">  <svg x=\"44.244817041569966%\" y=\"40\" height=\"18\" overflow=\"visible\" width=\"30\">    <path d=\"M 8 -9 l -6 18 L 8 25\" fill=\"none\" style=\"stroke:rgb(0.0, 138.56128015770727, 250.76166088685727);stroke-width:2\" />  </svg></g><g transform=\"translate(-2,0)\">  <svg x=\"44.244817041569966%\" y=\"40\" height=\"18\" overflow=\"visible\" width=\"30\">    <path d=\"M 8 -9 l -6 18 L 8 25\" fill=\"none\" style=\"stroke:rgb(0.0, 138.56128015770727, 250.76166088685727);stroke-width:2\" />  </svg></g><g transform=\"translate(-4,0)\">  <svg x=\"44.244817041569966%\" y=\"40\" height=\"18\" overflow=\"visible\" width=\"30\">    <path d=\"M 8 -9 l -6 18 L 8 25\" fill=\"none\" style=\"stroke:rgb(0.0, 138.56128015770727, 250.76166088685727);stroke-width:2\" />  </svg></g><g transform=\"translate(-8,0)\">  <svg x=\"48.13198473553646%\" y=\"40\" height=\"18\" overflow=\"visible\" width=\"30\">    <path d=\"M 8 -9 l -6 18 L 8 25\" fill=\"none\" style=\"stroke:rgb(0.0, 138.56128015770727, 250.76166088685727);stroke-width:2\" />  </svg></g><g transform=\"translate(-10,0)\">  <svg x=\"48.13198473553646%\" y=\"40\" height=\"18\" overflow=\"visible\" width=\"30\">    <path d=\"M 8 -9 l -6 18 L 8 25\" fill=\"none\" style=\"stroke:rgb(0.0, 138.56128015770727, 250.76166088685727);stroke-width:2\" />  </svg></g><g transform=\"translate(-12,0)\">  <svg x=\"48.13198473553646%\" y=\"40\" height=\"18\" overflow=\"visible\" width=\"30\">    <path d=\"M 8 -9 l -6 18 L 8 25\" fill=\"none\" style=\"stroke:rgb(0.0, 138.56128015770727, 250.76166088685727);stroke-width:2\" />  </svg></g><g transform=\"translate(-14,0)\">  <svg x=\"48.13198473553646%\" y=\"40\" height=\"18\" overflow=\"visible\" width=\"30\">    <path d=\"M 8 -9 l -6 18 L 8 25\" fill=\"none\" style=\"stroke:rgb(0.0, 138.56128015770727, 250.76166088685727);stroke-width:2\" />  </svg></g><g transform=\"translate(2,0)\">  <svg x=\"48.13198473553646%\" y=\"40\" height=\"18\" overflow=\"visible\" width=\"30\">    <path d=\"M 8 -9 l -6 18 L 8 25\" fill=\"none\" style=\"stroke:rgb(0.0, 138.56128015770727, 250.76166088685727);stroke-width:2\" />  </svg></g><g transform=\"translate(0,0)\">  <svg x=\"48.13198473553646%\" y=\"40\" height=\"18\" overflow=\"visible\" width=\"30\">    <path d=\"M 8 -9 l -6 18 L 8 25\" fill=\"none\" style=\"stroke:rgb(0.0, 138.56128015770727, 250.76166088685727);stroke-width:2\" />  </svg></g><g transform=\"translate(-2,0)\">  <svg x=\"48.13198473553646%\" y=\"40\" height=\"18\" overflow=\"visible\" width=\"30\">    <path d=\"M 8 -9 l -6 18 L 8 25\" fill=\"none\" style=\"stroke:rgb(0.0, 138.56128015770727, 250.76166088685727);stroke-width:2\" />  </svg></g><g transform=\"translate(-4,0)\">  <svg x=\"48.13198473553646%\" y=\"40\" height=\"18\" overflow=\"visible\" width=\"30\">    <path d=\"M 8 -9 l -6 18 L 8 25\" fill=\"none\" style=\"stroke:rgb(0.0, 138.56128015770727, 250.76166088685727);stroke-width:2\" />  </svg></g><g transform=\"translate(-8,0)\">  <svg x=\"49.07033048407445%\" y=\"40\" height=\"18\" overflow=\"visible\" width=\"30\">    <path d=\"M 8 -9 l -6 18 L 8 25\" fill=\"none\" style=\"stroke:rgb(0.0, 138.56128015770727, 250.76166088685727);stroke-width:2\" />  </svg></g><g transform=\"translate(-10,0)\">  <svg x=\"49.07033048407445%\" y=\"40\" height=\"18\" overflow=\"visible\" width=\"30\">    <path d=\"M 8 -9 l -6 18 L 8 25\" fill=\"none\" style=\"stroke:rgb(0.0, 138.56128015770727, 250.76166088685727);stroke-width:2\" />  </svg></g><g transform=\"translate(-12,0)\">  <svg x=\"49.07033048407445%\" y=\"40\" height=\"18\" overflow=\"visible\" width=\"30\">    <path d=\"M 8 -9 l -6 18 L 8 25\" fill=\"none\" style=\"stroke:rgb(0.0, 138.56128015770727, 250.76166088685727);stroke-width:2\" />  </svg></g><g transform=\"translate(-14,0)\">  <svg x=\"49.07033048407445%\" y=\"40\" height=\"18\" overflow=\"visible\" width=\"30\">    <path d=\"M 8 -9 l -6 18 L 8 25\" fill=\"none\" style=\"stroke:rgb(0.0, 138.56128015770727, 250.76166088685727);stroke-width:2\" />  </svg></g><g transform=\"translate(2,0)\">  <svg x=\"49.07033048407445%\" y=\"40\" height=\"18\" overflow=\"visible\" width=\"30\">    <path d=\"M 8 -9 l -6 18 L 8 25\" fill=\"none\" style=\"stroke:rgb(0.0, 138.56128015770727, 250.76166088685727);stroke-width:2\" />  </svg></g><g transform=\"translate(0,0)\">  <svg x=\"49.07033048407445%\" y=\"40\" height=\"18\" overflow=\"visible\" width=\"30\">    <path d=\"M 8 -9 l -6 18 L 8 25\" fill=\"none\" style=\"stroke:rgb(0.0, 138.56128015770727, 250.76166088685727);stroke-width:2\" />  </svg></g><g transform=\"translate(-2,0)\">  <svg x=\"49.07033048407445%\" y=\"40\" height=\"18\" overflow=\"visible\" width=\"30\">    <path d=\"M 8 -9 l -6 18 L 8 25\" fill=\"none\" style=\"stroke:rgb(0.0, 138.56128015770727, 250.76166088685727);stroke-width:2\" />  </svg></g><g transform=\"translate(-4,0)\">  <svg x=\"49.07033048407445%\" y=\"40\" height=\"18\" overflow=\"visible\" width=\"30\">    <path d=\"M 8 -9 l -6 18 L 8 25\" fill=\"none\" style=\"stroke:rgb(0.0, 138.56128015770727, 250.76166088685727);stroke-width:2\" />  </svg></g><g transform=\"translate(-8,0)\">  <svg x=\"49.61021169797983%\" y=\"40\" height=\"18\" overflow=\"visible\" width=\"30\">    <path d=\"M 8 -9 l -6 18 L 8 25\" fill=\"none\" style=\"stroke:rgb(0.0, 138.56128015770727, 250.76166088685727);stroke-width:2\" />  </svg></g><g transform=\"translate(-10,0)\">  <svg x=\"49.61021169797983%\" y=\"40\" height=\"18\" overflow=\"visible\" width=\"30\">    <path d=\"M 8 -9 l -6 18 L 8 25\" fill=\"none\" style=\"stroke:rgb(0.0, 138.56128015770727, 250.76166088685727);stroke-width:2\" />  </svg></g><g transform=\"translate(-12,0)\">  <svg x=\"49.61021169797983%\" y=\"40\" height=\"18\" overflow=\"visible\" width=\"30\">    <path d=\"M 8 -9 l -6 18 L 8 25\" fill=\"none\" style=\"stroke:rgb(0.0, 138.56128015770727, 250.76166088685727);stroke-width:2\" />  </svg></g><g transform=\"translate(-14,0)\">  <svg x=\"49.61021169797983%\" y=\"40\" height=\"18\" overflow=\"visible\" width=\"30\">    <path d=\"M 8 -9 l -6 18 L 8 25\" fill=\"none\" style=\"stroke:rgb(0.0, 138.56128015770727, 250.76166088685727);stroke-width:2\" />  </svg></g><g transform=\"translate(2,0)\">  <svg x=\"49.61021169797983%\" y=\"40\" height=\"18\" overflow=\"visible\" width=\"30\">    <path d=\"M 8 -9 l -6 18 L 8 25\" fill=\"none\" style=\"stroke:rgb(0.0, 138.56128015770727, 250.76166088685727);stroke-width:2\" />  </svg></g><g transform=\"translate(0,0)\">  <svg x=\"49.61021169797983%\" y=\"40\" height=\"18\" overflow=\"visible\" width=\"30\">    <path d=\"M 8 -9 l -6 18 L 8 25\" fill=\"none\" style=\"stroke:rgb(0.0, 138.56128015770727, 250.76166088685727);stroke-width:2\" />  </svg></g><g transform=\"translate(-2,0)\">  <svg x=\"49.61021169797983%\" y=\"40\" height=\"18\" overflow=\"visible\" width=\"30\">    <path d=\"M 8 -9 l -6 18 L 8 25\" fill=\"none\" style=\"stroke:rgb(0.0, 138.56128015770727, 250.76166088685727);stroke-width:2\" />  </svg></g><g transform=\"translate(-4,0)\">  <svg x=\"49.61021169797983%\" y=\"40\" height=\"18\" overflow=\"visible\" width=\"30\">    <path d=\"M 8 -9 l -6 18 L 8 25\" fill=\"none\" style=\"stroke:rgb(0.0, 138.56128015770727, 250.76166088685727);stroke-width:2\" />  </svg></g><g transform=\"translate(-8,0)\">  <svg x=\"49.61021221570614%\" y=\"40\" height=\"18\" overflow=\"visible\" width=\"30\">    <path d=\"M 8 -9 l -6 18 L 8 25\" fill=\"none\" style=\"stroke:rgb(0.0, 138.56128015770727, 250.76166088685727);stroke-width:2\" />  </svg></g><g transform=\"translate(-10,0)\">  <svg x=\"49.61021221570614%\" y=\"40\" height=\"18\" overflow=\"visible\" width=\"30\">    <path d=\"M 8 -9 l -6 18 L 8 25\" fill=\"none\" style=\"stroke:rgb(0.0, 138.56128015770727, 250.76166088685727);stroke-width:2\" />  </svg></g><g transform=\"translate(-12,0)\">  <svg x=\"49.61021221570614%\" y=\"40\" height=\"18\" overflow=\"visible\" width=\"30\">    <path d=\"M 8 -9 l -6 18 L 8 25\" fill=\"none\" style=\"stroke:rgb(0.0, 138.56128015770727, 250.76166088685727);stroke-width:2\" />  </svg></g><g transform=\"translate(-14,0)\">  <svg x=\"49.61021221570614%\" y=\"40\" height=\"18\" overflow=\"visible\" width=\"30\">    <path d=\"M 8 -9 l -6 18 L 8 25\" fill=\"none\" style=\"stroke:rgb(0.0, 138.56128015770727, 250.76166088685727);stroke-width:2\" />  </svg></g><g transform=\"translate(2,0)\">  <svg x=\"49.61021221570614%\" y=\"40\" height=\"18\" overflow=\"visible\" width=\"30\">    <path d=\"M 8 -9 l -6 18 L 8 25\" fill=\"none\" style=\"stroke:rgb(0.0, 138.56128015770727, 250.76166088685727);stroke-width:2\" />  </svg></g><g transform=\"translate(0,0)\">  <svg x=\"49.61021221570614%\" y=\"40\" height=\"18\" overflow=\"visible\" width=\"30\">    <path d=\"M 8 -9 l -6 18 L 8 25\" fill=\"none\" style=\"stroke:rgb(0.0, 138.56128015770727, 250.76166088685727);stroke-width:2\" />  </svg></g><g transform=\"translate(-2,0)\">  <svg x=\"49.61021221570614%\" y=\"40\" height=\"18\" overflow=\"visible\" width=\"30\">    <path d=\"M 8 -9 l -6 18 L 8 25\" fill=\"none\" style=\"stroke:rgb(0.0, 138.56128015770727, 250.76166088685727);stroke-width:2\" />  </svg></g><g transform=\"translate(-4,0)\">  <svg x=\"49.61021221570614%\" y=\"40\" height=\"18\" overflow=\"visible\" width=\"30\">    <path d=\"M 8 -9 l -6 18 L 8 25\" fill=\"none\" style=\"stroke:rgb(0.0, 138.56128015770727, 250.76166088685727);stroke-width:2\" />  </svg></g><rect transform=\"translate(0,0)\" x=\"5.718049626673699%\" y=\"40\" width=\"8\" height=\"18\" style=\"fill:rgb(0.0, 138.56128015770727, 250.76166088685727)\"/><g transform=\"translate(-6.0,0)\">  <svg x=\"49.61021255903228%\" y=\"40\" height=\"18\" overflow=\"visible\" width=\"30\">    <path d=\"M 8 -9 l -6 18 L 8 25 L 20 25 L 20 -9\" fill=\"#ffffff\" style=\"stroke:rgb(255,255,255);stroke-width:2\" />  </svg></g><g transform=\"translate(-6.0,0)\">  <svg x=\"31.397381530988888%\" y=\"40\" height=\"18\" overflow=\"visible\" width=\"30\">    <path d=\"M 8 -9 l -6 18 L 8 25\" fill=\"none\" style=\"stroke:rgb(208, 230, 250);stroke-width:2\" />  </svg></g><rect x=\"5.718049626673699%\" y=\"40\" height=\"20\" width=\"25.679331904315188%\"      onmouseover=\"document.getElementById('_tp_eyjetxaguigabqzznaiu_ind_7').style.textDecoration = 'underline';document.getElementById('_fs_eyjetxaguigabqzznaiu_ind_7').style.opacity = 1;document.getElementById('_fb_eyjetxaguigabqzznaiu_ind_7').style.opacity = 1;\"      onmouseout=\"document.getElementById('_tp_eyjetxaguigabqzznaiu_ind_7').style.textDecoration = 'none';document.getElementById('_fs_eyjetxaguigabqzznaiu_ind_7').style.opacity = 0;document.getElementById('_fb_eyjetxaguigabqzznaiu_ind_7').style.opacity = 0;\" style=\"fill:rgb(0,0,0,0)\" /><g transform=\"translate(-6.0,0)\">  <svg x=\"40.21798652325524%\" y=\"40\" height=\"18\" overflow=\"visible\" width=\"30\">    <path d=\"M 8 -9 l -6 18 L 8 25\" fill=\"none\" style=\"stroke:rgb(208, 230, 250);stroke-width:2\" />  </svg></g><rect x=\"31.397381530988888%\" y=\"40\" height=\"20\" width=\"8.820604992266354%\"      onmouseover=\"document.getElementById('_tp_eyjetxaguigabqzznaiu_ind_6').style.textDecoration = 'underline';document.getElementById('_fs_eyjetxaguigabqzznaiu_ind_6').style.opacity = 1;document.getElementById('_fb_eyjetxaguigabqzznaiu_ind_6').style.opacity = 1;\"      onmouseout=\"document.getElementById('_tp_eyjetxaguigabqzznaiu_ind_6').style.textDecoration = 'none';document.getElementById('_fs_eyjetxaguigabqzznaiu_ind_6').style.opacity = 0;document.getElementById('_fb_eyjetxaguigabqzznaiu_ind_6').style.opacity = 0;\" style=\"fill:rgb(0,0,0,0)\" /><g transform=\"translate(-6.0,0)\">  <svg x=\"44.244817041569966%\" y=\"40\" height=\"18\" overflow=\"visible\" width=\"30\">    <path d=\"M 8 -9 l -6 18 L 8 25\" fill=\"none\" style=\"stroke:rgb(208, 230, 250);stroke-width:2\" />  </svg></g><rect x=\"40.21798652325524%\" y=\"40\" height=\"20\" width=\"4.026830518314725%\"      onmouseover=\"document.getElementById('_tp_eyjetxaguigabqzznaiu_ind_8').style.textDecoration = 'underline';document.getElementById('_fs_eyjetxaguigabqzznaiu_ind_8').style.opacity = 1;document.getElementById('_fb_eyjetxaguigabqzznaiu_ind_8').style.opacity = 1;\"      onmouseout=\"document.getElementById('_tp_eyjetxaguigabqzznaiu_ind_8').style.textDecoration = 'none';document.getElementById('_fs_eyjetxaguigabqzznaiu_ind_8').style.opacity = 0;document.getElementById('_fb_eyjetxaguigabqzznaiu_ind_8').style.opacity = 0;\" style=\"fill:rgb(0,0,0,0)\" /><g transform=\"translate(-6.0,0)\">  <svg x=\"48.13198473553646%\" y=\"40\" height=\"18\" overflow=\"visible\" width=\"30\">    <path d=\"M 8 -9 l -6 18 L 8 25\" fill=\"none\" style=\"stroke:rgb(208, 230, 250);stroke-width:2\" />  </svg></g><rect x=\"44.244817041569966%\" y=\"40\" height=\"20\" width=\"3.8871676939664965%\"      onmouseover=\"document.getElementById('_tp_eyjetxaguigabqzznaiu_ind_4').style.textDecoration = 'underline';document.getElementById('_fs_eyjetxaguigabqzznaiu_ind_4').style.opacity = 1;document.getElementById('_fb_eyjetxaguigabqzznaiu_ind_4').style.opacity = 1;\"      onmouseout=\"document.getElementById('_tp_eyjetxaguigabqzznaiu_ind_4').style.textDecoration = 'none';document.getElementById('_fs_eyjetxaguigabqzznaiu_ind_4').style.opacity = 0;document.getElementById('_fb_eyjetxaguigabqzznaiu_ind_4').style.opacity = 0;\" style=\"fill:rgb(0,0,0,0)\" /><g transform=\"translate(-6.0,0)\">  <svg x=\"49.07033048407445%\" y=\"40\" height=\"18\" overflow=\"visible\" width=\"30\">    <path d=\"M 8 -9 l -6 18 L 8 25\" fill=\"none\" style=\"stroke:rgb(208, 230, 250);stroke-width:2\" />  </svg></g><rect x=\"48.13198473553646%\" y=\"40\" height=\"20\" width=\"0.9383457485379836%\"      onmouseover=\"document.getElementById('_tp_eyjetxaguigabqzznaiu_ind_2').style.textDecoration = 'underline';document.getElementById('_fs_eyjetxaguigabqzznaiu_ind_2').style.opacity = 1;document.getElementById('_fb_eyjetxaguigabqzznaiu_ind_2').style.opacity = 1;\"      onmouseout=\"document.getElementById('_tp_eyjetxaguigabqzznaiu_ind_2').style.textDecoration = 'none';document.getElementById('_fs_eyjetxaguigabqzznaiu_ind_2').style.opacity = 0;document.getElementById('_fb_eyjetxaguigabqzznaiu_ind_2').style.opacity = 0;\" style=\"fill:rgb(0,0,0,0)\" /><g transform=\"translate(-6.0,0)\">  <svg x=\"49.61021169797983%\" y=\"40\" height=\"18\" overflow=\"visible\" width=\"30\">    <path d=\"M 8 -9 l -6 18 L 8 25\" fill=\"none\" style=\"stroke:rgb(208, 230, 250);stroke-width:2\" />  </svg></g><rect x=\"49.07033048407445%\" y=\"40\" height=\"20\" width=\"0.5398812139053817%\"      onmouseover=\"document.getElementById('_tp_eyjetxaguigabqzznaiu_ind_5').style.textDecoration = 'underline';document.getElementById('_fs_eyjetxaguigabqzznaiu_ind_5').style.opacity = 1;document.getElementById('_fb_eyjetxaguigabqzznaiu_ind_5').style.opacity = 1;\"      onmouseout=\"document.getElementById('_tp_eyjetxaguigabqzznaiu_ind_5').style.textDecoration = 'none';document.getElementById('_fs_eyjetxaguigabqzznaiu_ind_5').style.opacity = 0;document.getElementById('_fb_eyjetxaguigabqzznaiu_ind_5').style.opacity = 0;\" style=\"fill:rgb(0,0,0,0)\" /><g transform=\"translate(-6.0,0)\">  <svg x=\"49.61021221570614%\" y=\"40\" height=\"18\" overflow=\"visible\" width=\"30\">    <path d=\"M 8 -9 l -6 18 L 8 25\" fill=\"none\" style=\"stroke:rgb(208, 230, 250);stroke-width:2\" />  </svg></g><rect x=\"49.61021169797983%\" y=\"40\" height=\"20\" width=\"5.17726313375988e-07%\"      onmouseover=\"document.getElementById('_tp_eyjetxaguigabqzznaiu_ind_0').style.textDecoration = 'underline';document.getElementById('_fs_eyjetxaguigabqzznaiu_ind_0').style.opacity = 1;document.getElementById('_fb_eyjetxaguigabqzznaiu_ind_0').style.opacity = 1;\"      onmouseout=\"document.getElementById('_tp_eyjetxaguigabqzznaiu_ind_0').style.textDecoration = 'none';document.getElementById('_fs_eyjetxaguigabqzznaiu_ind_0').style.opacity = 0;document.getElementById('_fb_eyjetxaguigabqzznaiu_ind_0').style.opacity = 0;\" style=\"fill:rgb(0,0,0,0)\" /><rect x=\"49.61021221570614%\" y=\"40\" height=\"20\" width=\"3.4332613552123803e-07%\"      onmouseover=\"document.getElementById('_tp_eyjetxaguigabqzznaiu_ind_9').style.textDecoration = 'underline';document.getElementById('_fs_eyjetxaguigabqzznaiu_ind_9').style.opacity = 1;document.getElementById('_fb_eyjetxaguigabqzznaiu_ind_9').style.opacity = 1;\"      onmouseout=\"document.getElementById('_tp_eyjetxaguigabqzznaiu_ind_9').style.textDecoration = 'none';document.getElementById('_fs_eyjetxaguigabqzznaiu_ind_9').style.opacity = 0;document.getElementById('_fb_eyjetxaguigabqzznaiu_ind_9').style.opacity = 0;\" style=\"fill:rgb(0,0,0,0)\" /></svg><div align='center'><div style=\"color: rgb(120,120,120); font-size: 12px; margin-top: -15px;\">inputs</div><div style='display: inline; text-align: center;'\n",
       "    ><div style='display: none; color: #999; padding-top: 0px; font-size: 12px;'>-0.0</div\n",
       "        ><div id='_tp_eyjetxaguigabqzznaiu_ind_0'\n",
       "            style='display: inline; background: rgba(54.70588235294111, 122.49411764705886, 213.40784313725496, 0.0); border-radius: 3px; padding: 0px'\n",
       "            onclick=\"\n",
       "            if (this.previousSibling.style.display == 'none') {\n",
       "                this.previousSibling.style.display = 'block';\n",
       "                this.parentNode.style.display = 'inline-block';\n",
       "            } else {\n",
       "                this.previousSibling.style.display = 'none';\n",
       "                this.parentNode.style.display = 'inline';\n",
       "            }\"\n",
       "            onmouseover=\"document.getElementById('_fb_eyjetxaguigabqzznaiu_ind_0').style.opacity = 1; document.getElementById('_fs_eyjetxaguigabqzznaiu_ind_0').style.opacity = 1;\"\n",
       "            onmouseout=\"document.getElementById('_fb_eyjetxaguigabqzznaiu_ind_0').style.opacity = 0; document.getElementById('_fs_eyjetxaguigabqzznaiu_ind_0').style.opacity = 0;\"\n",
       "        ></div></div><div style='display: inline; text-align: center;'\n",
       "    ><div style='display: none; color: #999; padding-top: 0px; font-size: 12px;'>0.001</div\n",
       "        ><div id='_tp_eyjetxaguigabqzznaiu_ind_1'\n",
       "            style='display: inline; background: rgba(255.0, 13.0, 87.0, 0.014656367597544035); border-radius: 3px; padding: 0px'\n",
       "            onclick=\"\n",
       "            if (this.previousSibling.style.display == 'none') {\n",
       "                this.previousSibling.style.display = 'block';\n",
       "                this.parentNode.style.display = 'inline-block';\n",
       "            } else {\n",
       "                this.previousSibling.style.display = 'none';\n",
       "                this.parentNode.style.display = 'inline';\n",
       "            }\"\n",
       "            onmouseover=\"document.getElementById('_fb_eyjetxaguigabqzznaiu_ind_1').style.opacity = 1; document.getElementById('_fs_eyjetxaguigabqzznaiu_ind_1').style.opacity = 1;\"\n",
       "            onmouseout=\"document.getElementById('_fb_eyjetxaguigabqzznaiu_ind_1').style.opacity = 0; document.getElementById('_fs_eyjetxaguigabqzznaiu_ind_1').style.opacity = 0;\"\n",
       "        >El</div></div><div style='display: inline; text-align: center;'\n",
       "    ><div style='display: none; color: #999; padding-top: 0px; font-size: 12px;'>-0.002</div\n",
       "        ><div id='_tp_eyjetxaguigabqzznaiu_ind_2'\n",
       "            style='display: inline; background: rgba(30.0, 136.0, 229.0, 0.03042186571598325); border-radius: 3px; padding: 0px'\n",
       "            onclick=\"\n",
       "            if (this.previousSibling.style.display == 'none') {\n",
       "                this.previousSibling.style.display = 'block';\n",
       "                this.parentNode.style.display = 'inline-block';\n",
       "            } else {\n",
       "                this.previousSibling.style.display = 'none';\n",
       "                this.parentNode.style.display = 'inline';\n",
       "            }\"\n",
       "            onmouseover=\"document.getElementById('_fb_eyjetxaguigabqzznaiu_ind_2').style.opacity = 1; document.getElementById('_fs_eyjetxaguigabqzznaiu_ind_2').style.opacity = 1;\"\n",
       "            onmouseout=\"document.getElementById('_fb_eyjetxaguigabqzznaiu_ind_2').style.opacity = 0; document.getElementById('_fs_eyjetxaguigabqzznaiu_ind_2').style.opacity = 0;\"\n",
       "        >on </div></div><div style='display: inline; text-align: center;'\n",
       "    ><div style='display: none; color: #999; padding-top: 0px; font-size: 12px;'>0.001</div\n",
       "        ><div id='_tp_eyjetxaguigabqzznaiu_ind_3'\n",
       "            style='display: inline; background: rgba(255.0, 13.0, 87.0, 0.02253911665676371); border-radius: 3px; padding: 0px'\n",
       "            onclick=\"\n",
       "            if (this.previousSibling.style.display == 'none') {\n",
       "                this.previousSibling.style.display = 'block';\n",
       "                this.parentNode.style.display = 'inline-block';\n",
       "            } else {\n",
       "                this.previousSibling.style.display = 'none';\n",
       "                this.parentNode.style.display = 'inline';\n",
       "            }\"\n",
       "            onmouseover=\"document.getElementById('_fb_eyjetxaguigabqzznaiu_ind_3').style.opacity = 1; document.getElementById('_fs_eyjetxaguigabqzznaiu_ind_3').style.opacity = 1;\"\n",
       "            onmouseout=\"document.getElementById('_fb_eyjetxaguigabqzznaiu_ind_3').style.opacity = 0; document.getElementById('_fs_eyjetxaguigabqzznaiu_ind_3').style.opacity = 0;\"\n",
       "        >Mu</div></div><div style='display: inline; text-align: center;'\n",
       "    ><div style='display: none; color: #999; padding-top: 0px; font-size: 12px;'>-0.009</div\n",
       "        ><div id='_tp_eyjetxaguigabqzznaiu_ind_4'\n",
       "            style='display: inline; background: rgba(30.0, 136.0, 229.0, 0.14866310160427798); border-radius: 3px; padding: 0px'\n",
       "            onclick=\"\n",
       "            if (this.previousSibling.style.display == 'none') {\n",
       "                this.previousSibling.style.display = 'block';\n",
       "                this.parentNode.style.display = 'inline-block';\n",
       "            } else {\n",
       "                this.previousSibling.style.display = 'none';\n",
       "                this.parentNode.style.display = 'inline';\n",
       "            }\"\n",
       "            onmouseover=\"document.getElementById('_fb_eyjetxaguigabqzznaiu_ind_4').style.opacity = 1; document.getElementById('_fs_eyjetxaguigabqzznaiu_ind_4').style.opacity = 1;\"\n",
       "            onmouseout=\"document.getElementById('_fb_eyjetxaguigabqzznaiu_ind_4').style.opacity = 0; document.getElementById('_fs_eyjetxaguigabqzznaiu_ind_4').style.opacity = 0;\"\n",
       "        >sk </div></div><div style='display: inline; text-align: center;'\n",
       "    ><div style='display: none; color: #999; padding-top: 0px; font-size: 12px;'>-0.001</div\n",
       "        ><div id='_tp_eyjetxaguigabqzznaiu_ind_5'\n",
       "            style='display: inline; background: rgba(30.0, 136.0, 229.0, 0.014656367597544028); border-radius: 3px; padding: 0px'\n",
       "            onclick=\"\n",
       "            if (this.previousSibling.style.display == 'none') {\n",
       "                this.previousSibling.style.display = 'block';\n",
       "                this.parentNode.style.display = 'inline-block';\n",
       "            } else {\n",
       "                this.previousSibling.style.display = 'none';\n",
       "                this.parentNode.style.display = 'inline';\n",
       "            }\"\n",
       "            onmouseover=\"document.getElementById('_fb_eyjetxaguigabqzznaiu_ind_5').style.opacity = 1; document.getElementById('_fs_eyjetxaguigabqzznaiu_ind_5').style.opacity = 1;\"\n",
       "            onmouseout=\"document.getElementById('_fb_eyjetxaguigabqzznaiu_ind_5').style.opacity = 0; document.getElementById('_fs_eyjetxaguigabqzznaiu_ind_5').style.opacity = 0;\"\n",
       "        >likes </div></div><div style='display: inline; text-align: center;'\n",
       "    ><div style='display: none; color: #999; padding-top: 0px; font-size: 12px;'>-0.021</div\n",
       "        ><div id='_tp_eyjetxaguigabqzznaiu_ind_6'\n",
       "            style='display: inline; background: rgba(30.0, 136.0, 229.0, 0.33784907902554956); border-radius: 3px; padding: 0px'\n",
       "            onclick=\"\n",
       "            if (this.previousSibling.style.display == 'none') {\n",
       "                this.previousSibling.style.display = 'block';\n",
       "                this.parentNode.style.display = 'inline-block';\n",
       "            } else {\n",
       "                this.previousSibling.style.display = 'none';\n",
       "                this.parentNode.style.display = 'inline';\n",
       "            }\"\n",
       "            onmouseover=\"document.getElementById('_fb_eyjetxaguigabqzznaiu_ind_6').style.opacity = 1; document.getElementById('_fs_eyjetxaguigabqzznaiu_ind_6').style.opacity = 1;\"\n",
       "            onmouseout=\"document.getElementById('_fb_eyjetxaguigabqzznaiu_ind_6').style.opacity = 0; document.getElementById('_fs_eyjetxaguigabqzznaiu_ind_6').style.opacity = 0;\"\n",
       "        >launching </div></div><div style='display: inline; text-align: center;'\n",
       "    ><div style='display: none; color: #999; padding-top: 0px; font-size: 12px;'>-0.062</div\n",
       "        ><div id='_tp_eyjetxaguigabqzznaiu_ind_7'\n",
       "            style='display: inline; background: rgba(30.0, 136.0, 229.0, 1.0); border-radius: 3px; padding: 0px'\n",
       "            onclick=\"\n",
       "            if (this.previousSibling.style.display == 'none') {\n",
       "                this.previousSibling.style.display = 'block';\n",
       "                this.parentNode.style.display = 'inline-block';\n",
       "            } else {\n",
       "                this.previousSibling.style.display = 'none';\n",
       "                this.parentNode.style.display = 'inline';\n",
       "            }\"\n",
       "            onmouseover=\"document.getElementById('_fb_eyjetxaguigabqzznaiu_ind_7').style.opacity = 1; document.getElementById('_fs_eyjetxaguigabqzznaiu_ind_7').style.opacity = 1;\"\n",
       "            onmouseout=\"document.getElementById('_fb_eyjetxaguigabqzznaiu_ind_7').style.opacity = 0; document.getElementById('_fs_eyjetxaguigabqzznaiu_ind_7').style.opacity = 0;\"\n",
       "        >satellites</div></div><div style='display: inline; text-align: center;'\n",
       "    ><div style='display: none; color: #999; padding-top: 0px; font-size: 12px;'>-0.01</div\n",
       "        ><div id='_tp_eyjetxaguigabqzznaiu_ind_8'\n",
       "            style='display: inline; background: rgba(30.0, 136.0, 229.0, 0.1565458506634977); border-radius: 3px; padding: 0px'\n",
       "            onclick=\"\n",
       "            if (this.previousSibling.style.display == 'none') {\n",
       "                this.previousSibling.style.display = 'block';\n",
       "                this.parentNode.style.display = 'inline-block';\n",
       "            } else {\n",
       "                this.previousSibling.style.display = 'none';\n",
       "                this.parentNode.style.display = 'inline';\n",
       "            }\"\n",
       "            onmouseover=\"document.getElementById('_fb_eyjetxaguigabqzznaiu_ind_8').style.opacity = 1; document.getElementById('_fs_eyjetxaguigabqzznaiu_ind_8').style.opacity = 1;\"\n",
       "            onmouseout=\"document.getElementById('_fb_eyjetxaguigabqzznaiu_ind_8').style.opacity = 0; document.getElementById('_fs_eyjetxaguigabqzznaiu_ind_8').style.opacity = 0;\"\n",
       "        >.</div></div><div style='display: inline; text-align: center;'\n",
       "    ><div style='display: none; color: #999; padding-top: 0px; font-size: 12px;'>-0.0</div\n",
       "        ><div id='_tp_eyjetxaguigabqzznaiu_ind_9'\n",
       "            style='display: inline; background: rgba(54.70588235294111, 122.49411764705886, 213.40784313725496, 0.0); border-radius: 3px; padding: 0px'\n",
       "            onclick=\"\n",
       "            if (this.previousSibling.style.display == 'none') {\n",
       "                this.previousSibling.style.display = 'block';\n",
       "                this.parentNode.style.display = 'inline-block';\n",
       "            } else {\n",
       "                this.previousSibling.style.display = 'none';\n",
       "                this.parentNode.style.display = 'inline';\n",
       "            }\"\n",
       "            onmouseover=\"document.getElementById('_fb_eyjetxaguigabqzznaiu_ind_9').style.opacity = 1; document.getElementById('_fs_eyjetxaguigabqzznaiu_ind_9').style.opacity = 1;\"\n",
       "            onmouseout=\"document.getElementById('_fb_eyjetxaguigabqzznaiu_ind_9').style.opacity = 0; document.getElementById('_fs_eyjetxaguigabqzznaiu_ind_9').style.opacity = 0;\"\n",
       "        ></div></div></div></div><div id='_tp_bxnczycldiqesbevkkpm_output_1_zoom' style='display: none;'><svg width=\"100%\" height=\"80px\"><line x1=\"0\" y1=\"33\" x2=\"100%\" y2=\"33\" style=\"stroke:rgb(150,150,150);stroke-width:1\" /><line x1=\"46.76131556682518%\" y1=\"33\" x2=\"46.76131556682518%\" y2=\"37\" style=\"stroke:rgb(150,150,150);stroke-width:1\" /><text x=\"46.76131556682518%\" y=\"27\" font-size=\"12px\" fill=\"rgb(120,120,120)\" dominant-baseline=\"bottom\" text-anchor=\"middle\">0.44</text><line x1=\"31.5527938088192%\" y1=\"33\" x2=\"31.5527938088192%\" y2=\"37\" style=\"stroke:rgb(150,150,150);stroke-width:1\" /><text x=\"31.5527938088192%\" y=\"27\" font-size=\"12px\" fill=\"rgb(120,120,120)\" dominant-baseline=\"bottom\" text-anchor=\"middle\">0.42</text><line x1=\"16.34427205081326%\" y1=\"33\" x2=\"16.34427205081326%\" y2=\"37\" style=\"stroke:rgb(150,150,150);stroke-width:1\" /><text x=\"16.34427205081326%\" y=\"27\" font-size=\"12px\" fill=\"rgb(120,120,120)\" dominant-baseline=\"bottom\" text-anchor=\"middle\">0.4</text><line x1=\"61.969837324831175%\" y1=\"33\" x2=\"61.969837324831175%\" y2=\"37\" style=\"stroke:rgb(150,150,150);stroke-width:1\" /><text x=\"61.969837324831175%\" y=\"27\" font-size=\"12px\" fill=\"rgb(120,120,120)\" dominant-baseline=\"bottom\" text-anchor=\"middle\">0.46</text><line x1=\"77.17835908283712%\" y1=\"33\" x2=\"77.17835908283712%\" y2=\"37\" style=\"stroke:rgb(150,150,150);stroke-width:1\" /><text x=\"77.17835908283712%\" y=\"27\" font-size=\"12px\" fill=\"rgb(120,120,120)\" dominant-baseline=\"bottom\" text-anchor=\"middle\">0.48</text><line x1=\"92.38688084084309%\" y1=\"33\" x2=\"92.38688084084309%\" y2=\"37\" style=\"stroke:rgb(150,150,150);stroke-width:1\" /><text x=\"92.38688084084309%\" y=\"27\" font-size=\"12px\" fill=\"rgb(120,120,120)\" dominant-baseline=\"bottom\" text-anchor=\"middle\">0.5</text><line x1=\"89.43453657089316%\" y1=\"33\" x2=\"89.43453657089316%\" y2=\"37\" style=\"stroke:rgb(150,150,150);stroke-width:1\" /><text x=\"89.43453657089316%\" y=\"27\" font-size=\"13px\" style=\"stroke:#ffffff;stroke-width:8px;\" fill=\"rgb(255,255,255)\" dominant-baseline=\"bottom\" text-anchor=\"middle\">0.496118</text><text x=\"89.43453657089316%\" y=\"27\" font-size=\"12px\" fill=\"rgb(120,120,120)\" dominant-baseline=\"bottom\" text-anchor=\"middle\">0.496118</text><text x=\"89.43453657089316%\" y=\"10\" font-size=\"12px\" fill=\"rgb(120,120,120)\" dominant-baseline=\"bottom\" text-anchor=\"middle\">base value</text><line x1=\"10.565455824846019%\" y1=\"33\" x2=\"10.565455824846019%\" y2=\"37\" style=\"stroke:rgb(150,150,150);stroke-width:1\" /><text x=\"10.565455824846019%\" y=\"27\" font-size=\"13px\" style=\"stroke:#ffffff;stroke-width:8px;\" font-weight=\"bold\" fill=\"rgb(255,255,255)\" dominant-baseline=\"bottom\" text-anchor=\"middle\">0.392401</text><text x=\"10.565455824846019%\" y=\"27\" font-size=\"13px\" font-weight=\"bold\" fill=\"rgb(0,0,0)\" dominant-baseline=\"bottom\" text-anchor=\"middle\">0.392401</text><text x=\"10.565455824846019%\" y=\"10\" font-size=\"12px\" fill=\"rgb(120,120,120)\" dominant-baseline=\"bottom\" text-anchor=\"middle\">f<tspan baseline-shift=\"sub\" font-size=\"8px\">soc.religion.christian</tspan>(inputs)</text><rect x=\"8.333332699644934%\" width=\"2.232123125201077%\" y=\"40\" height=\"18\" style=\"fill:rgb(255.0, 0.0, 81.08083606031792); stroke-width:0; stroke:rgb(0,0,0)\" /><line x1=\"9.426465474161429%\" x2=\"10.565455824846019%\" y1=\"60\" y2=\"60\" id=\"_fb_vqfnmqgyxehwhynssfhg_ind_3\" style=\"stroke:rgb(255.0, 0.0, 81.08083606031792);stroke-width:2; opacity: 0\"/><text x=\"9.995960649503724%\" y=\"71\" font-size=\"12px\" id=\"_fs_vqfnmqgyxehwhynssfhg_ind_3\" fill=\"rgb(255.0, 0.0, 81.08083606031792)\" style=\"opacity: 0\" dominant-baseline=\"middle\" text-anchor=\"middle\">0.001</text><svg x=\"9.426465474161429%\" y=\"40\" height=\"20\" width=\"1.1389903506845904%\">  <svg x=\"0\" y=\"0\" width=\"100%\" height=\"100%\">    <text x=\"50%\" y=\"9\" font-size=\"12px\" fill=\"rgb(255,255,255)\" dominant-baseline=\"middle\" text-anchor=\"middle\">Mu</text>  </svg></svg><line x1=\"8.333332699644934%\" x2=\"9.426465474161429%\" y1=\"60\" y2=\"60\" id=\"_fb_vqfnmqgyxehwhynssfhg_ind_1\" style=\"stroke:rgb(255.0, 0.0, 81.08083606031792);stroke-width:2; opacity: 0\"/><text x=\"8.879899086903182%\" y=\"71\" font-size=\"12px\" id=\"_fs_vqfnmqgyxehwhynssfhg_ind_1\" fill=\"rgb(255.0, 0.0, 81.08083606031792)\" style=\"opacity: 0\" dominant-baseline=\"middle\" text-anchor=\"middle\">0.001</text><svg x=\"8.333332699644934%\" y=\"40\" height=\"20\" width=\"1.0931327745164943%\">  <svg x=\"0\" y=\"0\" width=\"100%\" height=\"100%\">    <text x=\"50%\" y=\"9\" font-size=\"12px\" fill=\"rgb(255,255,255)\" dominant-baseline=\"middle\" text-anchor=\"middle\">El</text>  </svg></svg><g transform=\"translate(0,0)\">  <svg x=\"9.426465474161429%\" y=\"40\" height=\"18\" overflow=\"visible\" width=\"30\">    <path d=\"M 0 -9 l 6 18 L 0 25\" fill=\"none\" style=\"stroke:rgb(255.0, 0.0, 81.08083606031792);stroke-width:2\" />  </svg></g><g transform=\"translate(2,0)\">  <svg x=\"9.426465474161429%\" y=\"40\" height=\"18\" overflow=\"visible\" width=\"30\">    <path d=\"M 0 -9 l 6 18 L 0 25\" fill=\"none\" style=\"stroke:rgb(255.0, 0.0, 81.08083606031792);stroke-width:2\" />  </svg></g><g transform=\"translate(4,0)\">  <svg x=\"9.426465474161429%\" y=\"40\" height=\"18\" overflow=\"visible\" width=\"30\">    <path d=\"M 0 -9 l 6 18 L 0 25\" fill=\"none\" style=\"stroke:rgb(255.0, 0.0, 81.08083606031792);stroke-width:2\" />  </svg></g><g transform=\"translate(6,0)\">  <svg x=\"9.426465474161429%\" y=\"40\" height=\"18\" overflow=\"visible\" width=\"30\">    <path d=\"M 0 -9 l 6 18 L 0 25\" fill=\"none\" style=\"stroke:rgb(255.0, 0.0, 81.08083606031792);stroke-width:2\" />  </svg></g><g transform=\"translate(-8,0)\">  <svg x=\"9.426465474161429%\" y=\"40\" height=\"18\" overflow=\"visible\" width=\"30\">    <path d=\"M 0 -9 l 6 18 L 0 25\" fill=\"none\" style=\"stroke:rgb(255.0, 0.0, 81.08083606031792);stroke-width:2\" />  </svg></g><g transform=\"translate(-6,0)\">  <svg x=\"9.426465474161429%\" y=\"40\" height=\"18\" overflow=\"visible\" width=\"30\">    <path d=\"M 0 -9 l 6 18 L 0 25\" fill=\"none\" style=\"stroke:rgb(255.0, 0.0, 81.08083606031792);stroke-width:2\" />  </svg></g><g transform=\"translate(-4,0)\">  <svg x=\"9.426465474161429%\" y=\"40\" height=\"18\" overflow=\"visible\" width=\"30\">    <path d=\"M 0 -9 l 6 18 L 0 25\" fill=\"none\" style=\"stroke:rgb(255.0, 0.0, 81.08083606031792);stroke-width:2\" />  </svg></g><g transform=\"translate(-2,0)\">  <svg x=\"9.426465474161429%\" y=\"40\" height=\"18\" overflow=\"visible\" width=\"30\">    <path d=\"M 0 -9 l 6 18 L 0 25\" fill=\"none\" style=\"stroke:rgb(255.0, 0.0, 81.08083606031792);stroke-width:2\" />  </svg></g><rect transform=\"translate(-8,0)\" x=\"10.565455824846019%\" y=\"40\" width=\"8\" height=\"18\" style=\"fill:rgb(255.0, 0.0, 81.08083606031792)\"/><g transform=\"translate(-11.5,0)\">  <svg x=\"8.333332699644934%\" y=\"40\" height=\"18\" overflow=\"visible\" width=\"30\">    <path d=\"M 10 -9 l 6 18 L 10 25 L 0 25 L 0 -9\" fill=\"#ffffff\" style=\"stroke:rgb(255,255,255);stroke-width:2\" />  </svg></g><g transform=\"translate(-1.5,0)\">  <svg x=\"10.565455824846019%\" y=\"40\" height=\"18\" overflow=\"visible\" width=\"30\">    <path d=\"M 0 -9 l 6 18 L 0 25\" fill=\"none\" style=\"stroke:rgb(255, 195, 213);stroke-width:2\" />  </svg></g><rect x=\"9.426465474161429%\" y=\"40\" height=\"20\" width=\"1.1389903506845904%\"      onmouseover=\"document.getElementById('_tp_vqfnmqgyxehwhynssfhg_ind_3').style.textDecoration = 'underline';document.getElementById('_fs_vqfnmqgyxehwhynssfhg_ind_3').style.opacity = 1;document.getElementById('_fb_vqfnmqgyxehwhynssfhg_ind_3').style.opacity = 1;\"      onmouseout=\"document.getElementById('_tp_vqfnmqgyxehwhynssfhg_ind_3').style.textDecoration = 'none';document.getElementById('_fs_vqfnmqgyxehwhynssfhg_ind_3').style.opacity = 0;document.getElementById('_fb_vqfnmqgyxehwhynssfhg_ind_3').style.opacity = 0;\" style=\"fill:rgb(0,0,0,0)\" /><rect x=\"8.333332699644934%\" y=\"40\" height=\"20\" width=\"1.0931327745164943%\"      onmouseover=\"document.getElementById('_tp_vqfnmqgyxehwhynssfhg_ind_1').style.textDecoration = 'underline';document.getElementById('_fs_vqfnmqgyxehwhynssfhg_ind_1').style.opacity = 1;document.getElementById('_fb_vqfnmqgyxehwhynssfhg_ind_1').style.opacity = 1;\"      onmouseout=\"document.getElementById('_tp_vqfnmqgyxehwhynssfhg_ind_1').style.textDecoration = 'none';document.getElementById('_fs_vqfnmqgyxehwhynssfhg_ind_1').style.opacity = 0;document.getElementById('_fb_vqfnmqgyxehwhynssfhg_ind_1').style.opacity = 0;\" style=\"fill:rgb(0,0,0,0)\" /><rect x=\"10.565455824846019%\" width=\"81.1012038712482%\" y=\"40\" height=\"18\" style=\"fill:rgb(0.0, 138.56128015770727, 250.76166088685727); stroke-width:0; stroke:rgb(0,0,0)\" /><line x1=\"10.565455824846019%\" x2=\"58.01412531189796%\" y1=\"60\" y2=\"60\" id=\"_fb_vqfnmqgyxehwhynssfhg_ind_7\" style=\"stroke:rgb(0.0, 138.56128015770727, 250.76166088685727);stroke-width:2; opacity: 0\"/><text x=\"34.28979056837199%\" y=\"71\" font-size=\"12px\" fill=\"rgb(0.0, 138.56128015770727, 250.76166088685727)\" id=\"_fs_vqfnmqgyxehwhynssfhg_ind_7\" style=\"opacity: 0\" dominant-baseline=\"middle\" text-anchor=\"middle\">-0.062</text><svg x=\"10.565455824846019%\" y=\"40\" height=\"20\" width=\"47.448669487051944%\">  <svg x=\"0\" y=\"0\" width=\"100%\" height=\"100%\">    <text x=\"50%\" y=\"9\" font-size=\"12px\" fill=\"rgb(255,255,255)\" dominant-baseline=\"middle\" text-anchor=\"middle\">satellites</text>  </svg></svg><line x1=\"58.01412531189796%\" x2=\"74.31228962993292%\" y1=\"60\" y2=\"60\" id=\"_fb_vqfnmqgyxehwhynssfhg_ind_6\" style=\"stroke:rgb(0.0, 138.56128015770727, 250.76166088685727);stroke-width:2; opacity: 0\"/><text x=\"66.16320747091544%\" y=\"71\" font-size=\"12px\" fill=\"rgb(0.0, 138.56128015770727, 250.76166088685727)\" id=\"_fs_vqfnmqgyxehwhynssfhg_ind_6\" style=\"opacity: 0\" dominant-baseline=\"middle\" text-anchor=\"middle\">-0.021</text><svg x=\"58.01412531189796%\" y=\"40\" height=\"20\" width=\"16.298164318034956%\">  <svg x=\"0\" y=\"0\" width=\"100%\" height=\"100%\">    <text x=\"50%\" y=\"9\" font-size=\"12px\" fill=\"rgb(255,255,255)\" dominant-baseline=\"middle\" text-anchor=\"middle\">launching</text>  </svg></svg><line x1=\"74.31228962993292%\" x2=\"81.75281616137988%\" y1=\"60\" y2=\"60\" id=\"_fb_vqfnmqgyxehwhynssfhg_ind_8\" style=\"stroke:rgb(0.0, 138.56128015770727, 250.76166088685727);stroke-width:2; opacity: 0\"/><text x=\"78.03255289565641%\" y=\"71\" font-size=\"12px\" fill=\"rgb(0.0, 138.56128015770727, 250.76166088685727)\" id=\"_fs_vqfnmqgyxehwhynssfhg_ind_8\" style=\"opacity: 0\" dominant-baseline=\"middle\" text-anchor=\"middle\">-0.01</text><svg x=\"74.31228962993292%\" y=\"40\" height=\"20\" width=\"7.440526531446963%\">  <svg x=\"0\" y=\"0\" width=\"100%\" height=\"100%\">    <text x=\"50%\" y=\"9\" font-size=\"12px\" fill=\"rgb(255,255,255)\" dominant-baseline=\"middle\" text-anchor=\"middle\">.</text>  </svg></svg><line x1=\"81.75281616137988%\" x2=\"88.93528242798742%\" y1=\"60\" y2=\"60\" id=\"_fb_vqfnmqgyxehwhynssfhg_ind_4\" style=\"stroke:rgb(0.0, 138.56128015770727, 250.76166088685727);stroke-width:2; opacity: 0\"/><text x=\"85.34404929468366%\" y=\"71\" font-size=\"12px\" fill=\"rgb(0.0, 138.56128015770727, 250.76166088685727)\" id=\"_fs_vqfnmqgyxehwhynssfhg_ind_4\" style=\"opacity: 0\" dominant-baseline=\"middle\" text-anchor=\"middle\">-0.009</text><svg x=\"81.75281616137988%\" y=\"40\" height=\"20\" width=\"7.182466266607534%\">  <svg x=\"0\" y=\"0\" width=\"100%\" height=\"100%\">    <text x=\"50%\" y=\"9\" font-size=\"12px\" fill=\"rgb(255,255,255)\" dominant-baseline=\"middle\" text-anchor=\"middle\">sk</text>  </svg></svg><line x1=\"88.93528242798742%\" x2=\"90.66909923649547%\" y1=\"60\" y2=\"60\" id=\"_fb_vqfnmqgyxehwhynssfhg_ind_2\" style=\"stroke:rgb(0.0, 138.56128015770727, 250.76166088685727);stroke-width:2; opacity: 0\"/><text x=\"89.80219083224145%\" y=\"71\" font-size=\"12px\" fill=\"rgb(0.0, 138.56128015770727, 250.76166088685727)\" id=\"_fs_vqfnmqgyxehwhynssfhg_ind_2\" style=\"opacity: 0\" dominant-baseline=\"middle\" text-anchor=\"middle\">-0.002</text><svg x=\"88.93528242798742%\" y=\"40\" height=\"20\" width=\"1.7338168085080525%\">  <svg x=\"0\" y=\"0\" width=\"100%\" height=\"100%\">    <text x=\"50%\" y=\"9\" font-size=\"12px\" fill=\"rgb(255,255,255)\" dominant-baseline=\"middle\" text-anchor=\"middle\">on</text>  </svg></svg><line x1=\"90.66909923649547%\" x2=\"91.66665810509518%\" y1=\"60\" y2=\"60\" id=\"_fb_vqfnmqgyxehwhynssfhg_ind_5\" style=\"stroke:rgb(0.0, 138.56128015770727, 250.76166088685727);stroke-width:2; opacity: 0\"/><text x=\"91.16787867079532%\" y=\"71\" font-size=\"12px\" fill=\"rgb(0.0, 138.56128015770727, 250.76166088685727)\" id=\"_fs_vqfnmqgyxehwhynssfhg_ind_5\" style=\"opacity: 0\" dominant-baseline=\"middle\" text-anchor=\"middle\">-0.001</text><svg x=\"90.66909923649547%\" y=\"40\" height=\"20\" width=\"0.997558868599711%\">  <svg x=\"0\" y=\"0\" width=\"100%\" height=\"100%\">    <text x=\"50%\" y=\"9\" font-size=\"12px\" fill=\"rgb(255,255,255)\" dominant-baseline=\"middle\" text-anchor=\"middle\">likes</text>  </svg></svg><line x1=\"91.66665810509518%\" x2=\"91.6666590617176%\" y1=\"60\" y2=\"60\" id=\"_fb_vqfnmqgyxehwhynssfhg_ind_0\" style=\"stroke:rgb(0.0, 138.56128015770727, 250.76166088685727);stroke-width:2; opacity: 0\"/><text x=\"91.66665858340639%\" y=\"71\" font-size=\"12px\" fill=\"rgb(0.0, 138.56128015770727, 250.76166088685727)\" id=\"_fs_vqfnmqgyxehwhynssfhg_ind_0\" style=\"opacity: 0\" dominant-baseline=\"middle\" text-anchor=\"middle\">-0.0</text><svg x=\"91.66665810509518%\" y=\"40\" height=\"20\" width=\"9.566224150603375e-07%\">  <svg x=\"0\" y=\"0\" width=\"100%\" height=\"100%\">    <text x=\"50%\" y=\"9\" font-size=\"12px\" fill=\"rgb(255,255,255)\" dominant-baseline=\"middle\" text-anchor=\"middle\"></text>  </svg></svg><line x1=\"91.6666590617176%\" x2=\"91.66665969609424%\" y1=\"60\" y2=\"60\" id=\"_fb_vqfnmqgyxehwhynssfhg_ind_9\" style=\"stroke:rgb(0.0, 138.56128015770727, 250.76166088685727);stroke-width:2; opacity: 0\"/><text x=\"91.66665937890592%\" y=\"71\" font-size=\"12px\" fill=\"rgb(0.0, 138.56128015770727, 250.76166088685727)\" id=\"_fs_vqfnmqgyxehwhynssfhg_ind_9\" style=\"opacity: 0\" dominant-baseline=\"middle\" text-anchor=\"middle\">-0.0</text><svg x=\"91.6666590617176%\" y=\"40\" height=\"20\" width=\"6.343766472127754e-07%\">  <svg x=\"0\" y=\"0\" width=\"100%\" height=\"100%\">    <text x=\"50%\" y=\"9\" font-size=\"12px\" fill=\"rgb(255,255,255)\" dominant-baseline=\"middle\" text-anchor=\"middle\"></text>  </svg></svg><g transform=\"translate(-8,0)\">  <svg x=\"58.01412531189796%\" y=\"40\" height=\"18\" overflow=\"visible\" width=\"30\">    <path d=\"M 8 -9 l -6 18 L 8 25\" fill=\"none\" style=\"stroke:rgb(0.0, 138.56128015770727, 250.76166088685727);stroke-width:2\" />  </svg></g><g transform=\"translate(-10,0)\">  <svg x=\"58.01412531189796%\" y=\"40\" height=\"18\" overflow=\"visible\" width=\"30\">    <path d=\"M 8 -9 l -6 18 L 8 25\" fill=\"none\" style=\"stroke:rgb(0.0, 138.56128015770727, 250.76166088685727);stroke-width:2\" />  </svg></g><g transform=\"translate(-12,0)\">  <svg x=\"58.01412531189796%\" y=\"40\" height=\"18\" overflow=\"visible\" width=\"30\">    <path d=\"M 8 -9 l -6 18 L 8 25\" fill=\"none\" style=\"stroke:rgb(0.0, 138.56128015770727, 250.76166088685727);stroke-width:2\" />  </svg></g><g transform=\"translate(-14,0)\">  <svg x=\"58.01412531189796%\" y=\"40\" height=\"18\" overflow=\"visible\" width=\"30\">    <path d=\"M 8 -9 l -6 18 L 8 25\" fill=\"none\" style=\"stroke:rgb(0.0, 138.56128015770727, 250.76166088685727);stroke-width:2\" />  </svg></g><g transform=\"translate(2,0)\">  <svg x=\"58.01412531189796%\" y=\"40\" height=\"18\" overflow=\"visible\" width=\"30\">    <path d=\"M 8 -9 l -6 18 L 8 25\" fill=\"none\" style=\"stroke:rgb(0.0, 138.56128015770727, 250.76166088685727);stroke-width:2\" />  </svg></g><g transform=\"translate(0,0)\">  <svg x=\"58.01412531189796%\" y=\"40\" height=\"18\" overflow=\"visible\" width=\"30\">    <path d=\"M 8 -9 l -6 18 L 8 25\" fill=\"none\" style=\"stroke:rgb(0.0, 138.56128015770727, 250.76166088685727);stroke-width:2\" />  </svg></g><g transform=\"translate(-2,0)\">  <svg x=\"58.01412531189796%\" y=\"40\" height=\"18\" overflow=\"visible\" width=\"30\">    <path d=\"M 8 -9 l -6 18 L 8 25\" fill=\"none\" style=\"stroke:rgb(0.0, 138.56128015770727, 250.76166088685727);stroke-width:2\" />  </svg></g><g transform=\"translate(-4,0)\">  <svg x=\"58.01412531189796%\" y=\"40\" height=\"18\" overflow=\"visible\" width=\"30\">    <path d=\"M 8 -9 l -6 18 L 8 25\" fill=\"none\" style=\"stroke:rgb(0.0, 138.56128015770727, 250.76166088685727);stroke-width:2\" />  </svg></g><g transform=\"translate(-8,0)\">  <svg x=\"74.31228962993292%\" y=\"40\" height=\"18\" overflow=\"visible\" width=\"30\">    <path d=\"M 8 -9 l -6 18 L 8 25\" fill=\"none\" style=\"stroke:rgb(0.0, 138.56128015770727, 250.76166088685727);stroke-width:2\" />  </svg></g><g transform=\"translate(-10,0)\">  <svg x=\"74.31228962993292%\" y=\"40\" height=\"18\" overflow=\"visible\" width=\"30\">    <path d=\"M 8 -9 l -6 18 L 8 25\" fill=\"none\" style=\"stroke:rgb(0.0, 138.56128015770727, 250.76166088685727);stroke-width:2\" />  </svg></g><g transform=\"translate(-12,0)\">  <svg x=\"74.31228962993292%\" y=\"40\" height=\"18\" overflow=\"visible\" width=\"30\">    <path d=\"M 8 -9 l -6 18 L 8 25\" fill=\"none\" style=\"stroke:rgb(0.0, 138.56128015770727, 250.76166088685727);stroke-width:2\" />  </svg></g><g transform=\"translate(-14,0)\">  <svg x=\"74.31228962993292%\" y=\"40\" height=\"18\" overflow=\"visible\" width=\"30\">    <path d=\"M 8 -9 l -6 18 L 8 25\" fill=\"none\" style=\"stroke:rgb(0.0, 138.56128015770727, 250.76166088685727);stroke-width:2\" />  </svg></g><g transform=\"translate(2,0)\">  <svg x=\"74.31228962993292%\" y=\"40\" height=\"18\" overflow=\"visible\" width=\"30\">    <path d=\"M 8 -9 l -6 18 L 8 25\" fill=\"none\" style=\"stroke:rgb(0.0, 138.56128015770727, 250.76166088685727);stroke-width:2\" />  </svg></g><g transform=\"translate(0,0)\">  <svg x=\"74.31228962993292%\" y=\"40\" height=\"18\" overflow=\"visible\" width=\"30\">    <path d=\"M 8 -9 l -6 18 L 8 25\" fill=\"none\" style=\"stroke:rgb(0.0, 138.56128015770727, 250.76166088685727);stroke-width:2\" />  </svg></g><g transform=\"translate(-2,0)\">  <svg x=\"74.31228962993292%\" y=\"40\" height=\"18\" overflow=\"visible\" width=\"30\">    <path d=\"M 8 -9 l -6 18 L 8 25\" fill=\"none\" style=\"stroke:rgb(0.0, 138.56128015770727, 250.76166088685727);stroke-width:2\" />  </svg></g><g transform=\"translate(-4,0)\">  <svg x=\"74.31228962993292%\" y=\"40\" height=\"18\" overflow=\"visible\" width=\"30\">    <path d=\"M 8 -9 l -6 18 L 8 25\" fill=\"none\" style=\"stroke:rgb(0.0, 138.56128015770727, 250.76166088685727);stroke-width:2\" />  </svg></g><g transform=\"translate(-8,0)\">  <svg x=\"81.75281616137988%\" y=\"40\" height=\"18\" overflow=\"visible\" width=\"30\">    <path d=\"M 8 -9 l -6 18 L 8 25\" fill=\"none\" style=\"stroke:rgb(0.0, 138.56128015770727, 250.76166088685727);stroke-width:2\" />  </svg></g><g transform=\"translate(-10,0)\">  <svg x=\"81.75281616137988%\" y=\"40\" height=\"18\" overflow=\"visible\" width=\"30\">    <path d=\"M 8 -9 l -6 18 L 8 25\" fill=\"none\" style=\"stroke:rgb(0.0, 138.56128015770727, 250.76166088685727);stroke-width:2\" />  </svg></g><g transform=\"translate(-12,0)\">  <svg x=\"81.75281616137988%\" y=\"40\" height=\"18\" overflow=\"visible\" width=\"30\">    <path d=\"M 8 -9 l -6 18 L 8 25\" fill=\"none\" style=\"stroke:rgb(0.0, 138.56128015770727, 250.76166088685727);stroke-width:2\" />  </svg></g><g transform=\"translate(-14,0)\">  <svg x=\"81.75281616137988%\" y=\"40\" height=\"18\" overflow=\"visible\" width=\"30\">    <path d=\"M 8 -9 l -6 18 L 8 25\" fill=\"none\" style=\"stroke:rgb(0.0, 138.56128015770727, 250.76166088685727);stroke-width:2\" />  </svg></g><g transform=\"translate(2,0)\">  <svg x=\"81.75281616137988%\" y=\"40\" height=\"18\" overflow=\"visible\" width=\"30\">    <path d=\"M 8 -9 l -6 18 L 8 25\" fill=\"none\" style=\"stroke:rgb(0.0, 138.56128015770727, 250.76166088685727);stroke-width:2\" />  </svg></g><g transform=\"translate(0,0)\">  <svg x=\"81.75281616137988%\" y=\"40\" height=\"18\" overflow=\"visible\" width=\"30\">    <path d=\"M 8 -9 l -6 18 L 8 25\" fill=\"none\" style=\"stroke:rgb(0.0, 138.56128015770727, 250.76166088685727);stroke-width:2\" />  </svg></g><g transform=\"translate(-2,0)\">  <svg x=\"81.75281616137988%\" y=\"40\" height=\"18\" overflow=\"visible\" width=\"30\">    <path d=\"M 8 -9 l -6 18 L 8 25\" fill=\"none\" style=\"stroke:rgb(0.0, 138.56128015770727, 250.76166088685727);stroke-width:2\" />  </svg></g><g transform=\"translate(-4,0)\">  <svg x=\"81.75281616137988%\" y=\"40\" height=\"18\" overflow=\"visible\" width=\"30\">    <path d=\"M 8 -9 l -6 18 L 8 25\" fill=\"none\" style=\"stroke:rgb(0.0, 138.56128015770727, 250.76166088685727);stroke-width:2\" />  </svg></g><g transform=\"translate(-8,0)\">  <svg x=\"88.93528242798742%\" y=\"40\" height=\"18\" overflow=\"visible\" width=\"30\">    <path d=\"M 8 -9 l -6 18 L 8 25\" fill=\"none\" style=\"stroke:rgb(0.0, 138.56128015770727, 250.76166088685727);stroke-width:2\" />  </svg></g><g transform=\"translate(-10,0)\">  <svg x=\"88.93528242798742%\" y=\"40\" height=\"18\" overflow=\"visible\" width=\"30\">    <path d=\"M 8 -9 l -6 18 L 8 25\" fill=\"none\" style=\"stroke:rgb(0.0, 138.56128015770727, 250.76166088685727);stroke-width:2\" />  </svg></g><g transform=\"translate(-12,0)\">  <svg x=\"88.93528242798742%\" y=\"40\" height=\"18\" overflow=\"visible\" width=\"30\">    <path d=\"M 8 -9 l -6 18 L 8 25\" fill=\"none\" style=\"stroke:rgb(0.0, 138.56128015770727, 250.76166088685727);stroke-width:2\" />  </svg></g><g transform=\"translate(-14,0)\">  <svg x=\"88.93528242798742%\" y=\"40\" height=\"18\" overflow=\"visible\" width=\"30\">    <path d=\"M 8 -9 l -6 18 L 8 25\" fill=\"none\" style=\"stroke:rgb(0.0, 138.56128015770727, 250.76166088685727);stroke-width:2\" />  </svg></g><g transform=\"translate(2,0)\">  <svg x=\"88.93528242798742%\" y=\"40\" height=\"18\" overflow=\"visible\" width=\"30\">    <path d=\"M 8 -9 l -6 18 L 8 25\" fill=\"none\" style=\"stroke:rgb(0.0, 138.56128015770727, 250.76166088685727);stroke-width:2\" />  </svg></g><g transform=\"translate(0,0)\">  <svg x=\"88.93528242798742%\" y=\"40\" height=\"18\" overflow=\"visible\" width=\"30\">    <path d=\"M 8 -9 l -6 18 L 8 25\" fill=\"none\" style=\"stroke:rgb(0.0, 138.56128015770727, 250.76166088685727);stroke-width:2\" />  </svg></g><g transform=\"translate(-2,0)\">  <svg x=\"88.93528242798742%\" y=\"40\" height=\"18\" overflow=\"visible\" width=\"30\">    <path d=\"M 8 -9 l -6 18 L 8 25\" fill=\"none\" style=\"stroke:rgb(0.0, 138.56128015770727, 250.76166088685727);stroke-width:2\" />  </svg></g><g transform=\"translate(-4,0)\">  <svg x=\"88.93528242798742%\" y=\"40\" height=\"18\" overflow=\"visible\" width=\"30\">    <path d=\"M 8 -9 l -6 18 L 8 25\" fill=\"none\" style=\"stroke:rgb(0.0, 138.56128015770727, 250.76166088685727);stroke-width:2\" />  </svg></g><g transform=\"translate(-8,0)\">  <svg x=\"90.66909923649547%\" y=\"40\" height=\"18\" overflow=\"visible\" width=\"30\">    <path d=\"M 8 -9 l -6 18 L 8 25\" fill=\"none\" style=\"stroke:rgb(0.0, 138.56128015770727, 250.76166088685727);stroke-width:2\" />  </svg></g><g transform=\"translate(-10,0)\">  <svg x=\"90.66909923649547%\" y=\"40\" height=\"18\" overflow=\"visible\" width=\"30\">    <path d=\"M 8 -9 l -6 18 L 8 25\" fill=\"none\" style=\"stroke:rgb(0.0, 138.56128015770727, 250.76166088685727);stroke-width:2\" />  </svg></g><g transform=\"translate(-12,0)\">  <svg x=\"90.66909923649547%\" y=\"40\" height=\"18\" overflow=\"visible\" width=\"30\">    <path d=\"M 8 -9 l -6 18 L 8 25\" fill=\"none\" style=\"stroke:rgb(0.0, 138.56128015770727, 250.76166088685727);stroke-width:2\" />  </svg></g><g transform=\"translate(-14,0)\">  <svg x=\"90.66909923649547%\" y=\"40\" height=\"18\" overflow=\"visible\" width=\"30\">    <path d=\"M 8 -9 l -6 18 L 8 25\" fill=\"none\" style=\"stroke:rgb(0.0, 138.56128015770727, 250.76166088685727);stroke-width:2\" />  </svg></g><g transform=\"translate(2,0)\">  <svg x=\"90.66909923649547%\" y=\"40\" height=\"18\" overflow=\"visible\" width=\"30\">    <path d=\"M 8 -9 l -6 18 L 8 25\" fill=\"none\" style=\"stroke:rgb(0.0, 138.56128015770727, 250.76166088685727);stroke-width:2\" />  </svg></g><g transform=\"translate(0,0)\">  <svg x=\"90.66909923649547%\" y=\"40\" height=\"18\" overflow=\"visible\" width=\"30\">    <path d=\"M 8 -9 l -6 18 L 8 25\" fill=\"none\" style=\"stroke:rgb(0.0, 138.56128015770727, 250.76166088685727);stroke-width:2\" />  </svg></g><g transform=\"translate(-2,0)\">  <svg x=\"90.66909923649547%\" y=\"40\" height=\"18\" overflow=\"visible\" width=\"30\">    <path d=\"M 8 -9 l -6 18 L 8 25\" fill=\"none\" style=\"stroke:rgb(0.0, 138.56128015770727, 250.76166088685727);stroke-width:2\" />  </svg></g><g transform=\"translate(-4,0)\">  <svg x=\"90.66909923649547%\" y=\"40\" height=\"18\" overflow=\"visible\" width=\"30\">    <path d=\"M 8 -9 l -6 18 L 8 25\" fill=\"none\" style=\"stroke:rgb(0.0, 138.56128015770727, 250.76166088685727);stroke-width:2\" />  </svg></g><g transform=\"translate(-8,0)\">  <svg x=\"91.66665810509518%\" y=\"40\" height=\"18\" overflow=\"visible\" width=\"30\">    <path d=\"M 8 -9 l -6 18 L 8 25\" fill=\"none\" style=\"stroke:rgb(0.0, 138.56128015770727, 250.76166088685727);stroke-width:2\" />  </svg></g><g transform=\"translate(-10,0)\">  <svg x=\"91.66665810509518%\" y=\"40\" height=\"18\" overflow=\"visible\" width=\"30\">    <path d=\"M 8 -9 l -6 18 L 8 25\" fill=\"none\" style=\"stroke:rgb(0.0, 138.56128015770727, 250.76166088685727);stroke-width:2\" />  </svg></g><g transform=\"translate(-12,0)\">  <svg x=\"91.66665810509518%\" y=\"40\" height=\"18\" overflow=\"visible\" width=\"30\">    <path d=\"M 8 -9 l -6 18 L 8 25\" fill=\"none\" style=\"stroke:rgb(0.0, 138.56128015770727, 250.76166088685727);stroke-width:2\" />  </svg></g><g transform=\"translate(-14,0)\">  <svg x=\"91.66665810509518%\" y=\"40\" height=\"18\" overflow=\"visible\" width=\"30\">    <path d=\"M 8 -9 l -6 18 L 8 25\" fill=\"none\" style=\"stroke:rgb(0.0, 138.56128015770727, 250.76166088685727);stroke-width:2\" />  </svg></g><g transform=\"translate(2,0)\">  <svg x=\"91.66665810509518%\" y=\"40\" height=\"18\" overflow=\"visible\" width=\"30\">    <path d=\"M 8 -9 l -6 18 L 8 25\" fill=\"none\" style=\"stroke:rgb(0.0, 138.56128015770727, 250.76166088685727);stroke-width:2\" />  </svg></g><g transform=\"translate(0,0)\">  <svg x=\"91.66665810509518%\" y=\"40\" height=\"18\" overflow=\"visible\" width=\"30\">    <path d=\"M 8 -9 l -6 18 L 8 25\" fill=\"none\" style=\"stroke:rgb(0.0, 138.56128015770727, 250.76166088685727);stroke-width:2\" />  </svg></g><g transform=\"translate(-2,0)\">  <svg x=\"91.66665810509518%\" y=\"40\" height=\"18\" overflow=\"visible\" width=\"30\">    <path d=\"M 8 -9 l -6 18 L 8 25\" fill=\"none\" style=\"stroke:rgb(0.0, 138.56128015770727, 250.76166088685727);stroke-width:2\" />  </svg></g><g transform=\"translate(-4,0)\">  <svg x=\"91.66665810509518%\" y=\"40\" height=\"18\" overflow=\"visible\" width=\"30\">    <path d=\"M 8 -9 l -6 18 L 8 25\" fill=\"none\" style=\"stroke:rgb(0.0, 138.56128015770727, 250.76166088685727);stroke-width:2\" />  </svg></g><g transform=\"translate(-8,0)\">  <svg x=\"91.6666590617176%\" y=\"40\" height=\"18\" overflow=\"visible\" width=\"30\">    <path d=\"M 8 -9 l -6 18 L 8 25\" fill=\"none\" style=\"stroke:rgb(0.0, 138.56128015770727, 250.76166088685727);stroke-width:2\" />  </svg></g><g transform=\"translate(-10,0)\">  <svg x=\"91.6666590617176%\" y=\"40\" height=\"18\" overflow=\"visible\" width=\"30\">    <path d=\"M 8 -9 l -6 18 L 8 25\" fill=\"none\" style=\"stroke:rgb(0.0, 138.56128015770727, 250.76166088685727);stroke-width:2\" />  </svg></g><g transform=\"translate(-12,0)\">  <svg x=\"91.6666590617176%\" y=\"40\" height=\"18\" overflow=\"visible\" width=\"30\">    <path d=\"M 8 -9 l -6 18 L 8 25\" fill=\"none\" style=\"stroke:rgb(0.0, 138.56128015770727, 250.76166088685727);stroke-width:2\" />  </svg></g><g transform=\"translate(-14,0)\">  <svg x=\"91.6666590617176%\" y=\"40\" height=\"18\" overflow=\"visible\" width=\"30\">    <path d=\"M 8 -9 l -6 18 L 8 25\" fill=\"none\" style=\"stroke:rgb(0.0, 138.56128015770727, 250.76166088685727);stroke-width:2\" />  </svg></g><g transform=\"translate(2,0)\">  <svg x=\"91.6666590617176%\" y=\"40\" height=\"18\" overflow=\"visible\" width=\"30\">    <path d=\"M 8 -9 l -6 18 L 8 25\" fill=\"none\" style=\"stroke:rgb(0.0, 138.56128015770727, 250.76166088685727);stroke-width:2\" />  </svg></g><g transform=\"translate(0,0)\">  <svg x=\"91.6666590617176%\" y=\"40\" height=\"18\" overflow=\"visible\" width=\"30\">    <path d=\"M 8 -9 l -6 18 L 8 25\" fill=\"none\" style=\"stroke:rgb(0.0, 138.56128015770727, 250.76166088685727);stroke-width:2\" />  </svg></g><g transform=\"translate(-2,0)\">  <svg x=\"91.6666590617176%\" y=\"40\" height=\"18\" overflow=\"visible\" width=\"30\">    <path d=\"M 8 -9 l -6 18 L 8 25\" fill=\"none\" style=\"stroke:rgb(0.0, 138.56128015770727, 250.76166088685727);stroke-width:2\" />  </svg></g><g transform=\"translate(-4,0)\">  <svg x=\"91.6666590617176%\" y=\"40\" height=\"18\" overflow=\"visible\" width=\"30\">    <path d=\"M 8 -9 l -6 18 L 8 25\" fill=\"none\" style=\"stroke:rgb(0.0, 138.56128015770727, 250.76166088685727);stroke-width:2\" />  </svg></g><rect transform=\"translate(0,0)\" x=\"10.565455824846019%\" y=\"40\" width=\"8\" height=\"18\" style=\"fill:rgb(0.0, 138.56128015770727, 250.76166088685727)\"/><g transform=\"translate(-6.0,0)\">  <svg x=\"91.66665969609424%\" y=\"40\" height=\"18\" overflow=\"visible\" width=\"30\">    <path d=\"M 8 -9 l -6 18 L 8 25 L 20 25 L 20 -9\" fill=\"#ffffff\" style=\"stroke:rgb(255,255,255);stroke-width:2\" />  </svg></g><g transform=\"translate(-6.0,0)\">  <svg x=\"58.01412531189796%\" y=\"40\" height=\"18\" overflow=\"visible\" width=\"30\">    <path d=\"M 8 -9 l -6 18 L 8 25\" fill=\"none\" style=\"stroke:rgb(208, 230, 250);stroke-width:2\" />  </svg></g><rect x=\"10.565455824846019%\" y=\"40\" height=\"20\" width=\"47.448669487051944%\"      onmouseover=\"document.getElementById('_tp_vqfnmqgyxehwhynssfhg_ind_7').style.textDecoration = 'underline';document.getElementById('_fs_vqfnmqgyxehwhynssfhg_ind_7').style.opacity = 1;document.getElementById('_fb_vqfnmqgyxehwhynssfhg_ind_7').style.opacity = 1;\"      onmouseout=\"document.getElementById('_tp_vqfnmqgyxehwhynssfhg_ind_7').style.textDecoration = 'none';document.getElementById('_fs_vqfnmqgyxehwhynssfhg_ind_7').style.opacity = 0;document.getElementById('_fb_vqfnmqgyxehwhynssfhg_ind_7').style.opacity = 0;\" style=\"fill:rgb(0,0,0,0)\" /><g transform=\"translate(-6.0,0)\">  <svg x=\"74.31228962993292%\" y=\"40\" height=\"18\" overflow=\"visible\" width=\"30\">    <path d=\"M 8 -9 l -6 18 L 8 25\" fill=\"none\" style=\"stroke:rgb(208, 230, 250);stroke-width:2\" />  </svg></g><rect x=\"58.01412531189796%\" y=\"40\" height=\"20\" width=\"16.298164318034956%\"      onmouseover=\"document.getElementById('_tp_vqfnmqgyxehwhynssfhg_ind_6').style.textDecoration = 'underline';document.getElementById('_fs_vqfnmqgyxehwhynssfhg_ind_6').style.opacity = 1;document.getElementById('_fb_vqfnmqgyxehwhynssfhg_ind_6').style.opacity = 1;\"      onmouseout=\"document.getElementById('_tp_vqfnmqgyxehwhynssfhg_ind_6').style.textDecoration = 'none';document.getElementById('_fs_vqfnmqgyxehwhynssfhg_ind_6').style.opacity = 0;document.getElementById('_fb_vqfnmqgyxehwhynssfhg_ind_6').style.opacity = 0;\" style=\"fill:rgb(0,0,0,0)\" /><g transform=\"translate(-6.0,0)\">  <svg x=\"81.75281616137988%\" y=\"40\" height=\"18\" overflow=\"visible\" width=\"30\">    <path d=\"M 8 -9 l -6 18 L 8 25\" fill=\"none\" style=\"stroke:rgb(208, 230, 250);stroke-width:2\" />  </svg></g><rect x=\"74.31228962993292%\" y=\"40\" height=\"20\" width=\"7.440526531446963%\"      onmouseover=\"document.getElementById('_tp_vqfnmqgyxehwhynssfhg_ind_8').style.textDecoration = 'underline';document.getElementById('_fs_vqfnmqgyxehwhynssfhg_ind_8').style.opacity = 1;document.getElementById('_fb_vqfnmqgyxehwhynssfhg_ind_8').style.opacity = 1;\"      onmouseout=\"document.getElementById('_tp_vqfnmqgyxehwhynssfhg_ind_8').style.textDecoration = 'none';document.getElementById('_fs_vqfnmqgyxehwhynssfhg_ind_8').style.opacity = 0;document.getElementById('_fb_vqfnmqgyxehwhynssfhg_ind_8').style.opacity = 0;\" style=\"fill:rgb(0,0,0,0)\" /><g transform=\"translate(-6.0,0)\">  <svg x=\"88.93528242798742%\" y=\"40\" height=\"18\" overflow=\"visible\" width=\"30\">    <path d=\"M 8 -9 l -6 18 L 8 25\" fill=\"none\" style=\"stroke:rgb(208, 230, 250);stroke-width:2\" />  </svg></g><rect x=\"81.75281616137988%\" y=\"40\" height=\"20\" width=\"7.182466266607534%\"      onmouseover=\"document.getElementById('_tp_vqfnmqgyxehwhynssfhg_ind_4').style.textDecoration = 'underline';document.getElementById('_fs_vqfnmqgyxehwhynssfhg_ind_4').style.opacity = 1;document.getElementById('_fb_vqfnmqgyxehwhynssfhg_ind_4').style.opacity = 1;\"      onmouseout=\"document.getElementById('_tp_vqfnmqgyxehwhynssfhg_ind_4').style.textDecoration = 'none';document.getElementById('_fs_vqfnmqgyxehwhynssfhg_ind_4').style.opacity = 0;document.getElementById('_fb_vqfnmqgyxehwhynssfhg_ind_4').style.opacity = 0;\" style=\"fill:rgb(0,0,0,0)\" /><g transform=\"translate(-6.0,0)\">  <svg x=\"90.66909923649547%\" y=\"40\" height=\"18\" overflow=\"visible\" width=\"30\">    <path d=\"M 8 -9 l -6 18 L 8 25\" fill=\"none\" style=\"stroke:rgb(208, 230, 250);stroke-width:2\" />  </svg></g><rect x=\"88.93528242798742%\" y=\"40\" height=\"20\" width=\"1.7338168085080525%\"      onmouseover=\"document.getElementById('_tp_vqfnmqgyxehwhynssfhg_ind_2').style.textDecoration = 'underline';document.getElementById('_fs_vqfnmqgyxehwhynssfhg_ind_2').style.opacity = 1;document.getElementById('_fb_vqfnmqgyxehwhynssfhg_ind_2').style.opacity = 1;\"      onmouseout=\"document.getElementById('_tp_vqfnmqgyxehwhynssfhg_ind_2').style.textDecoration = 'none';document.getElementById('_fs_vqfnmqgyxehwhynssfhg_ind_2').style.opacity = 0;document.getElementById('_fb_vqfnmqgyxehwhynssfhg_ind_2').style.opacity = 0;\" style=\"fill:rgb(0,0,0,0)\" /><g transform=\"translate(-6.0,0)\">  <svg x=\"91.66665810509518%\" y=\"40\" height=\"18\" overflow=\"visible\" width=\"30\">    <path d=\"M 8 -9 l -6 18 L 8 25\" fill=\"none\" style=\"stroke:rgb(208, 230, 250);stroke-width:2\" />  </svg></g><rect x=\"90.66909923649547%\" y=\"40\" height=\"20\" width=\"0.997558868599711%\"      onmouseover=\"document.getElementById('_tp_vqfnmqgyxehwhynssfhg_ind_5').style.textDecoration = 'underline';document.getElementById('_fs_vqfnmqgyxehwhynssfhg_ind_5').style.opacity = 1;document.getElementById('_fb_vqfnmqgyxehwhynssfhg_ind_5').style.opacity = 1;\"      onmouseout=\"document.getElementById('_tp_vqfnmqgyxehwhynssfhg_ind_5').style.textDecoration = 'none';document.getElementById('_fs_vqfnmqgyxehwhynssfhg_ind_5').style.opacity = 0;document.getElementById('_fb_vqfnmqgyxehwhynssfhg_ind_5').style.opacity = 0;\" style=\"fill:rgb(0,0,0,0)\" /><g transform=\"translate(-6.0,0)\">  <svg x=\"91.6666590617176%\" y=\"40\" height=\"18\" overflow=\"visible\" width=\"30\">    <path d=\"M 8 -9 l -6 18 L 8 25\" fill=\"none\" style=\"stroke:rgb(208, 230, 250);stroke-width:2\" />  </svg></g><rect x=\"91.66665810509518%\" y=\"40\" height=\"20\" width=\"9.566224150603375e-07%\"      onmouseover=\"document.getElementById('_tp_vqfnmqgyxehwhynssfhg_ind_0').style.textDecoration = 'underline';document.getElementById('_fs_vqfnmqgyxehwhynssfhg_ind_0').style.opacity = 1;document.getElementById('_fb_vqfnmqgyxehwhynssfhg_ind_0').style.opacity = 1;\"      onmouseout=\"document.getElementById('_tp_vqfnmqgyxehwhynssfhg_ind_0').style.textDecoration = 'none';document.getElementById('_fs_vqfnmqgyxehwhynssfhg_ind_0').style.opacity = 0;document.getElementById('_fb_vqfnmqgyxehwhynssfhg_ind_0').style.opacity = 0;\" style=\"fill:rgb(0,0,0,0)\" /><rect x=\"91.6666590617176%\" y=\"40\" height=\"20\" width=\"6.343766472127754e-07%\"      onmouseover=\"document.getElementById('_tp_vqfnmqgyxehwhynssfhg_ind_9').style.textDecoration = 'underline';document.getElementById('_fs_vqfnmqgyxehwhynssfhg_ind_9').style.opacity = 1;document.getElementById('_fb_vqfnmqgyxehwhynssfhg_ind_9').style.opacity = 1;\"      onmouseout=\"document.getElementById('_tp_vqfnmqgyxehwhynssfhg_ind_9').style.textDecoration = 'none';document.getElementById('_fs_vqfnmqgyxehwhynssfhg_ind_9').style.opacity = 0;document.getElementById('_fb_vqfnmqgyxehwhynssfhg_ind_9').style.opacity = 0;\" style=\"fill:rgb(0,0,0,0)\" /></svg><div align='center'><div style=\"color: rgb(120,120,120); font-size: 12px; margin-top: -15px;\">inputs</div><div style='display: inline; text-align: center;'\n",
       "    ><div style='display: none; color: #999; padding-top: 0px; font-size: 12px;'>-0.0</div\n",
       "        ><div id='_tp_vqfnmqgyxehwhynssfhg_ind_0'\n",
       "            style='display: inline; background: rgba(54.70588235294111, 122.49411764705886, 213.40784313725496, 0.0); border-radius: 3px; padding: 0px'\n",
       "            onclick=\"\n",
       "            if (this.previousSibling.style.display == 'none') {\n",
       "                this.previousSibling.style.display = 'block';\n",
       "                this.parentNode.style.display = 'inline-block';\n",
       "            } else {\n",
       "                this.previousSibling.style.display = 'none';\n",
       "                this.parentNode.style.display = 'inline';\n",
       "            }\"\n",
       "            onmouseover=\"document.getElementById('_fb_vqfnmqgyxehwhynssfhg_ind_0').style.opacity = 1; document.getElementById('_fs_vqfnmqgyxehwhynssfhg_ind_0').style.opacity = 1;\"\n",
       "            onmouseout=\"document.getElementById('_fb_vqfnmqgyxehwhynssfhg_ind_0').style.opacity = 0; document.getElementById('_fs_vqfnmqgyxehwhynssfhg_ind_0').style.opacity = 0;\"\n",
       "        ></div></div><div style='display: inline; text-align: center;'\n",
       "    ><div style='display: none; color: #999; padding-top: 0px; font-size: 12px;'>0.001</div\n",
       "        ><div id='_tp_vqfnmqgyxehwhynssfhg_ind_1'\n",
       "            style='display: inline; background: rgba(255.0, 13.0, 87.0, 0.014656367597544035); border-radius: 3px; padding: 0px'\n",
       "            onclick=\"\n",
       "            if (this.previousSibling.style.display == 'none') {\n",
       "                this.previousSibling.style.display = 'block';\n",
       "                this.parentNode.style.display = 'inline-block';\n",
       "            } else {\n",
       "                this.previousSibling.style.display = 'none';\n",
       "                this.parentNode.style.display = 'inline';\n",
       "            }\"\n",
       "            onmouseover=\"document.getElementById('_fb_vqfnmqgyxehwhynssfhg_ind_1').style.opacity = 1; document.getElementById('_fs_vqfnmqgyxehwhynssfhg_ind_1').style.opacity = 1;\"\n",
       "            onmouseout=\"document.getElementById('_fb_vqfnmqgyxehwhynssfhg_ind_1').style.opacity = 0; document.getElementById('_fs_vqfnmqgyxehwhynssfhg_ind_1').style.opacity = 0;\"\n",
       "        >El</div></div><div style='display: inline; text-align: center;'\n",
       "    ><div style='display: none; color: #999; padding-top: 0px; font-size: 12px;'>-0.002</div\n",
       "        ><div id='_tp_vqfnmqgyxehwhynssfhg_ind_2'\n",
       "            style='display: inline; background: rgba(30.0, 136.0, 229.0, 0.03042186571598325); border-radius: 3px; padding: 0px'\n",
       "            onclick=\"\n",
       "            if (this.previousSibling.style.display == 'none') {\n",
       "                this.previousSibling.style.display = 'block';\n",
       "                this.parentNode.style.display = 'inline-block';\n",
       "            } else {\n",
       "                this.previousSibling.style.display = 'none';\n",
       "                this.parentNode.style.display = 'inline';\n",
       "            }\"\n",
       "            onmouseover=\"document.getElementById('_fb_vqfnmqgyxehwhynssfhg_ind_2').style.opacity = 1; document.getElementById('_fs_vqfnmqgyxehwhynssfhg_ind_2').style.opacity = 1;\"\n",
       "            onmouseout=\"document.getElementById('_fb_vqfnmqgyxehwhynssfhg_ind_2').style.opacity = 0; document.getElementById('_fs_vqfnmqgyxehwhynssfhg_ind_2').style.opacity = 0;\"\n",
       "        >on </div></div><div style='display: inline; text-align: center;'\n",
       "    ><div style='display: none; color: #999; padding-top: 0px; font-size: 12px;'>0.001</div\n",
       "        ><div id='_tp_vqfnmqgyxehwhynssfhg_ind_3'\n",
       "            style='display: inline; background: rgba(255.0, 13.0, 87.0, 0.02253911665676371); border-radius: 3px; padding: 0px'\n",
       "            onclick=\"\n",
       "            if (this.previousSibling.style.display == 'none') {\n",
       "                this.previousSibling.style.display = 'block';\n",
       "                this.parentNode.style.display = 'inline-block';\n",
       "            } else {\n",
       "                this.previousSibling.style.display = 'none';\n",
       "                this.parentNode.style.display = 'inline';\n",
       "            }\"\n",
       "            onmouseover=\"document.getElementById('_fb_vqfnmqgyxehwhynssfhg_ind_3').style.opacity = 1; document.getElementById('_fs_vqfnmqgyxehwhynssfhg_ind_3').style.opacity = 1;\"\n",
       "            onmouseout=\"document.getElementById('_fb_vqfnmqgyxehwhynssfhg_ind_3').style.opacity = 0; document.getElementById('_fs_vqfnmqgyxehwhynssfhg_ind_3').style.opacity = 0;\"\n",
       "        >Mu</div></div><div style='display: inline; text-align: center;'\n",
       "    ><div style='display: none; color: #999; padding-top: 0px; font-size: 12px;'>-0.009</div\n",
       "        ><div id='_tp_vqfnmqgyxehwhynssfhg_ind_4'\n",
       "            style='display: inline; background: rgba(30.0, 136.0, 229.0, 0.14866310160427798); border-radius: 3px; padding: 0px'\n",
       "            onclick=\"\n",
       "            if (this.previousSibling.style.display == 'none') {\n",
       "                this.previousSibling.style.display = 'block';\n",
       "                this.parentNode.style.display = 'inline-block';\n",
       "            } else {\n",
       "                this.previousSibling.style.display = 'none';\n",
       "                this.parentNode.style.display = 'inline';\n",
       "            }\"\n",
       "            onmouseover=\"document.getElementById('_fb_vqfnmqgyxehwhynssfhg_ind_4').style.opacity = 1; document.getElementById('_fs_vqfnmqgyxehwhynssfhg_ind_4').style.opacity = 1;\"\n",
       "            onmouseout=\"document.getElementById('_fb_vqfnmqgyxehwhynssfhg_ind_4').style.opacity = 0; document.getElementById('_fs_vqfnmqgyxehwhynssfhg_ind_4').style.opacity = 0;\"\n",
       "        >sk </div></div><div style='display: inline; text-align: center;'\n",
       "    ><div style='display: none; color: #999; padding-top: 0px; font-size: 12px;'>-0.001</div\n",
       "        ><div id='_tp_vqfnmqgyxehwhynssfhg_ind_5'\n",
       "            style='display: inline; background: rgba(30.0, 136.0, 229.0, 0.014656367597544028); border-radius: 3px; padding: 0px'\n",
       "            onclick=\"\n",
       "            if (this.previousSibling.style.display == 'none') {\n",
       "                this.previousSibling.style.display = 'block';\n",
       "                this.parentNode.style.display = 'inline-block';\n",
       "            } else {\n",
       "                this.previousSibling.style.display = 'none';\n",
       "                this.parentNode.style.display = 'inline';\n",
       "            }\"\n",
       "            onmouseover=\"document.getElementById('_fb_vqfnmqgyxehwhynssfhg_ind_5').style.opacity = 1; document.getElementById('_fs_vqfnmqgyxehwhynssfhg_ind_5').style.opacity = 1;\"\n",
       "            onmouseout=\"document.getElementById('_fb_vqfnmqgyxehwhynssfhg_ind_5').style.opacity = 0; document.getElementById('_fs_vqfnmqgyxehwhynssfhg_ind_5').style.opacity = 0;\"\n",
       "        >likes </div></div><div style='display: inline; text-align: center;'\n",
       "    ><div style='display: none; color: #999; padding-top: 0px; font-size: 12px;'>-0.021</div\n",
       "        ><div id='_tp_vqfnmqgyxehwhynssfhg_ind_6'\n",
       "            style='display: inline; background: rgba(30.0, 136.0, 229.0, 0.33784907902554956); border-radius: 3px; padding: 0px'\n",
       "            onclick=\"\n",
       "            if (this.previousSibling.style.display == 'none') {\n",
       "                this.previousSibling.style.display = 'block';\n",
       "                this.parentNode.style.display = 'inline-block';\n",
       "            } else {\n",
       "                this.previousSibling.style.display = 'none';\n",
       "                this.parentNode.style.display = 'inline';\n",
       "            }\"\n",
       "            onmouseover=\"document.getElementById('_fb_vqfnmqgyxehwhynssfhg_ind_6').style.opacity = 1; document.getElementById('_fs_vqfnmqgyxehwhynssfhg_ind_6').style.opacity = 1;\"\n",
       "            onmouseout=\"document.getElementById('_fb_vqfnmqgyxehwhynssfhg_ind_6').style.opacity = 0; document.getElementById('_fs_vqfnmqgyxehwhynssfhg_ind_6').style.opacity = 0;\"\n",
       "        >launching </div></div><div style='display: inline; text-align: center;'\n",
       "    ><div style='display: none; color: #999; padding-top: 0px; font-size: 12px;'>-0.062</div\n",
       "        ><div id='_tp_vqfnmqgyxehwhynssfhg_ind_7'\n",
       "            style='display: inline; background: rgba(30.0, 136.0, 229.0, 1.0); border-radius: 3px; padding: 0px'\n",
       "            onclick=\"\n",
       "            if (this.previousSibling.style.display == 'none') {\n",
       "                this.previousSibling.style.display = 'block';\n",
       "                this.parentNode.style.display = 'inline-block';\n",
       "            } else {\n",
       "                this.previousSibling.style.display = 'none';\n",
       "                this.parentNode.style.display = 'inline';\n",
       "            }\"\n",
       "            onmouseover=\"document.getElementById('_fb_vqfnmqgyxehwhynssfhg_ind_7').style.opacity = 1; document.getElementById('_fs_vqfnmqgyxehwhynssfhg_ind_7').style.opacity = 1;\"\n",
       "            onmouseout=\"document.getElementById('_fb_vqfnmqgyxehwhynssfhg_ind_7').style.opacity = 0; document.getElementById('_fs_vqfnmqgyxehwhynssfhg_ind_7').style.opacity = 0;\"\n",
       "        >satellites</div></div><div style='display: inline; text-align: center;'\n",
       "    ><div style='display: none; color: #999; padding-top: 0px; font-size: 12px;'>-0.01</div\n",
       "        ><div id='_tp_vqfnmqgyxehwhynssfhg_ind_8'\n",
       "            style='display: inline; background: rgba(30.0, 136.0, 229.0, 0.1565458506634977); border-radius: 3px; padding: 0px'\n",
       "            onclick=\"\n",
       "            if (this.previousSibling.style.display == 'none') {\n",
       "                this.previousSibling.style.display = 'block';\n",
       "                this.parentNode.style.display = 'inline-block';\n",
       "            } else {\n",
       "                this.previousSibling.style.display = 'none';\n",
       "                this.parentNode.style.display = 'inline';\n",
       "            }\"\n",
       "            onmouseover=\"document.getElementById('_fb_vqfnmqgyxehwhynssfhg_ind_8').style.opacity = 1; document.getElementById('_fs_vqfnmqgyxehwhynssfhg_ind_8').style.opacity = 1;\"\n",
       "            onmouseout=\"document.getElementById('_fb_vqfnmqgyxehwhynssfhg_ind_8').style.opacity = 0; document.getElementById('_fs_vqfnmqgyxehwhynssfhg_ind_8').style.opacity = 0;\"\n",
       "        >.</div></div><div style='display: inline; text-align: center;'\n",
       "    ><div style='display: none; color: #999; padding-top: 0px; font-size: 12px;'>-0.0</div\n",
       "        ><div id='_tp_vqfnmqgyxehwhynssfhg_ind_9'\n",
       "            style='display: inline; background: rgba(54.70588235294111, 122.49411764705886, 213.40784313725496, 0.0); border-radius: 3px; padding: 0px'\n",
       "            onclick=\"\n",
       "            if (this.previousSibling.style.display == 'none') {\n",
       "                this.previousSibling.style.display = 'block';\n",
       "                this.parentNode.style.display = 'inline-block';\n",
       "            } else {\n",
       "                this.previousSibling.style.display = 'none';\n",
       "                this.parentNode.style.display = 'inline';\n",
       "            }\"\n",
       "            onmouseover=\"document.getElementById('_fb_vqfnmqgyxehwhynssfhg_ind_9').style.opacity = 1; document.getElementById('_fs_vqfnmqgyxehwhynssfhg_ind_9').style.opacity = 1;\"\n",
       "            onmouseout=\"document.getElementById('_fb_vqfnmqgyxehwhynssfhg_ind_9').style.opacity = 0; document.getElementById('_fs_vqfnmqgyxehwhynssfhg_ind_9').style.opacity = 0;\"\n",
       "        ></div></div></div></div></div>"
      ],
      "text/plain": [
       "<IPython.core.display.HTML object>"
      ]
     },
     "metadata": {},
     "output_type": "display_data"
    }
   ],
   "source": [
    "# | notest\n",
    "\n",
    "clf.explain(['Elon Musk likes launching satellites.'], labels=clf.model.labels)"
   ]
  },
  {
   "cell_type": "markdown",
   "metadata": {},
   "source": [
    "Save and reload the model:"
   ]
  },
  {
   "cell_type": "code",
   "execution_count": 13,
   "metadata": {},
   "outputs": [],
   "source": [
    "# | notest\n",
    "\n",
    "clf.save('/tmp/my_fewshot_model')"
   ]
  },
  {
   "cell_type": "code",
   "execution_count": 14,
   "metadata": {},
   "outputs": [],
   "source": [
    "# | notest\n",
    "\n",
    "clf = FewShotClassifier('/tmp/my_fewshot_model')"
   ]
  },
  {
   "cell_type": "code",
   "execution_count": 15,
   "metadata": {},
   "outputs": [
    {
     "data": {
      "text/plain": [
       "array(['sci.space'], dtype='<U22')"
      ]
     },
     "execution_count": 15,
     "metadata": {},
     "output_type": "execute_result"
    }
   ],
   "source": [
    "# | notest\n",
    "\n",
    "clf.predict(['Elon Musk likes launching satellites.'])"
   ]
  },
  {
   "cell_type": "code",
   "execution_count": null,
   "metadata": {},
   "outputs": [],
   "source": []
  },
  {
   "cell_type": "code",
   "execution_count": null,
   "metadata": {},
   "outputs": [],
   "source": []
  }
 ],
 "metadata": {
  "kernelspec": {
   "display_name": "Python 3 (ipykernel)",
   "language": "python",
   "name": "python3"
  },
  "language_info": {
   "codemirror_mode": {
    "name": "ipython",
    "version": 3
   },
   "file_extension": ".py",
   "mimetype": "text/x-python",
   "name": "python",
   "nbconvert_exporter": "python",
   "pygments_lexer": "ipython3",
   "version": "3.9.18"
  }
 },
 "nbformat": 4,
 "nbformat_minor": 4
}
