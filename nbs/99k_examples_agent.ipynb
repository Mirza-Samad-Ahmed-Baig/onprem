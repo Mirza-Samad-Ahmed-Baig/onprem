{
 "cells": [
  {
   "cell_type": "markdown",
   "metadata": {},
   "source": [
    "# Agent-Based Task Execution\n",
    "\n",
    "This notebook demonstrates how to use the `Agent` pipeline from **[OnPrem.LLM](https://github.com/amaiya/onprem)** to create autonomous agents that can execute complex tasks using a variety of tools."
   ]
  },
  {
   "cell_type": "markdown",
   "metadata": {},
   "source": [
    "## Setup the LLM and Agent\n",
    "\n",
    "First, we'll set up our LLM instance that will power our agent. For agent-based tasks, models with strong reasoning abilities work best. We'll use **GPT-4o-mini** for these examples, but you could also use other local or cloud models like **Llama-3.1-8B**, **Mixtral**, or **Claude**."
   ]
  },
  {
   "cell_type": "code",
   "execution_count": null,
   "metadata": {},
   "outputs": [],
   "source": [
    "# | notest\n",
    "\n",
    "from onprem import LLM\n",
    "from onprem.pipelines import Agent\n",
    "llm = LLM('openai/gpt-4o-mini', mute_stream=True) \n",
    "agent = Agent(llm)"
   ]
  },
  {
   "cell_type": "markdown",
   "metadata": {},
   "source": [
    "## Giving the Agent Access to Tools\n",
    "\n",
    "Next, we will give the agent access tools when executing a given task.  Examples of tool types include the ability to do the following:\n",
    "1. perform a web search\n",
    "2. visit a web page\n",
    "3. search your documents stored within a vector store (e.g., agentic RAG)\n",
    "4. accessing Python interpreter\n",
    "5. accessing an MCP server\n",
    "6. executing a custom function that you provide (i.e., implementing your own custom tools)\n",
    "\n",
    "### Example: Using a Custom Tool with Web Search\n",
    "\n",
    "In this example, we will give the agent access to web search and a function that returns today's date to find historical events for the current day."
   ]
  },
  {
   "cell_type": "code",
   "execution_count": null,
   "metadata": {},
   "outputs": [
    {
     "name": "stdout",
     "output_type": "stream",
     "text": [
      "('today', <smolagents.tools.tool.<locals>.SimpleTool object>)\n",
      "('websearch', <smolagents.default_tools.WebSearchTool object>)\n"
     ]
    }
   ],
   "source": [
    "# | notest\n",
    "\n",
    "def today() -> str:\n",
    "    \"\"\"\n",
    "    Gets the current date and time\n",
    "\n",
    "    Returns:\n",
    "        current date and time\n",
    "    \"\"\"\n",
    "    from datetime import datetime\n",
    "    return datetime.today().isoformat()\n",
    "\n",
    "agent.add_function_tool(today)\n",
    "agent.add_websearch_tool()\n",
    "for tup in agent.tools.items():\n",
    "    print(tup)"
   ]
  },
  {
   "cell_type": "code",
   "execution_count": null,
   "metadata": {},
   "outputs": [
    {
     "data": {
      "text/html": [
       "<pre style=\"white-space:pre;overflow-x:auto;line-height:normal;font-family:Menlo,'DejaVu Sans Mono',consolas,'Courier New',monospace\"><span style=\"color: #d4b702; text-decoration-color: #d4b702\">╭──────────────────────────────────────────────────── </span><span style=\"color: #d4b702; text-decoration-color: #d4b702; font-weight: bold\">New run</span><span style=\"color: #d4b702; text-decoration-color: #d4b702\"> ────────────────────────────────────────────────────╮</span>\n",
       "<span style=\"color: #d4b702; text-decoration-color: #d4b702\">│</span>                                                                                                                 <span style=\"color: #d4b702; text-decoration-color: #d4b702\">│</span>\n",
       "<span style=\"color: #d4b702; text-decoration-color: #d4b702\">│</span> <span style=\"font-weight: bold\">Any famous events that happened on today's date?</span>                                                                <span style=\"color: #d4b702; text-decoration-color: #d4b702\">│</span>\n",
       "<span style=\"color: #d4b702; text-decoration-color: #d4b702\">│</span>                                                                                                                 <span style=\"color: #d4b702; text-decoration-color: #d4b702\">│</span>\n",
       "<span style=\"color: #d4b702; text-decoration-color: #d4b702\">╰─ AgentModel - onprem-gpt-4o-mini ───────────────────────────────────────────────────────────────────────────────╯</span>\n",
       "</pre>\n"
      ],
      "text/plain": [
       "\u001b[38;2;212;183;2m╭─\u001b[0m\u001b[38;2;212;183;2m───────────────────────────────────────────────────\u001b[0m\u001b[38;2;212;183;2m \u001b[0m\u001b[1;38;2;212;183;2mNew run\u001b[0m\u001b[38;2;212;183;2m \u001b[0m\u001b[38;2;212;183;2m───────────────────────────────────────────────────\u001b[0m\u001b[38;2;212;183;2m─╮\u001b[0m\n",
       "\u001b[38;2;212;183;2m│\u001b[0m                                                                                                                 \u001b[38;2;212;183;2m│\u001b[0m\n",
       "\u001b[38;2;212;183;2m│\u001b[0m \u001b[1mAny famous events that happened on today's date?\u001b[0m                                                                \u001b[38;2;212;183;2m│\u001b[0m\n",
       "\u001b[38;2;212;183;2m│\u001b[0m                                                                                                                 \u001b[38;2;212;183;2m│\u001b[0m\n",
       "\u001b[38;2;212;183;2m╰─\u001b[0m\u001b[38;2;212;183;2m AgentModel - onprem-gpt-4o-mini \u001b[0m\u001b[38;2;212;183;2m──────────────────────────────────────────────────────────────────────────────\u001b[0m\u001b[38;2;212;183;2m─╯\u001b[0m\n"
      ]
     },
     "metadata": {},
     "output_type": "display_data"
    },
    {
     "data": {
      "text/html": [
       "<pre style=\"white-space:pre;overflow-x:auto;line-height:normal;font-family:Menlo,'DejaVu Sans Mono',consolas,'Courier New',monospace\"><span style=\"color: #d4b702; text-decoration-color: #d4b702\">━━━━━━━━━━━━━━━━━━━━━━━━━━━━━━━━━━━━━━━━━━━━━━━━━━━━━ </span><span style=\"font-weight: bold\">Step </span><span style=\"color: #008080; text-decoration-color: #008080; font-weight: bold\">1</span><span style=\"color: #d4b702; text-decoration-color: #d4b702\"> ━━━━━━━━━━━━━━━━━━━━━━━━━━━━━━━━━━━━━━━━━━━━━━━━━━━━━━</span>\n",
       "</pre>\n"
      ],
      "text/plain": [
       "\u001b[38;2;212;183;2m━━━━━━━━━━━━━━━━━━━━━━━━━━━━━━━━━━━━━━━━━━━━━━━━━━━━━ \u001b[0m\u001b[1mStep \u001b[0m\u001b[1;36m1\u001b[0m\u001b[38;2;212;183;2m ━━━━━━━━━━━━━━━━━━━━━━━━━━━━━━━━━━━━━━━━━━━━━━━━━━━━━━\u001b[0m\n"
      ]
     },
     "metadata": {},
     "output_type": "display_data"
    },
    {
     "data": {
      "text/html": [
       "<pre style=\"white-space:pre;overflow-x:auto;line-height:normal;font-family:Menlo,'DejaVu Sans Mono',consolas,'Courier New',monospace\">╭─────────────────────────────────────────────────────────────────────────────────────────────────────────────────╮\n",
       "│ Calling tool: 'today' with arguments: {}                                                                        │\n",
       "╰─────────────────────────────────────────────────────────────────────────────────────────────────────────────────╯\n",
       "</pre>\n"
      ],
      "text/plain": [
       "╭─────────────────────────────────────────────────────────────────────────────────────────────────────────────────╮\n",
       "│ Calling tool: 'today' with arguments: {}                                                                        │\n",
       "╰─────────────────────────────────────────────────────────────────────────────────────────────────────────────────╯\n"
      ]
     },
     "metadata": {},
     "output_type": "display_data"
    },
    {
     "data": {
      "text/html": [
       "<pre style=\"white-space:pre;overflow-x:auto;line-height:normal;font-family:Menlo,'DejaVu Sans Mono',consolas,'Courier New',monospace\">Observations: <span style=\"color: #008080; text-decoration-color: #008080; font-weight: bold\">2025</span>-<span style=\"color: #008080; text-decoration-color: #008080; font-weight: bold\">06</span>-23T<span style=\"color: #00ff00; text-decoration-color: #00ff00; font-weight: bold\">15:06:53</span>.<span style=\"color: #008080; text-decoration-color: #008080; font-weight: bold\">420290</span>\n",
       "</pre>\n"
      ],
      "text/plain": [
       "Observations: \u001b[1;36m2025\u001b[0m-\u001b[1;36m06\u001b[0m-23T\u001b[1;92m15:06:53\u001b[0m.\u001b[1;36m420290\u001b[0m\n"
      ]
     },
     "metadata": {},
     "output_type": "display_data"
    },
    {
     "data": {
      "text/html": [
       "<pre style=\"white-space:pre;overflow-x:auto;line-height:normal;font-family:Menlo,'DejaVu Sans Mono',consolas,'Courier New',monospace\"><span style=\"color: #7f7f7f; text-decoration-color: #7f7f7f\">[Step 1: Duration 1.01 seconds]</span>\n",
       "</pre>\n"
      ],
      "text/plain": [
       "\u001b[2m[Step 1: Duration 1.01 seconds]\u001b[0m\n"
      ]
     },
     "metadata": {},
     "output_type": "display_data"
    },
    {
     "data": {
      "text/html": [
       "<pre style=\"white-space:pre;overflow-x:auto;line-height:normal;font-family:Menlo,'DejaVu Sans Mono',consolas,'Courier New',monospace\"><span style=\"color: #d4b702; text-decoration-color: #d4b702\">━━━━━━━━━━━━━━━━━━━━━━━━━━━━━━━━━━━━━━━━━━━━━━━━━━━━━ </span><span style=\"font-weight: bold\">Step </span><span style=\"color: #008080; text-decoration-color: #008080; font-weight: bold\">2</span><span style=\"color: #d4b702; text-decoration-color: #d4b702\"> ━━━━━━━━━━━━━━━━━━━━━━━━━━━━━━━━━━━━━━━━━━━━━━━━━━━━━━</span>\n",
       "</pre>\n"
      ],
      "text/plain": [
       "\u001b[38;2;212;183;2m━━━━━━━━━━━━━━━━━━━━━━━━━━━━━━━━━━━━━━━━━━━━━━━━━━━━━ \u001b[0m\u001b[1mStep \u001b[0m\u001b[1;36m2\u001b[0m\u001b[38;2;212;183;2m ━━━━━━━━━━━━━━━━━━━━━━━━━━━━━━━━━━━━━━━━━━━━━━━━━━━━━━\u001b[0m\n"
      ]
     },
     "metadata": {},
     "output_type": "display_data"
    },
    {
     "data": {
      "text/html": [
       "<pre style=\"white-space:pre;overflow-x:auto;line-height:normal;font-family:Menlo,'DejaVu Sans Mono',consolas,'Courier New',monospace\">╭─────────────────────────────────────────────────────────────────────────────────────────────────────────────────╮\n",
       "│ Calling tool: 'web_search' with arguments: {'query': 'famous events on June 23'}                                │\n",
       "╰─────────────────────────────────────────────────────────────────────────────────────────────────────────────────╯\n",
       "</pre>\n"
      ],
      "text/plain": [
       "╭─────────────────────────────────────────────────────────────────────────────────────────────────────────────────╮\n",
       "│ Calling tool: 'web_search' with arguments: {'query': 'famous events on June 23'}                                │\n",
       "╰─────────────────────────────────────────────────────────────────────────────────────────────────────────────────╯\n"
      ]
     },
     "metadata": {},
     "output_type": "display_data"
    },
    {
     "data": {
      "text/html": [
       "<pre style=\"white-space:pre;overflow-x:auto;line-height:normal;font-family:Menlo,'DejaVu Sans Mono',consolas,'Courier New',monospace\">Observations: ## Search Results\n",
       "\n",
       "|Historical Events on June <span style=\"color: #008080; text-decoration-color: #008080; font-weight: bold\">23</span> - On This Day<span style=\"font-weight: bold\">](</span><span style=\"color: #0000ff; text-decoration-color: #0000ff; text-decoration: underline\">https://www.onthisday.com/events/june/23)</span>\n",
       " June in History. The Painter Who Died For His Art June <span style=\"color: #008080; text-decoration-color: #008080; font-weight: bold\">22</span>, <span style=\"color: #008080; text-decoration-color: #008080; font-weight: bold\">1846</span>; Deadly Quest For The Northern Passage June <span style=\"color: #008080; text-decoration-color: #008080; font-weight: bold\">22</span>, \n",
       "<span style=\"color: #008080; text-decoration-color: #008080; font-weight: bold\">1611</span>; How the Qwerty Keyboard was Born June  <span style=\"color: #008080; text-decoration-color: #008080; font-weight: bold\">23</span> , <span style=\"color: #008080; text-decoration-color: #008080; font-weight: bold\">1868</span>; The Fatal Dance Manias of Medieval Europe June <span style=\"color: #008080; text-decoration-color: #008080; font-weight: bold\">24</span>, <span style=\"color: #008080; text-decoration-color: #008080; font-weight: bold\">1374</span>\n",
       "\n",
       "|What Happened on June <span style=\"color: #008080; text-decoration-color: #008080; font-weight: bold\">23</span> - HISTORY<span style=\"font-weight: bold\">](</span><span style=\"color: #0000ff; text-decoration-color: #0000ff; text-decoration: underline\">https://www.history.com/this-day-in-history/june-23)</span>\n",
       "Discover more of the major events , famous births, notable deaths and everything else history-making that happened \n",
       "on June 23rd <span style=\"color: #008080; text-decoration-color: #008080; font-weight: bold\">1956</span> Gamal Abdel Nasser elected president of Egypt\n",
       "\n",
       "|On This Day - What Happened on June <span style=\"color: #008080; text-decoration-color: #008080; font-weight: bold\">23</span> | Britannica<span style=\"font-weight: bold\">](</span><span style=\"color: #0000ff; text-decoration-color: #0000ff; text-decoration: underline\">https://www.britannica.com/on-this-day/June-23)</span>\n",
       " On This Day In History - June  <span style=\"color: #008080; text-decoration-color: #008080; font-weight: bold\">23</span> : anniversaries, birthdays, major events , and time capsules. This day's facts \n",
       "in the arts, politics, and sciences. <span style=\"color: #808000; text-decoration-color: #808000\">...</span> More Events  On This Day. <span style=\"color: #008080; text-decoration-color: #008080; font-weight: bold\">2016</span>. <span style=\"color: #808000; text-decoration-color: #808000\">...</span> Test your knowledge of famous \n",
       "inventions. <span style=\"color: #008080; text-decoration-color: #008080; font-weight: bold\">1865</span>.\n",
       "\n",
       "|June 23rd: All Facts &amp; Events That Happened Today In \n",
       "History<span style=\"font-weight: bold\">](</span><span style=\"color: #0000ff; text-decoration-color: #0000ff; text-decoration: underline\">https://facts.net/history/historical-events/june-23rd-all-facts-events-that-happened-today-in-history/)</span>\n",
       " June 23rd has been a significant date throughout history, witnessing major historical events , scientific \n",
       "breakthroughs, political milestones, cultural events , and notable births and deaths. From the surrender of France \n",
       "during World War II to the discovery of the Higgs boson particle and the first-ever image of a black hole, June \n",
       "23rd has <span style=\"color: #808000; text-decoration-color: #808000\">...</span>\n",
       "\n",
       "|June <span style=\"color: #008080; text-decoration-color: #008080; font-weight: bold\">23</span> Events in History - Have Fun With History<span style=\"font-weight: bold\">](</span><span style=\"color: #0000ff; text-decoration-color: #0000ff; text-decoration: underline\">https://www.havefunwithhistory.com/june-23/)</span>\n",
       "This article delves into a selection of notable historical events that occurred on June 23rd across various years, \n",
       "presenting them in chronological order. <span style=\"color: #808000; text-decoration-color: #808000\">...</span> William Penn's signing of a friendship treaty with the Lenni Lenape \n",
       "Indians on June  <span style=\"color: #008080; text-decoration-color: #008080; font-weight: bold\">23</span> , <span style=\"color: #008080; text-decoration-color: #008080; font-weight: bold\">1683</span>, is a notable example of peaceful European-Indigenous relations in colonial America.\n",
       "\n",
       "|JUNE <span style=\"color: #008080; text-decoration-color: #008080; font-weight: bold\">23</span> | Birthdays and Events - National Day \n",
       "Calendar<span style=\"font-weight: bold\">](</span><span style=\"color: #0000ff; text-decoration-color: #0000ff; text-decoration: underline\">https://www.nationaldaycalendar.com/june/june-23-birthdays-and-events)</span>\n",
       "Notable Birthdays for June  <span style=\"color: #008080; text-decoration-color: #008080; font-weight: bold\">23</span> . Blanche Noyes <span style=\"font-weight: bold\">(</span><span style=\"color: #008080; text-decoration-color: #008080; font-weight: bold\">1900</span>-<span style=\"color: #008080; text-decoration-color: #008080; font-weight: bold\">1981</span><span style=\"font-weight: bold\">)</span> - One of the first women to receive an aviation \n",
       "transport license. Howard Engstrom <span style=\"font-weight: bold\">(</span><span style=\"color: #008080; text-decoration-color: #008080; font-weight: bold\">1902</span>-<span style=\"color: #008080; text-decoration-color: #008080; font-weight: bold\">1962</span><span style=\"font-weight: bold\">)</span> - Computer designer and inventor of the first personal computer. \n",
       "Frances Gabe <span style=\"font-weight: bold\">(</span><span style=\"color: #008080; text-decoration-color: #008080; font-weight: bold\">1915</span>-<span style=\"color: #008080; text-decoration-color: #008080; font-weight: bold\">2016</span><span style=\"font-weight: bold\">)</span> - Inventor of the first self-cleaning house. Kevin Yagher <span style=\"font-weight: bold\">(</span><span style=\"color: #008080; text-decoration-color: #008080; font-weight: bold\">1962</span>-Still Living<span style=\"font-weight: bold\">)</span> - Special \n",
       "effects technician who designed Freddy Krueger's makeup and the <span style=\"color: #808000; text-decoration-color: #808000\">...</span>\n",
       "\n",
       "|What Happened On June <span style=\"color: #008080; text-decoration-color: #008080; font-weight: bold\">23</span> In History? - Factinhistory.com<span style=\"font-weight: bold\">](</span><span style=\"color: #0000ff; text-decoration-color: #0000ff; text-decoration: underline\">https://www.factinhistory.com/archives/2592)</span>\n",
       "This article delves into the rich tapestry of historical events that occurred on June  <span style=\"color: #008080; text-decoration-color: #008080; font-weight: bold\">23</span> , providing a \n",
       "comprehensive overview of their impact and legacy. The Battle of Bannockburn <span style=\"font-weight: bold\">(</span><span style=\"color: #008080; text-decoration-color: #008080; font-weight: bold\">1314</span><span style=\"font-weight: bold\">)</span> The Battle of Bannockburn, \n",
       "fought on June  <span style=\"color: #008080; text-decoration-color: #008080; font-weight: bold\">23</span> <span style=\"color: #008080; text-decoration-color: #008080; font-weight: bold\">-24</span>, <span style=\"color: #008080; text-decoration-color: #008080; font-weight: bold\">1314</span>, was a significant Scottish victory during the First War of Scottish Independence.\n",
       "\n",
       "|June <span style=\"color: #008080; text-decoration-color: #008080; font-weight: bold\">23</span> Holidays <span style=\"font-weight: bold\">(</span><span style=\"color: #008080; text-decoration-color: #008080; font-weight: bold\">2025</span>/<span style=\"color: #008080; text-decoration-color: #008080; font-weight: bold\">2026</span><span style=\"font-weight: bold\">)</span>, Historical Events, Famous Birthdays<span style=\"font-weight: bold\">](</span><span style=\"color: #0000ff; text-decoration-color: #0000ff; text-decoration: underline\">https://www.holidayscalendar.com/day/june-23/)</span>\n",
       "Historical Events  on  June  <span style=\"color: #008080; text-decoration-color: #008080; font-weight: bold\">23</span> . <span style=\"color: #008080; text-decoration-color: #008080; font-weight: bold\">1683</span>: A <span style=\"color: #008000; text-decoration-color: #008000\">\"Friendship Treaty\"</span> is signed between William Penn and Lenni Lanape \n",
       "Native Americans in Pennsylvania. <span style=\"color: #008080; text-decoration-color: #008080; font-weight: bold\">1713</span>: The French residents of Acadia are given an ultimatum by Great Britain: \n",
       "either leave Nova Scotia, Canada or pledge allegiance to the British Crown. <span style=\"color: #008080; text-decoration-color: #008080; font-weight: bold\">1757</span>: At the Battle of Plassey, <span style=\"color: #008080; text-decoration-color: #008080; font-weight: bold\">3</span>,<span style=\"color: #008080; text-decoration-color: #008080; font-weight: bold\">000</span> \n",
       "British troops under Robert Clive manage to defeat the <span style=\"color: #808000; text-decoration-color: #808000\">...</span>\n",
       "\n",
       "|Historical Events on June <span style=\"color: #008080; text-decoration-color: #008080; font-weight: bold\">23</span> - CalendarZ<span style=\"font-weight: bold\">](</span><span style=\"color: #0000ff; text-decoration-color: #0000ff; text-decoration: underline\">https://www.calendarz.com/on-this-day/june/23)</span>\n",
       " June  <span style=\"color: #008080; text-decoration-color: #008080; font-weight: bold\">23</span> historical facts and events , celebrity birthdays and deaths. Here you will find interesting facts about \n",
       "June  <span style=\"color: #008080; text-decoration-color: #008080; font-weight: bold\">23</span> as well as historical events that happened on this day.\n",
       "\n",
       "|June <span style=\"color: #008080; text-decoration-color: #008080; font-weight: bold\">23</span>: Historical Events &amp; What Happened | TakeMeBack.to<span style=\"font-weight: bold\">](</span><span style=\"color: #0000ff; text-decoration-color: #0000ff; text-decoration: underline\">https://takemeback.to/23-June)</span>\n",
       " June 23rd marks the 174th day of the Gregorian calendar year <span style=\"font-weight: bold\">(</span>or the 175th in case of leap years<span style=\"font-weight: bold\">)</span>. There are <span style=\"color: #008080; text-decoration-color: #008080; font-weight: bold\">191</span> \n",
       "days remaining until the end of the year. Discover what happened on June 23rd in history, famous birthdays on June \n",
       "23rd, celebrities died on this day, the day of the week and the zodiac sign associated to June  <span style=\"color: #008080; text-decoration-color: #008080; font-weight: bold\">23</span> .\n",
       "</pre>\n"
      ],
      "text/plain": [
       "Observations: ## Search Results\n",
       "\n",
       "|Historical Events on June \u001b[1;36m23\u001b[0m - On This Day\u001b[1m]\u001b[0m\u001b[1m(\u001b[0m\u001b[4;94mhttps://www.onthisday.com/events/june/23\u001b[0m\u001b[4;94m)\u001b[0m\n",
       " June in History. The Painter Who Died For His Art June \u001b[1;36m22\u001b[0m, \u001b[1;36m1846\u001b[0m; Deadly Quest For The Northern Passage June \u001b[1;36m22\u001b[0m, \n",
       "\u001b[1;36m1611\u001b[0m; How the Qwerty Keyboard was Born June  \u001b[1;36m23\u001b[0m , \u001b[1;36m1868\u001b[0m; The Fatal Dance Manias of Medieval Europe June \u001b[1;36m24\u001b[0m, \u001b[1;36m1374\u001b[0m\n",
       "\n",
       "|What Happened on June \u001b[1;36m23\u001b[0m - HISTORY\u001b[1m]\u001b[0m\u001b[1m(\u001b[0m\u001b[4;94mhttps://www.history.com/this-day-in-history/june-23\u001b[0m\u001b[4;94m)\u001b[0m\n",
       "Discover more of the major events , famous births, notable deaths and everything else history-making that happened \n",
       "on June 23rd \u001b[1;36m1956\u001b[0m Gamal Abdel Nasser elected president of Egypt\n",
       "\n",
       "|On This Day - What Happened on June \u001b[1;36m23\u001b[0m | Britannica\u001b[1m]\u001b[0m\u001b[1m(\u001b[0m\u001b[4;94mhttps://www.britannica.com/on-this-day/June-23\u001b[0m\u001b[4;94m)\u001b[0m\n",
       " On This Day In History - June  \u001b[1;36m23\u001b[0m : anniversaries, birthdays, major events , and time capsules. This day's facts \n",
       "in the arts, politics, and sciences. \u001b[33m...\u001b[0m More Events  On This Day. \u001b[1;36m2016\u001b[0m. \u001b[33m...\u001b[0m Test your knowledge of famous \n",
       "inventions. \u001b[1;36m1865\u001b[0m.\n",
       "\n",
       "|June 23rd: All Facts & Events That Happened Today In \n",
       "History\u001b[1m]\u001b[0m\u001b[1m(\u001b[0m\u001b[4;94mhttps://facts.net/history/historical-events/june-23rd-all-facts-events-that-happened-today-in-history/\u001b[0m\u001b[4;94m)\u001b[0m\n",
       " June 23rd has been a significant date throughout history, witnessing major historical events , scientific \n",
       "breakthroughs, political milestones, cultural events , and notable births and deaths. From the surrender of France \n",
       "during World War II to the discovery of the Higgs boson particle and the first-ever image of a black hole, June \n",
       "23rd has \u001b[33m...\u001b[0m\n",
       "\n",
       "|June \u001b[1;36m23\u001b[0m Events in History - Have Fun With History\u001b[1m]\u001b[0m\u001b[1m(\u001b[0m\u001b[4;94mhttps://www.havefunwithhistory.com/june-23/\u001b[0m\u001b[4;94m)\u001b[0m\n",
       "This article delves into a selection of notable historical events that occurred on June 23rd across various years, \n",
       "presenting them in chronological order. \u001b[33m...\u001b[0m William Penn's signing of a friendship treaty with the Lenni Lenape \n",
       "Indians on June  \u001b[1;36m23\u001b[0m , \u001b[1;36m1683\u001b[0m, is a notable example of peaceful European-Indigenous relations in colonial America.\n",
       "\n",
       "|JUNE \u001b[1;36m23\u001b[0m | Birthdays and Events - National Day \n",
       "Calendar\u001b[1m]\u001b[0m\u001b[1m(\u001b[0m\u001b[4;94mhttps://www.nationaldaycalendar.com/june/june-23-birthdays-and-events\u001b[0m\u001b[4;94m)\u001b[0m\n",
       "Notable Birthdays for June  \u001b[1;36m23\u001b[0m . Blanche Noyes \u001b[1m(\u001b[0m\u001b[1;36m1900\u001b[0m-\u001b[1;36m1981\u001b[0m\u001b[1m)\u001b[0m - One of the first women to receive an aviation \n",
       "transport license. Howard Engstrom \u001b[1m(\u001b[0m\u001b[1;36m1902\u001b[0m-\u001b[1;36m1962\u001b[0m\u001b[1m)\u001b[0m - Computer designer and inventor of the first personal computer. \n",
       "Frances Gabe \u001b[1m(\u001b[0m\u001b[1;36m1915\u001b[0m-\u001b[1;36m2016\u001b[0m\u001b[1m)\u001b[0m - Inventor of the first self-cleaning house. Kevin Yagher \u001b[1m(\u001b[0m\u001b[1;36m1962\u001b[0m-Still Living\u001b[1m)\u001b[0m - Special \n",
       "effects technician who designed Freddy Krueger's makeup and the \u001b[33m...\u001b[0m\n",
       "\n",
       "|What Happened On June \u001b[1;36m23\u001b[0m In History? - Factinhistory.com\u001b[1m]\u001b[0m\u001b[1m(\u001b[0m\u001b[4;94mhttps://www.factinhistory.com/archives/2592\u001b[0m\u001b[4;94m)\u001b[0m\n",
       "This article delves into the rich tapestry of historical events that occurred on June  \u001b[1;36m23\u001b[0m , providing a \n",
       "comprehensive overview of their impact and legacy. The Battle of Bannockburn \u001b[1m(\u001b[0m\u001b[1;36m1314\u001b[0m\u001b[1m)\u001b[0m The Battle of Bannockburn, \n",
       "fought on June  \u001b[1;36m23\u001b[0m \u001b[1;36m-24\u001b[0m, \u001b[1;36m1314\u001b[0m, was a significant Scottish victory during the First War of Scottish Independence.\n",
       "\n",
       "|June \u001b[1;36m23\u001b[0m Holidays \u001b[1m(\u001b[0m\u001b[1;36m2025\u001b[0m/\u001b[1;36m2026\u001b[0m\u001b[1m)\u001b[0m, Historical Events, Famous Birthdays\u001b[1m]\u001b[0m\u001b[1m(\u001b[0m\u001b[4;94mhttps://www.holidayscalendar.com/day/june-23/\u001b[0m\u001b[4;94m)\u001b[0m\n",
       "Historical Events  on  June  \u001b[1;36m23\u001b[0m . \u001b[1;36m1683\u001b[0m: A \u001b[32m\"Friendship Treaty\"\u001b[0m is signed between William Penn and Lenni Lanape \n",
       "Native Americans in Pennsylvania. \u001b[1;36m1713\u001b[0m: The French residents of Acadia are given an ultimatum by Great Britain: \n",
       "either leave Nova Scotia, Canada or pledge allegiance to the British Crown. \u001b[1;36m1757\u001b[0m: At the Battle of Plassey, \u001b[1;36m3\u001b[0m,\u001b[1;36m000\u001b[0m \n",
       "British troops under Robert Clive manage to defeat the \u001b[33m...\u001b[0m\n",
       "\n",
       "|Historical Events on June \u001b[1;36m23\u001b[0m - CalendarZ\u001b[1m]\u001b[0m\u001b[1m(\u001b[0m\u001b[4;94mhttps://www.calendarz.com/on-this-day/june/23\u001b[0m\u001b[4;94m)\u001b[0m\n",
       " June  \u001b[1;36m23\u001b[0m historical facts and events , celebrity birthdays and deaths. Here you will find interesting facts about \n",
       "June  \u001b[1;36m23\u001b[0m as well as historical events that happened on this day.\n",
       "\n",
       "|June \u001b[1;36m23\u001b[0m: Historical Events & What Happened | TakeMeBack.to\u001b[1m]\u001b[0m\u001b[1m(\u001b[0m\u001b[4;94mhttps://takemeback.to/23-June\u001b[0m\u001b[4;94m)\u001b[0m\n",
       " June 23rd marks the 174th day of the Gregorian calendar year \u001b[1m(\u001b[0mor the 175th in case of leap years\u001b[1m)\u001b[0m. There are \u001b[1;36m191\u001b[0m \n",
       "days remaining until the end of the year. Discover what happened on June 23rd in history, famous birthdays on June \n",
       "23rd, celebrities died on this day, the day of the week and the zodiac sign associated to June  \u001b[1;36m23\u001b[0m .\n"
      ]
     },
     "metadata": {},
     "output_type": "display_data"
    },
    {
     "data": {
      "text/html": [
       "<pre style=\"white-space:pre;overflow-x:auto;line-height:normal;font-family:Menlo,'DejaVu Sans Mono',consolas,'Courier New',monospace\"><span style=\"color: #7f7f7f; text-decoration-color: #7f7f7f\">[Step 2: Duration 3.01 seconds]</span>\n",
       "</pre>\n"
      ],
      "text/plain": [
       "\u001b[2m[Step 2: Duration 3.01 seconds]\u001b[0m\n"
      ]
     },
     "metadata": {},
     "output_type": "display_data"
    },
    {
     "data": {
      "text/html": [
       "<pre style=\"white-space:pre;overflow-x:auto;line-height:normal;font-family:Menlo,'DejaVu Sans Mono',consolas,'Courier New',monospace\"><span style=\"color: #d4b702; text-decoration-color: #d4b702\">━━━━━━━━━━━━━━━━━━━━━━━━━━━━━━━━━━━━━━━━━━━━━━━━━━━━━ </span><span style=\"font-weight: bold\">Step </span><span style=\"color: #008080; text-decoration-color: #008080; font-weight: bold\">3</span><span style=\"color: #d4b702; text-decoration-color: #d4b702\"> ━━━━━━━━━━━━━━━━━━━━━━━━━━━━━━━━━━━━━━━━━━━━━━━━━━━━━━</span>\n",
       "</pre>\n"
      ],
      "text/plain": [
       "\u001b[38;2;212;183;2m━━━━━━━━━━━━━━━━━━━━━━━━━━━━━━━━━━━━━━━━━━━━━━━━━━━━━ \u001b[0m\u001b[1mStep \u001b[0m\u001b[1;36m3\u001b[0m\u001b[38;2;212;183;2m ━━━━━━━━━━━━━━━━━━━━━━━━━━━━━━━━━━━━━━━━━━━━━━━━━━━━━━\u001b[0m\n"
      ]
     },
     "metadata": {},
     "output_type": "display_data"
    },
    {
     "data": {
      "text/html": [
       "<pre style=\"white-space:pre;overflow-x:auto;line-height:normal;font-family:Menlo,'DejaVu Sans Mono',consolas,'Courier New',monospace\">╭─────────────────────────────────────────────────────────────────────────────────────────────────────────────────╮\n",
       "│ Calling tool: 'final_answer' with arguments: {'answer': \"Notable events that occurred on June 23 include:       │\n",
       "│ \\n\\n1. 1683: William Penn signed a 'Friendship Treaty' with the Lenni Lenape Native Americans in Pennsylvania,  │\n",
       "│ marking a significant moment in peaceful European-Indigenous relations.\\n2. 1713: The French residents of       │\n",
       "│ Acadia were given an ultimatum by Great Britain regarding their allegiance.\\n3. 1757: The Battle of Plassey     │\n",
       "│ took place, where British troops defeated Indian forces, which marked the beginning of British domination in    │\n",
       "│ India.\\n4. 1956: Gamal Abdel Nasser was elected president of Egypt, influencing the course of the Middle        │\n",
       "│ East.\\n5. 2016: The United Kingdom voted to leave the European Union in a historic referendum.\"}                │\n",
       "╰─────────────────────────────────────────────────────────────────────────────────────────────────────────────────╯\n",
       "</pre>\n"
      ],
      "text/plain": [
       "╭─────────────────────────────────────────────────────────────────────────────────────────────────────────────────╮\n",
       "│ Calling tool: 'final_answer' with arguments: {'answer': \"Notable events that occurred on June 23 include:       │\n",
       "│ \\n\\n1. 1683: William Penn signed a 'Friendship Treaty' with the Lenni Lenape Native Americans in Pennsylvania,  │\n",
       "│ marking a significant moment in peaceful European-Indigenous relations.\\n2. 1713: The French residents of       │\n",
       "│ Acadia were given an ultimatum by Great Britain regarding their allegiance.\\n3. 1757: The Battle of Plassey     │\n",
       "│ took place, where British troops defeated Indian forces, which marked the beginning of British domination in    │\n",
       "│ India.\\n4. 1956: Gamal Abdel Nasser was elected president of Egypt, influencing the course of the Middle        │\n",
       "│ East.\\n5. 2016: The United Kingdom voted to leave the European Union in a historic referendum.\"}                │\n",
       "╰─────────────────────────────────────────────────────────────────────────────────────────────────────────────────╯\n"
      ]
     },
     "metadata": {},
     "output_type": "display_data"
    },
    {
     "data": {
      "text/html": [
       "<pre style=\"white-space:pre;overflow-x:auto;line-height:normal;font-family:Menlo,'DejaVu Sans Mono',consolas,'Courier New',monospace\"><span style=\"color: #d4b702; text-decoration-color: #d4b702; font-weight: bold\">Final answer: Notable events that occurred on June 23 include: </span>\n",
       "\n",
       "<span style=\"color: #d4b702; text-decoration-color: #d4b702; font-weight: bold\">1. 1683: William Penn signed a 'Friendship Treaty' with the Lenni Lenape Native Americans in Pennsylvania, marking </span>\n",
       "<span style=\"color: #d4b702; text-decoration-color: #d4b702; font-weight: bold\">a significant moment in peaceful European-Indigenous relations.</span>\n",
       "<span style=\"color: #d4b702; text-decoration-color: #d4b702; font-weight: bold\">2. 1713: The French residents of Acadia were given an ultimatum by Great Britain regarding their allegiance.</span>\n",
       "<span style=\"color: #d4b702; text-decoration-color: #d4b702; font-weight: bold\">3. 1757: The Battle of Plassey took place, where British troops defeated Indian forces, which marked the beginning </span>\n",
       "<span style=\"color: #d4b702; text-decoration-color: #d4b702; font-weight: bold\">of British domination in India.</span>\n",
       "<span style=\"color: #d4b702; text-decoration-color: #d4b702; font-weight: bold\">4. 1956: Gamal Abdel Nasser was elected president of Egypt, influencing the course of the Middle East.</span>\n",
       "<span style=\"color: #d4b702; text-decoration-color: #d4b702; font-weight: bold\">5. 2016: The United Kingdom voted to leave the European Union in a historic referendum.</span>\n",
       "</pre>\n"
      ],
      "text/plain": [
       "\u001b[1;38;2;212;183;2mFinal answer: Notable events that occurred on June 23 include: \u001b[0m\n",
       "\n",
       "\u001b[1;38;2;212;183;2m1. 1683: William Penn signed a 'Friendship Treaty' with the Lenni Lenape Native Americans in Pennsylvania, marking \u001b[0m\n",
       "\u001b[1;38;2;212;183;2ma significant moment in peaceful European-Indigenous relations.\u001b[0m\n",
       "\u001b[1;38;2;212;183;2m2. 1713: The French residents of Acadia were given an ultimatum by Great Britain regarding their allegiance.\u001b[0m\n",
       "\u001b[1;38;2;212;183;2m3. 1757: The Battle of Plassey took place, where British troops defeated Indian forces, which marked the beginning \u001b[0m\n",
       "\u001b[1;38;2;212;183;2mof British domination in India.\u001b[0m\n",
       "\u001b[1;38;2;212;183;2m4. 1956: Gamal Abdel Nasser was elected president of Egypt, influencing the course of the Middle East.\u001b[0m\n",
       "\u001b[1;38;2;212;183;2m5. 2016: The United Kingdom voted to leave the European Union in a historic referendum.\u001b[0m\n"
      ]
     },
     "metadata": {},
     "output_type": "display_data"
    },
    {
     "data": {
      "text/html": [
       "<pre style=\"white-space:pre;overflow-x:auto;line-height:normal;font-family:Menlo,'DejaVu Sans Mono',consolas,'Courier New',monospace\"><span style=\"color: #7f7f7f; text-decoration-color: #7f7f7f\">[Step 3: Duration 6.97 seconds]</span>\n",
       "</pre>\n"
      ],
      "text/plain": [
       "\u001b[2m[Step 3: Duration 6.97 seconds]\u001b[0m\n"
      ]
     },
     "metadata": {},
     "output_type": "display_data"
    }
   ],
   "source": [
    "# |  notest\n",
    "\n",
    "answer = agent.run(\"Any famous events that happened on today's date?\")"
   ]
  },
  {
   "cell_type": "code",
   "execution_count": null,
   "metadata": {},
   "outputs": [
    {
     "data": {
      "text/markdown": [
       "Notable events that occurred on June 23 include: \n",
       "\n",
       "1. 1683: William Penn signed a 'Friendship Treaty' with the Lenni Lenape Native Americans in Pennsylvania, marking a significant moment in peaceful European-Indigenous relations.\n",
       "2. 1713: The French residents of Acadia were given an ultimatum by Great Britain regarding their allegiance.\n",
       "3. 1757: The Battle of Plassey took place, where British troops defeated Indian forces, which marked the beginning of British domination in India.\n",
       "4. 1956: Gamal Abdel Nasser was elected president of Egypt, influencing the course of the Middle East.\n",
       "5. 2016: The United Kingdom voted to leave the European Union in a historic referendum."
      ],
      "text/plain": [
       "<IPython.core.display.Markdown object>"
      ]
     },
     "metadata": {},
     "output_type": "display_data"
    }
   ],
   "source": [
    "# |  notest\n",
    "\n",
    "from IPython.display import display, Markdown\n",
    "display(Markdown(answer))"
   ]
  },
  {
   "cell_type": "markdown",
   "metadata": {},
   "source": [
    "### Example: Web Information Extraction\n",
    "\n",
    "In the next example, we will use the Web View tool to extract information from a Web page."
   ]
  },
  {
   "cell_type": "code",
   "execution_count": null,
   "metadata": {},
   "outputs": [
    {
     "data": {
      "text/html": [
       "<pre style=\"white-space:pre;overflow-x:auto;line-height:normal;font-family:Menlo,'DejaVu Sans Mono',consolas,'Courier New',monospace\"><span style=\"color: #d4b702; text-decoration-color: #d4b702\">╭──────────────────────────────────────────────────── </span><span style=\"color: #d4b702; text-decoration-color: #d4b702; font-weight: bold\">New run</span><span style=\"color: #d4b702; text-decoration-color: #d4b702\"> ────────────────────────────────────────────────────╮</span>\n",
       "<span style=\"color: #d4b702; text-decoration-color: #d4b702\">│</span>                                                                                                                 <span style=\"color: #d4b702; text-decoration-color: #d4b702\">│</span>\n",
       "<span style=\"color: #d4b702; text-decoration-color: #d4b702\">│</span> <span style=\"font-weight: bold\">What is the highest level of education of the person listed on this page: https://arun.maiya.net?</span>               <span style=\"color: #d4b702; text-decoration-color: #d4b702\">│</span>\n",
       "<span style=\"color: #d4b702; text-decoration-color: #d4b702\">│</span>                                                                                                                 <span style=\"color: #d4b702; text-decoration-color: #d4b702\">│</span>\n",
       "<span style=\"color: #d4b702; text-decoration-color: #d4b702\">╰─ AgentModel - onprem-gpt-4o-mini ───────────────────────────────────────────────────────────────────────────────╯</span>\n",
       "</pre>\n"
      ],
      "text/plain": [
       "\u001b[38;2;212;183;2m╭─\u001b[0m\u001b[38;2;212;183;2m───────────────────────────────────────────────────\u001b[0m\u001b[38;2;212;183;2m \u001b[0m\u001b[1;38;2;212;183;2mNew run\u001b[0m\u001b[38;2;212;183;2m \u001b[0m\u001b[38;2;212;183;2m───────────────────────────────────────────────────\u001b[0m\u001b[38;2;212;183;2m─╮\u001b[0m\n",
       "\u001b[38;2;212;183;2m│\u001b[0m                                                                                                                 \u001b[38;2;212;183;2m│\u001b[0m\n",
       "\u001b[38;2;212;183;2m│\u001b[0m \u001b[1mWhat is the highest level of education of the person listed on this page: https://arun.maiya.net?\u001b[0m               \u001b[38;2;212;183;2m│\u001b[0m\n",
       "\u001b[38;2;212;183;2m│\u001b[0m                                                                                                                 \u001b[38;2;212;183;2m│\u001b[0m\n",
       "\u001b[38;2;212;183;2m╰─\u001b[0m\u001b[38;2;212;183;2m AgentModel - onprem-gpt-4o-mini \u001b[0m\u001b[38;2;212;183;2m──────────────────────────────────────────────────────────────────────────────\u001b[0m\u001b[38;2;212;183;2m─╯\u001b[0m\n"
      ]
     },
     "metadata": {},
     "output_type": "display_data"
    },
    {
     "data": {
      "text/html": [
       "<pre style=\"white-space:pre;overflow-x:auto;line-height:normal;font-family:Menlo,'DejaVu Sans Mono',consolas,'Courier New',monospace\"><span style=\"color: #d4b702; text-decoration-color: #d4b702\">━━━━━━━━━━━━━━━━━━━━━━━━━━━━━━━━━━━━━━━━━━━━━━━━━━━━━ </span><span style=\"font-weight: bold\">Step </span><span style=\"color: #008080; text-decoration-color: #008080; font-weight: bold\">1</span><span style=\"color: #d4b702; text-decoration-color: #d4b702\"> ━━━━━━━━━━━━━━━━━━━━━━━━━━━━━━━━━━━━━━━━━━━━━━━━━━━━━━</span>\n",
       "</pre>\n"
      ],
      "text/plain": [
       "\u001b[38;2;212;183;2m━━━━━━━━━━━━━━━━━━━━━━━━━━━━━━━━━━━━━━━━━━━━━━━━━━━━━ \u001b[0m\u001b[1mStep \u001b[0m\u001b[1;36m1\u001b[0m\u001b[38;2;212;183;2m ━━━━━━━━━━━━━━━━━━━━━━━━━━━━━━━━━━━━━━━━━━━━━━━━━━━━━━\u001b[0m\n"
      ]
     },
     "metadata": {},
     "output_type": "display_data"
    },
    {
     "data": {
      "text/html": [
       "<pre style=\"white-space:pre;overflow-x:auto;line-height:normal;font-family:Menlo,'DejaVu Sans Mono',consolas,'Courier New',monospace\">╭─────────────────────────────────────────────────────────────────────────────────────────────────────────────────╮\n",
       "│ Calling tool: 'visit_webpage' with arguments: {'url': 'https://arun.maiya.net'}                                 │\n",
       "╰─────────────────────────────────────────────────────────────────────────────────────────────────────────────────╯\n",
       "</pre>\n"
      ],
      "text/plain": [
       "╭─────────────────────────────────────────────────────────────────────────────────────────────────────────────────╮\n",
       "│ Calling tool: 'visit_webpage' with arguments: {'url': 'https://arun.maiya.net'}                                 │\n",
       "╰─────────────────────────────────────────────────────────────────────────────────────────────────────────────────╯\n"
      ]
     },
     "metadata": {},
     "output_type": "display_data"
    },
    {
     "data": {
      "text/html": [
       "<pre style=\"white-space:pre;overflow-x:auto;line-height:normal;font-family:Menlo,'DejaVu Sans Mono',consolas,'Courier New',monospace\">Observations: Arun S. Maiya\n",
       "\n",
       "Arun S. Maiya   \n",
       "    \n",
       "arun |at<span style=\"font-weight: bold\">]</span> maiya |dot<span style=\"font-weight: bold\">]</span> net  \n",
       "|CV<span style=\"font-weight: bold\">](</span>asmcv.pdf<span style=\"font-weight: bold\">)</span> | |LinkedIn<span style=\"font-weight: bold\">](</span><span style=\"color: #0000ff; text-decoration-color: #0000ff; text-decoration: underline\">https://www.linkedin.com/in/arun-maiya/)</span> | |GitHub<span style=\"font-weight: bold\">](</span><span style=\"color: #0000ff; text-decoration-color: #0000ff; text-decoration: underline\">https://github.com/amaiya)</span>\n",
       "\n",
       "!|<span style=\"font-weight: bold\">](</span>asmpic.jpg<span style=\"font-weight: bold\">)</span>\n",
       "\n",
       "Basics\n",
       "======\n",
       "\n",
       "I am a computer scientist at the |Institute for Defense Analyses <span style=\"font-weight: bold\">(</span>IDA<span style=\"font-weight: bold\">)](</span><span style=\"color: #0000ff; text-decoration-color: #0000ff; text-decoration: underline\">http://www.ida.org),</span> a federally-funded \n",
       "|think tank<span style=\"font-weight: bold\">](</span><span style=\"color: #0000ff; text-decoration-color: #0000ff; text-decoration: underline\">http://en.wikipedia.org/wiki/List_of_federally_funded_research_and_development_centers)</span> in the \n",
       "Washington D.C. metro area. My research broadly focuses on the study of computational methods to *extract meaning \n",
       "from raw data* and includes the areas of natural language processing, machine learning, data mining, computer \n",
       "vision, and network science <span style=\"font-weight: bold\">(</span>e.g., social network analysis<span style=\"font-weight: bold\">)</span>. I like building tools to make machine learning easier \n",
       "to apply in new ways and new areas. Through my work, I have contributed to national-level strategic-planning \n",
       "activities and R&amp;D roadmaps. I completed a Ph.D. in Computer Science at the |Laboratory for Computational \n",
       "Population Biology<span style=\"font-weight: bold\">](</span><span style=\"color: #0000ff; text-decoration-color: #0000ff; text-decoration: underline\">http://compbio.cs.uic.edu/),</span> which is within the |Department of Computer \n",
       "Science<span style=\"font-weight: bold\">](</span><span style=\"color: #0000ff; text-decoration-color: #0000ff; text-decoration: underline\">http://www.cs.uic.edu/)</span> at the\n",
       "|University of Illinois at Chicago <span style=\"font-weight: bold\">(</span>UIC<span style=\"font-weight: bold\">)](</span><span style=\"color: #0000ff; text-decoration-color: #0000ff; text-decoration: underline\">http://www.uic.edu/).</span> My CV is |here<span style=\"font-weight: bold\">](</span><span style=\"color: #0000ff; text-decoration-color: #0000ff; text-decoration: underline\">http://arun.maiya.net/asmcv.pdf).</span>\n",
       "\n",
       "Software\n",
       "========\n",
       "\n",
       "* **|ktrain<span style=\"font-weight: bold\">](</span><span style=\"color: #0000ff; text-decoration-color: #0000ff; text-decoration: underline\">https://github.com/amaiya/ktrain)</span>** is a Python library that makes deep learning and AI more \n",
       "accessible and easier to apply. With support for many different data types including text, images, and graphs, \n",
       "ktrain has been used for a wide range of use cases in industry, government, and academia. Examples include analyses\n",
       "for the U.S. Economic Census, financial crime analytics at Big <span style=\"color: #008080; text-decoration-color: #008080; font-weight: bold\">4</span> accounting firms, intelligence analyses, and \n",
       "|CoronaCentral.ai<span style=\"font-weight: bold\">](</span><span style=\"color: #0000ff; text-decoration-color: #0000ff; text-decoration: underline\">https://coronacentral.ai),</span> a machine-learning-enhanced search engine for coronavirus \n",
       "publications at Stanford University.\n",
       "* **|CausalNLP<span style=\"font-weight: bold\">](</span><span style=\"color: #0000ff; text-decoration-color: #0000ff; text-decoration: underline\">https://github.com/amaiya/causalnlp)</span>** is a practical toolkit for causal inference with text as \n",
       "treatment, outcome, or <span style=\"color: #008000; text-decoration-color: #008000\">\"controlled-for\"</span> variable.\n",
       "* **|IDATA<span style=\"font-weight: bold\">](</span><span style=\"color: #0000ff; text-decoration-color: #0000ff; text-decoration: underline\">https://arxiv.org/abs/1308.2359)</span>** is a suite of software capabilities designed to facilitate search, \n",
       "exploration, and analyses of very large document sets using state-of-the-art machine learning, NLP, and information\n",
       "retrieval. It has been used for a variety of different application in the |DoD<span style=\"font-weight: bold\">](</span><span style=\"color: #0000ff; text-decoration-color: #0000ff; text-decoration: underline\">https://www.defense.gov)</span> including \n",
       "cyber damage assessments, biosurveillance, and policy analyses.\n",
       "* **|OnPrem.LLM<span style=\"font-weight: bold\">](</span><span style=\"color: #0000ff; text-decoration-color: #0000ff; text-decoration: underline\">https://github.com/amaiya/onprem)</span>** is a simple Python package for generative AI that makes it \n",
       "easier to run large language models <span style=\"font-weight: bold\">(</span>LLMs<span style=\"font-weight: bold\">)</span> on your own machine using non-public data.\n",
       "\n",
       "Publications\n",
       "============\n",
       "\n",
       "|**ktrain: A Low-Code Library for Augmented Machine \n",
       "Learning**<span style=\"font-weight: bold\">](</span><span style=\"color: #0000ff; text-decoration-color: #0000ff; text-decoration: underline\">https://www.jmlr.org/papers/volume23/21-1124/21-1124.pdf)</span>  \n",
       "A.S. Maiya  \n",
       " *Journal of Machine Learning Research <span style=\"font-weight: bold\">(</span>JMLR<span style=\"font-weight: bold\">)</span>.*  May <span style=\"color: #008080; text-decoration-color: #008080; font-weight: bold\">2022</span>.\n",
       "\n",
       "|**CausalNLP: A Practical Toolkit for Causal Inference with Text**<span style=\"font-weight: bold\">](</span><span style=\"color: #0000ff; text-decoration-color: #0000ff; text-decoration: underline\">https://arxiv.org/abs/2106.08043)</span>   \n",
       "A.S. Maiya  \n",
       " *arXiv preprint arXiv:<span style=\"color: #008080; text-decoration-color: #008080; font-weight: bold\">2106.08043</span> .*  Jun <span style=\"color: #008080; text-decoration-color: #008080; font-weight: bold\">2021</span>. |arXiv only<span style=\"font-weight: bold\">]</span>\n",
       "\n",
       "|**A Framework for Comparing Groups of Documents**<span style=\"font-weight: bold\">](</span><span style=\"color: #0000ff; text-decoration-color: #0000ff; text-decoration: underline\">https://arxiv.org/abs/1508.05902)</span>  \n",
       "A.S. Maiya  \n",
       " *Proc. <span style=\"color: #008080; text-decoration-color: #008080; font-weight: bold\">2015</span> Conference on Empirical Methods in Natural Language Processing <span style=\"font-weight: bold\">(</span>EMNLP '<span style=\"color: #008080; text-decoration-color: #008080; font-weight: bold\">15</span><span style=\"font-weight: bold\">)</span>.*  Lisbon, Portugal. Sep \n",
       "<span style=\"color: #008080; text-decoration-color: #008080; font-weight: bold\">2015</span>.\n",
       "\n",
       "|**Mining Measured Information from Text**<span style=\"font-weight: bold\">](</span><span style=\"color: #0000ff; text-decoration-color: #0000ff; text-decoration: underline\">https://arxiv.org/abs/1505.01072)</span>  \n",
       "A.S. Maiya, D. Visser, and A. Wan  \n",
       " *Proc. 38th Annual ACM SIGIR Conference <span style=\"font-weight: bold\">(</span>SIGIR '<span style=\"color: #008080; text-decoration-color: #008080; font-weight: bold\">15</span><span style=\"font-weight: bold\">)</span>.* Santiago, Chile. Aug <span style=\"color: #008080; text-decoration-color: #008080; font-weight: bold\">2015</span>.\n",
       "\n",
       "|**Topic Similarity Networks: Visual Analytics for Large Document Sets**<span style=\"font-weight: bold\">](</span><span style=\"color: #0000ff; text-decoration-color: #0000ff; text-decoration: underline\">https://arxiv.org/abs/1409.7591)</span>  \n",
       "A.S. Maiya and R.M. Rolfe  \n",
       " *Proc. <span style=\"color: #008080; text-decoration-color: #008080; font-weight: bold\">2014</span> IEEE International Conference on Big Data <span style=\"font-weight: bold\">(</span>IEEE BigData '<span style=\"color: #008080; text-decoration-color: #008080; font-weight: bold\">14</span><span style=\"font-weight: bold\">)</span>.* Washington, D.C., Oct <span style=\"color: #008080; text-decoration-color: #008080; font-weight: bold\">2014</span>.\n",
       "\n",
       "|**Exploratory Analysis of Highly Heterogeneous Document Collections**<span style=\"font-weight: bold\">](</span><span style=\"color: #0000ff; text-decoration-color: #0000ff; text-decoration: underline\">https://arxiv.org/abs/1308.2359)</span>  \n",
       "A.S. Maiya, J.P. Thompson, F. Loaiza-Lemos, and R.M. Rolfe  \n",
       " *Proc. 19th ACM SIGKDD Conference on Knowledge Discovery and Data Mining <span style=\"font-weight: bold\">(</span>KDD '<span style=\"color: #008080; text-decoration-color: #008080; font-weight: bold\">13</span><span style=\"font-weight: bold\">)</span>.* Chicago, IL, Aug <span style=\"color: #008080; text-decoration-color: #008080; font-weight: bold\">2013</span>.\n",
       "\n",
       "|**Expansion and Decentralized Search in Complex \n",
       "Networks**<span style=\"font-weight: bold\">](</span><span style=\"color: #0000ff; text-decoration-color: #0000ff; text-decoration: underline\">http://link.springer.com/article/10.1007/s10115-012-0596-4)</span>  \n",
       "A.S. Maiya and T.Y. Berger-Wolf  \n",
       " *Journal of Knowledge and Information Systems.* First published online January <span style=\"color: #008080; text-decoration-color: #008080; font-weight: bold\">2013</span>.\n",
       "\n",
       "|**Supervised Learning in the Wild: Text Classification for Critical \n",
       "Technologies**<span style=\"font-weight: bold\">](</span><span style=\"color: #0000ff; text-decoration-color: #0000ff; text-decoration: underline\">https://ieeexplore.ieee.org/document/6415660)</span>  \n",
       "A.S. Maiya, F. Loaiza-Lemos, and R.M. Rolfe  \n",
       " *Proc. IEEE Military Communications Conference <span style=\"font-weight: bold\">(</span>MILCOM '<span style=\"color: #008080; text-decoration-color: #008080; font-weight: bold\">12</span><span style=\"font-weight: bold\">)</span>.* Orlando, FL, Oct <span style=\"color: #008080; text-decoration-color: #008080; font-weight: bold\">2012</span>.\n",
       "\n",
       "|**Benefits of Bias: Towards Better Characterization of Network Sampling**<span style=\"font-weight: bold\">](</span><span style=\"color: #0000ff; text-decoration-color: #0000ff; text-decoration: underline\">https://arxiv.org/abs/1109.3911)</span>  \n",
       "A.S. Maiya and T.Y. Berger-Wolf  \n",
       " *Proc. 17th ACM SIGKDD Conference on Knowledge Discovery and Data Mining <span style=\"font-weight: bold\">(</span>KDD '<span style=\"color: #008080; text-decoration-color: #008080; font-weight: bold\">11</span><span style=\"font-weight: bold\">)</span>.* San Diego, CA, Aug <span style=\"color: #008080; text-decoration-color: #008080; font-weight: bold\">2011</span>.\n",
       "\n",
       "|**Aggression, Grooming, and Group-level Cooperation in White-faced Capuchins: Insights from Social \n",
       "Networks**<span style=\"font-weight: bold\">](</span><span style=\"color: #0000ff; text-decoration-color: #0000ff; text-decoration: underline\">http://onlinelibrary.wiley.com/doi/10.1002/ajp.20959/abstract)</span>  \n",
       "M.C. Crofoot, D.I. Rubenstein, A.S. Maiya, and T.Y. Berger-Wolf  \n",
       " *American Journal of Primatology.* First published online May <span style=\"color: #008080; text-decoration-color: #008080; font-weight: bold\">2011</span>.\n",
       "\n",
       "|**Sampling and Inference in Complex Networks**<span style=\"font-weight: bold\">](</span><span style=\"color: #0000ff; text-decoration-color: #0000ff; text-decoration: underline\">https://dl.acm.org/doi/abs/10.5555/2395432)</span>  \n",
       "A.S. Maiya  \n",
       " *Ph.D. Dissertation, University of Illinois at Chicago <span style=\"font-weight: bold\">(</span>UIC<span style=\"font-weight: bold\">)</span>.* Chicago, IL, Apr <span style=\"color: #008080; text-decoration-color: #008080; font-weight: bold\">2011</span>.\n",
       "\n",
       "|**Expansion and Search in Networks**<span style=\"font-weight: bold\">](</span><span style=\"color: #0000ff; text-decoration-color: #0000ff; text-decoration: underline\">https://arxiv.org/abs/1009.4383)</span>  \n",
       "A.S. Maiya and T.Y. Berger-Wolf  \n",
       " *Proc. 19th ACM Intl. Conference on Information and Knowledge Management <span style=\"font-weight: bold\">(</span>CIKM '<span style=\"color: #008080; text-decoration-color: #008080; font-weight: bold\">10</span><span style=\"font-weight: bold\">)</span>.* Toronto, Canada, Oct <span style=\"color: #008080; text-decoration-color: #008080; font-weight: bold\">2010</span>.\n",
       "\n",
       "|**Online Sampling of High Centrality Individuals in Social \n",
       "Networks**<span style=\"font-weight: bold\">](</span><span style=\"color: #0000ff; text-decoration-color: #0000ff; text-decoration: underline\">https://link.springer.com/chapter/10.1007/978-3-642-13657-3_12)</span>  \n",
       "A.S. Maiya and T.Y. Berger-Wolf  \n",
       " *Proc. 14th Pacific-Asia Conference on Knowledge Discovery and Data Mining <span style=\"font-weight: bold\">(</span>PAKDD '<span style=\"color: #008080; text-decoration-color: #008080; font-weight: bold\">10</span><span style=\"font-weight: bold\">)</span>.* Hyderabad, India, Jun \n",
       "<span style=\"color: #008080; text-decoration-color: #008080; font-weight: bold\">2010</span>.\n",
       "\n",
       "|**Sampling Community Structure**<span style=\"font-weight: bold\">](</span><span style=\"color: #0000ff; text-decoration-color: #0000ff; text-decoration: underline\">https://dl.acm.org/doi/10.1145/1772690.1772762)</span>  \n",
       "A.S. Maiya and T.Y. Berger-Wolf  \n",
       " *Proc. 19th ACM Intl. Conference on the World Wide Web <span style=\"font-weight: bold\">(</span>WWW '<span style=\"color: #008080; text-decoration-color: #008080; font-weight: bold\">10</span><span style=\"font-weight: bold\">)</span>.* Raleigh, NC, Apr <span style=\"color: #008080; text-decoration-color: #008080; font-weight: bold\">2010</span>.\n",
       "\n",
       "|**Inferring the Maximum Likelihood Hierarchy in Social Networks**<span style=\"font-weight: bold\">](</span><span style=\"color: #0000ff; text-decoration-color: #0000ff; text-decoration: underline\">https://ieeexplore.ieee.org/document/5284124)</span>  \n",
       "A.S. Maiya and T.Y. Berger-Wolf  \n",
       " *Proc. 12th IEEE Intl. Conference on Computational Science and Engineering <span style=\"font-weight: bold\">(</span>CSE '<span style=\"color: #008080; text-decoration-color: #008080; font-weight: bold\">09</span><span style=\"font-weight: bold\">)</span>.* Vancouver, Canada, Aug \n",
       "<span style=\"color: #008080; text-decoration-color: #008080; font-weight: bold\">2009</span>.\n",
       "\n",
       "|**The Impact of Structural Changes on Predictions of Diffusion in \n",
       "Networks**<span style=\"font-weight: bold\">](</span><span style=\"color: #0000ff; text-decoration-color: #0000ff; text-decoration: underline\">https://www.computer.org/csdl/proceedings-article/icdmw/2008/3503a939/12OmNBU1jIK)</span>  \n",
       "M. Lahiri, A.S. Maiya, R. Sulo, Habiba and T.Y. Berger-Wolf  \n",
       "*ICDM '<span style=\"color: #008080; text-decoration-color: #008080; font-weight: bold\">08</span> Workshop on Analysis of Dynamic Networks*. Pisa, Italy, Dec <span style=\"color: #008080; text-decoration-color: #008080; font-weight: bold\">2008</span>.\n",
       "\n",
       "Honors and Awards\n",
       "=================\n",
       "\n",
       "**Goodpaster Award for Excellence in Research**, Institute for Defense Analyses, <span style=\"color: #008080; text-decoration-color: #008080; font-weight: bold\">2021</span> ||News \n",
       "Release<span style=\"font-weight: bold\">](</span><span style=\"color: #0000ff; text-decoration-color: #0000ff; text-decoration: underline\">https://www.ida.org/research-and-publications/publications/all/a/ar/arun-maiya-receives-2021-goodpaster-aw</span>\n",
       "<span style=\"color: #0000ff; text-decoration-color: #0000ff; text-decoration: underline\">ard-for-excellence-in-research)</span><span style=\"font-weight: bold\">]</span>\n",
       "\n",
       "&gt; *This prize is named for Gen. Andrew J. Goodpaster <span style=\"font-weight: bold\">(</span>USA, retired<span style=\"font-weight: bold\">)</span> and is awarded to an individual demonstrating \n",
       "<span style=\"color: #008000; text-decoration-color: #008000\">\"research excellence, exceptional analytic achievement and intellectual leadership.\"</span>*\n",
       "\n",
       "**Welch Award for Best External Research**, Institute for Defense Analyses, <span style=\"color: #008080; text-decoration-color: #008080; font-weight: bold\">2016</span>\n",
       "\n",
       "&gt; *Named in honor of General Larry D. Welch <span style=\"font-weight: bold\">(</span>USAF, ret.<span style=\"font-weight: bold\">)</span>, this award <span style=\"color: #008000; text-decoration-color: #008000\">\"honors individuals whose external research </span>\n",
       "<span style=\"color: #008000; text-decoration-color: #008000\">publications exemplify General Welch's high standards of analytic excellence and relevance.\"</span>*\n",
       "\n",
       "**AFEI Award for Excellence in Enterprise Information**, NDIA <span style=\"font-weight: bold\">(</span>formerly Association for Enterprise Information<span style=\"font-weight: bold\">)</span>, \n",
       "<span style=\"color: #008080; text-decoration-color: #008080; font-weight: bold\">2015</span>\n",
       "\n",
       "&gt; *This award is to <span style=\"color: #008000; text-decoration-color: #008000\">\"recognize and reward the contributions and achievements of project teams that exemplify </span>\n",
       "<span style=\"color: #008000; text-decoration-color: #008000\">excellence in achieving integrated enterprises. Winning teams are models of the best applications of technology and</span>\n",
       "<span style=\"color: #008000; text-decoration-color: #008000\">leadership to improve enterprise performance.\"</span>*\n",
       "\n",
       "&lt;script\n",
       "</pre>\n"
      ],
      "text/plain": [
       "Observations: Arun S. Maiya\n",
       "\n",
       "Arun S. Maiya   \n",
       "    \n",
       "arun |at\u001b[1m]\u001b[0m maiya |dot\u001b[1m]\u001b[0m net  \n",
       "|CV\u001b[1m]\u001b[0m\u001b[1m(\u001b[0masmcv.pdf\u001b[1m)\u001b[0m | |LinkedIn\u001b[1m]\u001b[0m\u001b[1m(\u001b[0m\u001b[4;94mhttps://www.linkedin.com/in/arun-maiya/\u001b[0m\u001b[4;94m)\u001b[0m | |GitHub\u001b[1m]\u001b[0m\u001b[1m(\u001b[0m\u001b[4;94mhttps://github.com/amaiya\u001b[0m\u001b[4;94m)\u001b[0m\n",
       "\n",
       "!|\u001b[1m]\u001b[0m\u001b[1m(\u001b[0masmpic.jpg\u001b[1m)\u001b[0m\n",
       "\n",
       "Basics\n",
       "======\n",
       "\n",
       "I am a computer scientist at the |Institute for Defense Analyses \u001b[1m(\u001b[0mIDA\u001b[1m)\u001b[0m\u001b[1m]\u001b[0m\u001b[1m(\u001b[0m\u001b[4;94mhttp://www.ida.org\u001b[0m\u001b[4;94m)\u001b[0m\u001b[4;94m,\u001b[0m a federally-funded \n",
       "|think tank\u001b[1m]\u001b[0m\u001b[1m(\u001b[0m\u001b[4;94mhttp://en.wikipedia.org/wiki/List_of_federally_funded_research_and_development_centers\u001b[0m\u001b[4;94m)\u001b[0m in the \n",
       "Washington D.C. metro area. My research broadly focuses on the study of computational methods to *extract meaning \n",
       "from raw data* and includes the areas of natural language processing, machine learning, data mining, computer \n",
       "vision, and network science \u001b[1m(\u001b[0me.g., social network analysis\u001b[1m)\u001b[0m. I like building tools to make machine learning easier \n",
       "to apply in new ways and new areas. Through my work, I have contributed to national-level strategic-planning \n",
       "activities and R&D roadmaps. I completed a Ph.D. in Computer Science at the |Laboratory for Computational \n",
       "Population Biology\u001b[1m]\u001b[0m\u001b[1m(\u001b[0m\u001b[4;94mhttp://compbio.cs.uic.edu/\u001b[0m\u001b[4;94m)\u001b[0m\u001b[4;94m,\u001b[0m which is within the |Department of Computer \n",
       "Science\u001b[1m]\u001b[0m\u001b[1m(\u001b[0m\u001b[4;94mhttp://www.cs.uic.edu/\u001b[0m\u001b[4;94m)\u001b[0m at the\n",
       "|University of Illinois at Chicago \u001b[1m(\u001b[0mUIC\u001b[1m)\u001b[0m\u001b[1m]\u001b[0m\u001b[1m(\u001b[0m\u001b[4;94mhttp://www.uic.edu/\u001b[0m\u001b[4;94m)\u001b[0m\u001b[4;94m.\u001b[0m My CV is |here\u001b[1m]\u001b[0m\u001b[1m(\u001b[0m\u001b[4;94mhttp://arun.maiya.net/asmcv.pdf\u001b[0m\u001b[4;94m)\u001b[0m\u001b[4;94m.\u001b[0m\n",
       "\n",
       "Software\n",
       "========\n",
       "\n",
       "* **|ktrain\u001b[1m]\u001b[0m\u001b[1m(\u001b[0m\u001b[4;94mhttps://github.com/amaiya/ktrain\u001b[0m\u001b[4;94m)\u001b[0m** is a Python library that makes deep learning and AI more \n",
       "accessible and easier to apply. With support for many different data types including text, images, and graphs, \n",
       "ktrain has been used for a wide range of use cases in industry, government, and academia. Examples include analyses\n",
       "for the U.S. Economic Census, financial crime analytics at Big \u001b[1;36m4\u001b[0m accounting firms, intelligence analyses, and \n",
       "|CoronaCentral.ai\u001b[1m]\u001b[0m\u001b[1m(\u001b[0m\u001b[4;94mhttps://coronacentral.ai\u001b[0m\u001b[4;94m)\u001b[0m\u001b[4;94m,\u001b[0m a machine-learning-enhanced search engine for coronavirus \n",
       "publications at Stanford University.\n",
       "* **|CausalNLP\u001b[1m]\u001b[0m\u001b[1m(\u001b[0m\u001b[4;94mhttps://github.com/amaiya/causalnlp\u001b[0m\u001b[4;94m)\u001b[0m** is a practical toolkit for causal inference with text as \n",
       "treatment, outcome, or \u001b[32m\"controlled-for\"\u001b[0m variable.\n",
       "* **|IDATA\u001b[1m]\u001b[0m\u001b[1m(\u001b[0m\u001b[4;94mhttps://arxiv.org/abs/1308.2359\u001b[0m\u001b[4;94m)\u001b[0m** is a suite of software capabilities designed to facilitate search, \n",
       "exploration, and analyses of very large document sets using state-of-the-art machine learning, NLP, and information\n",
       "retrieval. It has been used for a variety of different application in the |DoD\u001b[1m]\u001b[0m\u001b[1m(\u001b[0m\u001b[4;94mhttps://www.defense.gov\u001b[0m\u001b[4;94m)\u001b[0m including \n",
       "cyber damage assessments, biosurveillance, and policy analyses.\n",
       "* **|OnPrem.LLM\u001b[1m]\u001b[0m\u001b[1m(\u001b[0m\u001b[4;94mhttps://github.com/amaiya/onprem\u001b[0m\u001b[4;94m)\u001b[0m** is a simple Python package for generative AI that makes it \n",
       "easier to run large language models \u001b[1m(\u001b[0mLLMs\u001b[1m)\u001b[0m on your own machine using non-public data.\n",
       "\n",
       "Publications\n",
       "============\n",
       "\n",
       "|**ktrain: A Low-Code Library for Augmented Machine \n",
       "Learning**\u001b[1m]\u001b[0m\u001b[1m(\u001b[0m\u001b[4;94mhttps://www.jmlr.org/papers/volume23/21-1124/21-1124.pdf\u001b[0m\u001b[4;94m)\u001b[0m  \n",
       "A.S. Maiya  \n",
       " *Journal of Machine Learning Research \u001b[1m(\u001b[0mJMLR\u001b[1m)\u001b[0m.*  May \u001b[1;36m2022\u001b[0m.\n",
       "\n",
       "|**CausalNLP: A Practical Toolkit for Causal Inference with Text**\u001b[1m]\u001b[0m\u001b[1m(\u001b[0m\u001b[4;94mhttps://arxiv.org/abs/2106.08043\u001b[0m\u001b[4;94m)\u001b[0m   \n",
       "A.S. Maiya  \n",
       " *arXiv preprint arXiv:\u001b[1;36m2106.08043\u001b[0m .*  Jun \u001b[1;36m2021\u001b[0m. |arXiv only\u001b[1m]\u001b[0m\n",
       "\n",
       "|**A Framework for Comparing Groups of Documents**\u001b[1m]\u001b[0m\u001b[1m(\u001b[0m\u001b[4;94mhttps://arxiv.org/abs/1508.05902\u001b[0m\u001b[4;94m)\u001b[0m  \n",
       "A.S. Maiya  \n",
       " *Proc. \u001b[1;36m2015\u001b[0m Conference on Empirical Methods in Natural Language Processing \u001b[1m(\u001b[0mEMNLP '\u001b[1;36m15\u001b[0m\u001b[1m)\u001b[0m.*  Lisbon, Portugal. Sep \n",
       "\u001b[1;36m2015\u001b[0m.\n",
       "\n",
       "|**Mining Measured Information from Text**\u001b[1m]\u001b[0m\u001b[1m(\u001b[0m\u001b[4;94mhttps://arxiv.org/abs/1505.01072\u001b[0m\u001b[4;94m)\u001b[0m  \n",
       "A.S. Maiya, D. Visser, and A. Wan  \n",
       " *Proc. 38th Annual ACM SIGIR Conference \u001b[1m(\u001b[0mSIGIR '\u001b[1;36m15\u001b[0m\u001b[1m)\u001b[0m.* Santiago, Chile. Aug \u001b[1;36m2015\u001b[0m.\n",
       "\n",
       "|**Topic Similarity Networks: Visual Analytics for Large Document Sets**\u001b[1m]\u001b[0m\u001b[1m(\u001b[0m\u001b[4;94mhttps://arxiv.org/abs/1409.7591\u001b[0m\u001b[4;94m)\u001b[0m  \n",
       "A.S. Maiya and R.M. Rolfe  \n",
       " *Proc. \u001b[1;36m2014\u001b[0m IEEE International Conference on Big Data \u001b[1m(\u001b[0mIEEE BigData '\u001b[1;36m14\u001b[0m\u001b[1m)\u001b[0m.* Washington, D.C., Oct \u001b[1;36m2014\u001b[0m.\n",
       "\n",
       "|**Exploratory Analysis of Highly Heterogeneous Document Collections**\u001b[1m]\u001b[0m\u001b[1m(\u001b[0m\u001b[4;94mhttps://arxiv.org/abs/1308.2359\u001b[0m\u001b[4;94m)\u001b[0m  \n",
       "A.S. Maiya, J.P. Thompson, F. Loaiza-Lemos, and R.M. Rolfe  \n",
       " *Proc. 19th ACM SIGKDD Conference on Knowledge Discovery and Data Mining \u001b[1m(\u001b[0mKDD '\u001b[1;36m13\u001b[0m\u001b[1m)\u001b[0m.* Chicago, IL, Aug \u001b[1;36m2013\u001b[0m.\n",
       "\n",
       "|**Expansion and Decentralized Search in Complex \n",
       "Networks**\u001b[1m]\u001b[0m\u001b[1m(\u001b[0m\u001b[4;94mhttp://link.springer.com/article/10.1007/s10115-012-0596-4\u001b[0m\u001b[4;94m)\u001b[0m  \n",
       "A.S. Maiya and T.Y. Berger-Wolf  \n",
       " *Journal of Knowledge and Information Systems.* First published online January \u001b[1;36m2013\u001b[0m.\n",
       "\n",
       "|**Supervised Learning in the Wild: Text Classification for Critical \n",
       "Technologies**\u001b[1m]\u001b[0m\u001b[1m(\u001b[0m\u001b[4;94mhttps://ieeexplore.ieee.org/document/6415660\u001b[0m\u001b[4;94m)\u001b[0m  \n",
       "A.S. Maiya, F. Loaiza-Lemos, and R.M. Rolfe  \n",
       " *Proc. IEEE Military Communications Conference \u001b[1m(\u001b[0mMILCOM '\u001b[1;36m12\u001b[0m\u001b[1m)\u001b[0m.* Orlando, FL, Oct \u001b[1;36m2012\u001b[0m.\n",
       "\n",
       "|**Benefits of Bias: Towards Better Characterization of Network Sampling**\u001b[1m]\u001b[0m\u001b[1m(\u001b[0m\u001b[4;94mhttps://arxiv.org/abs/1109.3911\u001b[0m\u001b[4;94m)\u001b[0m  \n",
       "A.S. Maiya and T.Y. Berger-Wolf  \n",
       " *Proc. 17th ACM SIGKDD Conference on Knowledge Discovery and Data Mining \u001b[1m(\u001b[0mKDD '\u001b[1;36m11\u001b[0m\u001b[1m)\u001b[0m.* San Diego, CA, Aug \u001b[1;36m2011\u001b[0m.\n",
       "\n",
       "|**Aggression, Grooming, and Group-level Cooperation in White-faced Capuchins: Insights from Social \n",
       "Networks**\u001b[1m]\u001b[0m\u001b[1m(\u001b[0m\u001b[4;94mhttp://onlinelibrary.wiley.com/doi/10.1002/ajp.20959/abstract\u001b[0m\u001b[4;94m)\u001b[0m  \n",
       "M.C. Crofoot, D.I. Rubenstein, A.S. Maiya, and T.Y. Berger-Wolf  \n",
       " *American Journal of Primatology.* First published online May \u001b[1;36m2011\u001b[0m.\n",
       "\n",
       "|**Sampling and Inference in Complex Networks**\u001b[1m]\u001b[0m\u001b[1m(\u001b[0m\u001b[4;94mhttps://dl.acm.org/doi/abs/10.5555/2395432\u001b[0m\u001b[4;94m)\u001b[0m  \n",
       "A.S. Maiya  \n",
       " *Ph.D. Dissertation, University of Illinois at Chicago \u001b[1m(\u001b[0mUIC\u001b[1m)\u001b[0m.* Chicago, IL, Apr \u001b[1;36m2011\u001b[0m.\n",
       "\n",
       "|**Expansion and Search in Networks**\u001b[1m]\u001b[0m\u001b[1m(\u001b[0m\u001b[4;94mhttps://arxiv.org/abs/1009.4383\u001b[0m\u001b[4;94m)\u001b[0m  \n",
       "A.S. Maiya and T.Y. Berger-Wolf  \n",
       " *Proc. 19th ACM Intl. Conference on Information and Knowledge Management \u001b[1m(\u001b[0mCIKM '\u001b[1;36m10\u001b[0m\u001b[1m)\u001b[0m.* Toronto, Canada, Oct \u001b[1;36m2010\u001b[0m.\n",
       "\n",
       "|**Online Sampling of High Centrality Individuals in Social \n",
       "Networks**\u001b[1m]\u001b[0m\u001b[1m(\u001b[0m\u001b[4;94mhttps://link.springer.com/chapter/10.1007/978-3-642-13657-3_12\u001b[0m\u001b[4;94m)\u001b[0m  \n",
       "A.S. Maiya and T.Y. Berger-Wolf  \n",
       " *Proc. 14th Pacific-Asia Conference on Knowledge Discovery and Data Mining \u001b[1m(\u001b[0mPAKDD '\u001b[1;36m10\u001b[0m\u001b[1m)\u001b[0m.* Hyderabad, India, Jun \n",
       "\u001b[1;36m2010\u001b[0m.\n",
       "\n",
       "|**Sampling Community Structure**\u001b[1m]\u001b[0m\u001b[1m(\u001b[0m\u001b[4;94mhttps://dl.acm.org/doi/10.1145/1772690.1772762\u001b[0m\u001b[4;94m)\u001b[0m  \n",
       "A.S. Maiya and T.Y. Berger-Wolf  \n",
       " *Proc. 19th ACM Intl. Conference on the World Wide Web \u001b[1m(\u001b[0mWWW '\u001b[1;36m10\u001b[0m\u001b[1m)\u001b[0m.* Raleigh, NC, Apr \u001b[1;36m2010\u001b[0m.\n",
       "\n",
       "|**Inferring the Maximum Likelihood Hierarchy in Social Networks**\u001b[1m]\u001b[0m\u001b[1m(\u001b[0m\u001b[4;94mhttps://ieeexplore.ieee.org/document/5284124\u001b[0m\u001b[4;94m)\u001b[0m  \n",
       "A.S. Maiya and T.Y. Berger-Wolf  \n",
       " *Proc. 12th IEEE Intl. Conference on Computational Science and Engineering \u001b[1m(\u001b[0mCSE '\u001b[1;36m09\u001b[0m\u001b[1m)\u001b[0m.* Vancouver, Canada, Aug \n",
       "\u001b[1;36m2009\u001b[0m.\n",
       "\n",
       "|**The Impact of Structural Changes on Predictions of Diffusion in \n",
       "Networks**\u001b[1m]\u001b[0m\u001b[1m(\u001b[0m\u001b[4;94mhttps://www.computer.org/csdl/proceedings-article/icdmw/2008/3503a939/12OmNBU1jIK\u001b[0m\u001b[4;94m)\u001b[0m  \n",
       "M. Lahiri, A.S. Maiya, R. Sulo, Habiba and T.Y. Berger-Wolf  \n",
       "*ICDM '\u001b[1;36m08\u001b[0m Workshop on Analysis of Dynamic Networks*. Pisa, Italy, Dec \u001b[1;36m2008\u001b[0m.\n",
       "\n",
       "Honors and Awards\n",
       "=================\n",
       "\n",
       "**Goodpaster Award for Excellence in Research**, Institute for Defense Analyses, \u001b[1;36m2021\u001b[0m ||News \n",
       "Release\u001b[1m]\u001b[0m\u001b[1m(\u001b[0m\u001b[4;94mhttps://www.ida.org/research-and-publications/publications/all/a/ar/arun-maiya-receives-2021-goodpaster-aw\u001b[0m\n",
       "\u001b[4;94mard-for-excellence-in-research\u001b[0m\u001b[4;94m)\u001b[0m\u001b[1m]\u001b[0m\n",
       "\n",
       "> *This prize is named for Gen. Andrew J. Goodpaster \u001b[1m(\u001b[0mUSA, retired\u001b[1m)\u001b[0m and is awarded to an individual demonstrating \n",
       "\u001b[32m\"research excellence, exceptional analytic achievement and intellectual leadership.\"\u001b[0m*\n",
       "\n",
       "**Welch Award for Best External Research**, Institute for Defense Analyses, \u001b[1;36m2016\u001b[0m\n",
       "\n",
       "> *Named in honor of General Larry D. Welch \u001b[1m(\u001b[0mUSAF, ret.\u001b[1m)\u001b[0m, this award \u001b[32m\"honors individuals whose external research \u001b[0m\n",
       "\u001b[32mpublications exemplify General Welch's high standards of analytic excellence and relevance.\"\u001b[0m*\n",
       "\n",
       "**AFEI Award for Excellence in Enterprise Information**, NDIA \u001b[1m(\u001b[0mformerly Association for Enterprise Information\u001b[1m)\u001b[0m, \n",
       "\u001b[1;36m2015\u001b[0m\n",
       "\n",
       "> *This award is to \u001b[32m\"recognize and reward the contributions and achievements of project teams that exemplify \u001b[0m\n",
       "\u001b[32mexcellence in achieving integrated enterprises. Winning teams are models of the best applications of technology and\u001b[0m\n",
       "\u001b[32mleadership to improve enterprise performance.\"\u001b[0m*\n",
       "\n",
       "<script\n"
      ]
     },
     "metadata": {},
     "output_type": "display_data"
    },
    {
     "data": {
      "text/html": [
       "<pre style=\"white-space:pre;overflow-x:auto;line-height:normal;font-family:Menlo,'DejaVu Sans Mono',consolas,'Courier New',monospace\"><span style=\"color: #7f7f7f; text-decoration-color: #7f7f7f\">[Step 1: Duration 1.39 seconds]</span>\n",
       "</pre>\n"
      ],
      "text/plain": [
       "\u001b[2m[Step 1: Duration 1.39 seconds]\u001b[0m\n"
      ]
     },
     "metadata": {},
     "output_type": "display_data"
    },
    {
     "data": {
      "text/html": [
       "<pre style=\"white-space:pre;overflow-x:auto;line-height:normal;font-family:Menlo,'DejaVu Sans Mono',consolas,'Courier New',monospace\"><span style=\"color: #d4b702; text-decoration-color: #d4b702\">━━━━━━━━━━━━━━━━━━━━━━━━━━━━━━━━━━━━━━━━━━━━━━━━━━━━━ </span><span style=\"font-weight: bold\">Step </span><span style=\"color: #008080; text-decoration-color: #008080; font-weight: bold\">2</span><span style=\"color: #d4b702; text-decoration-color: #d4b702\"> ━━━━━━━━━━━━━━━━━━━━━━━━━━━━━━━━━━━━━━━━━━━━━━━━━━━━━━</span>\n",
       "</pre>\n"
      ],
      "text/plain": [
       "\u001b[38;2;212;183;2m━━━━━━━━━━━━━━━━━━━━━━━━━━━━━━━━━━━━━━━━━━━━━━━━━━━━━ \u001b[0m\u001b[1mStep \u001b[0m\u001b[1;36m2\u001b[0m\u001b[38;2;212;183;2m ━━━━━━━━━━━━━━━━━━━━━━━━━━━━━━━━━━━━━━━━━━━━━━━━━━━━━━\u001b[0m\n"
      ]
     },
     "metadata": {},
     "output_type": "display_data"
    },
    {
     "data": {
      "text/html": [
       "<pre style=\"white-space:pre;overflow-x:auto;line-height:normal;font-family:Menlo,'DejaVu Sans Mono',consolas,'Courier New',monospace\">╭─────────────────────────────────────────────────────────────────────────────────────────────────────────────────╮\n",
       "│ Calling tool: 'final_answer' with arguments: {'answer': 'Ph.D. in Computer Science'}                            │\n",
       "╰─────────────────────────────────────────────────────────────────────────────────────────────────────────────────╯\n",
       "</pre>\n"
      ],
      "text/plain": [
       "╭─────────────────────────────────────────────────────────────────────────────────────────────────────────────────╮\n",
       "│ Calling tool: 'final_answer' with arguments: {'answer': 'Ph.D. in Computer Science'}                            │\n",
       "╰─────────────────────────────────────────────────────────────────────────────────────────────────────────────────╯\n"
      ]
     },
     "metadata": {},
     "output_type": "display_data"
    },
    {
     "data": {
      "text/html": [
       "<pre style=\"white-space:pre;overflow-x:auto;line-height:normal;font-family:Menlo,'DejaVu Sans Mono',consolas,'Courier New',monospace\"><span style=\"color: #d4b702; text-decoration-color: #d4b702; font-weight: bold\">Final answer: Ph.D. in Computer Science</span>\n",
       "</pre>\n"
      ],
      "text/plain": [
       "\u001b[1;38;2;212;183;2mFinal answer: Ph.D. in Computer Science\u001b[0m\n"
      ]
     },
     "metadata": {},
     "output_type": "display_data"
    },
    {
     "data": {
      "text/html": [
       "<pre style=\"white-space:pre;overflow-x:auto;line-height:normal;font-family:Menlo,'DejaVu Sans Mono',consolas,'Courier New',monospace\"><span style=\"color: #7f7f7f; text-decoration-color: #7f7f7f\">[Step 2: Duration 1.19 seconds]</span>\n",
       "</pre>\n"
      ],
      "text/plain": [
       "\u001b[2m[Step 2: Duration 1.19 seconds]\u001b[0m\n"
      ]
     },
     "metadata": {},
     "output_type": "display_data"
    }
   ],
   "source": [
    "# | notest\n",
    "\n",
    "agent = Agent(llm)\n",
    "agent.add_webview_tool()\n",
    "answer = agent.run(\"What is the highest level of education of the person listed on this page: https://arun.maiya.net?\")"
   ]
  },
  {
   "cell_type": "code",
   "execution_count": null,
   "metadata": {},
   "outputs": [
    {
     "name": "stdout",
     "output_type": "stream",
     "text": [
      "Ph.D. in Computer Science\n"
     ]
    }
   ],
   "source": [
    "# | notest\n",
    "\n",
    "print(answer)"
   ]
  },
  {
   "cell_type": "markdown",
   "metadata": {},
   "source": [
    "## Example: Agentic RAG\n",
    "\n",
    "You can also give the agent access to a vector store containing our documents.  In this example, we will ingest a document about Generative AI into a vector store and provide the store to the agent as a tool."
   ]
  },
  {
   "cell_type": "code",
   "execution_count": null,
   "metadata": {},
   "outputs": [
    {
     "name": "stdout",
     "output_type": "stream",
     "text": [
      "Creating new vectorstore at /tmp/myvectordb\n",
      "Loading documents from tests/sample_data/docx_example/\n"
     ]
    },
    {
     "name": "stderr",
     "output_type": "stream",
     "text": [
      "Loading new documents: 100%|██████████████████████| 1/1 [00:03<00:00,  3.95s/it]\n",
      "Processing and chunking 1 new documents: 100%|█████████████████████████████████████| 1/1 [00:00<00:00, 2113.00it/s]\n"
     ]
    },
    {
     "name": "stdout",
     "output_type": "stream",
     "text": [
      "Split into 17 chunks of text (max. 500 chars each for text; max. 2000 chars for tables)\n",
      "Creating embeddings. May take some minutes...\n"
     ]
    },
    {
     "name": "stderr",
     "output_type": "stream",
     "text": [
      "100%|████████████████████████████████████████████████████████████████████████████████| 1/1 [00:00<00:00,  1.90it/s]"
     ]
    },
    {
     "name": "stdout",
     "output_type": "stream",
     "text": [
      "Ingestion complete! You can now query your documents using the LLM.ask or LLM.chat methods\n"
     ]
    },
    {
     "name": "stderr",
     "output_type": "stream",
     "text": [
      "\n"
     ]
    }
   ],
   "source": [
    "# | notest\n",
    "\n",
    "from onprem.ingest.stores import DenseStore\n",
    "\n",
    "store = DenseStore('/tmp/myvectordb')\n",
    "store.ingest('tests/sample_data/docx_example/')"
   ]
  },
  {
   "cell_type": "code",
   "execution_count": null,
   "metadata": {},
   "outputs": [
    {
     "data": {
      "text/html": [
       "<pre style=\"white-space:pre;overflow-x:auto;line-height:normal;font-family:Menlo,'DejaVu Sans Mono',consolas,'Courier New',monospace\"><span style=\"color: #d4b702; text-decoration-color: #d4b702\">╭──────────────────────────────────────────────────── </span><span style=\"color: #d4b702; text-decoration-color: #d4b702; font-weight: bold\">New run</span><span style=\"color: #d4b702; text-decoration-color: #d4b702\"> ────────────────────────────────────────────────────╮</span>\n",
       "<span style=\"color: #d4b702; text-decoration-color: #d4b702\">│</span>                                                                                                                 <span style=\"color: #d4b702; text-decoration-color: #d4b702\">│</span>\n",
       "<span style=\"color: #d4b702; text-decoration-color: #d4b702\">│</span> <span style=\"font-weight: bold\">Summarize some generative AI use cases in Markdown format. You may need to run at least three queries of the </span>   <span style=\"color: #d4b702; text-decoration-color: #d4b702\">│</span>\n",
       "<span style=\"color: #d4b702; text-decoration-color: #d4b702\">│</span> <span style=\"font-weight: bold\">database.</span>                                                                                                       <span style=\"color: #d4b702; text-decoration-color: #d4b702\">│</span>\n",
       "<span style=\"color: #d4b702; text-decoration-color: #d4b702\">│</span>                                                                                                                 <span style=\"color: #d4b702; text-decoration-color: #d4b702\">│</span>\n",
       "<span style=\"color: #d4b702; text-decoration-color: #d4b702\">╰─ AgentModel - onprem-gpt-4o-mini ───────────────────────────────────────────────────────────────────────────────╯</span>\n",
       "</pre>\n"
      ],
      "text/plain": [
       "\u001b[38;2;212;183;2m╭─\u001b[0m\u001b[38;2;212;183;2m───────────────────────────────────────────────────\u001b[0m\u001b[38;2;212;183;2m \u001b[0m\u001b[1;38;2;212;183;2mNew run\u001b[0m\u001b[38;2;212;183;2m \u001b[0m\u001b[38;2;212;183;2m───────────────────────────────────────────────────\u001b[0m\u001b[38;2;212;183;2m─╮\u001b[0m\n",
       "\u001b[38;2;212;183;2m│\u001b[0m                                                                                                                 \u001b[38;2;212;183;2m│\u001b[0m\n",
       "\u001b[38;2;212;183;2m│\u001b[0m \u001b[1mSummarize some generative AI use cases in Markdown format. You may need to run at least three queries of the \u001b[0m   \u001b[38;2;212;183;2m│\u001b[0m\n",
       "\u001b[38;2;212;183;2m│\u001b[0m \u001b[1mdatabase.\u001b[0m                                                                                                       \u001b[38;2;212;183;2m│\u001b[0m\n",
       "\u001b[38;2;212;183;2m│\u001b[0m                                                                                                                 \u001b[38;2;212;183;2m│\u001b[0m\n",
       "\u001b[38;2;212;183;2m╰─\u001b[0m\u001b[38;2;212;183;2m AgentModel - onprem-gpt-4o-mini \u001b[0m\u001b[38;2;212;183;2m──────────────────────────────────────────────────────────────────────────────\u001b[0m\u001b[38;2;212;183;2m─╯\u001b[0m\n"
      ]
     },
     "metadata": {},
     "output_type": "display_data"
    },
    {
     "data": {
      "text/html": [
       "<pre style=\"white-space:pre;overflow-x:auto;line-height:normal;font-family:Menlo,'DejaVu Sans Mono',consolas,'Courier New',monospace\"><span style=\"color: #d4b702; text-decoration-color: #d4b702\">━━━━━━━━━━━━━━━━━━━━━━━━━━━━━━━━━━━━━━━━━━━━━━━━━━━━━ </span><span style=\"font-weight: bold\">Step </span><span style=\"color: #008080; text-decoration-color: #008080; font-weight: bold\">1</span><span style=\"color: #d4b702; text-decoration-color: #d4b702\"> ━━━━━━━━━━━━━━━━━━━━━━━━━━━━━━━━━━━━━━━━━━━━━━━━━━━━━━</span>\n",
       "</pre>\n"
      ],
      "text/plain": [
       "\u001b[38;2;212;183;2m━━━━━━━━━━━━━━━━━━━━━━━━━━━━━━━━━━━━━━━━━━━━━━━━━━━━━ \u001b[0m\u001b[1mStep \u001b[0m\u001b[1;36m1\u001b[0m\u001b[38;2;212;183;2m ━━━━━━━━━━━━━━━━━━━━━━━━━━━━━━━━━━━━━━━━━━━━━━━━━━━━━━\u001b[0m\n"
      ]
     },
     "metadata": {},
     "output_type": "display_data"
    },
    {
     "name": "stdout",
     "output_type": "stream",
     "text": [
      "[!] Failed to extract tool call: Key tool_name_key='name' not found in the generated tool call. Got keys: ['query'] instead\n",
      "Error while parsing tool call from model output: Key tool_name_key='name' not found in the generated tool call. Got keys: ['query'] instead\n",
      "JSON blob was: Action:\n",
      "{\n",
      "  \"query\": {\"type\": \"string\", \"description\": \"Generative AI use cases\"}\n",
      "}\n"
     ]
    },
    {
     "data": {
      "text/html": [
       "<pre style=\"white-space:pre;overflow-x:auto;line-height:normal;font-family:Menlo,'DejaVu Sans Mono',consolas,'Courier New',monospace\"><span style=\"color: #800000; text-decoration-color: #800000; font-weight: bold\">Error while parsing tool call from model output: Key </span><span style=\"color: #808000; text-decoration-color: #808000; font-weight: bold\">tool_name_key</span><span style=\"color: #800000; text-decoration-color: #800000; font-weight: bold\">=</span><span style=\"color: #008000; text-decoration-color: #008000\">'name'</span><span style=\"color: #800000; text-decoration-color: #800000; font-weight: bold\"> not found in the generated tool call. Got</span>\n",
       "<span style=\"color: #800000; text-decoration-color: #800000; font-weight: bold\">keys: [</span><span style=\"color: #008000; text-decoration-color: #008000\">'query'</span><span style=\"color: #800000; text-decoration-color: #800000; font-weight: bold\">\\] instead</span>\n",
       "</pre>\n"
      ],
      "text/plain": [
       "\u001b[1;31mError while parsing tool call from model output: Key \u001b[0m\u001b[1;33mtool_name_key\u001b[0m\u001b[1;31m=\u001b[0m\u001b[32m'name'\u001b[0m\u001b[1;31m not found in the generated tool call. Got\u001b[0m\n",
       "\u001b[1;31mkeys: \u001b[0m\u001b[1;31m[\u001b[0m\u001b[32m'query'\u001b[0m\u001b[1;31m\\\u001b[0m\u001b[1;31m]\u001b[0m\u001b[1;31m instead\u001b[0m\n"
      ]
     },
     "metadata": {},
     "output_type": "display_data"
    },
    {
     "data": {
      "text/html": [
       "<pre style=\"white-space:pre;overflow-x:auto;line-height:normal;font-family:Menlo,'DejaVu Sans Mono',consolas,'Courier New',monospace\"><span style=\"color: #7f7f7f; text-decoration-color: #7f7f7f\">[Step 1: Duration 1.10 seconds]</span>\n",
       "</pre>\n"
      ],
      "text/plain": [
       "\u001b[2m[Step 1: Duration 1.10 seconds]\u001b[0m\n"
      ]
     },
     "metadata": {},
     "output_type": "display_data"
    },
    {
     "data": {
      "text/html": [
       "<pre style=\"white-space:pre;overflow-x:auto;line-height:normal;font-family:Menlo,'DejaVu Sans Mono',consolas,'Courier New',monospace\"><span style=\"color: #d4b702; text-decoration-color: #d4b702\">━━━━━━━━━━━━━━━━━━━━━━━━━━━━━━━━━━━━━━━━━━━━━━━━━━━━━ </span><span style=\"font-weight: bold\">Step </span><span style=\"color: #008080; text-decoration-color: #008080; font-weight: bold\">2</span><span style=\"color: #d4b702; text-decoration-color: #d4b702\"> ━━━━━━━━━━━━━━━━━━━━━━━━━━━━━━━━━━━━━━━━━━━━━━━━━━━━━━</span>\n",
       "</pre>\n"
      ],
      "text/plain": [
       "\u001b[38;2;212;183;2m━━━━━━━━━━━━━━━━━━━━━━━━━━━━━━━━━━━━━━━━━━━━━━━━━━━━━ \u001b[0m\u001b[1mStep \u001b[0m\u001b[1;36m2\u001b[0m\u001b[38;2;212;183;2m ━━━━━━━━━━━━━━━━━━━━━━━━━━━━━━━━━━━━━━━━━━━━━━━━━━━━━━\u001b[0m\n"
      ]
     },
     "metadata": {},
     "output_type": "display_data"
    },
    {
     "data": {
      "text/html": [
       "<pre style=\"white-space:pre;overflow-x:auto;line-height:normal;font-family:Menlo,'DejaVu Sans Mono',consolas,'Courier New',monospace\">╭─────────────────────────────────────────────────────────────────────────────────────────────────────────────────╮\n",
       "│ Calling tool: 'genai' with arguments: {'query': 'Generative AI use cases'}                                      │\n",
       "╰─────────────────────────────────────────────────────────────────────────────────────────────────────────────────╯\n",
       "</pre>\n"
      ],
      "text/plain": [
       "╭─────────────────────────────────────────────────────────────────────────────────────────────────────────────────╮\n",
       "│ Calling tool: 'genai' with arguments: {'query': 'Generative AI use cases'}                                      │\n",
       "╰─────────────────────────────────────────────────────────────────────────────────────────────────────────────────╯\n"
      ]
     },
     "metadata": {},
     "output_type": "display_data"
    },
    {
     "data": {
      "text/html": [
       "<pre style=\"white-space:pre;overflow-x:auto;line-height:normal;font-family:Menlo,'DejaVu Sans Mono',consolas,'Courier New',monospace\">Observations: |<span style=\"font-weight: bold\">{</span><span style=\"color: #008000; text-decoration-color: #008000\">'id'</span>: <span style=\"color: #008000; text-decoration-color: #008000\">'e53a41c9-cf20-4a95-ba08-74d988db18bd'</span>, <span style=\"color: #008000; text-decoration-color: #008000\">'score'</span>: <span style=\"color: #008080; text-decoration-color: #008080; font-weight: bold\">0.6182159185409546</span>, <span style=\"color: #008000; text-decoration-color: #008000\">'text'</span>: <span style=\"color: #008000; text-decoration-color: #008000\">'3. What is </span>\n",
       "<span style=\"color: #008000; text-decoration-color: #008000\">generative AI?\\n\\nEven though AI is not new, you have probably been hearing a lot about easy-to-use, publicly </span>\n",
       "<span style=\"color: #008000; text-decoration-color: #008000\">available Generative AI tools like ChatGPT and Google Gemini.\\u202f \\n\\nBut what is generative AI?\\u202f\\u202f </span>\n",
       "<span style=\"color: #008000; text-decoration-color: #008000\">\\n\\nIt is a type of AI technology that automatically generates (or creates) content in response to prompts given to</span>\n",
       "<span style=\"color: #008000; text-decoration-color: #008000\">it by users.\\u202f \\n\\nThese tools can generate text, images, music, video, code and other formats.'</span><span style=\"font-weight: bold\">}</span>, <span style=\"font-weight: bold\">{</span><span style=\"color: #008000; text-decoration-color: #008000\">'id'</span>: \n",
       "<span style=\"color: #008000; text-decoration-color: #008000\">'7229438c-358f-4391-b2b6-f2f74c883c46'</span>, <span style=\"color: #008000; text-decoration-color: #008000\">'score'</span>: <span style=\"color: #008080; text-decoration-color: #008080; font-weight: bold\">0.5850328207015991</span>, <span style=\"color: #008000; text-decoration-color: #008000\">'text'</span>: <span style=\"color: #008000; text-decoration-color: #008000\">'An introduction to generative </span>\n",
       "<span style=\"color: #008000; text-decoration-color: #008000\">AI\\n\\n1. Introduction\\n\\nThis activity will give a brief overview of what Generative AI is and how it is being </span>\n",
       "<span style=\"color: #008000; text-decoration-color: #008000\">used.\\n\\nUsing this tutorial\\n\\nUse the back and next buttons at the bottom right of the screen to navigate through</span>\n",
       "<span style=\"color: #008000; text-decoration-color: #008000\">the tutorial. Alternatively, use the contents button to jump to a specific page.\\n\\nYou will need to allow </span>\n",
       "<span style=\"color: #008000; text-decoration-color: #008000\">approximately\\xa05\\xa0minutes\\xa0to complete the tutorial.\\n\\nLearning outcomes\\n\\nAfter completing this tutorial </span>\n",
       "<span style=\"color: #008000; text-decoration-color: #008000\">you will be able to:'</span><span style=\"font-weight: bold\">}</span>, <span style=\"font-weight: bold\">{</span><span style=\"color: #008000; text-decoration-color: #008000\">'id'</span>: <span style=\"color: #008000; text-decoration-color: #008000\">'7e79f05f-c5e4-49e2-aa13-74d93984f394'</span>, <span style=\"color: #008000; text-decoration-color: #008000\">'score'</span>: <span style=\"color: #008080; text-decoration-color: #008080; font-weight: bold\">0.568540632724762</span>, <span style=\"color: #008000; text-decoration-color: #008000\">'text'</span>: \n",
       "<span style=\"color: #008000; text-decoration-color: #008000\">'Question 5 Feedback for Option 3\\n\\nTrue. Generative AI tools rely on pattern recognition and do not truly </span>\n",
       "<span style=\"color: #008000; text-decoration-color: #008000\">understand the content, which can lead to plausible but misleading or incorrect outputs.\\n\\nQuestion 5 Feedback for</span>\n",
       "<span style=\"color: #008000; text-decoration-color: #008000\">Option 4\\n\\nFalse. Each response is unique; generative AI tools do not provide the same response every </span>\n",
       "<span style=\"color: #008000; text-decoration-color: #008000\">time.\\n\\nBeing digital Copyright © 2024 The Open University'</span><span style=\"font-weight: bold\">}</span>, <span style=\"font-weight: bold\">{</span><span style=\"color: #008000; text-decoration-color: #008000\">'id'</span>: <span style=\"color: #008000; text-decoration-color: #008000\">'860311c0-59ee-4ee5-8064-73e25637e1e7'</span>, \n",
       "<span style=\"color: #008000; text-decoration-color: #008000\">'score'</span>: <span style=\"color: #008080; text-decoration-color: #008080; font-weight: bold\">0.5618582367897034</span>, <span style=\"color: #008000; text-decoration-color: #008000\">'text'</span>: <span style=\"color: #008000; text-decoration-color: #008000\">'Recognise generative AI in daily life: Identify common generative AI </span>\n",
       "<span style=\"color: #008000; text-decoration-color: #008000\">applications like chatbots, facial recognition, streaming services, and digital assistants.\\n\\nUnderstand </span>\n",
       "<span style=\"color: #008000; text-decoration-color: #008000\">generative AI: Explain generative AI and its ability to create diverse content such as text, images, music, video, </span>\n",
       "<span style=\"color: #008000; text-decoration-color: #008000\">and code.\\n\\nDescribe LLMs: Understand how\\xa0Large Language Models (LLMs) work.\\n\\n2. Examples of AI in everyday </span>\n",
       "<span style=\"color: #008000; text-decoration-color: #008000\">life'</span><span style=\"font-weight: bold\">}</span>, <span style=\"font-weight: bold\">{</span><span style=\"color: #008000; text-decoration-color: #008000\">'id'</span>: <span style=\"color: #008000; text-decoration-color: #008000\">'bd4dca0b-20be-4123-b59a-d554e60afdfe'</span>, <span style=\"color: #008000; text-decoration-color: #008000\">'score'</span>: <span style=\"color: #008080; text-decoration-color: #008080; font-weight: bold\">0.5566920042037964</span>, <span style=\"color: #008000; text-decoration-color: #008000\">'text'</span>: <span style=\"color: #008000; text-decoration-color: #008000\">'5. Quiz\\n\\nQuestion 1 </span>\n",
       "<span style=\"color: #008000; text-decoration-color: #008000\">of 5\\n\\nWhat is generative AI?\\n\\nAI that only processes data\\n\\nAI that creates content based on user </span>\n",
       "<span style=\"color: #008000; text-decoration-color: #008000\">prompts\\n\\nAI that cannot update its data\\n\\nAI that performs physical tasks\\n\\nQuestion 1 Feedback for Option </span>\n",
       "<span style=\"color: #008000; text-decoration-color: #008000\">1\\n\\nFalse. Typing on a keyboard is a manual activity that does not involve AI.\\n\\nQuestion 1 Feedback for Option </span>\n",
       "<span style=\"color: #008000; text-decoration-color: #008000\">2\\n\\nFalse. Watching a sunset is a natural experience, not related to generative AI.\\n\\nQuestion 1 Feedback for </span>\n",
       "<span style=\"color: #008000; text-decoration-color: #008000\">Option 3'</span><span style=\"font-weight: bold\">}]</span>\n",
       "</pre>\n"
      ],
      "text/plain": [
       "Observations: |\u001b[1m{\u001b[0m\u001b[32m'id'\u001b[0m: \u001b[32m'e53a41c9-cf20-4a95-ba08-74d988db18bd'\u001b[0m, \u001b[32m'score'\u001b[0m: \u001b[1;36m0.6182159185409546\u001b[0m, \u001b[32m'text'\u001b[0m: \u001b[32m'3. What is \u001b[0m\n",
       "\u001b[32mgenerative AI?\\n\\nEven though AI is not new, you have probably been hearing a lot about easy-to-use, publicly \u001b[0m\n",
       "\u001b[32mavailable Generative AI tools like ChatGPT and Google Gemini.\\u202f \\n\\nBut what is generative AI?\\u202f\\u202f \u001b[0m\n",
       "\u001b[32m\\n\\nIt is a type of AI technology that automatically generates \u001b[0m\u001b[32m(\u001b[0m\u001b[32mor creates\u001b[0m\u001b[32m)\u001b[0m\u001b[32m content in response to prompts given to\u001b[0m\n",
       "\u001b[32mit by users.\\u202f \\n\\nThese tools can generate text, images, music, video, code and other formats.'\u001b[0m\u001b[1m}\u001b[0m, \u001b[1m{\u001b[0m\u001b[32m'id'\u001b[0m: \n",
       "\u001b[32m'7229438c-358f-4391-b2b6-f2f74c883c46'\u001b[0m, \u001b[32m'score'\u001b[0m: \u001b[1;36m0.5850328207015991\u001b[0m, \u001b[32m'text'\u001b[0m: \u001b[32m'An introduction to generative \u001b[0m\n",
       "\u001b[32mAI\\n\\n1. Introduction\\n\\nThis activity will give a brief overview of what Generative AI is and how it is being \u001b[0m\n",
       "\u001b[32mused.\\n\\nUsing this tutorial\\n\\nUse the back and next buttons at the bottom right of the screen to navigate through\u001b[0m\n",
       "\u001b[32mthe tutorial. Alternatively, use the contents button to jump to a specific page.\\n\\nYou will need to allow \u001b[0m\n",
       "\u001b[32mapproximately\\xa05\\xa0minutes\\xa0to complete the tutorial.\\n\\nLearning outcomes\\n\\nAfter completing this tutorial \u001b[0m\n",
       "\u001b[32myou will be able to:'\u001b[0m\u001b[1m}\u001b[0m, \u001b[1m{\u001b[0m\u001b[32m'id'\u001b[0m: \u001b[32m'7e79f05f-c5e4-49e2-aa13-74d93984f394'\u001b[0m, \u001b[32m'score'\u001b[0m: \u001b[1;36m0.568540632724762\u001b[0m, \u001b[32m'text'\u001b[0m: \n",
       "\u001b[32m'Question 5 Feedback for Option 3\\n\\nTrue. Generative AI tools rely on pattern recognition and do not truly \u001b[0m\n",
       "\u001b[32munderstand the content, which can lead to plausible but misleading or incorrect outputs.\\n\\nQuestion 5 Feedback for\u001b[0m\n",
       "\u001b[32mOption 4\\n\\nFalse. Each response is unique; generative AI tools do not provide the same response every \u001b[0m\n",
       "\u001b[32mtime.\\n\\nBeing digital Copyright © 2024 The Open University'\u001b[0m\u001b[1m}\u001b[0m, \u001b[1m{\u001b[0m\u001b[32m'id'\u001b[0m: \u001b[32m'860311c0-59ee-4ee5-8064-73e25637e1e7'\u001b[0m, \n",
       "\u001b[32m'score'\u001b[0m: \u001b[1;36m0.5618582367897034\u001b[0m, \u001b[32m'text'\u001b[0m: \u001b[32m'Recognise generative AI in daily life: Identify common generative AI \u001b[0m\n",
       "\u001b[32mapplications like chatbots, facial recognition, streaming services, and digital assistants.\\n\\nUnderstand \u001b[0m\n",
       "\u001b[32mgenerative AI: Explain generative AI and its ability to create diverse content such as text, images, music, video, \u001b[0m\n",
       "\u001b[32mand code.\\n\\nDescribe LLMs: Understand how\\xa0Large Language Models \u001b[0m\u001b[32m(\u001b[0m\u001b[32mLLMs\u001b[0m\u001b[32m)\u001b[0m\u001b[32m work.\\n\\n2. Examples of AI in everyday \u001b[0m\n",
       "\u001b[32mlife'\u001b[0m\u001b[1m}\u001b[0m, \u001b[1m{\u001b[0m\u001b[32m'id'\u001b[0m: \u001b[32m'bd4dca0b-20be-4123-b59a-d554e60afdfe'\u001b[0m, \u001b[32m'score'\u001b[0m: \u001b[1;36m0.5566920042037964\u001b[0m, \u001b[32m'text'\u001b[0m: \u001b[32m'5. Quiz\\n\\nQuestion 1 \u001b[0m\n",
       "\u001b[32mof 5\\n\\nWhat is generative AI?\\n\\nAI that only processes data\\n\\nAI that creates content based on user \u001b[0m\n",
       "\u001b[32mprompts\\n\\nAI that cannot update its data\\n\\nAI that performs physical tasks\\n\\nQuestion 1 Feedback for Option \u001b[0m\n",
       "\u001b[32m1\\n\\nFalse. Typing on a keyboard is a manual activity that does not involve AI.\\n\\nQuestion 1 Feedback for Option \u001b[0m\n",
       "\u001b[32m2\\n\\nFalse. Watching a sunset is a natural experience, not related to generative AI.\\n\\nQuestion 1 Feedback for \u001b[0m\n",
       "\u001b[32mOption 3'\u001b[0m\u001b[1m}\u001b[0m\u001b[1m]\u001b[0m\n"
      ]
     },
     "metadata": {},
     "output_type": "display_data"
    },
    {
     "data": {
      "text/html": [
       "<pre style=\"white-space:pre;overflow-x:auto;line-height:normal;font-family:Menlo,'DejaVu Sans Mono',consolas,'Courier New',monospace\"><span style=\"color: #7f7f7f; text-decoration-color: #7f7f7f\">[Step 2: Duration 0.88 seconds]</span>\n",
       "</pre>\n"
      ],
      "text/plain": [
       "\u001b[2m[Step 2: Duration 0.88 seconds]\u001b[0m\n"
      ]
     },
     "metadata": {},
     "output_type": "display_data"
    },
    {
     "data": {
      "text/html": [
       "<pre style=\"white-space:pre;overflow-x:auto;line-height:normal;font-family:Menlo,'DejaVu Sans Mono',consolas,'Courier New',monospace\"><span style=\"color: #d4b702; text-decoration-color: #d4b702\">━━━━━━━━━━━━━━━━━━━━━━━━━━━━━━━━━━━━━━━━━━━━━━━━━━━━━ </span><span style=\"font-weight: bold\">Step </span><span style=\"color: #008080; text-decoration-color: #008080; font-weight: bold\">3</span><span style=\"color: #d4b702; text-decoration-color: #d4b702\"> ━━━━━━━━━━━━━━━━━━━━━━━━━━━━━━━━━━━━━━━━━━━━━━━━━━━━━━</span>\n",
       "</pre>\n"
      ],
      "text/plain": [
       "\u001b[38;2;212;183;2m━━━━━━━━━━━━━━━━━━━━━━━━━━━━━━━━━━━━━━━━━━━━━━━━━━━━━ \u001b[0m\u001b[1mStep \u001b[0m\u001b[1;36m3\u001b[0m\u001b[38;2;212;183;2m ━━━━━━━━━━━━━━━━━━━━━━━━━━━━━━━━━━━━━━━━━━━━━━━━━━━━━━\u001b[0m\n"
      ]
     },
     "metadata": {},
     "output_type": "display_data"
    },
    {
     "name": "stdout",
     "output_type": "stream",
     "text": [
      "[!] Failed to extract tool call: Key tool_name_key='name' not found in the generated tool call. Got keys: ['query'] instead\n",
      "Error while parsing tool call from model output: Key tool_name_key='name' not found in the generated tool call. Got keys: ['query'] instead\n",
      "JSON blob was: Action:\n",
      "{\n",
      "  \"query\": {\"type\": \"string\", \"description\": \"Examples of generative AI applications\"}\n",
      "}\n"
     ]
    },
    {
     "data": {
      "text/html": [
       "<pre style=\"white-space:pre;overflow-x:auto;line-height:normal;font-family:Menlo,'DejaVu Sans Mono',consolas,'Courier New',monospace\"><span style=\"color: #800000; text-decoration-color: #800000; font-weight: bold\">Error while parsing tool call from model output: Key </span><span style=\"color: #808000; text-decoration-color: #808000; font-weight: bold\">tool_name_key</span><span style=\"color: #800000; text-decoration-color: #800000; font-weight: bold\">=</span><span style=\"color: #008000; text-decoration-color: #008000\">'name'</span><span style=\"color: #800000; text-decoration-color: #800000; font-weight: bold\"> not found in the generated tool call. Got</span>\n",
       "<span style=\"color: #800000; text-decoration-color: #800000; font-weight: bold\">keys: [</span><span style=\"color: #008000; text-decoration-color: #008000\">'query'</span><span style=\"color: #800000; text-decoration-color: #800000; font-weight: bold\">\\] instead</span>\n",
       "</pre>\n"
      ],
      "text/plain": [
       "\u001b[1;31mError while parsing tool call from model output: Key \u001b[0m\u001b[1;33mtool_name_key\u001b[0m\u001b[1;31m=\u001b[0m\u001b[32m'name'\u001b[0m\u001b[1;31m not found in the generated tool call. Got\u001b[0m\n",
       "\u001b[1;31mkeys: \u001b[0m\u001b[1;31m[\u001b[0m\u001b[32m'query'\u001b[0m\u001b[1;31m\\\u001b[0m\u001b[1;31m]\u001b[0m\u001b[1;31m instead\u001b[0m\n"
      ]
     },
     "metadata": {},
     "output_type": "display_data"
    },
    {
     "data": {
      "text/html": [
       "<pre style=\"white-space:pre;overflow-x:auto;line-height:normal;font-family:Menlo,'DejaVu Sans Mono',consolas,'Courier New',monospace\"><span style=\"color: #7f7f7f; text-decoration-color: #7f7f7f\">[Step 3: Duration 1.77 seconds]</span>\n",
       "</pre>\n"
      ],
      "text/plain": [
       "\u001b[2m[Step 3: Duration 1.77 seconds]\u001b[0m\n"
      ]
     },
     "metadata": {},
     "output_type": "display_data"
    },
    {
     "data": {
      "text/html": [
       "<pre style=\"white-space:pre;overflow-x:auto;line-height:normal;font-family:Menlo,'DejaVu Sans Mono',consolas,'Courier New',monospace\"><span style=\"color: #d4b702; text-decoration-color: #d4b702\">━━━━━━━━━━━━━━━━━━━━━━━━━━━━━━━━━━━━━━━━━━━━━━━━━━━━━ </span><span style=\"font-weight: bold\">Step </span><span style=\"color: #008080; text-decoration-color: #008080; font-weight: bold\">4</span><span style=\"color: #d4b702; text-decoration-color: #d4b702\"> ━━━━━━━━━━━━━━━━━━━━━━━━━━━━━━━━━━━━━━━━━━━━━━━━━━━━━━</span>\n",
       "</pre>\n"
      ],
      "text/plain": [
       "\u001b[38;2;212;183;2m━━━━━━━━━━━━━━━━━━━━━━━━━━━━━━━━━━━━━━━━━━━━━━━━━━━━━ \u001b[0m\u001b[1mStep \u001b[0m\u001b[1;36m4\u001b[0m\u001b[38;2;212;183;2m ━━━━━━━━━━━━━━━━━━━━━━━━━━━━━━━━━━━━━━━━━━━━━━━━━━━━━━\u001b[0m\n"
      ]
     },
     "metadata": {},
     "output_type": "display_data"
    },
    {
     "data": {
      "text/html": [
       "<pre style=\"white-space:pre;overflow-x:auto;line-height:normal;font-family:Menlo,'DejaVu Sans Mono',consolas,'Courier New',monospace\">╭─────────────────────────────────────────────────────────────────────────────────────────────────────────────────╮\n",
       "│ Calling tool: 'genai' with arguments: {'query': 'Examples of generative AI applications'}                       │\n",
       "╰─────────────────────────────────────────────────────────────────────────────────────────────────────────────────╯\n",
       "</pre>\n"
      ],
      "text/plain": [
       "╭─────────────────────────────────────────────────────────────────────────────────────────────────────────────────╮\n",
       "│ Calling tool: 'genai' with arguments: {'query': 'Examples of generative AI applications'}                       │\n",
       "╰─────────────────────────────────────────────────────────────────────────────────────────────────────────────────╯\n"
      ]
     },
     "metadata": {},
     "output_type": "display_data"
    },
    {
     "data": {
      "text/html": [
       "<pre style=\"white-space:pre;overflow-x:auto;line-height:normal;font-family:Menlo,'DejaVu Sans Mono',consolas,'Courier New',monospace\">Observations: |<span style=\"font-weight: bold\">{</span><span style=\"color: #008000; text-decoration-color: #008000\">'id'</span>: <span style=\"color: #008000; text-decoration-color: #008000\">'e53a41c9-cf20-4a95-ba08-74d988db18bd'</span>, <span style=\"color: #008000; text-decoration-color: #008000\">'score'</span>: <span style=\"color: #008080; text-decoration-color: #008080; font-weight: bold\">0.6368980407714844</span>, <span style=\"color: #008000; text-decoration-color: #008000\">'text'</span>: <span style=\"color: #008000; text-decoration-color: #008000\">'3. What is </span>\n",
       "<span style=\"color: #008000; text-decoration-color: #008000\">generative AI?\\n\\nEven though AI is not new, you have probably been hearing a lot about easy-to-use, publicly </span>\n",
       "<span style=\"color: #008000; text-decoration-color: #008000\">available Generative AI tools like ChatGPT and Google Gemini.\\u202f \\n\\nBut what is generative AI?\\u202f\\u202f </span>\n",
       "<span style=\"color: #008000; text-decoration-color: #008000\">\\n\\nIt is a type of AI technology that automatically generates (or creates) content in response to prompts given to</span>\n",
       "<span style=\"color: #008000; text-decoration-color: #008000\">it by users.\\u202f \\n\\nThese tools can generate text, images, music, video, code and other formats.'</span><span style=\"font-weight: bold\">}</span>, <span style=\"font-weight: bold\">{</span><span style=\"color: #008000; text-decoration-color: #008000\">'id'</span>: \n",
       "<span style=\"color: #008000; text-decoration-color: #008000\">'7229438c-358f-4391-b2b6-f2f74c883c46'</span>, <span style=\"color: #008000; text-decoration-color: #008000\">'score'</span>: <span style=\"color: #008080; text-decoration-color: #008080; font-weight: bold\">0.6269133687019348</span>, <span style=\"color: #008000; text-decoration-color: #008000\">'text'</span>: <span style=\"color: #008000; text-decoration-color: #008000\">'An introduction to generative </span>\n",
       "<span style=\"color: #008000; text-decoration-color: #008000\">AI\\n\\n1. Introduction\\n\\nThis activity will give a brief overview of what Generative AI is and how it is being </span>\n",
       "<span style=\"color: #008000; text-decoration-color: #008000\">used.\\n\\nUsing this tutorial\\n\\nUse the back and next buttons at the bottom right of the screen to navigate through</span>\n",
       "<span style=\"color: #008000; text-decoration-color: #008000\">the tutorial. Alternatively, use the contents button to jump to a specific page.\\n\\nYou will need to allow </span>\n",
       "<span style=\"color: #008000; text-decoration-color: #008000\">approximately\\xa05\\xa0minutes\\xa0to complete the tutorial.\\n\\nLearning outcomes\\n\\nAfter completing this tutorial </span>\n",
       "<span style=\"color: #008000; text-decoration-color: #008000\">you will be able to:'</span><span style=\"font-weight: bold\">}</span>, <span style=\"font-weight: bold\">{</span><span style=\"color: #008000; text-decoration-color: #008000\">'id'</span>: <span style=\"color: #008000; text-decoration-color: #008000\">'860311c0-59ee-4ee5-8064-73e25637e1e7'</span>, <span style=\"color: #008000; text-decoration-color: #008000\">'score'</span>: <span style=\"color: #008080; text-decoration-color: #008080; font-weight: bold\">0.5849834680557251</span>, <span style=\"color: #008000; text-decoration-color: #008000\">'text'</span>: \n",
       "<span style=\"color: #008000; text-decoration-color: #008000\">'Recognise generative AI in daily life: Identify common generative AI applications like chatbots, facial </span>\n",
       "<span style=\"color: #008000; text-decoration-color: #008000\">recognition, streaming services, and digital assistants.\\n\\nUnderstand generative AI: Explain generative AI and its</span>\n",
       "<span style=\"color: #008000; text-decoration-color: #008000\">ability to create diverse content such as text, images, music, video, and code.\\n\\nDescribe LLMs: Understand </span>\n",
       "<span style=\"color: #008000; text-decoration-color: #008000\">how\\xa0Large Language Models (LLMs) work.\\n\\n2. Examples of AI in everyday life'</span><span style=\"font-weight: bold\">}</span>, <span style=\"font-weight: bold\">{</span><span style=\"color: #008000; text-decoration-color: #008000\">'id'</span>: \n",
       "<span style=\"color: #008000; text-decoration-color: #008000\">'a338d73d-e749-4d33-a714-007d0fc87cab'</span>, <span style=\"color: #008000; text-decoration-color: #008000\">'score'</span>: <span style=\"color: #008080; text-decoration-color: #008080; font-weight: bold\">0.5466582775115967</span>, <span style=\"color: #008000; text-decoration-color: #008000\">'text'</span>: <span style=\"color: #008000; text-decoration-color: #008000\">'Online shopping – personalised </span>\n",
       "<span style=\"color: #008000; text-decoration-color: #008000\">recommendations and adverts.\\n\\nDigital assistants, e.g.\\u202fAmazon Alexa, Google Assistant, Siri.\\n\\nSending an </span>\n",
       "<span style=\"color: #008000; text-decoration-color: #008000\">email – spell check and spam filters.\\n\\n\\n\\nTravel and navigation, e.g. Google Maps.\\n\\nWriting assistants, e.g.  </span>\n",
       "<span style=\"color: #008000; text-decoration-color: #008000\">Grammarly.\\n\\nHealth and fitness apps, e.g. Fitbit.\\n\\nSocial media feeds – AI controls the feeds that you get to </span>\n",
       "<span style=\"color: #008000; text-decoration-color: #008000\">see while browsing through social media platforms (e.g., Facebook, X, Instagram) or the notifications you </span>\n",
       "<span style=\"color: #008000; text-decoration-color: #008000\">receive.\\n\\n3. What is generative AI?'</span><span style=\"font-weight: bold\">}</span>, <span style=\"font-weight: bold\">{</span><span style=\"color: #008000; text-decoration-color: #008000\">'id'</span>: <span style=\"color: #008000; text-decoration-color: #008000\">'06ce16c2-d5c7-4de6-96b1-ffb970b58cf7'</span>, <span style=\"color: #008000; text-decoration-color: #008000\">'score'</span>: \n",
       "<span style=\"color: #008080; text-decoration-color: #008080; font-weight: bold\">0.5407500267028809</span>, <span style=\"color: #008000; text-decoration-color: #008000\">'text'</span>: <span style=\"color: #008000; text-decoration-color: #008000\">'surprisingly knowledgeable, or with an image / computing code. Although outputs </span>\n",
       "<span style=\"color: #008000; text-decoration-color: #008000\">produced by Generative AI tools look plausible, they are often misleading, made up, or may be entirely </span>\n",
       "<span style=\"color: #008000; text-decoration-color: #008000\">wrong.\\n\\nEach response is unique, you will probably never get the exact same reply twice.\\n\\nResponses are </span>\n",
       "<span style=\"color: #008000; text-decoration-color: #008000\">conversational. Once you have asked a question you can just carry on the conversation by adding new questions or </span>\n",
       "<span style=\"color: #008000; text-decoration-color: #008000\">prompts, rather than having to redo your search, as you would in a search engine like Google.'</span><span style=\"font-weight: bold\">}]</span>\n",
       "</pre>\n"
      ],
      "text/plain": [
       "Observations: |\u001b[1m{\u001b[0m\u001b[32m'id'\u001b[0m: \u001b[32m'e53a41c9-cf20-4a95-ba08-74d988db18bd'\u001b[0m, \u001b[32m'score'\u001b[0m: \u001b[1;36m0.6368980407714844\u001b[0m, \u001b[32m'text'\u001b[0m: \u001b[32m'3. What is \u001b[0m\n",
       "\u001b[32mgenerative AI?\\n\\nEven though AI is not new, you have probably been hearing a lot about easy-to-use, publicly \u001b[0m\n",
       "\u001b[32mavailable Generative AI tools like ChatGPT and Google Gemini.\\u202f \\n\\nBut what is generative AI?\\u202f\\u202f \u001b[0m\n",
       "\u001b[32m\\n\\nIt is a type of AI technology that automatically generates \u001b[0m\u001b[32m(\u001b[0m\u001b[32mor creates\u001b[0m\u001b[32m)\u001b[0m\u001b[32m content in response to prompts given to\u001b[0m\n",
       "\u001b[32mit by users.\\u202f \\n\\nThese tools can generate text, images, music, video, code and other formats.'\u001b[0m\u001b[1m}\u001b[0m, \u001b[1m{\u001b[0m\u001b[32m'id'\u001b[0m: \n",
       "\u001b[32m'7229438c-358f-4391-b2b6-f2f74c883c46'\u001b[0m, \u001b[32m'score'\u001b[0m: \u001b[1;36m0.6269133687019348\u001b[0m, \u001b[32m'text'\u001b[0m: \u001b[32m'An introduction to generative \u001b[0m\n",
       "\u001b[32mAI\\n\\n1. Introduction\\n\\nThis activity will give a brief overview of what Generative AI is and how it is being \u001b[0m\n",
       "\u001b[32mused.\\n\\nUsing this tutorial\\n\\nUse the back and next buttons at the bottom right of the screen to navigate through\u001b[0m\n",
       "\u001b[32mthe tutorial. Alternatively, use the contents button to jump to a specific page.\\n\\nYou will need to allow \u001b[0m\n",
       "\u001b[32mapproximately\\xa05\\xa0minutes\\xa0to complete the tutorial.\\n\\nLearning outcomes\\n\\nAfter completing this tutorial \u001b[0m\n",
       "\u001b[32myou will be able to:'\u001b[0m\u001b[1m}\u001b[0m, \u001b[1m{\u001b[0m\u001b[32m'id'\u001b[0m: \u001b[32m'860311c0-59ee-4ee5-8064-73e25637e1e7'\u001b[0m, \u001b[32m'score'\u001b[0m: \u001b[1;36m0.5849834680557251\u001b[0m, \u001b[32m'text'\u001b[0m: \n",
       "\u001b[32m'Recognise generative AI in daily life: Identify common generative AI applications like chatbots, facial \u001b[0m\n",
       "\u001b[32mrecognition, streaming services, and digital assistants.\\n\\nUnderstand generative AI: Explain generative AI and its\u001b[0m\n",
       "\u001b[32mability to create diverse content such as text, images, music, video, and code.\\n\\nDescribe LLMs: Understand \u001b[0m\n",
       "\u001b[32mhow\\xa0Large Language Models \u001b[0m\u001b[32m(\u001b[0m\u001b[32mLLMs\u001b[0m\u001b[32m)\u001b[0m\u001b[32m work.\\n\\n2. Examples of AI in everyday life'\u001b[0m\u001b[1m}\u001b[0m, \u001b[1m{\u001b[0m\u001b[32m'id'\u001b[0m: \n",
       "\u001b[32m'a338d73d-e749-4d33-a714-007d0fc87cab'\u001b[0m, \u001b[32m'score'\u001b[0m: \u001b[1;36m0.5466582775115967\u001b[0m, \u001b[32m'text'\u001b[0m: \u001b[32m'Online shopping – personalised \u001b[0m\n",
       "\u001b[32mrecommendations and adverts.\\n\\nDigital assistants, e.g.\\u202fAmazon Alexa, Google Assistant, Siri.\\n\\nSending an \u001b[0m\n",
       "\u001b[32memail – spell check and spam filters.\\n\\n\\n\\nTravel and navigation, e.g. Google Maps.\\n\\nWriting assistants, e.g.  \u001b[0m\n",
       "\u001b[32mGrammarly.\\n\\nHealth and fitness apps, e.g. Fitbit.\\n\\nSocial media feeds – AI controls the feeds that you get to \u001b[0m\n",
       "\u001b[32msee while browsing through social media platforms \u001b[0m\u001b[32m(\u001b[0m\u001b[32me.g., Facebook, X, Instagram\u001b[0m\u001b[32m)\u001b[0m\u001b[32m or the notifications you \u001b[0m\n",
       "\u001b[32mreceive.\\n\\n3. What is generative AI?'\u001b[0m\u001b[1m}\u001b[0m, \u001b[1m{\u001b[0m\u001b[32m'id'\u001b[0m: \u001b[32m'06ce16c2-d5c7-4de6-96b1-ffb970b58cf7'\u001b[0m, \u001b[32m'score'\u001b[0m: \n",
       "\u001b[1;36m0.5407500267028809\u001b[0m, \u001b[32m'text'\u001b[0m: \u001b[32m'surprisingly knowledgeable, or with an image / computing code. Although outputs \u001b[0m\n",
       "\u001b[32mproduced by Generative AI tools look plausible, they are often misleading, made up, or may be entirely \u001b[0m\n",
       "\u001b[32mwrong.\\n\\nEach response is unique, you will probably never get the exact same reply twice.\\n\\nResponses are \u001b[0m\n",
       "\u001b[32mconversational. Once you have asked a question you can just carry on the conversation by adding new questions or \u001b[0m\n",
       "\u001b[32mprompts, rather than having to redo your search, as you would in a search engine like Google.'\u001b[0m\u001b[1m}\u001b[0m\u001b[1m]\u001b[0m\n"
      ]
     },
     "metadata": {},
     "output_type": "display_data"
    },
    {
     "data": {
      "text/html": [
       "<pre style=\"white-space:pre;overflow-x:auto;line-height:normal;font-family:Menlo,'DejaVu Sans Mono',consolas,'Courier New',monospace\"><span style=\"color: #7f7f7f; text-decoration-color: #7f7f7f\">[Step 4: Duration 1.38 seconds]</span>\n",
       "</pre>\n"
      ],
      "text/plain": [
       "\u001b[2m[Step 4: Duration 1.38 seconds]\u001b[0m\n"
      ]
     },
     "metadata": {},
     "output_type": "display_data"
    },
    {
     "data": {
      "text/html": [
       "<pre style=\"white-space:pre;overflow-x:auto;line-height:normal;font-family:Menlo,'DejaVu Sans Mono',consolas,'Courier New',monospace\"><span style=\"color: #d4b702; text-decoration-color: #d4b702\">━━━━━━━━━━━━━━━━━━━━━━━━━━━━━━━━━━━━━━━━━━━━━━━━━━━━━ </span><span style=\"font-weight: bold\">Step </span><span style=\"color: #008080; text-decoration-color: #008080; font-weight: bold\">5</span><span style=\"color: #d4b702; text-decoration-color: #d4b702\"> ━━━━━━━━━━━━━━━━━━━━━━━━━━━━━━━━━━━━━━━━━━━━━━━━━━━━━━</span>\n",
       "</pre>\n"
      ],
      "text/plain": [
       "\u001b[38;2;212;183;2m━━━━━━━━━━━━━━━━━━━━━━━━━━━━━━━━━━━━━━━━━━━━━━━━━━━━━ \u001b[0m\u001b[1mStep \u001b[0m\u001b[1;36m5\u001b[0m\u001b[38;2;212;183;2m ━━━━━━━━━━━━━━━━━━━━━━━━━━━━━━━━━━━━━━━━━━━━━━━━━━━━━━\u001b[0m\n"
      ]
     },
     "metadata": {},
     "output_type": "display_data"
    },
    {
     "name": "stdout",
     "output_type": "stream",
     "text": [
      "[!] Failed to extract tool call: Key tool_name_key='name' not found in the generated tool call. Got keys: ['query'] instead\n",
      "Error while parsing tool call from model output: Key tool_name_key='name' not found in the generated tool call. Got keys: ['query'] instead\n",
      "JSON blob was: Action:\n",
      "{\n",
      "  \"query\": {\"type\": \"string\", \"description\": \"Benefits of Generative AI\"}\n",
      "}\n"
     ]
    },
    {
     "data": {
      "text/html": [
       "<pre style=\"white-space:pre;overflow-x:auto;line-height:normal;font-family:Menlo,'DejaVu Sans Mono',consolas,'Courier New',monospace\"><span style=\"color: #800000; text-decoration-color: #800000; font-weight: bold\">Error while parsing tool call from model output: Key </span><span style=\"color: #808000; text-decoration-color: #808000; font-weight: bold\">tool_name_key</span><span style=\"color: #800000; text-decoration-color: #800000; font-weight: bold\">=</span><span style=\"color: #008000; text-decoration-color: #008000\">'name'</span><span style=\"color: #800000; text-decoration-color: #800000; font-weight: bold\"> not found in the generated tool call. Got</span>\n",
       "<span style=\"color: #800000; text-decoration-color: #800000; font-weight: bold\">keys: [</span><span style=\"color: #008000; text-decoration-color: #008000\">'query'</span><span style=\"color: #800000; text-decoration-color: #800000; font-weight: bold\">\\] instead</span>\n",
       "</pre>\n"
      ],
      "text/plain": [
       "\u001b[1;31mError while parsing tool call from model output: Key \u001b[0m\u001b[1;33mtool_name_key\u001b[0m\u001b[1;31m=\u001b[0m\u001b[32m'name'\u001b[0m\u001b[1;31m not found in the generated tool call. Got\u001b[0m\n",
       "\u001b[1;31mkeys: \u001b[0m\u001b[1;31m[\u001b[0m\u001b[32m'query'\u001b[0m\u001b[1;31m\\\u001b[0m\u001b[1;31m]\u001b[0m\u001b[1;31m instead\u001b[0m\n"
      ]
     },
     "metadata": {},
     "output_type": "display_data"
    },
    {
     "data": {
      "text/html": [
       "<pre style=\"white-space:pre;overflow-x:auto;line-height:normal;font-family:Menlo,'DejaVu Sans Mono',consolas,'Courier New',monospace\"><span style=\"color: #7f7f7f; text-decoration-color: #7f7f7f\">[Step 5: Duration 0.76 seconds]</span>\n",
       "</pre>\n"
      ],
      "text/plain": [
       "\u001b[2m[Step 5: Duration 0.76 seconds]\u001b[0m\n"
      ]
     },
     "metadata": {},
     "output_type": "display_data"
    },
    {
     "data": {
      "text/html": [
       "<pre style=\"white-space:pre;overflow-x:auto;line-height:normal;font-family:Menlo,'DejaVu Sans Mono',consolas,'Courier New',monospace\"><span style=\"color: #d4b702; text-decoration-color: #d4b702\">━━━━━━━━━━━━━━━━━━━━━━━━━━━━━━━━━━━━━━━━━━━━━━━━━━━━━ </span><span style=\"font-weight: bold\">Step </span><span style=\"color: #008080; text-decoration-color: #008080; font-weight: bold\">6</span><span style=\"color: #d4b702; text-decoration-color: #d4b702\"> ━━━━━━━━━━━━━━━━━━━━━━━━━━━━━━━━━━━━━━━━━━━━━━━━━━━━━━</span>\n",
       "</pre>\n"
      ],
      "text/plain": [
       "\u001b[38;2;212;183;2m━━━━━━━━━━━━━━━━━━━━━━━━━━━━━━━━━━━━━━━━━━━━━━━━━━━━━ \u001b[0m\u001b[1mStep \u001b[0m\u001b[1;36m6\u001b[0m\u001b[38;2;212;183;2m ━━━━━━━━━━━━━━━━━━━━━━━━━━━━━━━━━━━━━━━━━━━━━━━━━━━━━━\u001b[0m\n"
      ]
     },
     "metadata": {},
     "output_type": "display_data"
    },
    {
     "data": {
      "text/html": [
       "<pre style=\"white-space:pre;overflow-x:auto;line-height:normal;font-family:Menlo,'DejaVu Sans Mono',consolas,'Courier New',monospace\">╭─────────────────────────────────────────────────────────────────────────────────────────────────────────────────╮\n",
       "│ Calling tool: 'genai' with arguments: {'query': 'Benefits of Generative AI'}                                    │\n",
       "╰─────────────────────────────────────────────────────────────────────────────────────────────────────────────────╯\n",
       "</pre>\n"
      ],
      "text/plain": [
       "╭─────────────────────────────────────────────────────────────────────────────────────────────────────────────────╮\n",
       "│ Calling tool: 'genai' with arguments: {'query': 'Benefits of Generative AI'}                                    │\n",
       "╰─────────────────────────────────────────────────────────────────────────────────────────────────────────────────╯\n"
      ]
     },
     "metadata": {},
     "output_type": "display_data"
    },
    {
     "data": {
      "text/html": [
       "<pre style=\"white-space:pre;overflow-x:auto;line-height:normal;font-family:Menlo,'DejaVu Sans Mono',consolas,'Courier New',monospace\">Observations: |<span style=\"font-weight: bold\">{</span><span style=\"color: #008000; text-decoration-color: #008000\">'id'</span>: <span style=\"color: #008000; text-decoration-color: #008000\">'e53a41c9-cf20-4a95-ba08-74d988db18bd'</span>, <span style=\"color: #008000; text-decoration-color: #008000\">'score'</span>: <span style=\"color: #008080; text-decoration-color: #008080; font-weight: bold\">0.6116198301315308</span>, <span style=\"color: #008000; text-decoration-color: #008000\">'text'</span>: <span style=\"color: #008000; text-decoration-color: #008000\">'3. What is </span>\n",
       "<span style=\"color: #008000; text-decoration-color: #008000\">generative AI?\\n\\nEven though AI is not new, you have probably been hearing a lot about easy-to-use, publicly </span>\n",
       "<span style=\"color: #008000; text-decoration-color: #008000\">available Generative AI tools like ChatGPT and Google Gemini.\\u202f \\n\\nBut what is generative AI?\\u202f\\u202f </span>\n",
       "<span style=\"color: #008000; text-decoration-color: #008000\">\\n\\nIt is a type of AI technology that automatically generates (or creates) content in response to prompts given to</span>\n",
       "<span style=\"color: #008000; text-decoration-color: #008000\">it by users.\\u202f \\n\\nThese tools can generate text, images, music, video, code and other formats.'</span><span style=\"font-weight: bold\">}</span>, <span style=\"font-weight: bold\">{</span><span style=\"color: #008000; text-decoration-color: #008000\">'id'</span>: \n",
       "<span style=\"color: #008000; text-decoration-color: #008000\">'7229438c-358f-4391-b2b6-f2f74c883c46'</span>, <span style=\"color: #008000; text-decoration-color: #008000\">'score'</span>: <span style=\"color: #008080; text-decoration-color: #008080; font-weight: bold\">0.5826841592788696</span>, <span style=\"color: #008000; text-decoration-color: #008000\">'text'</span>: <span style=\"color: #008000; text-decoration-color: #008000\">'An introduction to generative </span>\n",
       "<span style=\"color: #008000; text-decoration-color: #008000\">AI\\n\\n1. Introduction\\n\\nThis activity will give a brief overview of what Generative AI is and how it is being </span>\n",
       "<span style=\"color: #008000; text-decoration-color: #008000\">used.\\n\\nUsing this tutorial\\n\\nUse the back and next buttons at the bottom right of the screen to navigate through</span>\n",
       "<span style=\"color: #008000; text-decoration-color: #008000\">the tutorial. Alternatively, use the contents button to jump to a specific page.\\n\\nYou will need to allow </span>\n",
       "<span style=\"color: #008000; text-decoration-color: #008000\">approximately\\xa05\\xa0minutes\\xa0to complete the tutorial.\\n\\nLearning outcomes\\n\\nAfter completing this tutorial </span>\n",
       "<span style=\"color: #008000; text-decoration-color: #008000\">you will be able to:'</span><span style=\"font-weight: bold\">}</span>, <span style=\"font-weight: bold\">{</span><span style=\"color: #008000; text-decoration-color: #008000\">'id'</span>: <span style=\"color: #008000; text-decoration-color: #008000\">'bd4dca0b-20be-4123-b59a-d554e60afdfe'</span>, <span style=\"color: #008000; text-decoration-color: #008000\">'score'</span>: <span style=\"color: #008080; text-decoration-color: #008080; font-weight: bold\">0.5703732967376709</span>, <span style=\"color: #008000; text-decoration-color: #008000\">'text'</span>: <span style=\"color: #008000; text-decoration-color: #008000\">'5. </span>\n",
       "<span style=\"color: #008000; text-decoration-color: #008000\">Quiz\\n\\nQuestion 1 of 5\\n\\nWhat is generative AI?\\n\\nAI that only processes data\\n\\nAI that creates content based </span>\n",
       "<span style=\"color: #008000; text-decoration-color: #008000\">on user prompts\\n\\nAI that cannot update its data\\n\\nAI that performs physical tasks\\n\\nQuestion 1 Feedback for </span>\n",
       "<span style=\"color: #008000; text-decoration-color: #008000\">Option 1\\n\\nFalse. Typing on a keyboard is a manual activity that does not involve AI.\\n\\nQuestion 1 Feedback for </span>\n",
       "<span style=\"color: #008000; text-decoration-color: #008000\">Option 2\\n\\nFalse. Watching a sunset is a natural experience, not related to generative AI.\\n\\nQuestion 1 Feedback </span>\n",
       "<span style=\"color: #008000; text-decoration-color: #008000\">for Option 3'</span><span style=\"font-weight: bold\">}</span>, <span style=\"font-weight: bold\">{</span><span style=\"color: #008000; text-decoration-color: #008000\">'id'</span>: <span style=\"color: #008000; text-decoration-color: #008000\">'7e79f05f-c5e4-49e2-aa13-74d93984f394'</span>, <span style=\"color: #008000; text-decoration-color: #008000\">'score'</span>: <span style=\"color: #008080; text-decoration-color: #008080; font-weight: bold\">0.5609711408615112</span>, <span style=\"color: #008000; text-decoration-color: #008000\">'text'</span>: <span style=\"color: #008000; text-decoration-color: #008000\">'Question 5 </span>\n",
       "<span style=\"color: #008000; text-decoration-color: #008000\">Feedback for Option 3\\n\\nTrue. Generative AI tools rely on pattern recognition and do not truly understand the </span>\n",
       "<span style=\"color: #008000; text-decoration-color: #008000\">content, which can lead to plausible but misleading or incorrect outputs.\\n\\nQuestion 5 Feedback for Option </span>\n",
       "<span style=\"color: #008000; text-decoration-color: #008000\">4\\n\\nFalse. Each response is unique; generative AI tools do not provide the same response every time.\\n\\nBeing </span>\n",
       "<span style=\"color: #008000; text-decoration-color: #008000\">digital Copyright © 2024 The Open University'</span><span style=\"font-weight: bold\">}</span>, <span style=\"font-weight: bold\">{</span><span style=\"color: #008000; text-decoration-color: #008000\">'id'</span>: <span style=\"color: #008000; text-decoration-color: #008000\">'a338d73d-e749-4d33-a714-007d0fc87cab'</span>, <span style=\"color: #008000; text-decoration-color: #008000\">'score'</span>: \n",
       "<span style=\"color: #008080; text-decoration-color: #008080; font-weight: bold\">0.5491762757301331</span>, <span style=\"color: #008000; text-decoration-color: #008000\">'text'</span>: <span style=\"color: #008000; text-decoration-color: #008000\">'Online shopping – personalised recommendations and adverts.\\n\\nDigital assistants, </span>\n",
       "<span style=\"color: #008000; text-decoration-color: #008000\">e.g.\\u202fAmazon Alexa, Google Assistant, Siri.\\n\\nSending an email – spell check and spam filters.\\n\\n\\n\\nTravel </span>\n",
       "<span style=\"color: #008000; text-decoration-color: #008000\">and navigation, e.g. Google Maps.\\n\\nWriting assistants, e.g.  Grammarly.\\n\\nHealth and fitness apps, e.g. </span>\n",
       "<span style=\"color: #008000; text-decoration-color: #008000\">Fitbit.\\n\\nSocial media feeds – AI controls the feeds that you get to see while browsing through social media </span>\n",
       "<span style=\"color: #008000; text-decoration-color: #008000\">platforms (e.g., Facebook, X, Instagram) or the notifications you receive.\\n\\n3. What is generative AI?'</span><span style=\"font-weight: bold\">}]</span>\n",
       "</pre>\n"
      ],
      "text/plain": [
       "Observations: |\u001b[1m{\u001b[0m\u001b[32m'id'\u001b[0m: \u001b[32m'e53a41c9-cf20-4a95-ba08-74d988db18bd'\u001b[0m, \u001b[32m'score'\u001b[0m: \u001b[1;36m0.6116198301315308\u001b[0m, \u001b[32m'text'\u001b[0m: \u001b[32m'3. What is \u001b[0m\n",
       "\u001b[32mgenerative AI?\\n\\nEven though AI is not new, you have probably been hearing a lot about easy-to-use, publicly \u001b[0m\n",
       "\u001b[32mavailable Generative AI tools like ChatGPT and Google Gemini.\\u202f \\n\\nBut what is generative AI?\\u202f\\u202f \u001b[0m\n",
       "\u001b[32m\\n\\nIt is a type of AI technology that automatically generates \u001b[0m\u001b[32m(\u001b[0m\u001b[32mor creates\u001b[0m\u001b[32m)\u001b[0m\u001b[32m content in response to prompts given to\u001b[0m\n",
       "\u001b[32mit by users.\\u202f \\n\\nThese tools can generate text, images, music, video, code and other formats.'\u001b[0m\u001b[1m}\u001b[0m, \u001b[1m{\u001b[0m\u001b[32m'id'\u001b[0m: \n",
       "\u001b[32m'7229438c-358f-4391-b2b6-f2f74c883c46'\u001b[0m, \u001b[32m'score'\u001b[0m: \u001b[1;36m0.5826841592788696\u001b[0m, \u001b[32m'text'\u001b[0m: \u001b[32m'An introduction to generative \u001b[0m\n",
       "\u001b[32mAI\\n\\n1. Introduction\\n\\nThis activity will give a brief overview of what Generative AI is and how it is being \u001b[0m\n",
       "\u001b[32mused.\\n\\nUsing this tutorial\\n\\nUse the back and next buttons at the bottom right of the screen to navigate through\u001b[0m\n",
       "\u001b[32mthe tutorial. Alternatively, use the contents button to jump to a specific page.\\n\\nYou will need to allow \u001b[0m\n",
       "\u001b[32mapproximately\\xa05\\xa0minutes\\xa0to complete the tutorial.\\n\\nLearning outcomes\\n\\nAfter completing this tutorial \u001b[0m\n",
       "\u001b[32myou will be able to:'\u001b[0m\u001b[1m}\u001b[0m, \u001b[1m{\u001b[0m\u001b[32m'id'\u001b[0m: \u001b[32m'bd4dca0b-20be-4123-b59a-d554e60afdfe'\u001b[0m, \u001b[32m'score'\u001b[0m: \u001b[1;36m0.5703732967376709\u001b[0m, \u001b[32m'text'\u001b[0m: \u001b[32m'5. \u001b[0m\n",
       "\u001b[32mQuiz\\n\\nQuestion 1 of 5\\n\\nWhat is generative AI?\\n\\nAI that only processes data\\n\\nAI that creates content based \u001b[0m\n",
       "\u001b[32mon user prompts\\n\\nAI that cannot update its data\\n\\nAI that performs physical tasks\\n\\nQuestion 1 Feedback for \u001b[0m\n",
       "\u001b[32mOption 1\\n\\nFalse. Typing on a keyboard is a manual activity that does not involve AI.\\n\\nQuestion 1 Feedback for \u001b[0m\n",
       "\u001b[32mOption 2\\n\\nFalse. Watching a sunset is a natural experience, not related to generative AI.\\n\\nQuestion 1 Feedback \u001b[0m\n",
       "\u001b[32mfor Option 3'\u001b[0m\u001b[1m}\u001b[0m, \u001b[1m{\u001b[0m\u001b[32m'id'\u001b[0m: \u001b[32m'7e79f05f-c5e4-49e2-aa13-74d93984f394'\u001b[0m, \u001b[32m'score'\u001b[0m: \u001b[1;36m0.5609711408615112\u001b[0m, \u001b[32m'text'\u001b[0m: \u001b[32m'Question 5 \u001b[0m\n",
       "\u001b[32mFeedback for Option 3\\n\\nTrue. Generative AI tools rely on pattern recognition and do not truly understand the \u001b[0m\n",
       "\u001b[32mcontent, which can lead to plausible but misleading or incorrect outputs.\\n\\nQuestion 5 Feedback for Option \u001b[0m\n",
       "\u001b[32m4\\n\\nFalse. Each response is unique; generative AI tools do not provide the same response every time.\\n\\nBeing \u001b[0m\n",
       "\u001b[32mdigital Copyright © 2024 The Open University'\u001b[0m\u001b[1m}\u001b[0m, \u001b[1m{\u001b[0m\u001b[32m'id'\u001b[0m: \u001b[32m'a338d73d-e749-4d33-a714-007d0fc87cab'\u001b[0m, \u001b[32m'score'\u001b[0m: \n",
       "\u001b[1;36m0.5491762757301331\u001b[0m, \u001b[32m'text'\u001b[0m: \u001b[32m'Online shopping – personalised recommendations and adverts.\\n\\nDigital assistants, \u001b[0m\n",
       "\u001b[32me.g.\\u202fAmazon Alexa, Google Assistant, Siri.\\n\\nSending an email – spell check and spam filters.\\n\\n\\n\\nTravel \u001b[0m\n",
       "\u001b[32mand navigation, e.g. Google Maps.\\n\\nWriting assistants, e.g.  Grammarly.\\n\\nHealth and fitness apps, e.g. \u001b[0m\n",
       "\u001b[32mFitbit.\\n\\nSocial media feeds – AI controls the feeds that you get to see while browsing through social media \u001b[0m\n",
       "\u001b[32mplatforms \u001b[0m\u001b[32m(\u001b[0m\u001b[32me.g., Facebook, X, Instagram\u001b[0m\u001b[32m)\u001b[0m\u001b[32m or the notifications you receive.\\n\\n3. What is generative AI?'\u001b[0m\u001b[1m}\u001b[0m\u001b[1m]\u001b[0m\n"
      ]
     },
     "metadata": {},
     "output_type": "display_data"
    },
    {
     "data": {
      "text/html": [
       "<pre style=\"white-space:pre;overflow-x:auto;line-height:normal;font-family:Menlo,'DejaVu Sans Mono',consolas,'Courier New',monospace\"><span style=\"color: #7f7f7f; text-decoration-color: #7f7f7f\">[Step 6: Duration 3.31 seconds]</span>\n",
       "</pre>\n"
      ],
      "text/plain": [
       "\u001b[2m[Step 6: Duration 3.31 seconds]\u001b[0m\n"
      ]
     },
     "metadata": {},
     "output_type": "display_data"
    },
    {
     "data": {
      "text/html": [
       "<pre style=\"white-space:pre;overflow-x:auto;line-height:normal;font-family:Menlo,'DejaVu Sans Mono',consolas,'Courier New',monospace\"><span style=\"color: #d4b702; text-decoration-color: #d4b702\">━━━━━━━━━━━━━━━━━━━━━━━━━━━━━━━━━━━━━━━━━━━━━━━━━━━━━ </span><span style=\"font-weight: bold\">Step </span><span style=\"color: #008080; text-decoration-color: #008080; font-weight: bold\">7</span><span style=\"color: #d4b702; text-decoration-color: #d4b702\"> ━━━━━━━━━━━━━━━━━━━━━━━━━━━━━━━━━━━━━━━━━━━━━━━━━━━━━━</span>\n",
       "</pre>\n"
      ],
      "text/plain": [
       "\u001b[38;2;212;183;2m━━━━━━━━━━━━━━━━━━━━━━━━━━━━━━━━━━━━━━━━━━━━━━━━━━━━━ \u001b[0m\u001b[1mStep \u001b[0m\u001b[1;36m7\u001b[0m\u001b[38;2;212;183;2m ━━━━━━━━━━━━━━━━━━━━━━━━━━━━━━━━━━━━━━━━━━━━━━━━━━━━━━\u001b[0m\n"
      ]
     },
     "metadata": {},
     "output_type": "display_data"
    },
    {
     "data": {
      "text/html": [
       "<pre style=\"white-space:pre;overflow-x:auto;line-height:normal;font-family:Menlo,'DejaVu Sans Mono',consolas,'Courier New',monospace\">╭─────────────────────────────────────────────────────────────────────────────────────────────────────────────────╮\n",
       "│ Calling tool: 'final_answer' with arguments: {'answer': '## Generative AI Use Cases\\n\\n### 1. Content           │\n",
       "│ Creation\\nGenerative AI tools automatically create content like text, images, music, video, and code based on   │\n",
       "│ user prompts. Examples include:\\n- Chatbots (e.g., Helpdesk applications)\\n- Writing assistants (e.g.,          │\n",
       "│ Grammarly)\\n- Image generators (e.g., DALL-E)\\n\\n### 2. Personalization in Online Services\\nGenerative AI       │\n",
       "│ enhances online experiences through personalized content:\\n- Online shopping with personalized                  │\n",
       "│ recommendations\\n- Digital assistants like Amazon Alexa and Google Assistant that assist in daily tasks\\n\\n###  │\n",
       "│ 3. Social Media and Content Filtering\\nGenerative AI algorithms determine what users see in their feeds (e.g.,  │\n",
       "│ Facebook and Instagram), optimizing engagement and sharing.\\n\\n### 4. AI in Health and Fitness\\nApplications    │\n",
       "│ such as Fitbit utilize generative AI to provide personalized health recommendations and track fitness           │\n",
       "│ progress.\\n\\n### 5. Enhanced User Interactions\\nGenerative AI tools like ChatGPT facilitate conversational      │\n",
       "│ agents that can maintain discussions with users, providing a more interactive experience.'}                     │\n",
       "╰─────────────────────────────────────────────────────────────────────────────────────────────────────────────────╯\n",
       "</pre>\n"
      ],
      "text/plain": [
       "╭─────────────────────────────────────────────────────────────────────────────────────────────────────────────────╮\n",
       "│ Calling tool: 'final_answer' with arguments: {'answer': '## Generative AI Use Cases\\n\\n### 1. Content           │\n",
       "│ Creation\\nGenerative AI tools automatically create content like text, images, music, video, and code based on   │\n",
       "│ user prompts. Examples include:\\n- Chatbots (e.g., Helpdesk applications)\\n- Writing assistants (e.g.,          │\n",
       "│ Grammarly)\\n- Image generators (e.g., DALL-E)\\n\\n### 2. Personalization in Online Services\\nGenerative AI       │\n",
       "│ enhances online experiences through personalized content:\\n- Online shopping with personalized                  │\n",
       "│ recommendations\\n- Digital assistants like Amazon Alexa and Google Assistant that assist in daily tasks\\n\\n###  │\n",
       "│ 3. Social Media and Content Filtering\\nGenerative AI algorithms determine what users see in their feeds (e.g.,  │\n",
       "│ Facebook and Instagram), optimizing engagement and sharing.\\n\\n### 4. AI in Health and Fitness\\nApplications    │\n",
       "│ such as Fitbit utilize generative AI to provide personalized health recommendations and track fitness           │\n",
       "│ progress.\\n\\n### 5. Enhanced User Interactions\\nGenerative AI tools like ChatGPT facilitate conversational      │\n",
       "│ agents that can maintain discussions with users, providing a more interactive experience.'}                     │\n",
       "╰─────────────────────────────────────────────────────────────────────────────────────────────────────────────────╯\n"
      ]
     },
     "metadata": {},
     "output_type": "display_data"
    },
    {
     "data": {
      "text/html": [
       "<pre style=\"white-space:pre;overflow-x:auto;line-height:normal;font-family:Menlo,'DejaVu Sans Mono',consolas,'Courier New',monospace\"><span style=\"color: #d4b702; text-decoration-color: #d4b702; font-weight: bold\">Final answer: ## Generative AI Use Cases</span>\n",
       "\n",
       "<span style=\"color: #d4b702; text-decoration-color: #d4b702; font-weight: bold\">### 1. Content Creation</span>\n",
       "<span style=\"color: #d4b702; text-decoration-color: #d4b702; font-weight: bold\">Generative AI tools automatically create content like text, images, music, video, and code based on user prompts. </span>\n",
       "<span style=\"color: #d4b702; text-decoration-color: #d4b702; font-weight: bold\">Examples include:</span>\n",
       "<span style=\"color: #d4b702; text-decoration-color: #d4b702; font-weight: bold\">- Chatbots (e.g., Helpdesk applications)</span>\n",
       "<span style=\"color: #d4b702; text-decoration-color: #d4b702; font-weight: bold\">- Writing assistants (e.g., Grammarly)</span>\n",
       "<span style=\"color: #d4b702; text-decoration-color: #d4b702; font-weight: bold\">- Image generators (e.g., DALL-E)</span>\n",
       "\n",
       "<span style=\"color: #d4b702; text-decoration-color: #d4b702; font-weight: bold\">### 2. Personalization in Online Services</span>\n",
       "<span style=\"color: #d4b702; text-decoration-color: #d4b702; font-weight: bold\">Generative AI enhances online experiences through personalized content:</span>\n",
       "<span style=\"color: #d4b702; text-decoration-color: #d4b702; font-weight: bold\">- Online shopping with personalized recommendations</span>\n",
       "<span style=\"color: #d4b702; text-decoration-color: #d4b702; font-weight: bold\">- Digital assistants like Amazon Alexa and Google Assistant that assist in daily tasks</span>\n",
       "\n",
       "<span style=\"color: #d4b702; text-decoration-color: #d4b702; font-weight: bold\">### 3. Social Media and Content Filtering</span>\n",
       "<span style=\"color: #d4b702; text-decoration-color: #d4b702; font-weight: bold\">Generative AI algorithms determine what users see in their feeds (e.g., Facebook and Instagram), optimizing </span>\n",
       "<span style=\"color: #d4b702; text-decoration-color: #d4b702; font-weight: bold\">engagement and sharing.</span>\n",
       "\n",
       "<span style=\"color: #d4b702; text-decoration-color: #d4b702; font-weight: bold\">### 4. AI in Health and Fitness</span>\n",
       "<span style=\"color: #d4b702; text-decoration-color: #d4b702; font-weight: bold\">Applications such as Fitbit utilize generative AI to provide personalized health recommendations and track fitness </span>\n",
       "<span style=\"color: #d4b702; text-decoration-color: #d4b702; font-weight: bold\">progress.</span>\n",
       "\n",
       "<span style=\"color: #d4b702; text-decoration-color: #d4b702; font-weight: bold\">### 5. Enhanced User Interactions</span>\n",
       "<span style=\"color: #d4b702; text-decoration-color: #d4b702; font-weight: bold\">Generative AI tools like ChatGPT facilitate conversational agents that can maintain discussions with users, </span>\n",
       "<span style=\"color: #d4b702; text-decoration-color: #d4b702; font-weight: bold\">providing a more interactive experience.</span>\n",
       "</pre>\n"
      ],
      "text/plain": [
       "\u001b[1;38;2;212;183;2mFinal answer: ## Generative AI Use Cases\u001b[0m\n",
       "\n",
       "\u001b[1;38;2;212;183;2m### 1. Content Creation\u001b[0m\n",
       "\u001b[1;38;2;212;183;2mGenerative AI tools automatically create content like text, images, music, video, and code based on user prompts. \u001b[0m\n",
       "\u001b[1;38;2;212;183;2mExamples include:\u001b[0m\n",
       "\u001b[1;38;2;212;183;2m- Chatbots (e.g., Helpdesk applications)\u001b[0m\n",
       "\u001b[1;38;2;212;183;2m- Writing assistants (e.g., Grammarly)\u001b[0m\n",
       "\u001b[1;38;2;212;183;2m- Image generators (e.g., DALL-E)\u001b[0m\n",
       "\n",
       "\u001b[1;38;2;212;183;2m### 2. Personalization in Online Services\u001b[0m\n",
       "\u001b[1;38;2;212;183;2mGenerative AI enhances online experiences through personalized content:\u001b[0m\n",
       "\u001b[1;38;2;212;183;2m- Online shopping with personalized recommendations\u001b[0m\n",
       "\u001b[1;38;2;212;183;2m- Digital assistants like Amazon Alexa and Google Assistant that assist in daily tasks\u001b[0m\n",
       "\n",
       "\u001b[1;38;2;212;183;2m### 3. Social Media and Content Filtering\u001b[0m\n",
       "\u001b[1;38;2;212;183;2mGenerative AI algorithms determine what users see in their feeds (e.g., Facebook and Instagram), optimizing \u001b[0m\n",
       "\u001b[1;38;2;212;183;2mengagement and sharing.\u001b[0m\n",
       "\n",
       "\u001b[1;38;2;212;183;2m### 4. AI in Health and Fitness\u001b[0m\n",
       "\u001b[1;38;2;212;183;2mApplications such as Fitbit utilize generative AI to provide personalized health recommendations and track fitness \u001b[0m\n",
       "\u001b[1;38;2;212;183;2mprogress.\u001b[0m\n",
       "\n",
       "\u001b[1;38;2;212;183;2m### 5. Enhanced User Interactions\u001b[0m\n",
       "\u001b[1;38;2;212;183;2mGenerative AI tools like ChatGPT facilitate conversational agents that can maintain discussions with users, \u001b[0m\n",
       "\u001b[1;38;2;212;183;2mproviding a more interactive experience.\u001b[0m\n"
      ]
     },
     "metadata": {},
     "output_type": "display_data"
    },
    {
     "data": {
      "text/html": [
       "<pre style=\"white-space:pre;overflow-x:auto;line-height:normal;font-family:Menlo,'DejaVu Sans Mono',consolas,'Courier New',monospace\"><span style=\"color: #7f7f7f; text-decoration-color: #7f7f7f\">[Step 7: Duration 6.39 seconds]</span>\n",
       "</pre>\n"
      ],
      "text/plain": [
       "\u001b[2m[Step 7: Duration 6.39 seconds]\u001b[0m\n"
      ]
     },
     "metadata": {},
     "output_type": "display_data"
    }
   ],
   "source": [
    "# | notest\n",
    "\n",
    "agent = Agent(llm)\n",
    "agent.add_vectorstore_tool(name='genai', \n",
    "                           description='Searches a database of information on generative AI.',\n",
    "                           store=store)\n",
    "\n",
    "answer = agent.run(\"Summarize some generative AI use cases in Markdown format. You may need to run at least three queries of the database.\")"
   ]
  },
  {
   "cell_type": "code",
   "execution_count": null,
   "metadata": {},
   "outputs": [
    {
     "data": {
      "text/markdown": [
       "## Generative AI Use Cases\n",
       "\n",
       "### 1. Content Creation\n",
       "Generative AI tools automatically create content like text, images, music, video, and code based on user prompts. Examples include:\n",
       "- Chatbots (e.g., Helpdesk applications)\n",
       "- Writing assistants (e.g., Grammarly)\n",
       "- Image generators (e.g., DALL-E)\n",
       "\n",
       "### 2. Personalization in Online Services\n",
       "Generative AI enhances online experiences through personalized content:\n",
       "- Online shopping with personalized recommendations\n",
       "- Digital assistants like Amazon Alexa and Google Assistant that assist in daily tasks\n",
       "\n",
       "### 3. Social Media and Content Filtering\n",
       "Generative AI algorithms determine what users see in their feeds (e.g., Facebook and Instagram), optimizing engagement and sharing.\n",
       "\n",
       "### 4. AI in Health and Fitness\n",
       "Applications such as Fitbit utilize generative AI to provide personalized health recommendations and track fitness progress.\n",
       "\n",
       "### 5. Enhanced User Interactions\n",
       "Generative AI tools like ChatGPT facilitate conversational agents that can maintain discussions with users, providing a more interactive experience."
      ],
      "text/plain": [
       "<IPython.core.display.Markdown object>"
      ]
     },
     "metadata": {},
     "output_type": "display_data"
    }
   ],
   "source": [
    "# |  notest\n",
    "\n",
    "from IPython.display import display, Markdown\n",
    "display(Markdown(answer))"
   ]
  },
  {
   "cell_type": "code",
   "execution_count": null,
   "metadata": {},
   "outputs": [],
   "source": []
  }
 ],
 "metadata": {
  "kernelspec": {
   "display_name": "python3",
   "language": "python",
   "name": "python3"
  }
 },
 "nbformat": 4,
 "nbformat_minor": 4
}
