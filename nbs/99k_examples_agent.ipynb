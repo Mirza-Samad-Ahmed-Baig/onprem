{
 "cells": [
  {
   "cell_type": "markdown",
   "metadata": {},
   "source": [
    "# Agent-Based Task Execution\n",
    "\n",
    "This notebook demonstrates how to use the `Agent` pipeline from **[OnPrem.LLM](https://github.com/amaiya/onprem)** to create autonomous agents that can execute complex tasks using a variety of tools."
   ]
  },
  {
   "cell_type": "markdown",
   "metadata": {},
   "source": [
    "## Setup the LLM and Agent\n",
    "\n",
    "First, we'll set up our LLM instance that will power our agent. For agent-based tasks, models with strong reasoning abilities work best. We'll use **GPT-4o-mini**, but you could also use other local or cloud models like **Llama-3.1-8B-Instruct**, **Mixtral**, or **Claude**."
   ]
  },
  {
   "cell_type": "code",
   "execution_count": null,
   "metadata": {},
   "outputs": [],
   "source": [
    "# | notest\n",
    "\n",
    "from onprem import LLM\n",
    "from onprem.pipelines import Agent\n",
    "llm = LLM('openai/gpt-4o-mini', mute_stream=True) \n",
    "agent = Agent(llm)"
   ]
  },
  {
   "cell_type": "markdown",
   "metadata": {},
   "source": [
    "## Giving the Agent Access to Tools\n",
    "\n",
    "Next, we will give the agent access tools when executing a given task.  Examples of tool types include the ability to do the following:\n",
    "1. perform a web search\n",
    "2. visit a web page\n",
    "3. search your documents stored within a vector store (e.g., agentic RAG)\n",
    "4. accessing Python interpreter\n",
    "5. accessing an MCP server\n",
    "6. executing a custom function that you provide (i.e., implementing your own custom tools)\n",
    "\n",
    "### Example: Using a Custom Tool with Web Search\n",
    "\n",
    "In this example, we will give the agent access to web search and a function that returns today's date to find historical events for the current day."
   ]
  },
  {
   "cell_type": "code",
   "execution_count": null,
   "metadata": {},
   "outputs": [
    {
     "name": "stdout",
     "output_type": "stream",
     "text": [
      "('today', <smolagents.tools.tool.<locals>.SimpleTool object>)\n",
      "('websearch', <smolagents.default_tools.WebSearchTool object>)\n"
     ]
    }
   ],
   "source": [
    "# | notest\n",
    "\n",
    "def today() -> str:\n",
    "    \"\"\"\n",
    "    Gets the current date and time\n",
    "\n",
    "    Returns:\n",
    "        current date and time\n",
    "    \"\"\"\n",
    "    from datetime import datetime\n",
    "    return datetime.today().isoformat()\n",
    "\n",
    "agent.add_function_tool(today)\n",
    "agent.add_websearch_tool()\n",
    "for tup in agent.tools.items():\n",
    "    print(tup)"
   ]
  },
  {
   "cell_type": "code",
   "execution_count": null,
   "metadata": {},
   "outputs": [
    {
     "data": {
      "text/html": [
       "<pre style=\"white-space:pre;overflow-x:auto;line-height:normal;font-family:Menlo,'DejaVu Sans Mono',consolas,'Courier New',monospace\"><span style=\"color: #d4b702; text-decoration-color: #d4b702\">╭──────────────────────────────────────────────────── </span><span style=\"color: #d4b702; text-decoration-color: #d4b702; font-weight: bold\">New run</span><span style=\"color: #d4b702; text-decoration-color: #d4b702\"> ────────────────────────────────────────────────────╮</span>\n",
       "<span style=\"color: #d4b702; text-decoration-color: #d4b702\">│</span>                                                                                                                 <span style=\"color: #d4b702; text-decoration-color: #d4b702\">│</span>\n",
       "<span style=\"color: #d4b702; text-decoration-color: #d4b702\">│</span> <span style=\"font-weight: bold\">Any famous events that happened on today's date?</span>                                                                <span style=\"color: #d4b702; text-decoration-color: #d4b702\">│</span>\n",
       "<span style=\"color: #d4b702; text-decoration-color: #d4b702\">│</span>                                                                                                                 <span style=\"color: #d4b702; text-decoration-color: #d4b702\">│</span>\n",
       "<span style=\"color: #d4b702; text-decoration-color: #d4b702\">╰─ AgentModel - onprem-gpt-4o-mini ───────────────────────────────────────────────────────────────────────────────╯</span>\n",
       "</pre>\n"
      ],
      "text/plain": [
       "\u001b[38;2;212;183;2m╭─\u001b[0m\u001b[38;2;212;183;2m───────────────────────────────────────────────────\u001b[0m\u001b[38;2;212;183;2m \u001b[0m\u001b[1;38;2;212;183;2mNew run\u001b[0m\u001b[38;2;212;183;2m \u001b[0m\u001b[38;2;212;183;2m───────────────────────────────────────────────────\u001b[0m\u001b[38;2;212;183;2m─╮\u001b[0m\n",
       "\u001b[38;2;212;183;2m│\u001b[0m                                                                                                                 \u001b[38;2;212;183;2m│\u001b[0m\n",
       "\u001b[38;2;212;183;2m│\u001b[0m \u001b[1mAny famous events that happened on today's date?\u001b[0m                                                                \u001b[38;2;212;183;2m│\u001b[0m\n",
       "\u001b[38;2;212;183;2m│\u001b[0m                                                                                                                 \u001b[38;2;212;183;2m│\u001b[0m\n",
       "\u001b[38;2;212;183;2m╰─\u001b[0m\u001b[38;2;212;183;2m AgentModel - onprem-gpt-4o-mini \u001b[0m\u001b[38;2;212;183;2m──────────────────────────────────────────────────────────────────────────────\u001b[0m\u001b[38;2;212;183;2m─╯\u001b[0m\n"
      ]
     },
     "metadata": {},
     "output_type": "display_data"
    },
    {
     "data": {
      "text/html": [
       "<pre style=\"white-space:pre;overflow-x:auto;line-height:normal;font-family:Menlo,'DejaVu Sans Mono',consolas,'Courier New',monospace\"><span style=\"color: #d4b702; text-decoration-color: #d4b702\">━━━━━━━━━━━━━━━━━━━━━━━━━━━━━━━━━━━━━━━━━━━━━━━━━━━━━ </span><span style=\"font-weight: bold\">Step </span><span style=\"color: #008080; text-decoration-color: #008080; font-weight: bold\">1</span><span style=\"color: #d4b702; text-decoration-color: #d4b702\"> ━━━━━━━━━━━━━━━━━━━━━━━━━━━━━━━━━━━━━━━━━━━━━━━━━━━━━━</span>\n",
       "</pre>\n"
      ],
      "text/plain": [
       "\u001b[38;2;212;183;2m━━━━━━━━━━━━━━━━━━━━━━━━━━━━━━━━━━━━━━━━━━━━━━━━━━━━━ \u001b[0m\u001b[1mStep \u001b[0m\u001b[1;36m1\u001b[0m\u001b[38;2;212;183;2m ━━━━━━━━━━━━━━━━━━━━━━━━━━━━━━━━━━━━━━━━━━━━━━━━━━━━━━\u001b[0m\n"
      ]
     },
     "metadata": {},
     "output_type": "display_data"
    },
    {
     "data": {
      "text/html": [
       "<pre style=\"white-space:pre;overflow-x:auto;line-height:normal;font-family:Menlo,'DejaVu Sans Mono',consolas,'Courier New',monospace\">╭─────────────────────────────────────────────────────────────────────────────────────────────────────────────────╮\n",
       "│ Calling tool: 'today' with arguments: {}                                                                        │\n",
       "╰─────────────────────────────────────────────────────────────────────────────────────────────────────────────────╯\n",
       "</pre>\n"
      ],
      "text/plain": [
       "╭─────────────────────────────────────────────────────────────────────────────────────────────────────────────────╮\n",
       "│ Calling tool: 'today' with arguments: {}                                                                        │\n",
       "╰─────────────────────────────────────────────────────────────────────────────────────────────────────────────────╯\n"
      ]
     },
     "metadata": {},
     "output_type": "display_data"
    },
    {
     "data": {
      "text/html": [
       "<pre style=\"white-space:pre;overflow-x:auto;line-height:normal;font-family:Menlo,'DejaVu Sans Mono',consolas,'Courier New',monospace\">Observations: <span style=\"color: #008080; text-decoration-color: #008080; font-weight: bold\">2025</span>-<span style=\"color: #008080; text-decoration-color: #008080; font-weight: bold\">06</span>-20T<span style=\"color: #00ff00; text-decoration-color: #00ff00; font-weight: bold\">17:47:36</span>.<span style=\"color: #008080; text-decoration-color: #008080; font-weight: bold\">360786</span>\n",
       "</pre>\n"
      ],
      "text/plain": [
       "Observations: \u001b[1;36m2025\u001b[0m-\u001b[1;36m06\u001b[0m-20T\u001b[1;92m17:47:36\u001b[0m.\u001b[1;36m360786\u001b[0m\n"
      ]
     },
     "metadata": {},
     "output_type": "display_data"
    },
    {
     "data": {
      "text/html": [
       "<pre style=\"white-space:pre;overflow-x:auto;line-height:normal;font-family:Menlo,'DejaVu Sans Mono',consolas,'Courier New',monospace\"><span style=\"color: #7f7f7f; text-decoration-color: #7f7f7f\">[Step 1: Duration 1.32 seconds]</span>\n",
       "</pre>\n"
      ],
      "text/plain": [
       "\u001b[2m[Step 1: Duration 1.32 seconds]\u001b[0m\n"
      ]
     },
     "metadata": {},
     "output_type": "display_data"
    },
    {
     "data": {
      "text/html": [
       "<pre style=\"white-space:pre;overflow-x:auto;line-height:normal;font-family:Menlo,'DejaVu Sans Mono',consolas,'Courier New',monospace\"><span style=\"color: #d4b702; text-decoration-color: #d4b702\">━━━━━━━━━━━━━━━━━━━━━━━━━━━━━━━━━━━━━━━━━━━━━━━━━━━━━ </span><span style=\"font-weight: bold\">Step </span><span style=\"color: #008080; text-decoration-color: #008080; font-weight: bold\">2</span><span style=\"color: #d4b702; text-decoration-color: #d4b702\"> ━━━━━━━━━━━━━━━━━━━━━━━━━━━━━━━━━━━━━━━━━━━━━━━━━━━━━━</span>\n",
       "</pre>\n"
      ],
      "text/plain": [
       "\u001b[38;2;212;183;2m━━━━━━━━━━━━━━━━━━━━━━━━━━━━━━━━━━━━━━━━━━━━━━━━━━━━━ \u001b[0m\u001b[1mStep \u001b[0m\u001b[1;36m2\u001b[0m\u001b[38;2;212;183;2m ━━━━━━━━━━━━━━━━━━━━━━━━━━━━━━━━━━━━━━━━━━━━━━━━━━━━━━\u001b[0m\n"
      ]
     },
     "metadata": {},
     "output_type": "display_data"
    },
    {
     "data": {
      "text/html": [
       "<pre style=\"white-space:pre;overflow-x:auto;line-height:normal;font-family:Menlo,'DejaVu Sans Mono',consolas,'Courier New',monospace\">╭─────────────────────────────────────────────────────────────────────────────────────────────────────────────────╮\n",
       "│ Calling tool: 'web_search' with arguments: {'query': 'historical events on June 20'}                            │\n",
       "╰─────────────────────────────────────────────────────────────────────────────────────────────────────────────────╯\n",
       "</pre>\n"
      ],
      "text/plain": [
       "╭─────────────────────────────────────────────────────────────────────────────────────────────────────────────────╮\n",
       "│ Calling tool: 'web_search' with arguments: {'query': 'historical events on June 20'}                            │\n",
       "╰─────────────────────────────────────────────────────────────────────────────────────────────────────────────────╯\n"
      ]
     },
     "metadata": {},
     "output_type": "display_data"
    },
    {
     "data": {
      "text/html": [
       "<pre style=\"white-space:pre;overflow-x:auto;line-height:normal;font-family:Menlo,'DejaVu Sans Mono',consolas,'Courier New',monospace\">Observations: ## Search Results\n",
       "\n",
       "|Historical Events on June <span style=\"color: #008080; text-decoration-color: #008080; font-weight: bold\">20</span> - On This Day<span style=\"font-weight: bold\">](</span><span style=\"color: #0000ff; text-decoration-color: #0000ff; text-decoration: underline\">https://www.onthisday.com/events/june/20)</span>\n",
       " June in History <span style=\"color: #008000; text-decoration-color: #008000\">'Ship in Distress'</span> Sails Into History Books June <span style=\"color: #008080; text-decoration-color: #008080; font-weight: bold\">19</span>, <span style=\"color: #008080; text-decoration-color: #008080; font-weight: bold\">1819</span>; Misery of The King's Executioner June  \n",
       "<span style=\"color: #008080; text-decoration-color: #008080; font-weight: bold\">20</span> , <span style=\"color: #008080; text-decoration-color: #008080; font-weight: bold\">1649</span> <span style=\"color: #008000; text-decoration-color: #008000\">'Gorgeous Gussie'</span> Shocks Wimbledon June  <span style=\"color: #008080; text-decoration-color: #008080; font-weight: bold\">20</span> , <span style=\"color: #008080; text-decoration-color: #008080; font-weight: bold\">1949</span>; St Paul's Defies Bombing Conflagration June <span style=\"color: #008080; text-decoration-color: #008080; font-weight: bold\">21</span>, <span style=\"color: #008080; text-decoration-color: #008080; font-weight: bold\">1675</span>\n",
       "\n",
       "|What Happened on June <span style=\"color: #008080; text-decoration-color: #008080; font-weight: bold\">20</span> - HISTORY<span style=\"font-weight: bold\">](</span><span style=\"color: #0000ff; text-decoration-color: #0000ff; text-decoration: underline\">https://www.history.com/this-day-in-history/June-20)</span>\n",
       "Discover more of the major events , famous births, notable deaths and everything else history-making that happened \n",
       "on June 20th <span style=\"color: #008080; text-decoration-color: #008080; font-weight: bold\">1782</span> Congress adopts the Great Seal of the United States\n",
       "\n",
       "|On This Day - What Happened on June <span style=\"color: #008080; text-decoration-color: #008080; font-weight: bold\">20</span> | Britannica<span style=\"font-weight: bold\">](</span><span style=\"color: #0000ff; text-decoration-color: #0000ff; text-decoration: underline\">https://www.britannica.com/on-this-day/June-20)</span>\n",
       " On This Day In History - June  <span style=\"color: #008080; text-decoration-color: #008080; font-weight: bold\">20</span> : anniversaries, birthdays, major events , and time capsules. This day's facts \n",
       "in the arts, politics, and sciences.\n",
       "\n",
       "|June <span style=\"color: #008080; text-decoration-color: #008080; font-weight: bold\">20</span>: Facts &amp; Historical Events On This Day - The Fact Site<span style=\"font-weight: bold\">](</span><span style=\"color: #0000ff; text-decoration-color: #0000ff; text-decoration: underline\">https://www.thefactsite.com/day/june-20/)</span>\n",
       " June 20th is World Productivity Day and Ice Cream Soda Day. Today is the <span style=\"color: #008080; text-decoration-color: #008080; font-weight: bold\">171</span> st day of the year, and there are <span style=\"color: #008080; text-decoration-color: #008080; font-weight: bold\">194</span>\n",
       "days left in <span style=\"color: #008080; text-decoration-color: #008080; font-weight: bold\">2025</span>. So, today is an important day for you? Then allow us to intrigue you with these interesting \n",
       "facts and historical  events that all happened on June  <span style=\"color: #008080; text-decoration-color: #008080; font-weight: bold\">20</span> .\n",
       "\n",
       "|June <span style=\"color: #008080; text-decoration-color: #008080; font-weight: bold\">20</span> Events in History - Have Fun With History<span style=\"font-weight: bold\">](</span><span style=\"color: #0000ff; text-decoration-color: #0000ff; text-decoration: underline\">https://www.havefunwithhistory.com/june-20/)</span>\n",
       "This article highlights key historical  events that occurred on June 20th, offering insights into moments that have\n",
       "significantly influenced global history. Covering a range of pivotal battles, technological breakthroughs, cultural\n",
       "milestones, and critical political decisions, the piece examines the background and impact of each event . It \n",
       "serves as a concise exploration of how these occurrences <span style=\"color: #808000; text-decoration-color: #808000\">...</span>\n",
       "\n",
       "|June 20th: All Facts &amp; Events That Happened Today In \n",
       "History<span style=\"font-weight: bold\">](</span><span style=\"color: #0000ff; text-decoration-color: #0000ff; text-decoration: underline\">https://facts.net/history/historical-events/june-20th-all-facts-events-that-happened-today-in-history/)</span>\n",
       "Conclusion. The events that took place on June 20th have left significant footprints in history. From political \n",
       "milestones like the German capital move from Bonn to Berlin to cultural events such as the release of iconic movies\n",
       "like Jaws and Wonder Woman, this day has witnessed remarkable moments that have shaped our world. Scientific \n",
       "breakthroughs like the demonstration of hot air balloon <span style=\"color: #808000; text-decoration-color: #808000\">...</span>\n",
       "\n",
       "|Historical Events on June <span style=\"color: #008080; text-decoration-color: #008080; font-weight: bold\">20</span>, Facts &amp; Special Events On This Day \n",
       "<span style=\"color: #808000; text-decoration-color: #808000\">...</span><span style=\"font-weight: bold\">](</span><span style=\"color: #0000ff; text-decoration-color: #0000ff; text-decoration: underline\">https://www.calendarz.com/on-this-day/events/june/20)</span>\n",
       " Historical  events for June  <span style=\"color: #008080; text-decoration-color: #008080; font-weight: bold\">20</span> . See what famous, interesting and special events &amp; facts happened throughout \n",
       "history on June  <span style=\"color: #008080; text-decoration-color: #008080; font-weight: bold\">20</span> related to Venezuela, World War II, American Civil War, The Holocaust, University of Oxford, \n",
       "and many more.\n",
       "\n",
       "|June <span style=\"color: #008080; text-decoration-color: #008080; font-weight: bold\">20</span> - Wikipedia<span style=\"font-weight: bold\">](</span><span style=\"color: #0000ff; text-decoration-color: #0000ff; text-decoration: underline\">https://en.wikipedia.org/wiki/June_20)</span>\n",
       " June  <span style=\"color: #008080; text-decoration-color: #008080; font-weight: bold\">20</span> is the 171st day of the year <span style=\"font-weight: bold\">(</span>172nd in leap years<span style=\"font-weight: bold\">)</span> in the Gregorian calendar; <span style=\"color: #008080; text-decoration-color: #008080; font-weight: bold\">194</span> days remain until the \n",
       "end of the year. Events . Pre-<span style=\"color: #008080; text-decoration-color: #008080; font-weight: bold\">1600</span> <span style=\"color: #808000; text-decoration-color: #808000\">...</span> <span style=\"color: #008000; text-decoration-color: #008000\">\" Historical  Events  on  June  20 \"</span>. OnThisDay.com. This page was last \n",
       "edited on <span style=\"color: #008080; text-decoration-color: #008080; font-weight: bold\">20</span>  June <span style=\"color: #008080; text-decoration-color: #008080; font-weight: bold\">2025</span>, at <span style=\"color: #00ff00; text-decoration-color: #00ff00; font-weight: bold\">07:45</span> <span style=\"color: #808000; text-decoration-color: #808000\">...</span>\n",
       "\n",
       "|What Happened On June <span style=\"color: #008080; text-decoration-color: #008080; font-weight: bold\">20</span> In History? - What Happened Today In \n",
       "History<span style=\"font-weight: bold\">](</span><span style=\"color: #0000ff; text-decoration-color: #0000ff; text-decoration: underline\">https://www.whathappenedtodayinhistory.org/?m=June&amp;d=20&amp;go=Go)</span>\n",
       "What happened on June  <span style=\"color: #008080; text-decoration-color: #008080; font-weight: bold\">20</span> ? There are more than <span style=\"color: #008080; text-decoration-color: #008080; font-weight: bold\">281</span> events that were made this day in history. Here are the \n",
       "important historical  events , facts, and some myths about this day. Interesting Facts &amp; Myths About June  <span style=\"color: #008080; text-decoration-color: #008080; font-weight: bold\">20</span> . \n",
       "June  <span style=\"color: #008080; text-decoration-color: #008080; font-weight: bold\">20</span> is the <span style=\"color: #008080; text-decoration-color: #008080; font-weight: bold\">171</span> st day of the year <span style=\"color: #008080; text-decoration-color: #008080; font-weight: bold\">2025</span>. There are <span style=\"color: #008080; text-decoration-color: #008080; font-weight: bold\">194</span> days remaining until the end of this year.\n",
       "\n",
       "|What Happened On June <span style=\"color: #008080; text-decoration-color: #008080; font-weight: bold\">20</span> In History? - Factinhistory.com<span style=\"font-weight: bold\">](</span><span style=\"color: #0000ff; text-decoration-color: #0000ff; text-decoration: underline\">https://www.factinhistory.com/archives/2495)</span>\n",
       "From momentous battles and significant treaties to groundbreaking discoveries and pivotal political events , June  \n",
       "<span style=\"color: #008080; text-decoration-color: #008080; font-weight: bold\">20</span> has been a date marked by numerous notable Celebrities Born Today Day of the Month\n",
       "</pre>\n"
      ],
      "text/plain": [
       "Observations: ## Search Results\n",
       "\n",
       "|Historical Events on June \u001b[1;36m20\u001b[0m - On This Day\u001b[1m]\u001b[0m\u001b[1m(\u001b[0m\u001b[4;94mhttps://www.onthisday.com/events/june/20\u001b[0m\u001b[4;94m)\u001b[0m\n",
       " June in History \u001b[32m'Ship in Distress'\u001b[0m Sails Into History Books June \u001b[1;36m19\u001b[0m, \u001b[1;36m1819\u001b[0m; Misery of The King's Executioner June  \n",
       "\u001b[1;36m20\u001b[0m , \u001b[1;36m1649\u001b[0m \u001b[32m'Gorgeous Gussie'\u001b[0m Shocks Wimbledon June  \u001b[1;36m20\u001b[0m , \u001b[1;36m1949\u001b[0m; St Paul's Defies Bombing Conflagration June \u001b[1;36m21\u001b[0m, \u001b[1;36m1675\u001b[0m\n",
       "\n",
       "|What Happened on June \u001b[1;36m20\u001b[0m - HISTORY\u001b[1m]\u001b[0m\u001b[1m(\u001b[0m\u001b[4;94mhttps://www.history.com/this-day-in-history/June-20\u001b[0m\u001b[4;94m)\u001b[0m\n",
       "Discover more of the major events , famous births, notable deaths and everything else history-making that happened \n",
       "on June 20th \u001b[1;36m1782\u001b[0m Congress adopts the Great Seal of the United States\n",
       "\n",
       "|On This Day - What Happened on June \u001b[1;36m20\u001b[0m | Britannica\u001b[1m]\u001b[0m\u001b[1m(\u001b[0m\u001b[4;94mhttps://www.britannica.com/on-this-day/June-20\u001b[0m\u001b[4;94m)\u001b[0m\n",
       " On This Day In History - June  \u001b[1;36m20\u001b[0m : anniversaries, birthdays, major events , and time capsules. This day's facts \n",
       "in the arts, politics, and sciences.\n",
       "\n",
       "|June \u001b[1;36m20\u001b[0m: Facts & Historical Events On This Day - The Fact Site\u001b[1m]\u001b[0m\u001b[1m(\u001b[0m\u001b[4;94mhttps://www.thefactsite.com/day/june-20/\u001b[0m\u001b[4;94m)\u001b[0m\n",
       " June 20th is World Productivity Day and Ice Cream Soda Day. Today is the \u001b[1;36m171\u001b[0m st day of the year, and there are \u001b[1;36m194\u001b[0m\n",
       "days left in \u001b[1;36m2025\u001b[0m. So, today is an important day for you? Then allow us to intrigue you with these interesting \n",
       "facts and historical  events that all happened on June  \u001b[1;36m20\u001b[0m .\n",
       "\n",
       "|June \u001b[1;36m20\u001b[0m Events in History - Have Fun With History\u001b[1m]\u001b[0m\u001b[1m(\u001b[0m\u001b[4;94mhttps://www.havefunwithhistory.com/june-20/\u001b[0m\u001b[4;94m)\u001b[0m\n",
       "This article highlights key historical  events that occurred on June 20th, offering insights into moments that have\n",
       "significantly influenced global history. Covering a range of pivotal battles, technological breakthroughs, cultural\n",
       "milestones, and critical political decisions, the piece examines the background and impact of each event . It \n",
       "serves as a concise exploration of how these occurrences \u001b[33m...\u001b[0m\n",
       "\n",
       "|June 20th: All Facts & Events That Happened Today In \n",
       "History\u001b[1m]\u001b[0m\u001b[1m(\u001b[0m\u001b[4;94mhttps://facts.net/history/historical-events/june-20th-all-facts-events-that-happened-today-in-history/\u001b[0m\u001b[4;94m)\u001b[0m\n",
       "Conclusion. The events that took place on June 20th have left significant footprints in history. From political \n",
       "milestones like the German capital move from Bonn to Berlin to cultural events such as the release of iconic movies\n",
       "like Jaws and Wonder Woman, this day has witnessed remarkable moments that have shaped our world. Scientific \n",
       "breakthroughs like the demonstration of hot air balloon \u001b[33m...\u001b[0m\n",
       "\n",
       "|Historical Events on June \u001b[1;36m20\u001b[0m, Facts & Special Events On This Day \n",
       "\u001b[33m...\u001b[0m\u001b[1m]\u001b[0m\u001b[1m(\u001b[0m\u001b[4;94mhttps://www.calendarz.com/on-this-day/events/june/20\u001b[0m\u001b[4;94m)\u001b[0m\n",
       " Historical  events for June  \u001b[1;36m20\u001b[0m . See what famous, interesting and special events & facts happened throughout \n",
       "history on June  \u001b[1;36m20\u001b[0m related to Venezuela, World War II, American Civil War, The Holocaust, University of Oxford, \n",
       "and many more.\n",
       "\n",
       "|June \u001b[1;36m20\u001b[0m - Wikipedia\u001b[1m]\u001b[0m\u001b[1m(\u001b[0m\u001b[4;94mhttps://en.wikipedia.org/wiki/June_20\u001b[0m\u001b[4;94m)\u001b[0m\n",
       " June  \u001b[1;36m20\u001b[0m is the 171st day of the year \u001b[1m(\u001b[0m172nd in leap years\u001b[1m)\u001b[0m in the Gregorian calendar; \u001b[1;36m194\u001b[0m days remain until the \n",
       "end of the year. Events . Pre-\u001b[1;36m1600\u001b[0m \u001b[33m...\u001b[0m \u001b[32m\" Historical  Events  on  June  20 \"\u001b[0m. OnThisDay.com. This page was last \n",
       "edited on \u001b[1;36m20\u001b[0m  June \u001b[1;36m2025\u001b[0m, at \u001b[1;92m07:45\u001b[0m \u001b[33m...\u001b[0m\n",
       "\n",
       "|What Happened On June \u001b[1;36m20\u001b[0m In History? - What Happened Today In \n",
       "History\u001b[1m]\u001b[0m\u001b[1m(\u001b[0m\u001b[4;94mhttps://www.whathappenedtodayinhistory.org/?\u001b[0m\u001b[4;94mm\u001b[0m\u001b[4;94m=\u001b[0m\u001b[4;94mJune\u001b[0m\u001b[4;94m&\u001b[0m\u001b[4;94md\u001b[0m\u001b[4;94m=\u001b[0m\u001b[4;94m20\u001b[0m\u001b[4;94m&\u001b[0m\u001b[4;94mgo\u001b[0m\u001b[4;94m=\u001b[0m\u001b[4;94mGo\u001b[0m\u001b[4;94m)\u001b[0m\n",
       "What happened on June  \u001b[1;36m20\u001b[0m ? There are more than \u001b[1;36m281\u001b[0m events that were made this day in history. Here are the \n",
       "important historical  events , facts, and some myths about this day. Interesting Facts & Myths About June  \u001b[1;36m20\u001b[0m . \n",
       "June  \u001b[1;36m20\u001b[0m is the \u001b[1;36m171\u001b[0m st day of the year \u001b[1;36m2025\u001b[0m. There are \u001b[1;36m194\u001b[0m days remaining until the end of this year.\n",
       "\n",
       "|What Happened On June \u001b[1;36m20\u001b[0m In History? - Factinhistory.com\u001b[1m]\u001b[0m\u001b[1m(\u001b[0m\u001b[4;94mhttps://www.factinhistory.com/archives/2495\u001b[0m\u001b[4;94m)\u001b[0m\n",
       "From momentous battles and significant treaties to groundbreaking discoveries and pivotal political events , June  \n",
       "\u001b[1;36m20\u001b[0m has been a date marked by numerous notable Celebrities Born Today Day of the Month\n"
      ]
     },
     "metadata": {},
     "output_type": "display_data"
    },
    {
     "data": {
      "text/html": [
       "<pre style=\"white-space:pre;overflow-x:auto;line-height:normal;font-family:Menlo,'DejaVu Sans Mono',consolas,'Courier New',monospace\"><span style=\"color: #7f7f7f; text-decoration-color: #7f7f7f\">[Step 2: Duration 2.69 seconds]</span>\n",
       "</pre>\n"
      ],
      "text/plain": [
       "\u001b[2m[Step 2: Duration 2.69 seconds]\u001b[0m\n"
      ]
     },
     "metadata": {},
     "output_type": "display_data"
    },
    {
     "data": {
      "text/html": [
       "<pre style=\"white-space:pre;overflow-x:auto;line-height:normal;font-family:Menlo,'DejaVu Sans Mono',consolas,'Courier New',monospace\"><span style=\"color: #d4b702; text-decoration-color: #d4b702\">━━━━━━━━━━━━━━━━━━━━━━━━━━━━━━━━━━━━━━━━━━━━━━━━━━━━━ </span><span style=\"font-weight: bold\">Step </span><span style=\"color: #008080; text-decoration-color: #008080; font-weight: bold\">3</span><span style=\"color: #d4b702; text-decoration-color: #d4b702\"> ━━━━━━━━━━━━━━━━━━━━━━━━━━━━━━━━━━━━━━━━━━━━━━━━━━━━━━</span>\n",
       "</pre>\n"
      ],
      "text/plain": [
       "\u001b[38;2;212;183;2m━━━━━━━━━━━━━━━━━━━━━━━━━━━━━━━━━━━━━━━━━━━━━━━━━━━━━ \u001b[0m\u001b[1mStep \u001b[0m\u001b[1;36m3\u001b[0m\u001b[38;2;212;183;2m ━━━━━━━━━━━━━━━━━━━━━━━━━━━━━━━━━━━━━━━━━━━━━━━━━━━━━━\u001b[0m\n"
      ]
     },
     "metadata": {},
     "output_type": "display_data"
    },
    {
     "data": {
      "text/html": [
       "<pre style=\"white-space:pre;overflow-x:auto;line-height:normal;font-family:Menlo,'DejaVu Sans Mono',consolas,'Courier New',monospace\">╭─────────────────────────────────────────────────────────────────────────────────────────────────────────────────╮\n",
       "│ Calling tool: 'final_answer' with arguments: {'answer': \"On June 20, several notable events occurred throughout │\n",
       "│ history:\\n\\n1. **1782**: Congress adopts the Great Seal of the United States.\\n2. **1949**: 'Gorgeous Gussie'   │\n",
       "│ shocks Wimbledon with a surprising victory.\\n3. **1819**: The ship 'Misery of The King's Executioner' sails     │\n",
       "│ into history.\\n4. **1675**: St. Paul's Cathedral defies bombing during the Great Fire of                        │\n",
       "│ London.\\n\\nAdditionally, June 20 is recognized as World Productivity Day and Ice Cream Soda Day.\"}              │\n",
       "╰─────────────────────────────────────────────────────────────────────────────────────────────────────────────────╯\n",
       "</pre>\n"
      ],
      "text/plain": [
       "╭─────────────────────────────────────────────────────────────────────────────────────────────────────────────────╮\n",
       "│ Calling tool: 'final_answer' with arguments: {'answer': \"On June 20, several notable events occurred throughout │\n",
       "│ history:\\n\\n1. **1782**: Congress adopts the Great Seal of the United States.\\n2. **1949**: 'Gorgeous Gussie'   │\n",
       "│ shocks Wimbledon with a surprising victory.\\n3. **1819**: The ship 'Misery of The King's Executioner' sails     │\n",
       "│ into history.\\n4. **1675**: St. Paul's Cathedral defies bombing during the Great Fire of                        │\n",
       "│ London.\\n\\nAdditionally, June 20 is recognized as World Productivity Day and Ice Cream Soda Day.\"}              │\n",
       "╰─────────────────────────────────────────────────────────────────────────────────────────────────────────────────╯\n"
      ]
     },
     "metadata": {},
     "output_type": "display_data"
    },
    {
     "data": {
      "text/html": [
       "<pre style=\"white-space:pre;overflow-x:auto;line-height:normal;font-family:Menlo,'DejaVu Sans Mono',consolas,'Courier New',monospace\"><span style=\"color: #d4b702; text-decoration-color: #d4b702; font-weight: bold\">Final answer: On June 20, several notable events occurred throughout history:</span>\n",
       "\n",
       "<span style=\"color: #d4b702; text-decoration-color: #d4b702; font-weight: bold\">1. **1782**: Congress adopts the Great Seal of the United States.</span>\n",
       "<span style=\"color: #d4b702; text-decoration-color: #d4b702; font-weight: bold\">2. **1949**: 'Gorgeous Gussie' shocks Wimbledon with a surprising victory.</span>\n",
       "<span style=\"color: #d4b702; text-decoration-color: #d4b702; font-weight: bold\">3. **1819**: The ship 'Misery of The King's Executioner' sails into history.</span>\n",
       "<span style=\"color: #d4b702; text-decoration-color: #d4b702; font-weight: bold\">4. **1675**: St. Paul's Cathedral defies bombing during the Great Fire of London.</span>\n",
       "\n",
       "<span style=\"color: #d4b702; text-decoration-color: #d4b702; font-weight: bold\">Additionally, June 20 is recognized as World Productivity Day and Ice Cream Soda Day.</span>\n",
       "</pre>\n"
      ],
      "text/plain": [
       "\u001b[1;38;2;212;183;2mFinal answer: On June 20, several notable events occurred throughout history:\u001b[0m\n",
       "\n",
       "\u001b[1;38;2;212;183;2m1. **1782**: Congress adopts the Great Seal of the United States.\u001b[0m\n",
       "\u001b[1;38;2;212;183;2m2. **1949**: 'Gorgeous Gussie' shocks Wimbledon with a surprising victory.\u001b[0m\n",
       "\u001b[1;38;2;212;183;2m3. **1819**: The ship 'Misery of The King's Executioner' sails into history.\u001b[0m\n",
       "\u001b[1;38;2;212;183;2m4. **1675**: St. Paul's Cathedral defies bombing during the Great Fire of London.\u001b[0m\n",
       "\n",
       "\u001b[1;38;2;212;183;2mAdditionally, June 20 is recognized as World Productivity Day and Ice Cream Soda Day.\u001b[0m\n"
      ]
     },
     "metadata": {},
     "output_type": "display_data"
    },
    {
     "data": {
      "text/html": [
       "<pre style=\"white-space:pre;overflow-x:auto;line-height:normal;font-family:Menlo,'DejaVu Sans Mono',consolas,'Courier New',monospace\"><span style=\"color: #7f7f7f; text-decoration-color: #7f7f7f\">[Step 3: Duration 7.11 seconds]</span>\n",
       "</pre>\n"
      ],
      "text/plain": [
       "\u001b[2m[Step 3: Duration 7.11 seconds]\u001b[0m\n"
      ]
     },
     "metadata": {},
     "output_type": "display_data"
    }
   ],
   "source": [
    "# |  notest\n",
    "\n",
    "answer = agent.run(\"Any famous events that happened on today's date?\")"
   ]
  },
  {
   "cell_type": "code",
   "execution_count": null,
   "metadata": {},
   "outputs": [
    {
     "data": {
      "text/markdown": [
       "On June 20, several notable events occurred throughout history:\n",
       "\n",
       "1. **1782**: Congress adopts the Great Seal of the United States.\n",
       "2. **1949**: 'Gorgeous Gussie' shocks Wimbledon with a surprising victory.\n",
       "3. **1819**: The ship 'Misery of The King's Executioner' sails into history.\n",
       "4. **1675**: St. Paul's Cathedral defies bombing during the Great Fire of London.\n",
       "\n",
       "Additionally, June 20 is recognized as World Productivity Day and Ice Cream Soda Day."
      ],
      "text/plain": [
       "<IPython.core.display.Markdown object>"
      ]
     },
     "metadata": {},
     "output_type": "display_data"
    }
   ],
   "source": [
    "# |  notest\n",
    "\n",
    "from IPython.display import display, Markdown\n",
    "display(Markdown(answer))"
   ]
  },
  {
   "cell_type": "markdown",
   "metadata": {},
   "source": [
    "### Example: Web Information Extraction\n",
    "\n",
    "In the next example, we will use the Web View tool to extract information from a Web page."
   ]
  },
  {
   "cell_type": "code",
   "execution_count": null,
   "metadata": {},
   "outputs": [
    {
     "data": {
      "text/html": [
       "<pre style=\"white-space:pre;overflow-x:auto;line-height:normal;font-family:Menlo,'DejaVu Sans Mono',consolas,'Courier New',monospace\"><span style=\"color: #d4b702; text-decoration-color: #d4b702\">╭──────────────────────────────────────────────────── </span><span style=\"color: #d4b702; text-decoration-color: #d4b702; font-weight: bold\">New run</span><span style=\"color: #d4b702; text-decoration-color: #d4b702\"> ────────────────────────────────────────────────────╮</span>\n",
       "<span style=\"color: #d4b702; text-decoration-color: #d4b702\">│</span>                                                                                                                 <span style=\"color: #d4b702; text-decoration-color: #d4b702\">│</span>\n",
       "<span style=\"color: #d4b702; text-decoration-color: #d4b702\">│</span> <span style=\"font-weight: bold\">What is the highest level of education of the person listed on this page: https://arun.maiya.net?</span>               <span style=\"color: #d4b702; text-decoration-color: #d4b702\">│</span>\n",
       "<span style=\"color: #d4b702; text-decoration-color: #d4b702\">│</span>                                                                                                                 <span style=\"color: #d4b702; text-decoration-color: #d4b702\">│</span>\n",
       "<span style=\"color: #d4b702; text-decoration-color: #d4b702\">╰─ AgentModel - onprem-gpt-4o-mini ───────────────────────────────────────────────────────────────────────────────╯</span>\n",
       "</pre>\n"
      ],
      "text/plain": [
       "\u001b[38;2;212;183;2m╭─\u001b[0m\u001b[38;2;212;183;2m───────────────────────────────────────────────────\u001b[0m\u001b[38;2;212;183;2m \u001b[0m\u001b[1;38;2;212;183;2mNew run\u001b[0m\u001b[38;2;212;183;2m \u001b[0m\u001b[38;2;212;183;2m───────────────────────────────────────────────────\u001b[0m\u001b[38;2;212;183;2m─╮\u001b[0m\n",
       "\u001b[38;2;212;183;2m│\u001b[0m                                                                                                                 \u001b[38;2;212;183;2m│\u001b[0m\n",
       "\u001b[38;2;212;183;2m│\u001b[0m \u001b[1mWhat is the highest level of education of the person listed on this page: https://arun.maiya.net?\u001b[0m               \u001b[38;2;212;183;2m│\u001b[0m\n",
       "\u001b[38;2;212;183;2m│\u001b[0m                                                                                                                 \u001b[38;2;212;183;2m│\u001b[0m\n",
       "\u001b[38;2;212;183;2m╰─\u001b[0m\u001b[38;2;212;183;2m AgentModel - onprem-gpt-4o-mini \u001b[0m\u001b[38;2;212;183;2m──────────────────────────────────────────────────────────────────────────────\u001b[0m\u001b[38;2;212;183;2m─╯\u001b[0m\n"
      ]
     },
     "metadata": {},
     "output_type": "display_data"
    },
    {
     "data": {
      "text/html": [
       "<pre style=\"white-space:pre;overflow-x:auto;line-height:normal;font-family:Menlo,'DejaVu Sans Mono',consolas,'Courier New',monospace\"><span style=\"color: #d4b702; text-decoration-color: #d4b702\">━━━━━━━━━━━━━━━━━━━━━━━━━━━━━━━━━━━━━━━━━━━━━━━━━━━━━ </span><span style=\"font-weight: bold\">Step </span><span style=\"color: #008080; text-decoration-color: #008080; font-weight: bold\">1</span><span style=\"color: #d4b702; text-decoration-color: #d4b702\"> ━━━━━━━━━━━━━━━━━━━━━━━━━━━━━━━━━━━━━━━━━━━━━━━━━━━━━━</span>\n",
       "</pre>\n"
      ],
      "text/plain": [
       "\u001b[38;2;212;183;2m━━━━━━━━━━━━━━━━━━━━━━━━━━━━━━━━━━━━━━━━━━━━━━━━━━━━━ \u001b[0m\u001b[1mStep \u001b[0m\u001b[1;36m1\u001b[0m\u001b[38;2;212;183;2m ━━━━━━━━━━━━━━━━━━━━━━━━━━━━━━━━━━━━━━━━━━━━━━━━━━━━━━\u001b[0m\n"
      ]
     },
     "metadata": {},
     "output_type": "display_data"
    },
    {
     "data": {
      "text/html": [
       "<pre style=\"white-space:pre;overflow-x:auto;line-height:normal;font-family:Menlo,'DejaVu Sans Mono',consolas,'Courier New',monospace\">╭─────────────────────────────────────────────────────────────────────────────────────────────────────────────────╮\n",
       "│ Calling tool: 'visit_webpage' with arguments: {'url': 'https://arun.maiya.net'}                                 │\n",
       "╰─────────────────────────────────────────────────────────────────────────────────────────────────────────────────╯\n",
       "</pre>\n"
      ],
      "text/plain": [
       "╭─────────────────────────────────────────────────────────────────────────────────────────────────────────────────╮\n",
       "│ Calling tool: 'visit_webpage' with arguments: {'url': 'https://arun.maiya.net'}                                 │\n",
       "╰─────────────────────────────────────────────────────────────────────────────────────────────────────────────────╯\n"
      ]
     },
     "metadata": {},
     "output_type": "display_data"
    },
    {
     "data": {
      "text/html": [
       "<pre style=\"white-space:pre;overflow-x:auto;line-height:normal;font-family:Menlo,'DejaVu Sans Mono',consolas,'Courier New',monospace\">Observations: Arun S. Maiya\n",
       "\n",
       "Arun S. Maiya   \n",
       "\n",
       "    \n",
       "\n",
       "arun |at<span style=\"font-weight: bold\">]</span> maiya |dot<span style=\"font-weight: bold\">]</span> net  \n",
       "\n",
       "|CV<span style=\"font-weight: bold\">](</span>asmcv.pdf<span style=\"font-weight: bold\">)</span> | |LinkedIn<span style=\"font-weight: bold\">](</span><span style=\"color: #0000ff; text-decoration-color: #0000ff; text-decoration: underline\">https://www.linkedin.com/in/arun-maiya/)</span> | |GitHub<span style=\"font-weight: bold\">](</span><span style=\"color: #0000ff; text-decoration-color: #0000ff; text-decoration: underline\">https://github.com/amaiya)</span>\n",
       "\n",
       "!|<span style=\"font-weight: bold\">](</span>asmpic.jpg<span style=\"font-weight: bold\">)</span>  \n",
       "\n",
       " \n",
       "\n",
       "Basics\n",
       "======\n",
       "\n",
       "I am a computer scientist at the |Institute for Defense Analyses <span style=\"font-weight: bold\">(</span>IDA<span style=\"font-weight: bold\">)](</span><span style=\"color: #0000ff; text-decoration-color: #0000ff; text-decoration: underline\">http://www.ida.org),</span> a federally-funded \n",
       "|think tank<span style=\"font-weight: bold\">](</span><span style=\"color: #0000ff; text-decoration-color: #0000ff; text-decoration: underline\">http://en.wikipedia.org/wiki/List_of_federally_funded_research_and_development_centers)</span> in the \n",
       "Washington D.C. metro area. My research broadly focuses on the study of computational methods to *extract meaning \n",
       "from raw data* and includes the areas of natural language processing, machine learning, data mining, computer \n",
       "vision, and network science <span style=\"font-weight: bold\">(</span>e.g., social network analysis<span style=\"font-weight: bold\">)</span>. I like building tools to make machine learning easier \n",
       "to apply in new ways and new areas. Through my work, I have contributed to national-level strategic-planning \n",
       "activities and R&amp;D roadmaps. I completed a Ph.D. in Computer Science at the |Laboratory for Computational \n",
       "Population Biology<span style=\"font-weight: bold\">](</span><span style=\"color: #0000ff; text-decoration-color: #0000ff; text-decoration: underline\">http://compbio.cs.uic.edu/),</span> which is within the |Department of Computer \n",
       "Science<span style=\"font-weight: bold\">](</span><span style=\"color: #0000ff; text-decoration-color: #0000ff; text-decoration: underline\">http://www.cs.uic.edu/)</span> at the\n",
       "|University of Illinois at Chicago <span style=\"font-weight: bold\">(</span>UIC<span style=\"font-weight: bold\">)](</span><span style=\"color: #0000ff; text-decoration-color: #0000ff; text-decoration: underline\">http://www.uic.edu/).</span> My CV is |here<span style=\"font-weight: bold\">](</span><span style=\"color: #0000ff; text-decoration-color: #0000ff; text-decoration: underline\">http://arun.maiya.net/asmcv.pdf).</span>\n",
       "\n",
       "Software\n",
       "========\n",
       "\n",
       "* **|ktrain<span style=\"font-weight: bold\">](</span><span style=\"color: #0000ff; text-decoration-color: #0000ff; text-decoration: underline\">https://github.com/amaiya/ktrain)</span>** is a Python library that makes deep learning and AI more \n",
       "accessible and easier to apply. With support for many different data types including text, images, and graphs, \n",
       "ktrain has been used for a wide range of use cases in industry, government, and academia. Examples include analyses\n",
       "for the U.S. Economic Census, financial crime analytics at Big <span style=\"color: #008080; text-decoration-color: #008080; font-weight: bold\">4</span> accounting firms, intelligence analyses, and \n",
       "|CoronaCentral.ai<span style=\"font-weight: bold\">](</span><span style=\"color: #0000ff; text-decoration-color: #0000ff; text-decoration: underline\">https://coronacentral.ai),</span> a machine-learning-enhanced search engine for coronavirus \n",
       "publications at Stanford University.\n",
       "* **|CausalNLP<span style=\"font-weight: bold\">](</span><span style=\"color: #0000ff; text-decoration-color: #0000ff; text-decoration: underline\">https://github.com/amaiya/causalnlp)</span>** is a practical toolkit for causal inference with text as \n",
       "treatment, outcome, or <span style=\"color: #008000; text-decoration-color: #008000\">\"controlled-for\"</span> variable.\n",
       "* **|IDATA<span style=\"font-weight: bold\">](</span><span style=\"color: #0000ff; text-decoration-color: #0000ff; text-decoration: underline\">https://arxiv.org/abs/1308.2359)</span>** is a suite of software capabilities designed to facilitate search, \n",
       "exploration, and analyses of very large document sets using state-of-the-art machine learning, NLP, and information\n",
       "retrieval. It has been used for a variety of different application in the |DoD<span style=\"font-weight: bold\">](</span><span style=\"color: #0000ff; text-decoration-color: #0000ff; text-decoration: underline\">https://www.defense.gov)</span> including \n",
       "cyber damage assessments, biosurveillance, and policy analyses.\n",
       "* **|OnPrem.LLM<span style=\"font-weight: bold\">](</span><span style=\"color: #0000ff; text-decoration-color: #0000ff; text-decoration: underline\">https://github.com/amaiya/onprem)</span>** is a simple Python package for generative AI that makes it \n",
       "easier to run large language models <span style=\"font-weight: bold\">(</span>LLMs<span style=\"font-weight: bold\">)</span> on your own machine using non-public data.\n",
       "\n",
       "Publications\n",
       "============\n",
       "\n",
       "|**ktrain: A Low-Code Library for Augmented Machine \n",
       "Learning**<span style=\"font-weight: bold\">](</span><span style=\"color: #0000ff; text-decoration-color: #0000ff; text-decoration: underline\">https://www.jmlr.org/papers/volume23/21-1124/21-1124.pdf)</span>  \n",
       "\n",
       "A.S. Maiya  \n",
       "\n",
       " *Journal of Machine Learning Research <span style=\"font-weight: bold\">(</span>JMLR<span style=\"font-weight: bold\">)</span>.*  May <span style=\"color: #008080; text-decoration-color: #008080; font-weight: bold\">2022</span>.\n",
       "\n",
       "|**CausalNLP: A Practical Toolkit for Causal Inference with Text**<span style=\"font-weight: bold\">](</span><span style=\"color: #0000ff; text-decoration-color: #0000ff; text-decoration: underline\">https://arxiv.org/abs/2106.08043)</span>   \n",
       "\n",
       "A.S. Maiya  \n",
       "\n",
       " *arXiv preprint arXiv:<span style=\"color: #008080; text-decoration-color: #008080; font-weight: bold\">2106.08043</span> .*  Jun <span style=\"color: #008080; text-decoration-color: #008080; font-weight: bold\">2021</span>. |arXiv only<span style=\"font-weight: bold\">]</span>\n",
       "\n",
       "|**A Framework for Comparing Groups of Documents**<span style=\"font-weight: bold\">](</span><span style=\"color: #0000ff; text-decoration-color: #0000ff; text-decoration: underline\">https://arxiv.org/abs/1508.05902)</span>  \n",
       "\n",
       "A.S. Maiya  \n",
       "\n",
       " *Proc. <span style=\"color: #008080; text-decoration-color: #008080; font-weight: bold\">2015</span> Conference on Empirical Methods in Natural Language Processing <span style=\"font-weight: bold\">(</span>EMNLP '<span style=\"color: #008080; text-decoration-color: #008080; font-weight: bold\">15</span><span style=\"font-weight: bold\">)</span>.*  Lisbon, Portugal. Sep \n",
       "<span style=\"color: #008080; text-decoration-color: #008080; font-weight: bold\">2015</span>.\n",
       "\n",
       "|**Mining Measured Information from Text**<span style=\"font-weight: bold\">](</span><span style=\"color: #0000ff; text-decoration-color: #0000ff; text-decoration: underline\">https://arxiv.org/abs/1505.01072)</span>  \n",
       "\n",
       "A.S. Maiya, D. Visser, and A. Wan  \n",
       "\n",
       " *Proc. 38th Annual ACM SIGIR Conference <span style=\"font-weight: bold\">(</span>SIGIR '<span style=\"color: #008080; text-decoration-color: #008080; font-weight: bold\">15</span><span style=\"font-weight: bold\">)</span>.* Santiago, Chile. Aug <span style=\"color: #008080; text-decoration-color: #008080; font-weight: bold\">2015</span>.\n",
       "\n",
       "|**Topic Similarity Networks: Visual Analytics for Large Document Sets**<span style=\"font-weight: bold\">](</span><span style=\"color: #0000ff; text-decoration-color: #0000ff; text-decoration: underline\">https://arxiv.org/abs/1409.7591)</span>  \n",
       "\n",
       "A.S. Maiya and R.M. Rolfe  \n",
       "\n",
       " *Proc. <span style=\"color: #008080; text-decoration-color: #008080; font-weight: bold\">2014</span> IEEE International Conference on Big Data <span style=\"font-weight: bold\">(</span>IEEE BigData '<span style=\"color: #008080; text-decoration-color: #008080; font-weight: bold\">14</span><span style=\"font-weight: bold\">)</span>.* Washington, D.C., Oct <span style=\"color: #008080; text-decoration-color: #008080; font-weight: bold\">2014</span>.\n",
       "\n",
       "|**Exploratory Analysis of Highly Heterogeneous Document Collections**<span style=\"font-weight: bold\">](</span><span style=\"color: #0000ff; text-decoration-color: #0000ff; text-decoration: underline\">https://arxiv.org/abs/1308.2359)</span>  \n",
       "\n",
       "A.S. Maiya, J.P. Thompson, F. Loaiza-Lemos, and R.M. Rolfe  \n",
       "\n",
       " *Proc. 19th ACM SIGKDD Conference on Knowledge Discovery and Data Mining <span style=\"font-weight: bold\">(</span>KDD '<span style=\"color: #008080; text-decoration-color: #008080; font-weight: bold\">13</span><span style=\"font-weight: bold\">)</span>.* Chicago, IL, Aug <span style=\"color: #008080; text-decoration-color: #008080; font-weight: bold\">2013</span>.\n",
       "\n",
       "|**Expansion and Decentralized Search in Complex \n",
       "Networks**<span style=\"font-weight: bold\">](</span><span style=\"color: #0000ff; text-decoration-color: #0000ff; text-decoration: underline\">http://link.springer.com/article/10.1007/s10115-012-0596-4)</span>  \n",
       "\n",
       "A.S. Maiya and T.Y. Berger-Wolf  \n",
       "\n",
       " *Journal of Knowledge and Information Systems.* First published online January <span style=\"color: #008080; text-decoration-color: #008080; font-weight: bold\">2013</span>.\n",
       "\n",
       "|**Supervised Learning in the Wild: Text Classification for Critical \n",
       "Technologies**<span style=\"font-weight: bold\">](</span><span style=\"color: #0000ff; text-decoration-color: #0000ff; text-decoration: underline\">https://ieeexplore.ieee.org/document/6415660)</span>  \n",
       "\n",
       "A.S. Maiya, F. Loaiza-Lemos, and R.M. Rolfe  \n",
       "\n",
       " *Proc. IEEE Military Communications Conference <span style=\"font-weight: bold\">(</span>MILCOM '<span style=\"color: #008080; text-decoration-color: #008080; font-weight: bold\">12</span><span style=\"font-weight: bold\">)</span>.* Orlando, FL, Oct <span style=\"color: #008080; text-decoration-color: #008080; font-weight: bold\">2012</span>.\n",
       "\n",
       "|**Benefits of Bias: Towards Better Characterization of Network Sampling**<span style=\"font-weight: bold\">](</span><span style=\"color: #0000ff; text-decoration-color: #0000ff; text-decoration: underline\">https://arxiv.org/abs/1109.3911)</span>  \n",
       "\n",
       "A.S. Maiya and T.Y. Berger-Wolf  \n",
       "\n",
       " *Proc. 17th ACM SIGKDD Conference on Knowledge Discovery and Data Mining <span style=\"font-weight: bold\">(</span>KDD '<span style=\"color: #008080; text-decoration-color: #008080; font-weight: bold\">11</span><span style=\"font-weight: bold\">)</span>.* San Diego, CA, Aug <span style=\"color: #008080; text-decoration-color: #008080; font-weight: bold\">2011</span>.\n",
       "\n",
       "|**Aggression, Grooming, and Group-level Cooperation in White-faced Capuchins: Insights from Social \n",
       "Networks**<span style=\"font-weight: bold\">](</span><span style=\"color: #0000ff; text-decoration-color: #0000ff; text-decoration: underline\">http://onlinelibrary.wiley.com/doi/10.1002/ajp.20959/abstract)</span>  \n",
       "\n",
       "M.C. Crofoot, D.I. Rubenstein, A.S. Maiya, and T.Y. Berger-Wolf  \n",
       "\n",
       " *American Journal of Primatology.* First published online May <span style=\"color: #008080; text-decoration-color: #008080; font-weight: bold\">2011</span>.\n",
       "\n",
       "|**Sampling and Inference in Complex Networks**<span style=\"font-weight: bold\">](</span><span style=\"color: #0000ff; text-decoration-color: #0000ff; text-decoration: underline\">https://dl.acm.org/doi/abs/10.5555/2395432)</span>  \n",
       "\n",
       "A.S. Maiya  \n",
       "\n",
       " *Ph.D. Dissertation, University of Illinois at Chicago <span style=\"font-weight: bold\">(</span>UIC<span style=\"font-weight: bold\">)</span>.* Chicago, IL, Apr <span style=\"color: #008080; text-decoration-color: #008080; font-weight: bold\">2011</span>.\n",
       "\n",
       "|**Expansion and Search in Networks**<span style=\"font-weight: bold\">](</span><span style=\"color: #0000ff; text-decoration-color: #0000ff; text-decoration: underline\">https://arxiv.org/abs/1009.4383)</span>  \n",
       "\n",
       "A.S. Maiya and T.Y. Berger-Wolf  \n",
       "\n",
       " *Proc. 19th ACM Intl. Conference on Information and Knowledge Management <span style=\"font-weight: bold\">(</span>CIKM '<span style=\"color: #008080; text-decoration-color: #008080; font-weight: bold\">10</span><span style=\"font-weight: bold\">)</span>.* Toronto, Canada, Oct <span style=\"color: #008080; text-decoration-color: #008080; font-weight: bold\">2010</span>.\n",
       "\n",
       "|**Online Sampling of High Centrality Individuals in Social \n",
       "Networks**<span style=\"font-weight: bold\">](</span><span style=\"color: #0000ff; text-decoration-color: #0000ff; text-decoration: underline\">https://link.springer.com/chapter/10.1007/978-3-642-13657-3_12)</span>  \n",
       "\n",
       "A.S. Maiya and T.Y. Berger-Wolf  \n",
       "\n",
       " *Proc. 14th Pacific-Asia Conference on Knowledge Discovery and Data Mining <span style=\"font-weight: bold\">(</span>PAKDD '<span style=\"color: #008080; text-decoration-color: #008080; font-weight: bold\">10</span><span style=\"font-weight: bold\">)</span>.* Hyderabad, India, Jun \n",
       "<span style=\"color: #008080; text-decoration-color: #008080; font-weight: bold\">2010</span>.\n",
       "\n",
       "|**Sampling Community Structure**<span style=\"font-weight: bold\">](</span><span style=\"color: #0000ff; text-decoration-color: #0000ff; text-decoration: underline\">https://dl.acm.org/doi/10.1145/1772690.1772762)</span>  \n",
       "\n",
       "A.S. Maiya and T.Y. Berger-Wolf  \n",
       "\n",
       " *Proc. 19th ACM Intl. Conference on the World Wide Web <span style=\"font-weight: bold\">(</span>WWW '<span style=\"color: #008080; text-decoration-color: #008080; font-weight: bold\">10</span><span style=\"font-weight: bold\">)</span>.* Raleigh, NC, Apr <span style=\"color: #008080; text-decoration-color: #008080; font-weight: bold\">2010</span>.\n",
       "\n",
       "|**Inferring the Maximum Likelihood Hierarchy in Social Networks**<span style=\"font-weight: bold\">](</span><span style=\"color: #0000ff; text-decoration-color: #0000ff; text-decoration: underline\">https://ieeexplore.ieee.org/document/5284124)</span>  \n",
       "\n",
       "A.S. Maiya and T.Y. Berger-Wolf  \n",
       "\n",
       " *Proc. 12th IEEE Intl. Conference on Computational Science and Engineering <span style=\"font-weight: bold\">(</span>CSE '<span style=\"color: #008080; text-decoration-color: #008080; font-weight: bold\">09</span><span style=\"font-weight: bold\">)</span>.* Vancouver, Canada, Aug \n",
       "<span style=\"color: #008080; text-decoration-color: #008080; font-weight: bold\">2009</span>.\n",
       "\n",
       "|**The Impact of Structural Changes on Predictions of Diffusion in \n",
       "Networks**<span style=\"font-weight: bold\">](</span><span style=\"color: #0000ff; text-decoration-color: #0000ff; text-decoration: underline\">https://www.computer.org/csdl/proceedings-article/icdmw/2008/3503a939/12OmNBU1jIK)</span>  \n",
       "\n",
       "M. Lahiri, A.S. Maiya, R. Sulo, Habiba and T.Y. Berger-Wolf  \n",
       "\n",
       "*ICDM '<span style=\"color: #008080; text-decoration-color: #008080; font-weight: bold\">08</span> Workshop on Analysis of Dynamic Networks*. Pisa, Italy, Dec <span style=\"color: #008080; text-decoration-color: #008080; font-weight: bold\">2008</span>.\n",
       "\n",
       "Honors and Awards\n",
       "=================\n",
       "\n",
       "**Goodpaster Award for Excellence in Research**, Institute for Defense Analyses, <span style=\"color: #008080; text-decoration-color: #008080; font-weight: bold\">2021</span> ||News \n",
       "Release<span style=\"font-weight: bold\">](</span><span style=\"color: #0000ff; text-decoration-color: #0000ff; text-decoration: underline\">https://www.ida.org/research-and-publications/publications/all/a/ar/arun-maiya-receives-2021-goodpaster-aw</span>\n",
       "<span style=\"color: #0000ff; text-decoration-color: #0000ff; text-decoration: underline\">ard-for-excellence-in-research)</span><span style=\"font-weight: bold\">]</span>\n",
       "\n",
       "&gt; *This prize is named for Gen. Andrew J. Goodpaster <span style=\"font-weight: bold\">(</span>USA, retired<span style=\"font-weight: bold\">)</span> and is awarded to an individual demonstrating \n",
       "<span style=\"color: #008000; text-decoration-color: #008000\">\"research excellence, exceptional analytic achievement and intellectual leadership.\"</span>*\n",
       "\n",
       "**Welch Award for Best External Research**, Institute for Defense Analyses, <span style=\"color: #008080; text-decoration-color: #008080; font-weight: bold\">2016</span>\n",
       "\n",
       "&gt; *Named in honor of General Larry D. Welch <span style=\"font-weight: bold\">(</span>USAF, ret.<span style=\"font-weight: bold\">)</span>, this award <span style=\"color: #008000; text-decoration-color: #008000\">\"honors individuals whose external research </span>\n",
       "<span style=\"color: #008000; text-decoration-color: #008000\">publications exemplify General Welch's high standards of analytic excellence and relevance.\"</span>*\n",
       "\n",
       "**AFEI Award for Excellence in Enterprise Information**, NDIA <span style=\"font-weight: bold\">(</span>formerly Association for Enterprise Information<span style=\"font-weight: bold\">)</span>, \n",
       "<span style=\"color: #008080; text-decoration-color: #008080; font-weight: bold\">2015</span>\n",
       "\n",
       "&gt; *This award is to <span style=\"color: #008000; text-decoration-color: #008000\">\"recognize and reward the contributions and achievements of project teams that exemplify </span>\n",
       "<span style=\"color: #008000; text-decoration-color: #008000\">excellence in achieving integrated enterprises. Winning teams are models of the best applications of technology and</span>\n",
       "<span style=\"color: #008000; text-decoration-color: #008000\">leadership to improve enterprise performance.\"</span>*\n",
       "\n",
       "&lt;script\n",
       "</pre>\n"
      ],
      "text/plain": [
       "Observations: Arun S. Maiya\n",
       "\n",
       "Arun S. Maiya   \n",
       "\n",
       "    \n",
       "\n",
       "arun |at\u001b[1m]\u001b[0m maiya |dot\u001b[1m]\u001b[0m net  \n",
       "\n",
       "|CV\u001b[1m]\u001b[0m\u001b[1m(\u001b[0masmcv.pdf\u001b[1m)\u001b[0m | |LinkedIn\u001b[1m]\u001b[0m\u001b[1m(\u001b[0m\u001b[4;94mhttps://www.linkedin.com/in/arun-maiya/\u001b[0m\u001b[4;94m)\u001b[0m | |GitHub\u001b[1m]\u001b[0m\u001b[1m(\u001b[0m\u001b[4;94mhttps://github.com/amaiya\u001b[0m\u001b[4;94m)\u001b[0m\n",
       "\n",
       "!|\u001b[1m]\u001b[0m\u001b[1m(\u001b[0masmpic.jpg\u001b[1m)\u001b[0m  \n",
       "\n",
       " \n",
       "\n",
       "Basics\n",
       "======\n",
       "\n",
       "I am a computer scientist at the |Institute for Defense Analyses \u001b[1m(\u001b[0mIDA\u001b[1m)\u001b[0m\u001b[1m]\u001b[0m\u001b[1m(\u001b[0m\u001b[4;94mhttp://www.ida.org\u001b[0m\u001b[4;94m)\u001b[0m\u001b[4;94m,\u001b[0m a federally-funded \n",
       "|think tank\u001b[1m]\u001b[0m\u001b[1m(\u001b[0m\u001b[4;94mhttp://en.wikipedia.org/wiki/List_of_federally_funded_research_and_development_centers\u001b[0m\u001b[4;94m)\u001b[0m in the \n",
       "Washington D.C. metro area. My research broadly focuses on the study of computational methods to *extract meaning \n",
       "from raw data* and includes the areas of natural language processing, machine learning, data mining, computer \n",
       "vision, and network science \u001b[1m(\u001b[0me.g., social network analysis\u001b[1m)\u001b[0m. I like building tools to make machine learning easier \n",
       "to apply in new ways and new areas. Through my work, I have contributed to national-level strategic-planning \n",
       "activities and R&D roadmaps. I completed a Ph.D. in Computer Science at the |Laboratory for Computational \n",
       "Population Biology\u001b[1m]\u001b[0m\u001b[1m(\u001b[0m\u001b[4;94mhttp://compbio.cs.uic.edu/\u001b[0m\u001b[4;94m)\u001b[0m\u001b[4;94m,\u001b[0m which is within the |Department of Computer \n",
       "Science\u001b[1m]\u001b[0m\u001b[1m(\u001b[0m\u001b[4;94mhttp://www.cs.uic.edu/\u001b[0m\u001b[4;94m)\u001b[0m at the\n",
       "|University of Illinois at Chicago \u001b[1m(\u001b[0mUIC\u001b[1m)\u001b[0m\u001b[1m]\u001b[0m\u001b[1m(\u001b[0m\u001b[4;94mhttp://www.uic.edu/\u001b[0m\u001b[4;94m)\u001b[0m\u001b[4;94m.\u001b[0m My CV is |here\u001b[1m]\u001b[0m\u001b[1m(\u001b[0m\u001b[4;94mhttp://arun.maiya.net/asmcv.pdf\u001b[0m\u001b[4;94m)\u001b[0m\u001b[4;94m.\u001b[0m\n",
       "\n",
       "Software\n",
       "========\n",
       "\n",
       "* **|ktrain\u001b[1m]\u001b[0m\u001b[1m(\u001b[0m\u001b[4;94mhttps://github.com/amaiya/ktrain\u001b[0m\u001b[4;94m)\u001b[0m** is a Python library that makes deep learning and AI more \n",
       "accessible and easier to apply. With support for many different data types including text, images, and graphs, \n",
       "ktrain has been used for a wide range of use cases in industry, government, and academia. Examples include analyses\n",
       "for the U.S. Economic Census, financial crime analytics at Big \u001b[1;36m4\u001b[0m accounting firms, intelligence analyses, and \n",
       "|CoronaCentral.ai\u001b[1m]\u001b[0m\u001b[1m(\u001b[0m\u001b[4;94mhttps://coronacentral.ai\u001b[0m\u001b[4;94m)\u001b[0m\u001b[4;94m,\u001b[0m a machine-learning-enhanced search engine for coronavirus \n",
       "publications at Stanford University.\n",
       "* **|CausalNLP\u001b[1m]\u001b[0m\u001b[1m(\u001b[0m\u001b[4;94mhttps://github.com/amaiya/causalnlp\u001b[0m\u001b[4;94m)\u001b[0m** is a practical toolkit for causal inference with text as \n",
       "treatment, outcome, or \u001b[32m\"controlled-for\"\u001b[0m variable.\n",
       "* **|IDATA\u001b[1m]\u001b[0m\u001b[1m(\u001b[0m\u001b[4;94mhttps://arxiv.org/abs/1308.2359\u001b[0m\u001b[4;94m)\u001b[0m** is a suite of software capabilities designed to facilitate search, \n",
       "exploration, and analyses of very large document sets using state-of-the-art machine learning, NLP, and information\n",
       "retrieval. It has been used for a variety of different application in the |DoD\u001b[1m]\u001b[0m\u001b[1m(\u001b[0m\u001b[4;94mhttps://www.defense.gov\u001b[0m\u001b[4;94m)\u001b[0m including \n",
       "cyber damage assessments, biosurveillance, and policy analyses.\n",
       "* **|OnPrem.LLM\u001b[1m]\u001b[0m\u001b[1m(\u001b[0m\u001b[4;94mhttps://github.com/amaiya/onprem\u001b[0m\u001b[4;94m)\u001b[0m** is a simple Python package for generative AI that makes it \n",
       "easier to run large language models \u001b[1m(\u001b[0mLLMs\u001b[1m)\u001b[0m on your own machine using non-public data.\n",
       "\n",
       "Publications\n",
       "============\n",
       "\n",
       "|**ktrain: A Low-Code Library for Augmented Machine \n",
       "Learning**\u001b[1m]\u001b[0m\u001b[1m(\u001b[0m\u001b[4;94mhttps://www.jmlr.org/papers/volume23/21-1124/21-1124.pdf\u001b[0m\u001b[4;94m)\u001b[0m  \n",
       "\n",
       "A.S. Maiya  \n",
       "\n",
       " *Journal of Machine Learning Research \u001b[1m(\u001b[0mJMLR\u001b[1m)\u001b[0m.*  May \u001b[1;36m2022\u001b[0m.\n",
       "\n",
       "|**CausalNLP: A Practical Toolkit for Causal Inference with Text**\u001b[1m]\u001b[0m\u001b[1m(\u001b[0m\u001b[4;94mhttps://arxiv.org/abs/2106.08043\u001b[0m\u001b[4;94m)\u001b[0m   \n",
       "\n",
       "A.S. Maiya  \n",
       "\n",
       " *arXiv preprint arXiv:\u001b[1;36m2106.08043\u001b[0m .*  Jun \u001b[1;36m2021\u001b[0m. |arXiv only\u001b[1m]\u001b[0m\n",
       "\n",
       "|**A Framework for Comparing Groups of Documents**\u001b[1m]\u001b[0m\u001b[1m(\u001b[0m\u001b[4;94mhttps://arxiv.org/abs/1508.05902\u001b[0m\u001b[4;94m)\u001b[0m  \n",
       "\n",
       "A.S. Maiya  \n",
       "\n",
       " *Proc. \u001b[1;36m2015\u001b[0m Conference on Empirical Methods in Natural Language Processing \u001b[1m(\u001b[0mEMNLP '\u001b[1;36m15\u001b[0m\u001b[1m)\u001b[0m.*  Lisbon, Portugal. Sep \n",
       "\u001b[1;36m2015\u001b[0m.\n",
       "\n",
       "|**Mining Measured Information from Text**\u001b[1m]\u001b[0m\u001b[1m(\u001b[0m\u001b[4;94mhttps://arxiv.org/abs/1505.01072\u001b[0m\u001b[4;94m)\u001b[0m  \n",
       "\n",
       "A.S. Maiya, D. Visser, and A. Wan  \n",
       "\n",
       " *Proc. 38th Annual ACM SIGIR Conference \u001b[1m(\u001b[0mSIGIR '\u001b[1;36m15\u001b[0m\u001b[1m)\u001b[0m.* Santiago, Chile. Aug \u001b[1;36m2015\u001b[0m.\n",
       "\n",
       "|**Topic Similarity Networks: Visual Analytics for Large Document Sets**\u001b[1m]\u001b[0m\u001b[1m(\u001b[0m\u001b[4;94mhttps://arxiv.org/abs/1409.7591\u001b[0m\u001b[4;94m)\u001b[0m  \n",
       "\n",
       "A.S. Maiya and R.M. Rolfe  \n",
       "\n",
       " *Proc. \u001b[1;36m2014\u001b[0m IEEE International Conference on Big Data \u001b[1m(\u001b[0mIEEE BigData '\u001b[1;36m14\u001b[0m\u001b[1m)\u001b[0m.* Washington, D.C., Oct \u001b[1;36m2014\u001b[0m.\n",
       "\n",
       "|**Exploratory Analysis of Highly Heterogeneous Document Collections**\u001b[1m]\u001b[0m\u001b[1m(\u001b[0m\u001b[4;94mhttps://arxiv.org/abs/1308.2359\u001b[0m\u001b[4;94m)\u001b[0m  \n",
       "\n",
       "A.S. Maiya, J.P. Thompson, F. Loaiza-Lemos, and R.M. Rolfe  \n",
       "\n",
       " *Proc. 19th ACM SIGKDD Conference on Knowledge Discovery and Data Mining \u001b[1m(\u001b[0mKDD '\u001b[1;36m13\u001b[0m\u001b[1m)\u001b[0m.* Chicago, IL, Aug \u001b[1;36m2013\u001b[0m.\n",
       "\n",
       "|**Expansion and Decentralized Search in Complex \n",
       "Networks**\u001b[1m]\u001b[0m\u001b[1m(\u001b[0m\u001b[4;94mhttp://link.springer.com/article/10.1007/s10115-012-0596-4\u001b[0m\u001b[4;94m)\u001b[0m  \n",
       "\n",
       "A.S. Maiya and T.Y. Berger-Wolf  \n",
       "\n",
       " *Journal of Knowledge and Information Systems.* First published online January \u001b[1;36m2013\u001b[0m.\n",
       "\n",
       "|**Supervised Learning in the Wild: Text Classification for Critical \n",
       "Technologies**\u001b[1m]\u001b[0m\u001b[1m(\u001b[0m\u001b[4;94mhttps://ieeexplore.ieee.org/document/6415660\u001b[0m\u001b[4;94m)\u001b[0m  \n",
       "\n",
       "A.S. Maiya, F. Loaiza-Lemos, and R.M. Rolfe  \n",
       "\n",
       " *Proc. IEEE Military Communications Conference \u001b[1m(\u001b[0mMILCOM '\u001b[1;36m12\u001b[0m\u001b[1m)\u001b[0m.* Orlando, FL, Oct \u001b[1;36m2012\u001b[0m.\n",
       "\n",
       "|**Benefits of Bias: Towards Better Characterization of Network Sampling**\u001b[1m]\u001b[0m\u001b[1m(\u001b[0m\u001b[4;94mhttps://arxiv.org/abs/1109.3911\u001b[0m\u001b[4;94m)\u001b[0m  \n",
       "\n",
       "A.S. Maiya and T.Y. Berger-Wolf  \n",
       "\n",
       " *Proc. 17th ACM SIGKDD Conference on Knowledge Discovery and Data Mining \u001b[1m(\u001b[0mKDD '\u001b[1;36m11\u001b[0m\u001b[1m)\u001b[0m.* San Diego, CA, Aug \u001b[1;36m2011\u001b[0m.\n",
       "\n",
       "|**Aggression, Grooming, and Group-level Cooperation in White-faced Capuchins: Insights from Social \n",
       "Networks**\u001b[1m]\u001b[0m\u001b[1m(\u001b[0m\u001b[4;94mhttp://onlinelibrary.wiley.com/doi/10.1002/ajp.20959/abstract\u001b[0m\u001b[4;94m)\u001b[0m  \n",
       "\n",
       "M.C. Crofoot, D.I. Rubenstein, A.S. Maiya, and T.Y. Berger-Wolf  \n",
       "\n",
       " *American Journal of Primatology.* First published online May \u001b[1;36m2011\u001b[0m.\n",
       "\n",
       "|**Sampling and Inference in Complex Networks**\u001b[1m]\u001b[0m\u001b[1m(\u001b[0m\u001b[4;94mhttps://dl.acm.org/doi/abs/10.5555/2395432\u001b[0m\u001b[4;94m)\u001b[0m  \n",
       "\n",
       "A.S. Maiya  \n",
       "\n",
       " *Ph.D. Dissertation, University of Illinois at Chicago \u001b[1m(\u001b[0mUIC\u001b[1m)\u001b[0m.* Chicago, IL, Apr \u001b[1;36m2011\u001b[0m.\n",
       "\n",
       "|**Expansion and Search in Networks**\u001b[1m]\u001b[0m\u001b[1m(\u001b[0m\u001b[4;94mhttps://arxiv.org/abs/1009.4383\u001b[0m\u001b[4;94m)\u001b[0m  \n",
       "\n",
       "A.S. Maiya and T.Y. Berger-Wolf  \n",
       "\n",
       " *Proc. 19th ACM Intl. Conference on Information and Knowledge Management \u001b[1m(\u001b[0mCIKM '\u001b[1;36m10\u001b[0m\u001b[1m)\u001b[0m.* Toronto, Canada, Oct \u001b[1;36m2010\u001b[0m.\n",
       "\n",
       "|**Online Sampling of High Centrality Individuals in Social \n",
       "Networks**\u001b[1m]\u001b[0m\u001b[1m(\u001b[0m\u001b[4;94mhttps://link.springer.com/chapter/10.1007/978-3-642-13657-3_12\u001b[0m\u001b[4;94m)\u001b[0m  \n",
       "\n",
       "A.S. Maiya and T.Y. Berger-Wolf  \n",
       "\n",
       " *Proc. 14th Pacific-Asia Conference on Knowledge Discovery and Data Mining \u001b[1m(\u001b[0mPAKDD '\u001b[1;36m10\u001b[0m\u001b[1m)\u001b[0m.* Hyderabad, India, Jun \n",
       "\u001b[1;36m2010\u001b[0m.\n",
       "\n",
       "|**Sampling Community Structure**\u001b[1m]\u001b[0m\u001b[1m(\u001b[0m\u001b[4;94mhttps://dl.acm.org/doi/10.1145/1772690.1772762\u001b[0m\u001b[4;94m)\u001b[0m  \n",
       "\n",
       "A.S. Maiya and T.Y. Berger-Wolf  \n",
       "\n",
       " *Proc. 19th ACM Intl. Conference on the World Wide Web \u001b[1m(\u001b[0mWWW '\u001b[1;36m10\u001b[0m\u001b[1m)\u001b[0m.* Raleigh, NC, Apr \u001b[1;36m2010\u001b[0m.\n",
       "\n",
       "|**Inferring the Maximum Likelihood Hierarchy in Social Networks**\u001b[1m]\u001b[0m\u001b[1m(\u001b[0m\u001b[4;94mhttps://ieeexplore.ieee.org/document/5284124\u001b[0m\u001b[4;94m)\u001b[0m  \n",
       "\n",
       "A.S. Maiya and T.Y. Berger-Wolf  \n",
       "\n",
       " *Proc. 12th IEEE Intl. Conference on Computational Science and Engineering \u001b[1m(\u001b[0mCSE '\u001b[1;36m09\u001b[0m\u001b[1m)\u001b[0m.* Vancouver, Canada, Aug \n",
       "\u001b[1;36m2009\u001b[0m.\n",
       "\n",
       "|**The Impact of Structural Changes on Predictions of Diffusion in \n",
       "Networks**\u001b[1m]\u001b[0m\u001b[1m(\u001b[0m\u001b[4;94mhttps://www.computer.org/csdl/proceedings-article/icdmw/2008/3503a939/12OmNBU1jIK\u001b[0m\u001b[4;94m)\u001b[0m  \n",
       "\n",
       "M. Lahiri, A.S. Maiya, R. Sulo, Habiba and T.Y. Berger-Wolf  \n",
       "\n",
       "*ICDM '\u001b[1;36m08\u001b[0m Workshop on Analysis of Dynamic Networks*. Pisa, Italy, Dec \u001b[1;36m2008\u001b[0m.\n",
       "\n",
       "Honors and Awards\n",
       "=================\n",
       "\n",
       "**Goodpaster Award for Excellence in Research**, Institute for Defense Analyses, \u001b[1;36m2021\u001b[0m ||News \n",
       "Release\u001b[1m]\u001b[0m\u001b[1m(\u001b[0m\u001b[4;94mhttps://www.ida.org/research-and-publications/publications/all/a/ar/arun-maiya-receives-2021-goodpaster-aw\u001b[0m\n",
       "\u001b[4;94mard-for-excellence-in-research\u001b[0m\u001b[4;94m)\u001b[0m\u001b[1m]\u001b[0m\n",
       "\n",
       "> *This prize is named for Gen. Andrew J. Goodpaster \u001b[1m(\u001b[0mUSA, retired\u001b[1m)\u001b[0m and is awarded to an individual demonstrating \n",
       "\u001b[32m\"research excellence, exceptional analytic achievement and intellectual leadership.\"\u001b[0m*\n",
       "\n",
       "**Welch Award for Best External Research**, Institute for Defense Analyses, \u001b[1;36m2016\u001b[0m\n",
       "\n",
       "> *Named in honor of General Larry D. Welch \u001b[1m(\u001b[0mUSAF, ret.\u001b[1m)\u001b[0m, this award \u001b[32m\"honors individuals whose external research \u001b[0m\n",
       "\u001b[32mpublications exemplify General Welch's high standards of analytic excellence and relevance.\"\u001b[0m*\n",
       "\n",
       "**AFEI Award for Excellence in Enterprise Information**, NDIA \u001b[1m(\u001b[0mformerly Association for Enterprise Information\u001b[1m)\u001b[0m, \n",
       "\u001b[1;36m2015\u001b[0m\n",
       "\n",
       "> *This award is to \u001b[32m\"recognize and reward the contributions and achievements of project teams that exemplify \u001b[0m\n",
       "\u001b[32mexcellence in achieving integrated enterprises. Winning teams are models of the best applications of technology and\u001b[0m\n",
       "\u001b[32mleadership to improve enterprise performance.\"\u001b[0m*\n",
       "\n",
       "<script\n"
      ]
     },
     "metadata": {},
     "output_type": "display_data"
    },
    {
     "data": {
      "text/html": [
       "<pre style=\"white-space:pre;overflow-x:auto;line-height:normal;font-family:Menlo,'DejaVu Sans Mono',consolas,'Courier New',monospace\"><span style=\"color: #7f7f7f; text-decoration-color: #7f7f7f\">[Step 1: Duration 1.75 seconds]</span>\n",
       "</pre>\n"
      ],
      "text/plain": [
       "\u001b[2m[Step 1: Duration 1.75 seconds]\u001b[0m\n"
      ]
     },
     "metadata": {},
     "output_type": "display_data"
    },
    {
     "data": {
      "text/html": [
       "<pre style=\"white-space:pre;overflow-x:auto;line-height:normal;font-family:Menlo,'DejaVu Sans Mono',consolas,'Courier New',monospace\"><span style=\"color: #d4b702; text-decoration-color: #d4b702\">━━━━━━━━━━━━━━━━━━━━━━━━━━━━━━━━━━━━━━━━━━━━━━━━━━━━━ </span><span style=\"font-weight: bold\">Step </span><span style=\"color: #008080; text-decoration-color: #008080; font-weight: bold\">2</span><span style=\"color: #d4b702; text-decoration-color: #d4b702\"> ━━━━━━━━━━━━━━━━━━━━━━━━━━━━━━━━━━━━━━━━━━━━━━━━━━━━━━</span>\n",
       "</pre>\n"
      ],
      "text/plain": [
       "\u001b[38;2;212;183;2m━━━━━━━━━━━━━━━━━━━━━━━━━━━━━━━━━━━━━━━━━━━━━━━━━━━━━ \u001b[0m\u001b[1mStep \u001b[0m\u001b[1;36m2\u001b[0m\u001b[38;2;212;183;2m ━━━━━━━━━━━━━━━━━━━━━━━━━━━━━━━━━━━━━━━━━━━━━━━━━━━━━━\u001b[0m\n"
      ]
     },
     "metadata": {},
     "output_type": "display_data"
    },
    {
     "data": {
      "text/html": [
       "<pre style=\"white-space:pre;overflow-x:auto;line-height:normal;font-family:Menlo,'DejaVu Sans Mono',consolas,'Courier New',monospace\">╭─────────────────────────────────────────────────────────────────────────────────────────────────────────────────╮\n",
       "│ Calling tool: 'final_answer' with arguments: {'answer': 'Ph.D. in Computer Science'}                            │\n",
       "╰─────────────────────────────────────────────────────────────────────────────────────────────────────────────────╯\n",
       "</pre>\n"
      ],
      "text/plain": [
       "╭─────────────────────────────────────────────────────────────────────────────────────────────────────────────────╮\n",
       "│ Calling tool: 'final_answer' with arguments: {'answer': 'Ph.D. in Computer Science'}                            │\n",
       "╰─────────────────────────────────────────────────────────────────────────────────────────────────────────────────╯\n"
      ]
     },
     "metadata": {},
     "output_type": "display_data"
    },
    {
     "data": {
      "text/html": [
       "<pre style=\"white-space:pre;overflow-x:auto;line-height:normal;font-family:Menlo,'DejaVu Sans Mono',consolas,'Courier New',monospace\"><span style=\"color: #d4b702; text-decoration-color: #d4b702; font-weight: bold\">Final answer: Ph.D. in Computer Science</span>\n",
       "</pre>\n"
      ],
      "text/plain": [
       "\u001b[1;38;2;212;183;2mFinal answer: Ph.D. in Computer Science\u001b[0m\n"
      ]
     },
     "metadata": {},
     "output_type": "display_data"
    },
    {
     "data": {
      "text/html": [
       "<pre style=\"white-space:pre;overflow-x:auto;line-height:normal;font-family:Menlo,'DejaVu Sans Mono',consolas,'Courier New',monospace\"><span style=\"color: #7f7f7f; text-decoration-color: #7f7f7f\">[Step 2: Duration 1.11 seconds]</span>\n",
       "</pre>\n"
      ],
      "text/plain": [
       "\u001b[2m[Step 2: Duration 1.11 seconds]\u001b[0m\n"
      ]
     },
     "metadata": {},
     "output_type": "display_data"
    }
   ],
   "source": [
    "# | notest\n",
    "\n",
    "agent = Agent(llm)\n",
    "agent.add_webview_tool()\n",
    "answer = agent.run(\"What is the highest level of education of the person listed on this page: https://arun.maiya.net?\")"
   ]
  },
  {
   "cell_type": "code",
   "execution_count": null,
   "metadata": {},
   "outputs": [
    {
     "name": "stdout",
     "output_type": "stream",
     "text": [
      "Ph.D. in Computer Science\n"
     ]
    }
   ],
   "source": [
    "# | notest\n",
    "\n",
    "print(answer)"
   ]
  },
  {
   "cell_type": "markdown",
   "metadata": {},
   "source": [
    "## Example: Agentic RAG\n",
    "\n",
    "You can also give the agent access to a vector store containing our documents.  In this example, we will ingest a document about Generative AI into a vector store and provide the store to the agent as a tool."
   ]
  },
  {
   "cell_type": "code",
   "execution_count": null,
   "metadata": {},
   "outputs": [
    {
     "name": "stdout",
     "output_type": "stream",
     "text": [
      "Creating new vectorstore at /tmp/myvectordb\n",
      "Loading documents from tests/sample_data/docx_example/\n"
     ]
    },
    {
     "name": "stderr",
     "output_type": "stream",
     "text": [
      "Loading new documents: 100%|██████████████████████| 1/1 [00:04<00:00,  4.16s/it]\n",
      "Processing and chunking 1 new documents: 100%|██████████████████████████████████████████| 1/1 [00:00<00:00, 1979.38it/s]\n"
     ]
    },
    {
     "name": "stdout",
     "output_type": "stream",
     "text": [
      "Split into 17 chunks of text (max. 500 chars each for text; max. 2000 chars for tables)\n",
      "Creating embeddings. May take some minutes...\n"
     ]
    },
    {
     "name": "stderr",
     "output_type": "stream",
     "text": [
      "100%|█████████████████████████████████████████████████████████████████████████████████████| 1/1 [00:00<00:00,  2.54it/s]"
     ]
    },
    {
     "name": "stdout",
     "output_type": "stream",
     "text": [
      "Ingestion complete! You can now query your documents using the LLM.ask or LLM.chat methods\n"
     ]
    },
    {
     "name": "stderr",
     "output_type": "stream",
     "text": [
      "\n"
     ]
    }
   ],
   "source": [
    "# | notest\n",
    "\n",
    "from onprem.ingest.stores import DenseStore\n",
    "\n",
    "store = DenseStore('/tmp/myvectordb')\n",
    "store.ingest('tests/sample_data/docx_example/')"
   ]
  },
  {
   "cell_type": "code",
   "execution_count": null,
   "metadata": {},
   "outputs": [
    {
     "data": {
      "text/html": [
       "<pre style=\"white-space:pre;overflow-x:auto;line-height:normal;font-family:Menlo,'DejaVu Sans Mono',consolas,'Courier New',monospace\"><span style=\"color: #d4b702; text-decoration-color: #d4b702\">╭──────────────────────────────────────────────────── </span><span style=\"color: #d4b702; text-decoration-color: #d4b702; font-weight: bold\">New run</span><span style=\"color: #d4b702; text-decoration-color: #d4b702\"> ────────────────────────────────────────────────────╮</span>\n",
       "<span style=\"color: #d4b702; text-decoration-color: #d4b702\">│</span>                                                                                                                 <span style=\"color: #d4b702; text-decoration-color: #d4b702\">│</span>\n",
       "<span style=\"color: #d4b702; text-decoration-color: #d4b702\">│</span> <span style=\"font-weight: bold\">Summarize some generative AI use cases in Markdown format. You may need to run at least three queries of the </span>   <span style=\"color: #d4b702; text-decoration-color: #d4b702\">│</span>\n",
       "<span style=\"color: #d4b702; text-decoration-color: #d4b702\">│</span> <span style=\"font-weight: bold\">database.</span>                                                                                                       <span style=\"color: #d4b702; text-decoration-color: #d4b702\">│</span>\n",
       "<span style=\"color: #d4b702; text-decoration-color: #d4b702\">│</span>                                                                                                                 <span style=\"color: #d4b702; text-decoration-color: #d4b702\">│</span>\n",
       "<span style=\"color: #d4b702; text-decoration-color: #d4b702\">╰─ AgentModel - onprem-gpt-4o-mini ───────────────────────────────────────────────────────────────────────────────╯</span>\n",
       "</pre>\n"
      ],
      "text/plain": [
       "\u001b[38;2;212;183;2m╭─\u001b[0m\u001b[38;2;212;183;2m───────────────────────────────────────────────────\u001b[0m\u001b[38;2;212;183;2m \u001b[0m\u001b[1;38;2;212;183;2mNew run\u001b[0m\u001b[38;2;212;183;2m \u001b[0m\u001b[38;2;212;183;2m───────────────────────────────────────────────────\u001b[0m\u001b[38;2;212;183;2m─╮\u001b[0m\n",
       "\u001b[38;2;212;183;2m│\u001b[0m                                                                                                                 \u001b[38;2;212;183;2m│\u001b[0m\n",
       "\u001b[38;2;212;183;2m│\u001b[0m \u001b[1mSummarize some generative AI use cases in Markdown format. You may need to run at least three queries of the \u001b[0m   \u001b[38;2;212;183;2m│\u001b[0m\n",
       "\u001b[38;2;212;183;2m│\u001b[0m \u001b[1mdatabase.\u001b[0m                                                                                                       \u001b[38;2;212;183;2m│\u001b[0m\n",
       "\u001b[38;2;212;183;2m│\u001b[0m                                                                                                                 \u001b[38;2;212;183;2m│\u001b[0m\n",
       "\u001b[38;2;212;183;2m╰─\u001b[0m\u001b[38;2;212;183;2m AgentModel - onprem-gpt-4o-mini \u001b[0m\u001b[38;2;212;183;2m──────────────────────────────────────────────────────────────────────────────\u001b[0m\u001b[38;2;212;183;2m─╯\u001b[0m\n"
      ]
     },
     "metadata": {},
     "output_type": "display_data"
    },
    {
     "data": {
      "text/html": [
       "<pre style=\"white-space:pre;overflow-x:auto;line-height:normal;font-family:Menlo,'DejaVu Sans Mono',consolas,'Courier New',monospace\"><span style=\"color: #d4b702; text-decoration-color: #d4b702\">━━━━━━━━━━━━━━━━━━━━━━━━━━━━━━━━━━━━━━━━━━━━━━━━━━━━━ </span><span style=\"font-weight: bold\">Step </span><span style=\"color: #008080; text-decoration-color: #008080; font-weight: bold\">1</span><span style=\"color: #d4b702; text-decoration-color: #d4b702\"> ━━━━━━━━━━━━━━━━━━━━━━━━━━━━━━━━━━━━━━━━━━━━━━━━━━━━━━</span>\n",
       "</pre>\n"
      ],
      "text/plain": [
       "\u001b[38;2;212;183;2m━━━━━━━━━━━━━━━━━━━━━━━━━━━━━━━━━━━━━━━━━━━━━━━━━━━━━ \u001b[0m\u001b[1mStep \u001b[0m\u001b[1;36m1\u001b[0m\u001b[38;2;212;183;2m ━━━━━━━━━━━━━━━━━━━━━━━━━━━━━━━━━━━━━━━━━━━━━━━━━━━━━━\u001b[0m\n"
      ]
     },
     "metadata": {},
     "output_type": "display_data"
    },
    {
     "data": {
      "text/html": [
       "<pre style=\"white-space:pre;overflow-x:auto;line-height:normal;font-family:Menlo,'DejaVu Sans Mono',consolas,'Courier New',monospace\">╭─────────────────────────────────────────────────────────────────────────────────────────────────────────────────╮\n",
       "│ Calling tool: 'genai' with arguments: {'query': {'type': 'string', 'description': 'Generative AI use cases'}}   │\n",
       "╰─────────────────────────────────────────────────────────────────────────────────────────────────────────────────╯\n",
       "</pre>\n"
      ],
      "text/plain": [
       "╭─────────────────────────────────────────────────────────────────────────────────────────────────────────────────╮\n",
       "│ Calling tool: 'genai' with arguments: {'query': {'type': 'string', 'description': 'Generative AI use cases'}}   │\n",
       "╰─────────────────────────────────────────────────────────────────────────────────────────────────────────────────╯\n"
      ]
     },
     "metadata": {},
     "output_type": "display_data"
    },
    {
     "data": {
      "text/html": [
       "<pre style=\"white-space:pre;overflow-x:auto;line-height:normal;font-family:Menlo,'DejaVu Sans Mono',consolas,'Courier New',monospace\"><span style=\"color: #800000; text-decoration-color: #800000; font-weight: bold\">Error executing tool </span><span style=\"color: #008000; text-decoration-color: #008000\">'genai'</span><span style=\"color: #800000; text-decoration-color: #800000; font-weight: bold\"> with arguments {</span><span style=\"color: #008000; text-decoration-color: #008000\">\"query\"</span><span style=\"color: #800000; text-decoration-color: #800000; font-weight: bold\">: {</span><span style=\"color: #008000; text-decoration-color: #008000\">\"type\"</span><span style=\"color: #800000; text-decoration-color: #800000; font-weight: bold\">: </span><span style=\"color: #008000; text-decoration-color: #008000\">\"string\"</span><span style=\"color: #800000; text-decoration-color: #800000; font-weight: bold\">, </span><span style=\"color: #008000; text-decoration-color: #008000\">\"description\"</span><span style=\"color: #800000; text-decoration-color: #800000; font-weight: bold\">: </span><span style=\"color: #008000; text-decoration-color: #008000\">\"Generative AI use </span>\n",
       "<span style=\"color: #008000; text-decoration-color: #008000\">cases\"</span><span style=\"color: #800000; text-decoration-color: #800000; font-weight: bold\">}}: AttributeError: </span><span style=\"color: #008000; text-decoration-color: #008000\">'dict'</span><span style=\"color: #800000; text-decoration-color: #800000; font-weight: bold\"> object has no attribute </span><span style=\"color: #008000; text-decoration-color: #008000\">'replace'</span>\n",
       "<span style=\"color: #800000; text-decoration-color: #800000; font-weight: bold\">Please try again or use another tool</span>\n",
       "</pre>\n"
      ],
      "text/plain": [
       "\u001b[1;31mError executing tool \u001b[0m\u001b[32m'genai'\u001b[0m\u001b[1;31m with arguments \u001b[0m\u001b[1;31m{\u001b[0m\u001b[32m\"query\"\u001b[0m\u001b[1;31m: \u001b[0m\u001b[1;31m{\u001b[0m\u001b[32m\"type\"\u001b[0m\u001b[1;31m: \u001b[0m\u001b[32m\"string\"\u001b[0m\u001b[1;31m, \u001b[0m\u001b[32m\"description\"\u001b[0m\u001b[1;31m: \u001b[0m\u001b[32m\"Generative AI use \u001b[0m\n",
       "\u001b[32mcases\"\u001b[0m\u001b[1;31m}\u001b[0m\u001b[1;31m}\u001b[0m\u001b[1;31m: AttributeError: \u001b[0m\u001b[32m'dict'\u001b[0m\u001b[1;31m object has no attribute \u001b[0m\u001b[32m'replace'\u001b[0m\n",
       "\u001b[1;31mPlease try again or use another tool\u001b[0m\n"
      ]
     },
     "metadata": {},
     "output_type": "display_data"
    },
    {
     "data": {
      "text/html": [
       "<pre style=\"white-space:pre;overflow-x:auto;line-height:normal;font-family:Menlo,'DejaVu Sans Mono',consolas,'Courier New',monospace\"><span style=\"color: #7f7f7f; text-decoration-color: #7f7f7f\">[Step 1: Duration 1.49 seconds]</span>\n",
       "</pre>\n"
      ],
      "text/plain": [
       "\u001b[2m[Step 1: Duration 1.49 seconds]\u001b[0m\n"
      ]
     },
     "metadata": {},
     "output_type": "display_data"
    },
    {
     "data": {
      "text/html": [
       "<pre style=\"white-space:pre;overflow-x:auto;line-height:normal;font-family:Menlo,'DejaVu Sans Mono',consolas,'Courier New',monospace\"><span style=\"color: #d4b702; text-decoration-color: #d4b702\">━━━━━━━━━━━━━━━━━━━━━━━━━━━━━━━━━━━━━━━━━━━━━━━━━━━━━ </span><span style=\"font-weight: bold\">Step </span><span style=\"color: #008080; text-decoration-color: #008080; font-weight: bold\">2</span><span style=\"color: #d4b702; text-decoration-color: #d4b702\"> ━━━━━━━━━━━━━━━━━━━━━━━━━━━━━━━━━━━━━━━━━━━━━━━━━━━━━━</span>\n",
       "</pre>\n"
      ],
      "text/plain": [
       "\u001b[38;2;212;183;2m━━━━━━━━━━━━━━━━━━━━━━━━━━━━━━━━━━━━━━━━━━━━━━━━━━━━━ \u001b[0m\u001b[1mStep \u001b[0m\u001b[1;36m2\u001b[0m\u001b[38;2;212;183;2m ━━━━━━━━━━━━━━━━━━━━━━━━━━━━━━━━━━━━━━━━━━━━━━━━━━━━━━\u001b[0m\n"
      ]
     },
     "metadata": {},
     "output_type": "display_data"
    },
    {
     "data": {
      "text/html": [
       "<pre style=\"white-space:pre;overflow-x:auto;line-height:normal;font-family:Menlo,'DejaVu Sans Mono',consolas,'Courier New',monospace\">╭─────────────────────────────────────────────────────────────────────────────────────────────────────────────────╮\n",
       "│ Calling tool: 'genai' with arguments: {'query': 'Generative AI use cases in various industries'}                │\n",
       "╰─────────────────────────────────────────────────────────────────────────────────────────────────────────────────╯\n",
       "</pre>\n"
      ],
      "text/plain": [
       "╭─────────────────────────────────────────────────────────────────────────────────────────────────────────────────╮\n",
       "│ Calling tool: 'genai' with arguments: {'query': 'Generative AI use cases in various industries'}                │\n",
       "╰─────────────────────────────────────────────────────────────────────────────────────────────────────────────────╯\n"
      ]
     },
     "metadata": {},
     "output_type": "display_data"
    },
    {
     "data": {
      "text/html": [
       "<pre style=\"white-space:pre;overflow-x:auto;line-height:normal;font-family:Menlo,'DejaVu Sans Mono',consolas,'Courier New',monospace\">Observations: <span style=\"font-weight: bold\">(</span><span style=\"color: #800080; text-decoration-color: #800080; font-weight: bold\">Document</span><span style=\"font-weight: bold\">(</span><span style=\"color: #808000; text-decoration-color: #808000\">id</span>=<span style=\"color: #008000; text-decoration-color: #008000\">'bce3222c-8977-4e15-8ae0-a4fa39fd55ae'</span>, <span style=\"color: #808000; text-decoration-color: #808000\">metadata</span>=<span style=\"font-weight: bold\">{</span><span style=\"color: #008000; text-decoration-color: #008000\">'page'</span>: <span style=\"color: #008080; text-decoration-color: #008080; font-weight: bold\">-1</span>, <span style=\"color: #008000; text-decoration-color: #008000\">'markdown'</span>: <span style=\"color: #ff0000; text-decoration-color: #ff0000; font-style: italic\">False</span>, \n",
       "<span style=\"color: #008000; text-decoration-color: #008000\">'source'</span>: <span style=\"color: #008000; text-decoration-color: #008000\">'/home/amaiya/projects/ghub/onprem/nbs/tests/sample_data/docx_example/gen_ai.docx'</span>, <span style=\"color: #008000; text-decoration-color: #008000\">'table_captions'</span>: <span style=\"color: #008000; text-decoration-color: #008000\">''</span>,\n",
       "<span style=\"color: #008000; text-decoration-color: #008000\">'document_title'</span>: <span style=\"color: #008000; text-decoration-color: #008000\">''</span>, <span style=\"color: #008000; text-decoration-color: #008000\">'extension'</span>: <span style=\"color: #008000; text-decoration-color: #008000\">'docx'</span>, <span style=\"color: #008000; text-decoration-color: #008000\">'ocr'</span>: <span style=\"color: #ff0000; text-decoration-color: #ff0000; font-style: italic\">False</span>, <span style=\"color: #008000; text-decoration-color: #008000\">'table'</span>: <span style=\"color: #ff0000; text-decoration-color: #ff0000; font-style: italic\">False</span>, <span style=\"color: #008000; text-decoration-color: #008000\">'score'</span>: <span style=\"color: #008080; text-decoration-color: #008080; font-weight: bold\">0.5392937660217285</span><span style=\"font-weight: bold\">}</span>, \n",
       "<span style=\"color: #808000; text-decoration-color: #808000\">page_content</span>=<span style=\"color: #008000; text-decoration-color: #008000\">'3. What is generative AI?\\n\\nEven though AI is not new, you have probably been hearing a lot about </span>\n",
       "<span style=\"color: #008000; text-decoration-color: #008000\">easy-to-use, publicly available Generative AI tools like ChatGPT and Google Gemini.\\u202f \\n\\nBut what is </span>\n",
       "<span style=\"color: #008000; text-decoration-color: #008000\">generative AI?\\u202f\\u202f \\n\\nIt is a type of AI technology that automatically generates (or creates) content in </span>\n",
       "<span style=\"color: #008000; text-decoration-color: #008000\">response to prompts given to it by users.\\u202f \\n\\nThese tools can generate text, images, music, video, code and </span>\n",
       "<span style=\"color: #008000; text-decoration-color: #008000\">other formats.'</span><span style=\"font-weight: bold\">)</span>, <span style=\"color: #800080; text-decoration-color: #800080; font-weight: bold\">Document</span><span style=\"font-weight: bold\">(</span><span style=\"color: #808000; text-decoration-color: #808000\">id</span>=<span style=\"color: #008000; text-decoration-color: #008000\">'9ff29816-b12e-4835-8d2e-f02de6bb1908'</span>, <span style=\"color: #808000; text-decoration-color: #808000\">metadata</span>=<span style=\"font-weight: bold\">{</span><span style=\"color: #008000; text-decoration-color: #008000\">'document_title'</span>: <span style=\"color: #008000; text-decoration-color: #008000\">''</span>, <span style=\"color: #008000; text-decoration-color: #008000\">'extension'</span>: \n",
       "<span style=\"color: #008000; text-decoration-color: #008000\">'docx'</span>, <span style=\"color: #008000; text-decoration-color: #008000\">'ocr'</span>: <span style=\"color: #ff0000; text-decoration-color: #ff0000; font-style: italic\">False</span>, <span style=\"color: #008000; text-decoration-color: #008000\">'source'</span>: <span style=\"color: #008000; text-decoration-color: #008000\">'/home/amaiya/projects/ghub/onprem/nbs/tests/sample_data/docx_example/gen_ai.docx'</span>,\n",
       "<span style=\"color: #008000; text-decoration-color: #008000\">'table'</span>: <span style=\"color: #ff0000; text-decoration-color: #ff0000; font-style: italic\">False</span>, <span style=\"color: #008000; text-decoration-color: #008000\">'table_captions'</span>: <span style=\"color: #008000; text-decoration-color: #008000\">''</span>, <span style=\"color: #008000; text-decoration-color: #008000\">'markdown'</span>: <span style=\"color: #ff0000; text-decoration-color: #ff0000; font-style: italic\">False</span>, <span style=\"color: #008000; text-decoration-color: #008000\">'page'</span>: <span style=\"color: #008080; text-decoration-color: #008080; font-weight: bold\">-1</span>, <span style=\"color: #008000; text-decoration-color: #008000\">'score'</span>: <span style=\"color: #008080; text-decoration-color: #008080; font-weight: bold\">0.5146276950836182</span><span style=\"font-weight: bold\">}</span>, \n",
       "<span style=\"color: #808000; text-decoration-color: #808000\">page_content</span>=<span style=\"color: #008000; text-decoration-color: #008000\">'Recognise generative AI in daily life: Identify common generative AI applications like chatbots, </span>\n",
       "<span style=\"color: #008000; text-decoration-color: #008000\">facial recognition, streaming services, and digital assistants.\\n\\nUnderstand generative AI: Explain generative AI </span>\n",
       "<span style=\"color: #008000; text-decoration-color: #008000\">and its ability to create diverse content such as text, images, music, video, and code.\\n\\nDescribe LLMs: </span>\n",
       "<span style=\"color: #008000; text-decoration-color: #008000\">Understand how\\xa0Large Language Models (LLMs) work.\\n\\n2. Examples of AI in everyday life'</span><span style=\"font-weight: bold\">)</span>, \n",
       "<span style=\"color: #800080; text-decoration-color: #800080; font-weight: bold\">Document</span><span style=\"font-weight: bold\">(</span><span style=\"color: #808000; text-decoration-color: #808000\">id</span>=<span style=\"color: #008000; text-decoration-color: #008000\">'6a9f7da2-e0d4-47f2-8d0e-6476ac6b572a'</span>, <span style=\"color: #808000; text-decoration-color: #808000\">metadata</span>=<span style=\"font-weight: bold\">{</span><span style=\"color: #008000; text-decoration-color: #008000\">'page'</span>: <span style=\"color: #008080; text-decoration-color: #008080; font-weight: bold\">-1</span>, <span style=\"color: #008000; text-decoration-color: #008000\">'markdown'</span>: <span style=\"color: #ff0000; text-decoration-color: #ff0000; font-style: italic\">False</span>, <span style=\"color: #008000; text-decoration-color: #008000\">'ocr'</span>: <span style=\"color: #ff0000; text-decoration-color: #ff0000; font-style: italic\">False</span>, \n",
       "<span style=\"color: #008000; text-decoration-color: #008000\">'document_title'</span>: <span style=\"color: #008000; text-decoration-color: #008000\">''</span>, <span style=\"color: #008000; text-decoration-color: #008000\">'table'</span>: <span style=\"color: #ff0000; text-decoration-color: #ff0000; font-style: italic\">False</span>, <span style=\"color: #008000; text-decoration-color: #008000\">'source'</span>: \n",
       "<span style=\"color: #008000; text-decoration-color: #008000\">'/home/amaiya/projects/ghub/onprem/nbs/tests/sample_data/docx_example/gen_ai.docx'</span>, <span style=\"color: #008000; text-decoration-color: #008000\">'extension'</span>: <span style=\"color: #008000; text-decoration-color: #008000\">'docx'</span>, \n",
       "<span style=\"color: #008000; text-decoration-color: #008000\">'table_captions'</span>: <span style=\"color: #008000; text-decoration-color: #008000\">''</span>, <span style=\"color: #008000; text-decoration-color: #008000\">'score'</span>: <span style=\"color: #008080; text-decoration-color: #008080; font-weight: bold\">0.5133000612258911</span><span style=\"font-weight: bold\">}</span>, <span style=\"color: #808000; text-decoration-color: #808000\">page_content</span>=<span style=\"color: #008000; text-decoration-color: #008000\">'Online shopping – personalised recommendations </span>\n",
       "<span style=\"color: #008000; text-decoration-color: #008000\">and adverts.\\n\\nDigital assistants, e.g.\\u202fAmazon Alexa, Google Assistant, Siri.\\n\\nSending an email – spell </span>\n",
       "<span style=\"color: #008000; text-decoration-color: #008000\">check and spam filters.\\n\\n\\n\\nTravel and navigation, e.g. Google Maps.\\n\\nWriting assistants, e.g.  </span>\n",
       "<span style=\"color: #008000; text-decoration-color: #008000\">Grammarly.\\n\\nHealth and fitness apps, e.g. Fitbit.\\n\\nSocial media feeds – AI controls the feeds that you get to </span>\n",
       "<span style=\"color: #008000; text-decoration-color: #008000\">see while browsing through social media platforms (e.g., Facebook, X, Instagram) or the notifications you </span>\n",
       "<span style=\"color: #008000; text-decoration-color: #008000\">receive.\\n\\n3. What is generative AI?'</span><span style=\"font-weight: bold\">)</span>, <span style=\"color: #800080; text-decoration-color: #800080; font-weight: bold\">Document</span><span style=\"font-weight: bold\">(</span><span style=\"color: #808000; text-decoration-color: #808000\">id</span>=<span style=\"color: #008000; text-decoration-color: #008000\">'c62f7e7e-2d1d-464f-949c-e940c0c264ed'</span>, <span style=\"color: #808000; text-decoration-color: #808000\">metadata</span>=<span style=\"font-weight: bold\">{</span><span style=\"color: #008000; text-decoration-color: #008000\">'ocr'</span>: \n",
       "<span style=\"color: #ff0000; text-decoration-color: #ff0000; font-style: italic\">False</span>, <span style=\"color: #008000; text-decoration-color: #008000\">'source'</span>: <span style=\"color: #008000; text-decoration-color: #008000\">'/home/amaiya/projects/ghub/onprem/nbs/tests/sample_data/docx_example/gen_ai.docx'</span>, <span style=\"color: #008000; text-decoration-color: #008000\">'page'</span>: <span style=\"color: #008080; text-decoration-color: #008080; font-weight: bold\">-1</span>, \n",
       "<span style=\"color: #008000; text-decoration-color: #008000\">'table_captions'</span>: <span style=\"color: #008000; text-decoration-color: #008000\">''</span>, <span style=\"color: #008000; text-decoration-color: #008000\">'table'</span>: <span style=\"color: #ff0000; text-decoration-color: #ff0000; font-style: italic\">False</span>, <span style=\"color: #008000; text-decoration-color: #008000\">'markdown'</span>: <span style=\"color: #ff0000; text-decoration-color: #ff0000; font-style: italic\">False</span>, <span style=\"color: #008000; text-decoration-color: #008000\">'document_title'</span>: <span style=\"color: #008000; text-decoration-color: #008000\">''</span>, <span style=\"color: #008000; text-decoration-color: #008000\">'extension'</span>: <span style=\"color: #008000; text-decoration-color: #008000\">'docx'</span>, <span style=\"color: #008000; text-decoration-color: #008000\">'score'</span>: \n",
       "<span style=\"color: #008080; text-decoration-color: #008080; font-weight: bold\">0.5007938146591187</span><span style=\"font-weight: bold\">}</span>, <span style=\"color: #808000; text-decoration-color: #808000\">page_content</span>=<span style=\"color: #008000; text-decoration-color: #008000\">'An introduction to generative AI\\n\\n1. Introduction\\n\\nThis activity will give a</span>\n",
       "<span style=\"color: #008000; text-decoration-color: #008000\">brief overview of what Generative AI is and how it is being used.\\n\\nUsing this tutorial\\n\\nUse the back and next </span>\n",
       "<span style=\"color: #008000; text-decoration-color: #008000\">buttons at the bottom right of the screen to navigate through the tutorial. Alternatively, use the contents button </span>\n",
       "<span style=\"color: #008000; text-decoration-color: #008000\">to jump to a specific page.\\n\\nYou will need to allow approximately\\xa05\\xa0minutes\\xa0to complete the </span>\n",
       "<span style=\"color: #008000; text-decoration-color: #008000\">tutorial.\\n\\nLearning outcomes\\n\\nAfter completing this tutorial you will be able to:'</span><span style=\"font-weight: bold\">)</span>, \n",
       "<span style=\"color: #800080; text-decoration-color: #800080; font-weight: bold\">Document</span><span style=\"font-weight: bold\">(</span><span style=\"color: #808000; text-decoration-color: #808000\">id</span>=<span style=\"color: #008000; text-decoration-color: #008000\">'17ee8c42-d226-4ec8-beb8-3a3ecfeab459'</span>, <span style=\"color: #808000; text-decoration-color: #808000\">metadata</span>=<span style=\"font-weight: bold\">{</span><span style=\"color: #008000; text-decoration-color: #008000\">'extension'</span>: <span style=\"color: #008000; text-decoration-color: #008000\">'docx'</span>, <span style=\"color: #008000; text-decoration-color: #008000\">'ocr'</span>: <span style=\"color: #ff0000; text-decoration-color: #ff0000; font-style: italic\">False</span>, <span style=\"color: #008000; text-decoration-color: #008000\">'document_title'</span>: \n",
       "<span style=\"color: #008000; text-decoration-color: #008000\">''</span>, <span style=\"color: #008000; text-decoration-color: #008000\">'page'</span>: <span style=\"color: #008080; text-decoration-color: #008080; font-weight: bold\">-1</span>, <span style=\"color: #008000; text-decoration-color: #008000\">'markdown'</span>: <span style=\"color: #ff0000; text-decoration-color: #ff0000; font-style: italic\">False</span>, <span style=\"color: #008000; text-decoration-color: #008000\">'table_captions'</span>: <span style=\"color: #008000; text-decoration-color: #008000\">''</span>, <span style=\"color: #008000; text-decoration-color: #008000\">'table'</span>: <span style=\"color: #ff0000; text-decoration-color: #ff0000; font-style: italic\">False</span>, <span style=\"color: #008000; text-decoration-color: #008000\">'source'</span>: \n",
       "<span style=\"color: #008000; text-decoration-color: #008000\">'/home/amaiya/projects/ghub/onprem/nbs/tests/sample_data/docx_example/gen_ai.docx'</span>, <span style=\"color: #008000; text-decoration-color: #008000\">'score'</span>: <span style=\"color: #008080; text-decoration-color: #008080; font-weight: bold\">0.48123085498809814</span><span style=\"font-weight: bold\">}</span>, \n",
       "<span style=\"color: #808000; text-decoration-color: #808000\">page_content</span>=<span style=\"color: #008000; text-decoration-color: #008000\">'surprisingly knowledgeable, or with an image / computing code. Although outputs produced by </span>\n",
       "<span style=\"color: #008000; text-decoration-color: #008000\">Generative AI tools look plausible, they are often misleading, made up, or may be entirely wrong.\\n\\nEach response </span>\n",
       "<span style=\"color: #008000; text-decoration-color: #008000\">is unique, you will probably never get the exact same reply twice.\\n\\nResponses are conversational. Once you have </span>\n",
       "<span style=\"color: #008000; text-decoration-color: #008000\">asked a question you can just carry on the conversation by adding new questions or prompts, rather than having to </span>\n",
       "<span style=\"color: #008000; text-decoration-color: #008000\">redo your search, as you would in a search engine like Google.'</span><span style=\"font-weight: bold\">))</span>\n",
       "</pre>\n"
      ],
      "text/plain": [
       "Observations: \u001b[1m(\u001b[0m\u001b[1;35mDocument\u001b[0m\u001b[1m(\u001b[0m\u001b[33mid\u001b[0m=\u001b[32m'bce3222c-8977-4e15-8ae0-a4fa39fd55ae'\u001b[0m, \u001b[33mmetadata\u001b[0m=\u001b[1m{\u001b[0m\u001b[32m'page'\u001b[0m: \u001b[1;36m-1\u001b[0m, \u001b[32m'markdown'\u001b[0m: \u001b[3;91mFalse\u001b[0m, \n",
       "\u001b[32m'source'\u001b[0m: \u001b[32m'/home/amaiya/projects/ghub/onprem/nbs/tests/sample_data/docx_example/gen_ai.docx'\u001b[0m, \u001b[32m'table_captions'\u001b[0m: \u001b[32m''\u001b[0m,\n",
       "\u001b[32m'document_title'\u001b[0m: \u001b[32m''\u001b[0m, \u001b[32m'extension'\u001b[0m: \u001b[32m'docx'\u001b[0m, \u001b[32m'ocr'\u001b[0m: \u001b[3;91mFalse\u001b[0m, \u001b[32m'table'\u001b[0m: \u001b[3;91mFalse\u001b[0m, \u001b[32m'score'\u001b[0m: \u001b[1;36m0.5392937660217285\u001b[0m\u001b[1m}\u001b[0m, \n",
       "\u001b[33mpage_content\u001b[0m=\u001b[32m'3. What is generative AI?\\n\\nEven though AI is not new, you have probably been hearing a lot about \u001b[0m\n",
       "\u001b[32measy-to-use, publicly available Generative AI tools like ChatGPT and Google Gemini.\\u202f \\n\\nBut what is \u001b[0m\n",
       "\u001b[32mgenerative AI?\\u202f\\u202f \\n\\nIt is a type of AI technology that automatically generates \u001b[0m\u001b[32m(\u001b[0m\u001b[32mor creates\u001b[0m\u001b[32m)\u001b[0m\u001b[32m content in \u001b[0m\n",
       "\u001b[32mresponse to prompts given to it by users.\\u202f \\n\\nThese tools can generate text, images, music, video, code and \u001b[0m\n",
       "\u001b[32mother formats.'\u001b[0m\u001b[1m)\u001b[0m, \u001b[1;35mDocument\u001b[0m\u001b[1m(\u001b[0m\u001b[33mid\u001b[0m=\u001b[32m'9ff29816-b12e-4835-8d2e-f02de6bb1908'\u001b[0m, \u001b[33mmetadata\u001b[0m=\u001b[1m{\u001b[0m\u001b[32m'document_title'\u001b[0m: \u001b[32m''\u001b[0m, \u001b[32m'extension'\u001b[0m: \n",
       "\u001b[32m'docx'\u001b[0m, \u001b[32m'ocr'\u001b[0m: \u001b[3;91mFalse\u001b[0m, \u001b[32m'source'\u001b[0m: \u001b[32m'/home/amaiya/projects/ghub/onprem/nbs/tests/sample_data/docx_example/gen_ai.docx'\u001b[0m,\n",
       "\u001b[32m'table'\u001b[0m: \u001b[3;91mFalse\u001b[0m, \u001b[32m'table_captions'\u001b[0m: \u001b[32m''\u001b[0m, \u001b[32m'markdown'\u001b[0m: \u001b[3;91mFalse\u001b[0m, \u001b[32m'page'\u001b[0m: \u001b[1;36m-1\u001b[0m, \u001b[32m'score'\u001b[0m: \u001b[1;36m0.5146276950836182\u001b[0m\u001b[1m}\u001b[0m, \n",
       "\u001b[33mpage_content\u001b[0m=\u001b[32m'Recognise generative AI in daily life: Identify common generative AI applications like chatbots, \u001b[0m\n",
       "\u001b[32mfacial recognition, streaming services, and digital assistants.\\n\\nUnderstand generative AI: Explain generative AI \u001b[0m\n",
       "\u001b[32mand its ability to create diverse content such as text, images, music, video, and code.\\n\\nDescribe LLMs: \u001b[0m\n",
       "\u001b[32mUnderstand how\\xa0Large Language Models \u001b[0m\u001b[32m(\u001b[0m\u001b[32mLLMs\u001b[0m\u001b[32m)\u001b[0m\u001b[32m work.\\n\\n2. Examples of AI in everyday life'\u001b[0m\u001b[1m)\u001b[0m, \n",
       "\u001b[1;35mDocument\u001b[0m\u001b[1m(\u001b[0m\u001b[33mid\u001b[0m=\u001b[32m'6a9f7da2-e0d4-47f2-8d0e-6476ac6b572a'\u001b[0m, \u001b[33mmetadata\u001b[0m=\u001b[1m{\u001b[0m\u001b[32m'page'\u001b[0m: \u001b[1;36m-1\u001b[0m, \u001b[32m'markdown'\u001b[0m: \u001b[3;91mFalse\u001b[0m, \u001b[32m'ocr'\u001b[0m: \u001b[3;91mFalse\u001b[0m, \n",
       "\u001b[32m'document_title'\u001b[0m: \u001b[32m''\u001b[0m, \u001b[32m'table'\u001b[0m: \u001b[3;91mFalse\u001b[0m, \u001b[32m'source'\u001b[0m: \n",
       "\u001b[32m'/home/amaiya/projects/ghub/onprem/nbs/tests/sample_data/docx_example/gen_ai.docx'\u001b[0m, \u001b[32m'extension'\u001b[0m: \u001b[32m'docx'\u001b[0m, \n",
       "\u001b[32m'table_captions'\u001b[0m: \u001b[32m''\u001b[0m, \u001b[32m'score'\u001b[0m: \u001b[1;36m0.5133000612258911\u001b[0m\u001b[1m}\u001b[0m, \u001b[33mpage_content\u001b[0m=\u001b[32m'Online shopping – personalised recommendations \u001b[0m\n",
       "\u001b[32mand adverts.\\n\\nDigital assistants, e.g.\\u202fAmazon Alexa, Google Assistant, Siri.\\n\\nSending an email – spell \u001b[0m\n",
       "\u001b[32mcheck and spam filters.\\n\\n\\n\\nTravel and navigation, e.g. Google Maps.\\n\\nWriting assistants, e.g.  \u001b[0m\n",
       "\u001b[32mGrammarly.\\n\\nHealth and fitness apps, e.g. Fitbit.\\n\\nSocial media feeds – AI controls the feeds that you get to \u001b[0m\n",
       "\u001b[32msee while browsing through social media platforms \u001b[0m\u001b[32m(\u001b[0m\u001b[32me.g., Facebook, X, Instagram\u001b[0m\u001b[32m)\u001b[0m\u001b[32m or the notifications you \u001b[0m\n",
       "\u001b[32mreceive.\\n\\n3. What is generative AI?'\u001b[0m\u001b[1m)\u001b[0m, \u001b[1;35mDocument\u001b[0m\u001b[1m(\u001b[0m\u001b[33mid\u001b[0m=\u001b[32m'c62f7e7e-2d1d-464f-949c-e940c0c264ed'\u001b[0m, \u001b[33mmetadata\u001b[0m=\u001b[1m{\u001b[0m\u001b[32m'ocr'\u001b[0m: \n",
       "\u001b[3;91mFalse\u001b[0m, \u001b[32m'source'\u001b[0m: \u001b[32m'/home/amaiya/projects/ghub/onprem/nbs/tests/sample_data/docx_example/gen_ai.docx'\u001b[0m, \u001b[32m'page'\u001b[0m: \u001b[1;36m-1\u001b[0m, \n",
       "\u001b[32m'table_captions'\u001b[0m: \u001b[32m''\u001b[0m, \u001b[32m'table'\u001b[0m: \u001b[3;91mFalse\u001b[0m, \u001b[32m'markdown'\u001b[0m: \u001b[3;91mFalse\u001b[0m, \u001b[32m'document_title'\u001b[0m: \u001b[32m''\u001b[0m, \u001b[32m'extension'\u001b[0m: \u001b[32m'docx'\u001b[0m, \u001b[32m'score'\u001b[0m: \n",
       "\u001b[1;36m0.5007938146591187\u001b[0m\u001b[1m}\u001b[0m, \u001b[33mpage_content\u001b[0m=\u001b[32m'An introduction to generative AI\\n\\n1. Introduction\\n\\nThis activity will give a\u001b[0m\n",
       "\u001b[32mbrief overview of what Generative AI is and how it is being used.\\n\\nUsing this tutorial\\n\\nUse the back and next \u001b[0m\n",
       "\u001b[32mbuttons at the bottom right of the screen to navigate through the tutorial. Alternatively, use the contents button \u001b[0m\n",
       "\u001b[32mto jump to a specific page.\\n\\nYou will need to allow approximately\\xa05\\xa0minutes\\xa0to complete the \u001b[0m\n",
       "\u001b[32mtutorial.\\n\\nLearning outcomes\\n\\nAfter completing this tutorial you will be able to:'\u001b[0m\u001b[1m)\u001b[0m, \n",
       "\u001b[1;35mDocument\u001b[0m\u001b[1m(\u001b[0m\u001b[33mid\u001b[0m=\u001b[32m'17ee8c42-d226-4ec8-beb8-3a3ecfeab459'\u001b[0m, \u001b[33mmetadata\u001b[0m=\u001b[1m{\u001b[0m\u001b[32m'extension'\u001b[0m: \u001b[32m'docx'\u001b[0m, \u001b[32m'ocr'\u001b[0m: \u001b[3;91mFalse\u001b[0m, \u001b[32m'document_title'\u001b[0m: \n",
       "\u001b[32m''\u001b[0m, \u001b[32m'page'\u001b[0m: \u001b[1;36m-1\u001b[0m, \u001b[32m'markdown'\u001b[0m: \u001b[3;91mFalse\u001b[0m, \u001b[32m'table_captions'\u001b[0m: \u001b[32m''\u001b[0m, \u001b[32m'table'\u001b[0m: \u001b[3;91mFalse\u001b[0m, \u001b[32m'source'\u001b[0m: \n",
       "\u001b[32m'/home/amaiya/projects/ghub/onprem/nbs/tests/sample_data/docx_example/gen_ai.docx'\u001b[0m, \u001b[32m'score'\u001b[0m: \u001b[1;36m0.48123085498809814\u001b[0m\u001b[1m}\u001b[0m, \n",
       "\u001b[33mpage_content\u001b[0m=\u001b[32m'surprisingly knowledgeable, or with an image / computing code. Although outputs produced by \u001b[0m\n",
       "\u001b[32mGenerative AI tools look plausible, they are often misleading, made up, or may be entirely wrong.\\n\\nEach response \u001b[0m\n",
       "\u001b[32mis unique, you will probably never get the exact same reply twice.\\n\\nResponses are conversational. Once you have \u001b[0m\n",
       "\u001b[32masked a question you can just carry on the conversation by adding new questions or prompts, rather than having to \u001b[0m\n",
       "\u001b[32mredo your search, as you would in a search engine like Google.'\u001b[0m\u001b[1m)\u001b[0m\u001b[1m)\u001b[0m\n"
      ]
     },
     "metadata": {},
     "output_type": "display_data"
    },
    {
     "data": {
      "text/html": [
       "<pre style=\"white-space:pre;overflow-x:auto;line-height:normal;font-family:Menlo,'DejaVu Sans Mono',consolas,'Courier New',monospace\"><span style=\"color: #7f7f7f; text-decoration-color: #7f7f7f\">[Step 2: Duration 1.45 seconds]</span>\n",
       "</pre>\n"
      ],
      "text/plain": [
       "\u001b[2m[Step 2: Duration 1.45 seconds]\u001b[0m\n"
      ]
     },
     "metadata": {},
     "output_type": "display_data"
    },
    {
     "data": {
      "text/html": [
       "<pre style=\"white-space:pre;overflow-x:auto;line-height:normal;font-family:Menlo,'DejaVu Sans Mono',consolas,'Courier New',monospace\"><span style=\"color: #d4b702; text-decoration-color: #d4b702\">━━━━━━━━━━━━━━━━━━━━━━━━━━━━━━━━━━━━━━━━━━━━━━━━━━━━━ </span><span style=\"font-weight: bold\">Step </span><span style=\"color: #008080; text-decoration-color: #008080; font-weight: bold\">3</span><span style=\"color: #d4b702; text-decoration-color: #d4b702\"> ━━━━━━━━━━━━━━━━━━━━━━━━━━━━━━━━━━━━━━━━━━━━━━━━━━━━━━</span>\n",
       "</pre>\n"
      ],
      "text/plain": [
       "\u001b[38;2;212;183;2m━━━━━━━━━━━━━━━━━━━━━━━━━━━━━━━━━━━━━━━━━━━━━━━━━━━━━ \u001b[0m\u001b[1mStep \u001b[0m\u001b[1;36m3\u001b[0m\u001b[38;2;212;183;2m ━━━━━━━━━━━━━━━━━━━━━━━━━━━━━━━━━━━━━━━━━━━━━━━━━━━━━━\u001b[0m\n"
      ]
     },
     "metadata": {},
     "output_type": "display_data"
    },
    {
     "data": {
      "text/html": [
       "<pre style=\"white-space:pre;overflow-x:auto;line-height:normal;font-family:Menlo,'DejaVu Sans Mono',consolas,'Courier New',monospace\">╭─────────────────────────────────────────────────────────────────────────────────────────────────────────────────╮\n",
       "│ Calling tool: 'genai' with arguments: {'query': 'Generative AI applications in marketing and advertising'}      │\n",
       "╰─────────────────────────────────────────────────────────────────────────────────────────────────────────────────╯\n",
       "</pre>\n"
      ],
      "text/plain": [
       "╭─────────────────────────────────────────────────────────────────────────────────────────────────────────────────╮\n",
       "│ Calling tool: 'genai' with arguments: {'query': 'Generative AI applications in marketing and advertising'}      │\n",
       "╰─────────────────────────────────────────────────────────────────────────────────────────────────────────────────╯\n"
      ]
     },
     "metadata": {},
     "output_type": "display_data"
    },
    {
     "data": {
      "text/html": [
       "<pre style=\"white-space:pre;overflow-x:auto;line-height:normal;font-family:Menlo,'DejaVu Sans Mono',consolas,'Courier New',monospace\">Observations: <span style=\"font-weight: bold\">(</span><span style=\"color: #800080; text-decoration-color: #800080; font-weight: bold\">Document</span><span style=\"font-weight: bold\">(</span><span style=\"color: #808000; text-decoration-color: #808000\">id</span>=<span style=\"color: #008000; text-decoration-color: #008000\">'6a9f7da2-e0d4-47f2-8d0e-6476ac6b572a'</span>, <span style=\"color: #808000; text-decoration-color: #808000\">metadata</span>=<span style=\"font-weight: bold\">{</span><span style=\"color: #008000; text-decoration-color: #008000\">'document_title'</span>: <span style=\"color: #008000; text-decoration-color: #008000\">''</span>, <span style=\"color: #008000; text-decoration-color: #008000\">'ocr'</span>: <span style=\"color: #ff0000; text-decoration-color: #ff0000; font-style: italic\">False</span>, \n",
       "<span style=\"color: #008000; text-decoration-color: #008000\">'page'</span>: <span style=\"color: #008080; text-decoration-color: #008080; font-weight: bold\">-1</span>, <span style=\"color: #008000; text-decoration-color: #008000\">'source'</span>: <span style=\"color: #008000; text-decoration-color: #008000\">'/home/amaiya/projects/ghub/onprem/nbs/tests/sample_data/docx_example/gen_ai.docx'</span>, \n",
       "<span style=\"color: #008000; text-decoration-color: #008000\">'extension'</span>: <span style=\"color: #008000; text-decoration-color: #008000\">'docx'</span>, <span style=\"color: #008000; text-decoration-color: #008000\">'table_captions'</span>: <span style=\"color: #008000; text-decoration-color: #008000\">''</span>, <span style=\"color: #008000; text-decoration-color: #008000\">'markdown'</span>: <span style=\"color: #ff0000; text-decoration-color: #ff0000; font-style: italic\">False</span>, <span style=\"color: #008000; text-decoration-color: #008000\">'table'</span>: <span style=\"color: #ff0000; text-decoration-color: #ff0000; font-style: italic\">False</span>, <span style=\"color: #008000; text-decoration-color: #008000\">'score'</span>: <span style=\"color: #008080; text-decoration-color: #008080; font-weight: bold\">0.4887685775756836</span><span style=\"font-weight: bold\">}</span>, \n",
       "<span style=\"color: #808000; text-decoration-color: #808000\">page_content</span>=<span style=\"color: #008000; text-decoration-color: #008000\">'Online shopping – personalised recommendations and adverts.\\n\\nDigital assistants, e.g.\\u202fAmazon </span>\n",
       "<span style=\"color: #008000; text-decoration-color: #008000\">Alexa, Google Assistant, Siri.\\n\\nSending an email – spell check and spam filters.\\n\\n\\n\\nTravel and navigation, </span>\n",
       "<span style=\"color: #008000; text-decoration-color: #008000\">e.g. Google Maps.\\n\\nWriting assistants, e.g.  Grammarly.\\n\\nHealth and fitness apps, e.g. Fitbit.\\n\\nSocial media </span>\n",
       "<span style=\"color: #008000; text-decoration-color: #008000\">feeds – AI controls the feeds that you get to see while browsing through social media platforms (e.g., Facebook, X,</span>\n",
       "<span style=\"color: #008000; text-decoration-color: #008000\">Instagram) or the notifications you receive.\\n\\n3. What is generative AI?'</span><span style=\"font-weight: bold\">)</span>, \n",
       "<span style=\"color: #800080; text-decoration-color: #800080; font-weight: bold\">Document</span><span style=\"font-weight: bold\">(</span><span style=\"color: #808000; text-decoration-color: #808000\">id</span>=<span style=\"color: #008000; text-decoration-color: #008000\">'bce3222c-8977-4e15-8ae0-a4fa39fd55ae'</span>, <span style=\"color: #808000; text-decoration-color: #808000\">metadata</span>=<span style=\"font-weight: bold\">{</span><span style=\"color: #008000; text-decoration-color: #008000\">'table'</span>: <span style=\"color: #ff0000; text-decoration-color: #ff0000; font-style: italic\">False</span>, <span style=\"color: #008000; text-decoration-color: #008000\">'source'</span>: \n",
       "<span style=\"color: #008000; text-decoration-color: #008000\">'/home/amaiya/projects/ghub/onprem/nbs/tests/sample_data/docx_example/gen_ai.docx'</span>, <span style=\"color: #008000; text-decoration-color: #008000\">'extension'</span>: <span style=\"color: #008000; text-decoration-color: #008000\">'docx'</span>, \n",
       "<span style=\"color: #008000; text-decoration-color: #008000\">'document_title'</span>: <span style=\"color: #008000; text-decoration-color: #008000\">''</span>, <span style=\"color: #008000; text-decoration-color: #008000\">'page'</span>: <span style=\"color: #008080; text-decoration-color: #008080; font-weight: bold\">-1</span>, <span style=\"color: #008000; text-decoration-color: #008000\">'table_captions'</span>: <span style=\"color: #008000; text-decoration-color: #008000\">''</span>, <span style=\"color: #008000; text-decoration-color: #008000\">'ocr'</span>: <span style=\"color: #ff0000; text-decoration-color: #ff0000; font-style: italic\">False</span>, <span style=\"color: #008000; text-decoration-color: #008000\">'markdown'</span>: <span style=\"color: #ff0000; text-decoration-color: #ff0000; font-style: italic\">False</span>, <span style=\"color: #008000; text-decoration-color: #008000\">'score'</span>: \n",
       "<span style=\"color: #008080; text-decoration-color: #008080; font-weight: bold\">0.4544176459312439</span><span style=\"font-weight: bold\">}</span>, <span style=\"color: #808000; text-decoration-color: #808000\">page_content</span>=<span style=\"color: #008000; text-decoration-color: #008000\">'3. What is generative AI?\\n\\nEven though AI is not new, you have probably been </span>\n",
       "<span style=\"color: #008000; text-decoration-color: #008000\">hearing a lot about easy-to-use, publicly available Generative AI tools like ChatGPT and Google Gemini.\\u202f </span>\n",
       "<span style=\"color: #008000; text-decoration-color: #008000\">\\n\\nBut what is generative AI?\\u202f\\u202f \\n\\nIt is a type of AI technology that automatically generates (or </span>\n",
       "<span style=\"color: #008000; text-decoration-color: #008000\">creates) content in response to prompts given to it by users.\\u202f \\n\\nThese tools can generate text, images, </span>\n",
       "<span style=\"color: #008000; text-decoration-color: #008000\">music, video, code and other formats.'</span><span style=\"font-weight: bold\">)</span>, <span style=\"color: #800080; text-decoration-color: #800080; font-weight: bold\">Document</span><span style=\"font-weight: bold\">(</span><span style=\"color: #808000; text-decoration-color: #808000\">id</span>=<span style=\"color: #008000; text-decoration-color: #008000\">'c62f7e7e-2d1d-464f-949c-e940c0c264ed'</span>, <span style=\"color: #808000; text-decoration-color: #808000\">metadata</span>=<span style=\"font-weight: bold\">{</span><span style=\"color: #008000; text-decoration-color: #008000\">'extension'</span>:\n",
       "<span style=\"color: #008000; text-decoration-color: #008000\">'docx'</span>, <span style=\"color: #008000; text-decoration-color: #008000\">'document_title'</span>: <span style=\"color: #008000; text-decoration-color: #008000\">''</span>, <span style=\"color: #008000; text-decoration-color: #008000\">'source'</span>: \n",
       "<span style=\"color: #008000; text-decoration-color: #008000\">'/home/amaiya/projects/ghub/onprem/nbs/tests/sample_data/docx_example/gen_ai.docx'</span>, <span style=\"color: #008000; text-decoration-color: #008000\">'table_captions'</span>: <span style=\"color: #008000; text-decoration-color: #008000\">''</span>, <span style=\"color: #008000; text-decoration-color: #008000\">'table'</span>: \n",
       "<span style=\"color: #ff0000; text-decoration-color: #ff0000; font-style: italic\">False</span>, <span style=\"color: #008000; text-decoration-color: #008000\">'page'</span>: <span style=\"color: #008080; text-decoration-color: #008080; font-weight: bold\">-1</span>, <span style=\"color: #008000; text-decoration-color: #008000\">'markdown'</span>: <span style=\"color: #ff0000; text-decoration-color: #ff0000; font-style: italic\">False</span>, <span style=\"color: #008000; text-decoration-color: #008000\">'ocr'</span>: <span style=\"color: #ff0000; text-decoration-color: #ff0000; font-style: italic\">False</span>, <span style=\"color: #008000; text-decoration-color: #008000\">'score'</span>: <span style=\"color: #008080; text-decoration-color: #008080; font-weight: bold\">0.4443560242652893</span><span style=\"font-weight: bold\">}</span>, <span style=\"color: #808000; text-decoration-color: #808000\">page_content</span>=<span style=\"color: #008000; text-decoration-color: #008000\">'An introduction to </span>\n",
       "<span style=\"color: #008000; text-decoration-color: #008000\">generative AI\\n\\n1. Introduction\\n\\nThis activity will give a brief overview of what Generative AI is and how it is</span>\n",
       "<span style=\"color: #008000; text-decoration-color: #008000\">being used.\\n\\nUsing this tutorial\\n\\nUse the back and next buttons at the bottom right of the screen to navigate </span>\n",
       "<span style=\"color: #008000; text-decoration-color: #008000\">through the tutorial. Alternatively, use the contents button to jump to a specific page.\\n\\nYou will need to allow </span>\n",
       "<span style=\"color: #008000; text-decoration-color: #008000\">approximately\\xa05\\xa0minutes\\xa0to complete the tutorial.\\n\\nLearning outcomes\\n\\nAfter completing this tutorial </span>\n",
       "<span style=\"color: #008000; text-decoration-color: #008000\">you will be able to:'</span><span style=\"font-weight: bold\">)</span>, <span style=\"color: #800080; text-decoration-color: #800080; font-weight: bold\">Document</span><span style=\"font-weight: bold\">(</span><span style=\"color: #808000; text-decoration-color: #808000\">id</span>=<span style=\"color: #008000; text-decoration-color: #008000\">'17ee8c42-d226-4ec8-beb8-3a3ecfeab459'</span>, <span style=\"color: #808000; text-decoration-color: #808000\">metadata</span>=<span style=\"font-weight: bold\">{</span><span style=\"color: #008000; text-decoration-color: #008000\">'document_title'</span>: <span style=\"color: #008000; text-decoration-color: #008000\">''</span>, \n",
       "<span style=\"color: #008000; text-decoration-color: #008000\">'extension'</span>: <span style=\"color: #008000; text-decoration-color: #008000\">'docx'</span>, <span style=\"color: #008000; text-decoration-color: #008000\">'markdown'</span>: <span style=\"color: #ff0000; text-decoration-color: #ff0000; font-style: italic\">False</span>, <span style=\"color: #008000; text-decoration-color: #008000\">'ocr'</span>: <span style=\"color: #ff0000; text-decoration-color: #ff0000; font-style: italic\">False</span>, <span style=\"color: #008000; text-decoration-color: #008000\">'source'</span>: \n",
       "<span style=\"color: #008000; text-decoration-color: #008000\">'/home/amaiya/projects/ghub/onprem/nbs/tests/sample_data/docx_example/gen_ai.docx'</span>, <span style=\"color: #008000; text-decoration-color: #008000\">'table'</span>: <span style=\"color: #ff0000; text-decoration-color: #ff0000; font-style: italic\">False</span>, \n",
       "<span style=\"color: #008000; text-decoration-color: #008000\">'table_captions'</span>: <span style=\"color: #008000; text-decoration-color: #008000\">''</span>, <span style=\"color: #008000; text-decoration-color: #008000\">'page'</span>: <span style=\"color: #008080; text-decoration-color: #008080; font-weight: bold\">-1</span>, <span style=\"color: #008000; text-decoration-color: #008000\">'score'</span>: <span style=\"color: #008080; text-decoration-color: #008080; font-weight: bold\">0.43533170223236084</span><span style=\"font-weight: bold\">}</span>, <span style=\"color: #808000; text-decoration-color: #808000\">page_content</span>=<span style=\"color: #008000; text-decoration-color: #008000\">'surprisingly knowledgeable, or with </span>\n",
       "<span style=\"color: #008000; text-decoration-color: #008000\">an image / computing code. Although outputs produced by Generative AI tools look plausible, they are often </span>\n",
       "<span style=\"color: #008000; text-decoration-color: #008000\">misleading, made up, or may be entirely wrong.\\n\\nEach response is unique, you will probably never get the exact </span>\n",
       "<span style=\"color: #008000; text-decoration-color: #008000\">same reply twice.\\n\\nResponses are conversational. Once you have asked a question you can just carry on the </span>\n",
       "<span style=\"color: #008000; text-decoration-color: #008000\">conversation by adding new questions or prompts, rather than having to redo your search, as you would in a search </span>\n",
       "<span style=\"color: #008000; text-decoration-color: #008000\">engine like Google.'</span><span style=\"font-weight: bold\">)</span>, <span style=\"color: #800080; text-decoration-color: #800080; font-weight: bold\">Document</span><span style=\"font-weight: bold\">(</span><span style=\"color: #808000; text-decoration-color: #808000\">id</span>=<span style=\"color: #008000; text-decoration-color: #008000\">'d192c472-76a1-4cad-b713-ca28113c28be'</span>, <span style=\"color: #808000; text-decoration-color: #808000\">metadata</span>=<span style=\"font-weight: bold\">{</span><span style=\"color: #008000; text-decoration-color: #008000\">'extension'</span>: <span style=\"color: #008000; text-decoration-color: #008000\">'docx'</span>, \n",
       "<span style=\"color: #008000; text-decoration-color: #008000\">'markdown'</span>: <span style=\"color: #ff0000; text-decoration-color: #ff0000; font-style: italic\">False</span>, <span style=\"color: #008000; text-decoration-color: #008000\">'source'</span>: <span style=\"color: #008000; text-decoration-color: #008000\">'/home/amaiya/projects/ghub/onprem/nbs/tests/sample_data/docx_example/gen_ai.docx'</span>, \n",
       "<span style=\"color: #008000; text-decoration-color: #008000\">'table_captions'</span>: <span style=\"color: #008000; text-decoration-color: #008000\">''</span>, <span style=\"color: #008000; text-decoration-color: #008000\">'table'</span>: <span style=\"color: #ff0000; text-decoration-color: #ff0000; font-style: italic\">False</span>, <span style=\"color: #008000; text-decoration-color: #008000\">'page'</span>: <span style=\"color: #008080; text-decoration-color: #008080; font-weight: bold\">-1</span>, <span style=\"color: #008000; text-decoration-color: #008000\">'document_title'</span>: <span style=\"color: #008000; text-decoration-color: #008000\">''</span>, <span style=\"color: #008000; text-decoration-color: #008000\">'ocr'</span>: <span style=\"color: #ff0000; text-decoration-color: #ff0000; font-style: italic\">False</span>, <span style=\"color: #008000; text-decoration-color: #008000\">'score'</span>: <span style=\"color: #008080; text-decoration-color: #008080; font-weight: bold\">0.4241805672645569</span><span style=\"font-weight: bold\">}</span>,\n",
       "<span style=\"color: #808000; text-decoration-color: #808000\">page_content</span>=<span style=\"color: #008000; text-decoration-color: #008000\">'Question 3 of 5\\n\\nWhich of the following is a text generative AI tool?\\n\\nSpotify\\n\\nGoogle </span>\n",
       "<span style=\"color: #008000; text-decoration-color: #008000\">Maps\\n\\nDall-E2\\n\\nChatGPT\\n\\nQuestion 3 Feedback for Option 1\\n\\nFalse. Spotify uses AI for music recommendations,</span>\n",
       "<span style=\"color: #008000; text-decoration-color: #008000\">not text generation.\\n\\nQuestion 3 Feedback for Option 2\\n\\nFalse. Google Maps uses AI for navigation and travel </span>\n",
       "<span style=\"color: #008000; text-decoration-color: #008000\">information, not text generation.\\n\\n\\n\\nQuestion 3 Feedback for Option 3\\n\\nFalse. DALL-E2 generates images and </span>\n",
       "<span style=\"color: #008000; text-decoration-color: #008000\">art, not text.\\n\\nQuestion 3 Feedback for Option 4'</span><span style=\"font-weight: bold\">))</span>\n",
       "</pre>\n"
      ],
      "text/plain": [
       "Observations: \u001b[1m(\u001b[0m\u001b[1;35mDocument\u001b[0m\u001b[1m(\u001b[0m\u001b[33mid\u001b[0m=\u001b[32m'6a9f7da2-e0d4-47f2-8d0e-6476ac6b572a'\u001b[0m, \u001b[33mmetadata\u001b[0m=\u001b[1m{\u001b[0m\u001b[32m'document_title'\u001b[0m: \u001b[32m''\u001b[0m, \u001b[32m'ocr'\u001b[0m: \u001b[3;91mFalse\u001b[0m, \n",
       "\u001b[32m'page'\u001b[0m: \u001b[1;36m-1\u001b[0m, \u001b[32m'source'\u001b[0m: \u001b[32m'/home/amaiya/projects/ghub/onprem/nbs/tests/sample_data/docx_example/gen_ai.docx'\u001b[0m, \n",
       "\u001b[32m'extension'\u001b[0m: \u001b[32m'docx'\u001b[0m, \u001b[32m'table_captions'\u001b[0m: \u001b[32m''\u001b[0m, \u001b[32m'markdown'\u001b[0m: \u001b[3;91mFalse\u001b[0m, \u001b[32m'table'\u001b[0m: \u001b[3;91mFalse\u001b[0m, \u001b[32m'score'\u001b[0m: \u001b[1;36m0.4887685775756836\u001b[0m\u001b[1m}\u001b[0m, \n",
       "\u001b[33mpage_content\u001b[0m=\u001b[32m'Online shopping – personalised recommendations and adverts.\\n\\nDigital assistants, e.g.\\u202fAmazon \u001b[0m\n",
       "\u001b[32mAlexa, Google Assistant, Siri.\\n\\nSending an email – spell check and spam filters.\\n\\n\\n\\nTravel and navigation, \u001b[0m\n",
       "\u001b[32me.g. Google Maps.\\n\\nWriting assistants, e.g.  Grammarly.\\n\\nHealth and fitness apps, e.g. Fitbit.\\n\\nSocial media \u001b[0m\n",
       "\u001b[32mfeeds – AI controls the feeds that you get to see while browsing through social media platforms \u001b[0m\u001b[32m(\u001b[0m\u001b[32me.g., Facebook, X,\u001b[0m\n",
       "\u001b[32mInstagram\u001b[0m\u001b[32m)\u001b[0m\u001b[32m or the notifications you receive.\\n\\n3. What is generative AI?'\u001b[0m\u001b[1m)\u001b[0m, \n",
       "\u001b[1;35mDocument\u001b[0m\u001b[1m(\u001b[0m\u001b[33mid\u001b[0m=\u001b[32m'bce3222c-8977-4e15-8ae0-a4fa39fd55ae'\u001b[0m, \u001b[33mmetadata\u001b[0m=\u001b[1m{\u001b[0m\u001b[32m'table'\u001b[0m: \u001b[3;91mFalse\u001b[0m, \u001b[32m'source'\u001b[0m: \n",
       "\u001b[32m'/home/amaiya/projects/ghub/onprem/nbs/tests/sample_data/docx_example/gen_ai.docx'\u001b[0m, \u001b[32m'extension'\u001b[0m: \u001b[32m'docx'\u001b[0m, \n",
       "\u001b[32m'document_title'\u001b[0m: \u001b[32m''\u001b[0m, \u001b[32m'page'\u001b[0m: \u001b[1;36m-1\u001b[0m, \u001b[32m'table_captions'\u001b[0m: \u001b[32m''\u001b[0m, \u001b[32m'ocr'\u001b[0m: \u001b[3;91mFalse\u001b[0m, \u001b[32m'markdown'\u001b[0m: \u001b[3;91mFalse\u001b[0m, \u001b[32m'score'\u001b[0m: \n",
       "\u001b[1;36m0.4544176459312439\u001b[0m\u001b[1m}\u001b[0m, \u001b[33mpage_content\u001b[0m=\u001b[32m'3. What is generative AI?\\n\\nEven though AI is not new, you have probably been \u001b[0m\n",
       "\u001b[32mhearing a lot about easy-to-use, publicly available Generative AI tools like ChatGPT and Google Gemini.\\u202f \u001b[0m\n",
       "\u001b[32m\\n\\nBut what is generative AI?\\u202f\\u202f \\n\\nIt is a type of AI technology that automatically generates \u001b[0m\u001b[32m(\u001b[0m\u001b[32mor \u001b[0m\n",
       "\u001b[32mcreates\u001b[0m\u001b[32m)\u001b[0m\u001b[32m content in response to prompts given to it by users.\\u202f \\n\\nThese tools can generate text, images, \u001b[0m\n",
       "\u001b[32mmusic, video, code and other formats.'\u001b[0m\u001b[1m)\u001b[0m, \u001b[1;35mDocument\u001b[0m\u001b[1m(\u001b[0m\u001b[33mid\u001b[0m=\u001b[32m'c62f7e7e-2d1d-464f-949c-e940c0c264ed'\u001b[0m, \u001b[33mmetadata\u001b[0m=\u001b[1m{\u001b[0m\u001b[32m'extension'\u001b[0m:\n",
       "\u001b[32m'docx'\u001b[0m, \u001b[32m'document_title'\u001b[0m: \u001b[32m''\u001b[0m, \u001b[32m'source'\u001b[0m: \n",
       "\u001b[32m'/home/amaiya/projects/ghub/onprem/nbs/tests/sample_data/docx_example/gen_ai.docx'\u001b[0m, \u001b[32m'table_captions'\u001b[0m: \u001b[32m''\u001b[0m, \u001b[32m'table'\u001b[0m: \n",
       "\u001b[3;91mFalse\u001b[0m, \u001b[32m'page'\u001b[0m: \u001b[1;36m-1\u001b[0m, \u001b[32m'markdown'\u001b[0m: \u001b[3;91mFalse\u001b[0m, \u001b[32m'ocr'\u001b[0m: \u001b[3;91mFalse\u001b[0m, \u001b[32m'score'\u001b[0m: \u001b[1;36m0.4443560242652893\u001b[0m\u001b[1m}\u001b[0m, \u001b[33mpage_content\u001b[0m=\u001b[32m'An introduction to \u001b[0m\n",
       "\u001b[32mgenerative AI\\n\\n1. Introduction\\n\\nThis activity will give a brief overview of what Generative AI is and how it is\u001b[0m\n",
       "\u001b[32mbeing used.\\n\\nUsing this tutorial\\n\\nUse the back and next buttons at the bottom right of the screen to navigate \u001b[0m\n",
       "\u001b[32mthrough the tutorial. Alternatively, use the contents button to jump to a specific page.\\n\\nYou will need to allow \u001b[0m\n",
       "\u001b[32mapproximately\\xa05\\xa0minutes\\xa0to complete the tutorial.\\n\\nLearning outcomes\\n\\nAfter completing this tutorial \u001b[0m\n",
       "\u001b[32myou will be able to:'\u001b[0m\u001b[1m)\u001b[0m, \u001b[1;35mDocument\u001b[0m\u001b[1m(\u001b[0m\u001b[33mid\u001b[0m=\u001b[32m'17ee8c42-d226-4ec8-beb8-3a3ecfeab459'\u001b[0m, \u001b[33mmetadata\u001b[0m=\u001b[1m{\u001b[0m\u001b[32m'document_title'\u001b[0m: \u001b[32m''\u001b[0m, \n",
       "\u001b[32m'extension'\u001b[0m: \u001b[32m'docx'\u001b[0m, \u001b[32m'markdown'\u001b[0m: \u001b[3;91mFalse\u001b[0m, \u001b[32m'ocr'\u001b[0m: \u001b[3;91mFalse\u001b[0m, \u001b[32m'source'\u001b[0m: \n",
       "\u001b[32m'/home/amaiya/projects/ghub/onprem/nbs/tests/sample_data/docx_example/gen_ai.docx'\u001b[0m, \u001b[32m'table'\u001b[0m: \u001b[3;91mFalse\u001b[0m, \n",
       "\u001b[32m'table_captions'\u001b[0m: \u001b[32m''\u001b[0m, \u001b[32m'page'\u001b[0m: \u001b[1;36m-1\u001b[0m, \u001b[32m'score'\u001b[0m: \u001b[1;36m0.43533170223236084\u001b[0m\u001b[1m}\u001b[0m, \u001b[33mpage_content\u001b[0m=\u001b[32m'surprisingly knowledgeable, or with \u001b[0m\n",
       "\u001b[32man image / computing code. Although outputs produced by Generative AI tools look plausible, they are often \u001b[0m\n",
       "\u001b[32mmisleading, made up, or may be entirely wrong.\\n\\nEach response is unique, you will probably never get the exact \u001b[0m\n",
       "\u001b[32msame reply twice.\\n\\nResponses are conversational. Once you have asked a question you can just carry on the \u001b[0m\n",
       "\u001b[32mconversation by adding new questions or prompts, rather than having to redo your search, as you would in a search \u001b[0m\n",
       "\u001b[32mengine like Google.'\u001b[0m\u001b[1m)\u001b[0m, \u001b[1;35mDocument\u001b[0m\u001b[1m(\u001b[0m\u001b[33mid\u001b[0m=\u001b[32m'd192c472-76a1-4cad-b713-ca28113c28be'\u001b[0m, \u001b[33mmetadata\u001b[0m=\u001b[1m{\u001b[0m\u001b[32m'extension'\u001b[0m: \u001b[32m'docx'\u001b[0m, \n",
       "\u001b[32m'markdown'\u001b[0m: \u001b[3;91mFalse\u001b[0m, \u001b[32m'source'\u001b[0m: \u001b[32m'/home/amaiya/projects/ghub/onprem/nbs/tests/sample_data/docx_example/gen_ai.docx'\u001b[0m, \n",
       "\u001b[32m'table_captions'\u001b[0m: \u001b[32m''\u001b[0m, \u001b[32m'table'\u001b[0m: \u001b[3;91mFalse\u001b[0m, \u001b[32m'page'\u001b[0m: \u001b[1;36m-1\u001b[0m, \u001b[32m'document_title'\u001b[0m: \u001b[32m''\u001b[0m, \u001b[32m'ocr'\u001b[0m: \u001b[3;91mFalse\u001b[0m, \u001b[32m'score'\u001b[0m: \u001b[1;36m0.4241805672645569\u001b[0m\u001b[1m}\u001b[0m,\n",
       "\u001b[33mpage_content\u001b[0m=\u001b[32m'Question 3 of 5\\n\\nWhich of the following is a text generative AI tool?\\n\\nSpotify\\n\\nGoogle \u001b[0m\n",
       "\u001b[32mMaps\\n\\nDall-E2\\n\\nChatGPT\\n\\nQuestion 3 Feedback for Option 1\\n\\nFalse. Spotify uses AI for music recommendations,\u001b[0m\n",
       "\u001b[32mnot text generation.\\n\\nQuestion 3 Feedback for Option 2\\n\\nFalse. Google Maps uses AI for navigation and travel \u001b[0m\n",
       "\u001b[32minformation, not text generation.\\n\\n\\n\\nQuestion 3 Feedback for Option 3\\n\\nFalse. DALL-E2 generates images and \u001b[0m\n",
       "\u001b[32mart, not text.\\n\\nQuestion 3 Feedback for Option 4'\u001b[0m\u001b[1m)\u001b[0m\u001b[1m)\u001b[0m\n"
      ]
     },
     "metadata": {},
     "output_type": "display_data"
    },
    {
     "data": {
      "text/html": [
       "<pre style=\"white-space:pre;overflow-x:auto;line-height:normal;font-family:Menlo,'DejaVu Sans Mono',consolas,'Courier New',monospace\"><span style=\"color: #7f7f7f; text-decoration-color: #7f7f7f\">[Step 3: Duration 1.13 seconds]</span>\n",
       "</pre>\n"
      ],
      "text/plain": [
       "\u001b[2m[Step 3: Duration 1.13 seconds]\u001b[0m\n"
      ]
     },
     "metadata": {},
     "output_type": "display_data"
    },
    {
     "data": {
      "text/html": [
       "<pre style=\"white-space:pre;overflow-x:auto;line-height:normal;font-family:Menlo,'DejaVu Sans Mono',consolas,'Courier New',monospace\"><span style=\"color: #d4b702; text-decoration-color: #d4b702\">━━━━━━━━━━━━━━━━━━━━━━━━━━━━━━━━━━━━━━━━━━━━━━━━━━━━━ </span><span style=\"font-weight: bold\">Step </span><span style=\"color: #008080; text-decoration-color: #008080; font-weight: bold\">4</span><span style=\"color: #d4b702; text-decoration-color: #d4b702\"> ━━━━━━━━━━━━━━━━━━━━━━━━━━━━━━━━━━━━━━━━━━━━━━━━━━━━━━</span>\n",
       "</pre>\n"
      ],
      "text/plain": [
       "\u001b[38;2;212;183;2m━━━━━━━━━━━━━━━━━━━━━━━━━━━━━━━━━━━━━━━━━━━━━━━━━━━━━ \u001b[0m\u001b[1mStep \u001b[0m\u001b[1;36m4\u001b[0m\u001b[38;2;212;183;2m ━━━━━━━━━━━━━━━━━━━━━━━━━━━━━━━━━━━━━━━━━━━━━━━━━━━━━━\u001b[0m\n"
      ]
     },
     "metadata": {},
     "output_type": "display_data"
    },
    {
     "data": {
      "text/html": [
       "<pre style=\"white-space:pre;overflow-x:auto;line-height:normal;font-family:Menlo,'DejaVu Sans Mono',consolas,'Courier New',monospace\">╭─────────────────────────────────────────────────────────────────────────────────────────────────────────────────╮\n",
       "│ Calling tool: 'genai' with arguments: {'query': 'Generative AI use cases in creative industries such as art and │\n",
       "│ music'}                                                                                                         │\n",
       "╰─────────────────────────────────────────────────────────────────────────────────────────────────────────────────╯\n",
       "</pre>\n"
      ],
      "text/plain": [
       "╭─────────────────────────────────────────────────────────────────────────────────────────────────────────────────╮\n",
       "│ Calling tool: 'genai' with arguments: {'query': 'Generative AI use cases in creative industries such as art and │\n",
       "│ music'}                                                                                                         │\n",
       "╰─────────────────────────────────────────────────────────────────────────────────────────────────────────────────╯\n"
      ]
     },
     "metadata": {},
     "output_type": "display_data"
    },
    {
     "data": {
      "text/html": [
       "<pre style=\"white-space:pre;overflow-x:auto;line-height:normal;font-family:Menlo,'DejaVu Sans Mono',consolas,'Courier New',monospace\">Observations: <span style=\"font-weight: bold\">(</span><span style=\"color: #800080; text-decoration-color: #800080; font-weight: bold\">Document</span><span style=\"font-weight: bold\">(</span><span style=\"color: #808000; text-decoration-color: #808000\">id</span>=<span style=\"color: #008000; text-decoration-color: #008000\">'bce3222c-8977-4e15-8ae0-a4fa39fd55ae'</span>, <span style=\"color: #808000; text-decoration-color: #808000\">metadata</span>=<span style=\"font-weight: bold\">{</span><span style=\"color: #008000; text-decoration-color: #008000\">'document_title'</span>: <span style=\"color: #008000; text-decoration-color: #008000\">''</span>, <span style=\"color: #008000; text-decoration-color: #008000\">'source'</span>: \n",
       "<span style=\"color: #008000; text-decoration-color: #008000\">'/home/amaiya/projects/ghub/onprem/nbs/tests/sample_data/docx_example/gen_ai.docx'</span>, <span style=\"color: #008000; text-decoration-color: #008000\">'table'</span>: <span style=\"color: #ff0000; text-decoration-color: #ff0000; font-style: italic\">False</span>, <span style=\"color: #008000; text-decoration-color: #008000\">'page'</span>: <span style=\"color: #008080; text-decoration-color: #008080; font-weight: bold\">-1</span>, \n",
       "<span style=\"color: #008000; text-decoration-color: #008000\">'ocr'</span>: <span style=\"color: #ff0000; text-decoration-color: #ff0000; font-style: italic\">False</span>, <span style=\"color: #008000; text-decoration-color: #008000\">'table_captions'</span>: <span style=\"color: #008000; text-decoration-color: #008000\">''</span>, <span style=\"color: #008000; text-decoration-color: #008000\">'extension'</span>: <span style=\"color: #008000; text-decoration-color: #008000\">'docx'</span>, <span style=\"color: #008000; text-decoration-color: #008000\">'markdown'</span>: <span style=\"color: #ff0000; text-decoration-color: #ff0000; font-style: italic\">False</span>, <span style=\"color: #008000; text-decoration-color: #008000\">'score'</span>: <span style=\"color: #008080; text-decoration-color: #008080; font-weight: bold\">0.5533968210220337</span><span style=\"font-weight: bold\">}</span>, \n",
       "<span style=\"color: #808000; text-decoration-color: #808000\">page_content</span>=<span style=\"color: #008000; text-decoration-color: #008000\">'3. What is generative AI?\\n\\nEven though AI is not new, you have probably been hearing a lot about </span>\n",
       "<span style=\"color: #008000; text-decoration-color: #008000\">easy-to-use, publicly available Generative AI tools like ChatGPT and Google Gemini.\\u202f \\n\\nBut what is </span>\n",
       "<span style=\"color: #008000; text-decoration-color: #008000\">generative AI?\\u202f\\u202f \\n\\nIt is a type of AI technology that automatically generates (or creates) content in </span>\n",
       "<span style=\"color: #008000; text-decoration-color: #008000\">response to prompts given to it by users.\\u202f \\n\\nThese tools can generate text, images, music, video, code and </span>\n",
       "<span style=\"color: #008000; text-decoration-color: #008000\">other formats.'</span><span style=\"font-weight: bold\">)</span>, <span style=\"color: #800080; text-decoration-color: #800080; font-weight: bold\">Document</span><span style=\"font-weight: bold\">(</span><span style=\"color: #808000; text-decoration-color: #808000\">id</span>=<span style=\"color: #008000; text-decoration-color: #008000\">'c62f7e7e-2d1d-464f-949c-e940c0c264ed'</span>, <span style=\"color: #808000; text-decoration-color: #808000\">metadata</span>=<span style=\"font-weight: bold\">{</span><span style=\"color: #008000; text-decoration-color: #008000\">'table'</span>: <span style=\"color: #ff0000; text-decoration-color: #ff0000; font-style: italic\">False</span>, <span style=\"color: #008000; text-decoration-color: #008000\">'page'</span>: <span style=\"color: #008080; text-decoration-color: #008080; font-weight: bold\">-1</span>, \n",
       "<span style=\"color: #008000; text-decoration-color: #008000\">'document_title'</span>: <span style=\"color: #008000; text-decoration-color: #008000\">''</span>, <span style=\"color: #008000; text-decoration-color: #008000\">'extension'</span>: <span style=\"color: #008000; text-decoration-color: #008000\">'docx'</span>, <span style=\"color: #008000; text-decoration-color: #008000\">'markdown'</span>: <span style=\"color: #ff0000; text-decoration-color: #ff0000; font-style: italic\">False</span>, <span style=\"color: #008000; text-decoration-color: #008000\">'source'</span>: \n",
       "<span style=\"color: #008000; text-decoration-color: #008000\">'/home/amaiya/projects/ghub/onprem/nbs/tests/sample_data/docx_example/gen_ai.docx'</span>, <span style=\"color: #008000; text-decoration-color: #008000\">'ocr'</span>: <span style=\"color: #ff0000; text-decoration-color: #ff0000; font-style: italic\">False</span>, <span style=\"color: #008000; text-decoration-color: #008000\">'table_captions'</span>:\n",
       "<span style=\"color: #008000; text-decoration-color: #008000\">''</span>, <span style=\"color: #008000; text-decoration-color: #008000\">'score'</span>: <span style=\"color: #008080; text-decoration-color: #008080; font-weight: bold\">0.5046184062957764</span><span style=\"font-weight: bold\">}</span>, <span style=\"color: #808000; text-decoration-color: #808000\">page_content</span>=<span style=\"color: #008000; text-decoration-color: #008000\">'An introduction to generative AI\\n\\n1. Introduction\\n\\nThis </span>\n",
       "<span style=\"color: #008000; text-decoration-color: #008000\">activity will give a brief overview of what Generative AI is and how it is being used.\\n\\nUsing this </span>\n",
       "<span style=\"color: #008000; text-decoration-color: #008000\">tutorial\\n\\nUse the back and next buttons at the bottom right of the screen to navigate through the tutorial. </span>\n",
       "<span style=\"color: #008000; text-decoration-color: #008000\">Alternatively, use the contents button to jump to a specific page.\\n\\nYou will need to allow </span>\n",
       "<span style=\"color: #008000; text-decoration-color: #008000\">approximately\\xa05\\xa0minutes\\xa0to complete the tutorial.\\n\\nLearning outcomes\\n\\nAfter completing this tutorial </span>\n",
       "<span style=\"color: #008000; text-decoration-color: #008000\">you will be able to:'</span><span style=\"font-weight: bold\">)</span>, <span style=\"color: #800080; text-decoration-color: #800080; font-weight: bold\">Document</span><span style=\"font-weight: bold\">(</span><span style=\"color: #808000; text-decoration-color: #808000\">id</span>=<span style=\"color: #008000; text-decoration-color: #008000\">'d192c472-76a1-4cad-b713-ca28113c28be'</span>, <span style=\"color: #808000; text-decoration-color: #808000\">metadata</span>=<span style=\"font-weight: bold\">{</span><span style=\"color: #008000; text-decoration-color: #008000\">'page'</span>: <span style=\"color: #008080; text-decoration-color: #008080; font-weight: bold\">-1</span>, <span style=\"color: #008000; text-decoration-color: #008000\">'table_captions'</span>:\n",
       "<span style=\"color: #008000; text-decoration-color: #008000\">''</span>, <span style=\"color: #008000; text-decoration-color: #008000\">'extension'</span>: <span style=\"color: #008000; text-decoration-color: #008000\">'docx'</span>, <span style=\"color: #008000; text-decoration-color: #008000\">'document_title'</span>: <span style=\"color: #008000; text-decoration-color: #008000\">''</span>, <span style=\"color: #008000; text-decoration-color: #008000\">'table'</span>: <span style=\"color: #ff0000; text-decoration-color: #ff0000; font-style: italic\">False</span>, <span style=\"color: #008000; text-decoration-color: #008000\">'markdown'</span>: <span style=\"color: #ff0000; text-decoration-color: #ff0000; font-style: italic\">False</span>, <span style=\"color: #008000; text-decoration-color: #008000\">'ocr'</span>: <span style=\"color: #ff0000; text-decoration-color: #ff0000; font-style: italic\">False</span>, <span style=\"color: #008000; text-decoration-color: #008000\">'source'</span>: \n",
       "<span style=\"color: #008000; text-decoration-color: #008000\">'/home/amaiya/projects/ghub/onprem/nbs/tests/sample_data/docx_example/gen_ai.docx'</span>, <span style=\"color: #008000; text-decoration-color: #008000\">'score'</span>: <span style=\"color: #008080; text-decoration-color: #008080; font-weight: bold\">0.5010679960250854</span><span style=\"font-weight: bold\">}</span>, \n",
       "<span style=\"color: #808000; text-decoration-color: #808000\">page_content</span>=<span style=\"color: #008000; text-decoration-color: #008000\">'Question 3 of 5\\n\\nWhich of the following is a text generative AI tool?\\n\\nSpotify\\n\\nGoogle </span>\n",
       "<span style=\"color: #008000; text-decoration-color: #008000\">Maps\\n\\nDall-E2\\n\\nChatGPT\\n\\nQuestion 3 Feedback for Option 1\\n\\nFalse. Spotify uses AI for music recommendations,</span>\n",
       "<span style=\"color: #008000; text-decoration-color: #008000\">not text generation.\\n\\nQuestion 3 Feedback for Option 2\\n\\nFalse. Google Maps uses AI for navigation and travel </span>\n",
       "<span style=\"color: #008000; text-decoration-color: #008000\">information, not text generation.\\n\\n\\n\\nQuestion 3 Feedback for Option 3\\n\\nFalse. DALL-E2 generates images and </span>\n",
       "<span style=\"color: #008000; text-decoration-color: #008000\">art, not text.\\n\\nQuestion 3 Feedback for Option 4'</span><span style=\"font-weight: bold\">)</span>, <span style=\"color: #800080; text-decoration-color: #800080; font-weight: bold\">Document</span><span style=\"font-weight: bold\">(</span><span style=\"color: #808000; text-decoration-color: #808000\">id</span>=<span style=\"color: #008000; text-decoration-color: #008000\">'9ff29816-b12e-4835-8d2e-f02de6bb1908'</span>, \n",
       "<span style=\"color: #808000; text-decoration-color: #808000\">metadata</span>=<span style=\"font-weight: bold\">{</span><span style=\"color: #008000; text-decoration-color: #008000\">'extension'</span>: <span style=\"color: #008000; text-decoration-color: #008000\">'docx'</span>, <span style=\"color: #008000; text-decoration-color: #008000\">'table_captions'</span>: <span style=\"color: #008000; text-decoration-color: #008000\">''</span>, <span style=\"color: #008000; text-decoration-color: #008000\">'document_title'</span>: <span style=\"color: #008000; text-decoration-color: #008000\">''</span>, <span style=\"color: #008000; text-decoration-color: #008000\">'page'</span>: <span style=\"color: #008080; text-decoration-color: #008080; font-weight: bold\">-1</span>, <span style=\"color: #008000; text-decoration-color: #008000\">'source'</span>: \n",
       "<span style=\"color: #008000; text-decoration-color: #008000\">'/home/amaiya/projects/ghub/onprem/nbs/tests/sample_data/docx_example/gen_ai.docx'</span>, <span style=\"color: #008000; text-decoration-color: #008000\">'ocr'</span>: <span style=\"color: #ff0000; text-decoration-color: #ff0000; font-style: italic\">False</span>, <span style=\"color: #008000; text-decoration-color: #008000\">'markdown'</span>: \n",
       "<span style=\"color: #ff0000; text-decoration-color: #ff0000; font-style: italic\">False</span>, <span style=\"color: #008000; text-decoration-color: #008000\">'table'</span>: <span style=\"color: #ff0000; text-decoration-color: #ff0000; font-style: italic\">False</span>, <span style=\"color: #008000; text-decoration-color: #008000\">'score'</span>: <span style=\"color: #008080; text-decoration-color: #008080; font-weight: bold\">0.486774742603302</span><span style=\"font-weight: bold\">}</span>, <span style=\"color: #808000; text-decoration-color: #808000\">page_content</span>=<span style=\"color: #008000; text-decoration-color: #008000\">'Recognise generative AI in daily life: Identify </span>\n",
       "<span style=\"color: #008000; text-decoration-color: #008000\">common generative AI applications like chatbots, facial recognition, streaming services, and digital </span>\n",
       "<span style=\"color: #008000; text-decoration-color: #008000\">assistants.\\n\\nUnderstand generative AI: Explain generative AI and its ability to create diverse content such as </span>\n",
       "<span style=\"color: #008000; text-decoration-color: #008000\">text, images, music, video, and code.\\n\\nDescribe LLMs: Understand how\\xa0Large Language Models (LLMs) work.\\n\\n2. </span>\n",
       "<span style=\"color: #008000; text-decoration-color: #008000\">Examples of AI in everyday life'</span><span style=\"font-weight: bold\">)</span>, <span style=\"color: #800080; text-decoration-color: #800080; font-weight: bold\">Document</span><span style=\"font-weight: bold\">(</span><span style=\"color: #808000; text-decoration-color: #808000\">id</span>=<span style=\"color: #008000; text-decoration-color: #008000\">'6a9f7da2-e0d4-47f2-8d0e-6476ac6b572a'</span>, <span style=\"color: #808000; text-decoration-color: #808000\">metadata</span>=<span style=\"font-weight: bold\">{</span><span style=\"color: #008000; text-decoration-color: #008000\">'document_title'</span>: \n",
       "<span style=\"color: #008000; text-decoration-color: #008000\">''</span>, <span style=\"color: #008000; text-decoration-color: #008000\">'extension'</span>: <span style=\"color: #008000; text-decoration-color: #008000\">'docx'</span>, <span style=\"color: #008000; text-decoration-color: #008000\">'ocr'</span>: <span style=\"color: #ff0000; text-decoration-color: #ff0000; font-style: italic\">False</span>, <span style=\"color: #008000; text-decoration-color: #008000\">'table'</span>: <span style=\"color: #ff0000; text-decoration-color: #ff0000; font-style: italic\">False</span>, <span style=\"color: #008000; text-decoration-color: #008000\">'markdown'</span>: <span style=\"color: #ff0000; text-decoration-color: #ff0000; font-style: italic\">False</span>, <span style=\"color: #008000; text-decoration-color: #008000\">'source'</span>: \n",
       "<span style=\"color: #008000; text-decoration-color: #008000\">'/home/amaiya/projects/ghub/onprem/nbs/tests/sample_data/docx_example/gen_ai.docx'</span>, <span style=\"color: #008000; text-decoration-color: #008000\">'page'</span>: <span style=\"color: #008080; text-decoration-color: #008080; font-weight: bold\">-1</span>, <span style=\"color: #008000; text-decoration-color: #008000\">'table_captions'</span>: \n",
       "<span style=\"color: #008000; text-decoration-color: #008000\">''</span>, <span style=\"color: #008000; text-decoration-color: #008000\">'score'</span>: <span style=\"color: #008080; text-decoration-color: #008080; font-weight: bold\">0.47742533683776855</span><span style=\"font-weight: bold\">}</span>, <span style=\"color: #808000; text-decoration-color: #808000\">page_content</span>=<span style=\"color: #008000; text-decoration-color: #008000\">'Online shopping – personalised recommendations and </span>\n",
       "<span style=\"color: #008000; text-decoration-color: #008000\">adverts.\\n\\nDigital assistants, e.g.\\u202fAmazon Alexa, Google Assistant, Siri.\\n\\nSending an email – spell check </span>\n",
       "<span style=\"color: #008000; text-decoration-color: #008000\">and spam filters.\\n\\n\\n\\nTravel and navigation, e.g. Google Maps.\\n\\nWriting assistants, e.g.  Grammarly.\\n\\nHealth</span>\n",
       "<span style=\"color: #008000; text-decoration-color: #008000\">and fitness apps, e.g. Fitbit.\\n\\nSocial media feeds – AI controls the feeds that you get to see while browsing </span>\n",
       "<span style=\"color: #008000; text-decoration-color: #008000\">through social media platforms (e.g., Facebook, X, Instagram) or the notifications you receive.\\n\\n3. What is </span>\n",
       "<span style=\"color: #008000; text-decoration-color: #008000\">generative AI?'</span><span style=\"font-weight: bold\">))</span>\n",
       "</pre>\n"
      ],
      "text/plain": [
       "Observations: \u001b[1m(\u001b[0m\u001b[1;35mDocument\u001b[0m\u001b[1m(\u001b[0m\u001b[33mid\u001b[0m=\u001b[32m'bce3222c-8977-4e15-8ae0-a4fa39fd55ae'\u001b[0m, \u001b[33mmetadata\u001b[0m=\u001b[1m{\u001b[0m\u001b[32m'document_title'\u001b[0m: \u001b[32m''\u001b[0m, \u001b[32m'source'\u001b[0m: \n",
       "\u001b[32m'/home/amaiya/projects/ghub/onprem/nbs/tests/sample_data/docx_example/gen_ai.docx'\u001b[0m, \u001b[32m'table'\u001b[0m: \u001b[3;91mFalse\u001b[0m, \u001b[32m'page'\u001b[0m: \u001b[1;36m-1\u001b[0m, \n",
       "\u001b[32m'ocr'\u001b[0m: \u001b[3;91mFalse\u001b[0m, \u001b[32m'table_captions'\u001b[0m: \u001b[32m''\u001b[0m, \u001b[32m'extension'\u001b[0m: \u001b[32m'docx'\u001b[0m, \u001b[32m'markdown'\u001b[0m: \u001b[3;91mFalse\u001b[0m, \u001b[32m'score'\u001b[0m: \u001b[1;36m0.5533968210220337\u001b[0m\u001b[1m}\u001b[0m, \n",
       "\u001b[33mpage_content\u001b[0m=\u001b[32m'3. What is generative AI?\\n\\nEven though AI is not new, you have probably been hearing a lot about \u001b[0m\n",
       "\u001b[32measy-to-use, publicly available Generative AI tools like ChatGPT and Google Gemini.\\u202f \\n\\nBut what is \u001b[0m\n",
       "\u001b[32mgenerative AI?\\u202f\\u202f \\n\\nIt is a type of AI technology that automatically generates \u001b[0m\u001b[32m(\u001b[0m\u001b[32mor creates\u001b[0m\u001b[32m)\u001b[0m\u001b[32m content in \u001b[0m\n",
       "\u001b[32mresponse to prompts given to it by users.\\u202f \\n\\nThese tools can generate text, images, music, video, code and \u001b[0m\n",
       "\u001b[32mother formats.'\u001b[0m\u001b[1m)\u001b[0m, \u001b[1;35mDocument\u001b[0m\u001b[1m(\u001b[0m\u001b[33mid\u001b[0m=\u001b[32m'c62f7e7e-2d1d-464f-949c-e940c0c264ed'\u001b[0m, \u001b[33mmetadata\u001b[0m=\u001b[1m{\u001b[0m\u001b[32m'table'\u001b[0m: \u001b[3;91mFalse\u001b[0m, \u001b[32m'page'\u001b[0m: \u001b[1;36m-1\u001b[0m, \n",
       "\u001b[32m'document_title'\u001b[0m: \u001b[32m''\u001b[0m, \u001b[32m'extension'\u001b[0m: \u001b[32m'docx'\u001b[0m, \u001b[32m'markdown'\u001b[0m: \u001b[3;91mFalse\u001b[0m, \u001b[32m'source'\u001b[0m: \n",
       "\u001b[32m'/home/amaiya/projects/ghub/onprem/nbs/tests/sample_data/docx_example/gen_ai.docx'\u001b[0m, \u001b[32m'ocr'\u001b[0m: \u001b[3;91mFalse\u001b[0m, \u001b[32m'table_captions'\u001b[0m:\n",
       "\u001b[32m''\u001b[0m, \u001b[32m'score'\u001b[0m: \u001b[1;36m0.5046184062957764\u001b[0m\u001b[1m}\u001b[0m, \u001b[33mpage_content\u001b[0m=\u001b[32m'An introduction to generative AI\\n\\n1. Introduction\\n\\nThis \u001b[0m\n",
       "\u001b[32mactivity will give a brief overview of what Generative AI is and how it is being used.\\n\\nUsing this \u001b[0m\n",
       "\u001b[32mtutorial\\n\\nUse the back and next buttons at the bottom right of the screen to navigate through the tutorial. \u001b[0m\n",
       "\u001b[32mAlternatively, use the contents button to jump to a specific page.\\n\\nYou will need to allow \u001b[0m\n",
       "\u001b[32mapproximately\\xa05\\xa0minutes\\xa0to complete the tutorial.\\n\\nLearning outcomes\\n\\nAfter completing this tutorial \u001b[0m\n",
       "\u001b[32myou will be able to:'\u001b[0m\u001b[1m)\u001b[0m, \u001b[1;35mDocument\u001b[0m\u001b[1m(\u001b[0m\u001b[33mid\u001b[0m=\u001b[32m'd192c472-76a1-4cad-b713-ca28113c28be'\u001b[0m, \u001b[33mmetadata\u001b[0m=\u001b[1m{\u001b[0m\u001b[32m'page'\u001b[0m: \u001b[1;36m-1\u001b[0m, \u001b[32m'table_captions'\u001b[0m:\n",
       "\u001b[32m''\u001b[0m, \u001b[32m'extension'\u001b[0m: \u001b[32m'docx'\u001b[0m, \u001b[32m'document_title'\u001b[0m: \u001b[32m''\u001b[0m, \u001b[32m'table'\u001b[0m: \u001b[3;91mFalse\u001b[0m, \u001b[32m'markdown'\u001b[0m: \u001b[3;91mFalse\u001b[0m, \u001b[32m'ocr'\u001b[0m: \u001b[3;91mFalse\u001b[0m, \u001b[32m'source'\u001b[0m: \n",
       "\u001b[32m'/home/amaiya/projects/ghub/onprem/nbs/tests/sample_data/docx_example/gen_ai.docx'\u001b[0m, \u001b[32m'score'\u001b[0m: \u001b[1;36m0.5010679960250854\u001b[0m\u001b[1m}\u001b[0m, \n",
       "\u001b[33mpage_content\u001b[0m=\u001b[32m'Question 3 of 5\\n\\nWhich of the following is a text generative AI tool?\\n\\nSpotify\\n\\nGoogle \u001b[0m\n",
       "\u001b[32mMaps\\n\\nDall-E2\\n\\nChatGPT\\n\\nQuestion 3 Feedback for Option 1\\n\\nFalse. Spotify uses AI for music recommendations,\u001b[0m\n",
       "\u001b[32mnot text generation.\\n\\nQuestion 3 Feedback for Option 2\\n\\nFalse. Google Maps uses AI for navigation and travel \u001b[0m\n",
       "\u001b[32minformation, not text generation.\\n\\n\\n\\nQuestion 3 Feedback for Option 3\\n\\nFalse. DALL-E2 generates images and \u001b[0m\n",
       "\u001b[32mart, not text.\\n\\nQuestion 3 Feedback for Option 4'\u001b[0m\u001b[1m)\u001b[0m, \u001b[1;35mDocument\u001b[0m\u001b[1m(\u001b[0m\u001b[33mid\u001b[0m=\u001b[32m'9ff29816-b12e-4835-8d2e-f02de6bb1908'\u001b[0m, \n",
       "\u001b[33mmetadata\u001b[0m=\u001b[1m{\u001b[0m\u001b[32m'extension'\u001b[0m: \u001b[32m'docx'\u001b[0m, \u001b[32m'table_captions'\u001b[0m: \u001b[32m''\u001b[0m, \u001b[32m'document_title'\u001b[0m: \u001b[32m''\u001b[0m, \u001b[32m'page'\u001b[0m: \u001b[1;36m-1\u001b[0m, \u001b[32m'source'\u001b[0m: \n",
       "\u001b[32m'/home/amaiya/projects/ghub/onprem/nbs/tests/sample_data/docx_example/gen_ai.docx'\u001b[0m, \u001b[32m'ocr'\u001b[0m: \u001b[3;91mFalse\u001b[0m, \u001b[32m'markdown'\u001b[0m: \n",
       "\u001b[3;91mFalse\u001b[0m, \u001b[32m'table'\u001b[0m: \u001b[3;91mFalse\u001b[0m, \u001b[32m'score'\u001b[0m: \u001b[1;36m0.486774742603302\u001b[0m\u001b[1m}\u001b[0m, \u001b[33mpage_content\u001b[0m=\u001b[32m'Recognise generative AI in daily life: Identify \u001b[0m\n",
       "\u001b[32mcommon generative AI applications like chatbots, facial recognition, streaming services, and digital \u001b[0m\n",
       "\u001b[32massistants.\\n\\nUnderstand generative AI: Explain generative AI and its ability to create diverse content such as \u001b[0m\n",
       "\u001b[32mtext, images, music, video, and code.\\n\\nDescribe LLMs: Understand how\\xa0Large Language Models \u001b[0m\u001b[32m(\u001b[0m\u001b[32mLLMs\u001b[0m\u001b[32m)\u001b[0m\u001b[32m work.\\n\\n2. \u001b[0m\n",
       "\u001b[32mExamples of AI in everyday life'\u001b[0m\u001b[1m)\u001b[0m, \u001b[1;35mDocument\u001b[0m\u001b[1m(\u001b[0m\u001b[33mid\u001b[0m=\u001b[32m'6a9f7da2-e0d4-47f2-8d0e-6476ac6b572a'\u001b[0m, \u001b[33mmetadata\u001b[0m=\u001b[1m{\u001b[0m\u001b[32m'document_title'\u001b[0m: \n",
       "\u001b[32m''\u001b[0m, \u001b[32m'extension'\u001b[0m: \u001b[32m'docx'\u001b[0m, \u001b[32m'ocr'\u001b[0m: \u001b[3;91mFalse\u001b[0m, \u001b[32m'table'\u001b[0m: \u001b[3;91mFalse\u001b[0m, \u001b[32m'markdown'\u001b[0m: \u001b[3;91mFalse\u001b[0m, \u001b[32m'source'\u001b[0m: \n",
       "\u001b[32m'/home/amaiya/projects/ghub/onprem/nbs/tests/sample_data/docx_example/gen_ai.docx'\u001b[0m, \u001b[32m'page'\u001b[0m: \u001b[1;36m-1\u001b[0m, \u001b[32m'table_captions'\u001b[0m: \n",
       "\u001b[32m''\u001b[0m, \u001b[32m'score'\u001b[0m: \u001b[1;36m0.47742533683776855\u001b[0m\u001b[1m}\u001b[0m, \u001b[33mpage_content\u001b[0m=\u001b[32m'Online shopping – personalised recommendations and \u001b[0m\n",
       "\u001b[32madverts.\\n\\nDigital assistants, e.g.\\u202fAmazon Alexa, Google Assistant, Siri.\\n\\nSending an email – spell check \u001b[0m\n",
       "\u001b[32mand spam filters.\\n\\n\\n\\nTravel and navigation, e.g. Google Maps.\\n\\nWriting assistants, e.g.  Grammarly.\\n\\nHealth\u001b[0m\n",
       "\u001b[32mand fitness apps, e.g. Fitbit.\\n\\nSocial media feeds – AI controls the feeds that you get to see while browsing \u001b[0m\n",
       "\u001b[32mthrough social media platforms \u001b[0m\u001b[32m(\u001b[0m\u001b[32me.g., Facebook, X, Instagram\u001b[0m\u001b[32m)\u001b[0m\u001b[32m or the notifications you receive.\\n\\n3. What is \u001b[0m\n",
       "\u001b[32mgenerative AI?'\u001b[0m\u001b[1m)\u001b[0m\u001b[1m)\u001b[0m\n"
      ]
     },
     "metadata": {},
     "output_type": "display_data"
    },
    {
     "data": {
      "text/html": [
       "<pre style=\"white-space:pre;overflow-x:auto;line-height:normal;font-family:Menlo,'DejaVu Sans Mono',consolas,'Courier New',monospace\"><span style=\"color: #7f7f7f; text-decoration-color: #7f7f7f\">[Step 4: Duration 1.14 seconds]</span>\n",
       "</pre>\n"
      ],
      "text/plain": [
       "\u001b[2m[Step 4: Duration 1.14 seconds]\u001b[0m\n"
      ]
     },
     "metadata": {},
     "output_type": "display_data"
    },
    {
     "data": {
      "text/html": [
       "<pre style=\"white-space:pre;overflow-x:auto;line-height:normal;font-family:Menlo,'DejaVu Sans Mono',consolas,'Courier New',monospace\"><span style=\"color: #d4b702; text-decoration-color: #d4b702\">━━━━━━━━━━━━━━━━━━━━━━━━━━━━━━━━━━━━━━━━━━━━━━━━━━━━━ </span><span style=\"font-weight: bold\">Step </span><span style=\"color: #008080; text-decoration-color: #008080; font-weight: bold\">5</span><span style=\"color: #d4b702; text-decoration-color: #d4b702\"> ━━━━━━━━━━━━━━━━━━━━━━━━━━━━━━━━━━━━━━━━━━━━━━━━━━━━━━</span>\n",
       "</pre>\n"
      ],
      "text/plain": [
       "\u001b[38;2;212;183;2m━━━━━━━━━━━━━━━━━━━━━━━━━━━━━━━━━━━━━━━━━━━━━━━━━━━━━ \u001b[0m\u001b[1mStep \u001b[0m\u001b[1;36m5\u001b[0m\u001b[38;2;212;183;2m ━━━━━━━━━━━━━━━━━━━━━━━━━━━━━━━━━━━━━━━━━━━━━━━━━━━━━━\u001b[0m\n"
      ]
     },
     "metadata": {},
     "output_type": "display_data"
    },
    {
     "data": {
      "text/html": [
       "<pre style=\"white-space:pre;overflow-x:auto;line-height:normal;font-family:Menlo,'DejaVu Sans Mono',consolas,'Courier New',monospace\">╭─────────────────────────────────────────────────────────────────────────────────────────────────────────────────╮\n",
       "│ Calling tool: 'final_answer' with arguments: {'answer': '# Generative AI Use Cases\\n\\n## General                │\n",
       "│ Applications\\n- **Content Generation**: Automatically generates text, images, music, video, and code based on   │\n",
       "│ user prompts.\\n- **Chatbots**: Used in customer service to interact with users conversationally.\\n-             │\n",
       "│ **Personalized Recommendations**: Utilized in online shopping to suggest products based on user behavior.\\n\\n## │\n",
       "│ Marketing and Advertising\\n- **Targeted Advertising**: AI algorithms analyze user data to deliver personalized  │\n",
       "│ adverts.\\n- **Email Optimization**: Tools that use AI for spell check and spam filtering improve communication  │\n",
       "│ efficiency.\\n- **Social Media Management**: AI curates content and controls feeds in platforms like Facebook    │\n",
       "│ and Instagram.\\n\\n## Creative Industries\\n- **Art Creation**: Tools like DALL-E2 generate unique artistic       │\n",
       "│ images based on text prompts.\\n- **Music Composition**: AI systems can compose music, creating new pieces based │\n",
       "│ on different styles or genres.\\n- **Video Production**: Generative AI can assist in creating video content by   │\n",
       "│ generating scripts or visual elements.\\n'}                                                                      │\n",
       "╰─────────────────────────────────────────────────────────────────────────────────────────────────────────────────╯\n",
       "</pre>\n"
      ],
      "text/plain": [
       "╭─────────────────────────────────────────────────────────────────────────────────────────────────────────────────╮\n",
       "│ Calling tool: 'final_answer' with arguments: {'answer': '# Generative AI Use Cases\\n\\n## General                │\n",
       "│ Applications\\n- **Content Generation**: Automatically generates text, images, music, video, and code based on   │\n",
       "│ user prompts.\\n- **Chatbots**: Used in customer service to interact with users conversationally.\\n-             │\n",
       "│ **Personalized Recommendations**: Utilized in online shopping to suggest products based on user behavior.\\n\\n## │\n",
       "│ Marketing and Advertising\\n- **Targeted Advertising**: AI algorithms analyze user data to deliver personalized  │\n",
       "│ adverts.\\n- **Email Optimization**: Tools that use AI for spell check and spam filtering improve communication  │\n",
       "│ efficiency.\\n- **Social Media Management**: AI curates content and controls feeds in platforms like Facebook    │\n",
       "│ and Instagram.\\n\\n## Creative Industries\\n- **Art Creation**: Tools like DALL-E2 generate unique artistic       │\n",
       "│ images based on text prompts.\\n- **Music Composition**: AI systems can compose music, creating new pieces based │\n",
       "│ on different styles or genres.\\n- **Video Production**: Generative AI can assist in creating video content by   │\n",
       "│ generating scripts or visual elements.\\n'}                                                                      │\n",
       "╰─────────────────────────────────────────────────────────────────────────────────────────────────────────────────╯\n"
      ]
     },
     "metadata": {},
     "output_type": "display_data"
    },
    {
     "data": {
      "text/html": [
       "<pre style=\"white-space:pre;overflow-x:auto;line-height:normal;font-family:Menlo,'DejaVu Sans Mono',consolas,'Courier New',monospace\"><span style=\"color: #d4b702; text-decoration-color: #d4b702; font-weight: bold\">Final answer: # Generative AI Use Cases</span>\n",
       "\n",
       "<span style=\"color: #d4b702; text-decoration-color: #d4b702; font-weight: bold\">## General Applications</span>\n",
       "<span style=\"color: #d4b702; text-decoration-color: #d4b702; font-weight: bold\">- **Content Generation**: Automatically generates text, images, music, video, and code based on user prompts.</span>\n",
       "<span style=\"color: #d4b702; text-decoration-color: #d4b702; font-weight: bold\">- **Chatbots**: Used in customer service to interact with users conversationally.</span>\n",
       "<span style=\"color: #d4b702; text-decoration-color: #d4b702; font-weight: bold\">- **Personalized Recommendations**: Utilized in online shopping to suggest products based on user behavior.</span>\n",
       "\n",
       "<span style=\"color: #d4b702; text-decoration-color: #d4b702; font-weight: bold\">## Marketing and Advertising</span>\n",
       "<span style=\"color: #d4b702; text-decoration-color: #d4b702; font-weight: bold\">- **Targeted Advertising**: AI algorithms analyze user data to deliver personalized adverts.</span>\n",
       "<span style=\"color: #d4b702; text-decoration-color: #d4b702; font-weight: bold\">- **Email Optimization**: Tools that use AI for spell check and spam filtering improve communication efficiency.</span>\n",
       "<span style=\"color: #d4b702; text-decoration-color: #d4b702; font-weight: bold\">- **Social Media Management**: AI curates content and controls feeds in platforms like Facebook and Instagram.</span>\n",
       "\n",
       "<span style=\"color: #d4b702; text-decoration-color: #d4b702; font-weight: bold\">## Creative Industries</span>\n",
       "<span style=\"color: #d4b702; text-decoration-color: #d4b702; font-weight: bold\">- **Art Creation**: Tools like DALL-E2 generate unique artistic images based on text prompts.</span>\n",
       "<span style=\"color: #d4b702; text-decoration-color: #d4b702; font-weight: bold\">- **Music Composition**: AI systems can compose music, creating new pieces based on different styles or genres.</span>\n",
       "<span style=\"color: #d4b702; text-decoration-color: #d4b702; font-weight: bold\">- **Video Production**: Generative AI can assist in creating video content by generating scripts or visual </span>\n",
       "<span style=\"color: #d4b702; text-decoration-color: #d4b702; font-weight: bold\">elements.</span>\n",
       "\n",
       "</pre>\n"
      ],
      "text/plain": [
       "\u001b[1;38;2;212;183;2mFinal answer: # Generative AI Use Cases\u001b[0m\n",
       "\n",
       "\u001b[1;38;2;212;183;2m## General Applications\u001b[0m\n",
       "\u001b[1;38;2;212;183;2m- **Content Generation**: Automatically generates text, images, music, video, and code based on user prompts.\u001b[0m\n",
       "\u001b[1;38;2;212;183;2m- **Chatbots**: Used in customer service to interact with users conversationally.\u001b[0m\n",
       "\u001b[1;38;2;212;183;2m- **Personalized Recommendations**: Utilized in online shopping to suggest products based on user behavior.\u001b[0m\n",
       "\n",
       "\u001b[1;38;2;212;183;2m## Marketing and Advertising\u001b[0m\n",
       "\u001b[1;38;2;212;183;2m- **Targeted Advertising**: AI algorithms analyze user data to deliver personalized adverts.\u001b[0m\n",
       "\u001b[1;38;2;212;183;2m- **Email Optimization**: Tools that use AI for spell check and spam filtering improve communication efficiency.\u001b[0m\n",
       "\u001b[1;38;2;212;183;2m- **Social Media Management**: AI curates content and controls feeds in platforms like Facebook and Instagram.\u001b[0m\n",
       "\n",
       "\u001b[1;38;2;212;183;2m## Creative Industries\u001b[0m\n",
       "\u001b[1;38;2;212;183;2m- **Art Creation**: Tools like DALL-E2 generate unique artistic images based on text prompts.\u001b[0m\n",
       "\u001b[1;38;2;212;183;2m- **Music Composition**: AI systems can compose music, creating new pieces based on different styles or genres.\u001b[0m\n",
       "\u001b[1;38;2;212;183;2m- **Video Production**: Generative AI can assist in creating video content by generating scripts or visual \u001b[0m\n",
       "\u001b[1;38;2;212;183;2melements.\u001b[0m\n",
       "\n"
      ]
     },
     "metadata": {},
     "output_type": "display_data"
    },
    {
     "data": {
      "text/html": [
       "<pre style=\"white-space:pre;overflow-x:auto;line-height:normal;font-family:Menlo,'DejaVu Sans Mono',consolas,'Courier New',monospace\"><span style=\"color: #7f7f7f; text-decoration-color: #7f7f7f\">[Step 5: Duration 4.79 seconds]</span>\n",
       "</pre>\n"
      ],
      "text/plain": [
       "\u001b[2m[Step 5: Duration 4.79 seconds]\u001b[0m\n"
      ]
     },
     "metadata": {},
     "output_type": "display_data"
    }
   ],
   "source": [
    "# | notest\n",
    "\n",
    "agent = Agent(llm)\n",
    "agent.add_vectorstore_tool(name='genai', \n",
    "                           description='Searches a database of information on generative AI.',\n",
    "                           store=store)\n",
    "\n",
    "answer = agent.run(\"Summarize some generative AI use cases in Markdown format. You may need to run at least three queries of the database.\")"
   ]
  },
  {
   "cell_type": "code",
   "execution_count": null,
   "metadata": {},
   "outputs": [
    {
     "data": {
      "text/markdown": [
       "# Generative AI Use Cases\n",
       "\n",
       "## General Applications\n",
       "- **Content Generation**: Automatically generates text, images, music, video, and code based on user prompts.\n",
       "- **Chatbots**: Used in customer service to interact with users conversationally.\n",
       "- **Personalized Recommendations**: Utilized in online shopping to suggest products based on user behavior.\n",
       "\n",
       "## Marketing and Advertising\n",
       "- **Targeted Advertising**: AI algorithms analyze user data to deliver personalized adverts.\n",
       "- **Email Optimization**: Tools that use AI for spell check and spam filtering improve communication efficiency.\n",
       "- **Social Media Management**: AI curates content and controls feeds in platforms like Facebook and Instagram.\n",
       "\n",
       "## Creative Industries\n",
       "- **Art Creation**: Tools like DALL-E2 generate unique artistic images based on text prompts.\n",
       "- **Music Composition**: AI systems can compose music, creating new pieces based on different styles or genres.\n",
       "- **Video Production**: Generative AI can assist in creating video content by generating scripts or visual elements.\n"
      ],
      "text/plain": [
       "<IPython.core.display.Markdown object>"
      ]
     },
     "metadata": {},
     "output_type": "display_data"
    }
   ],
   "source": [
    "# |  notest\n",
    "\n",
    "from IPython.display import display, Markdown\n",
    "display(Markdown(answer))"
   ]
  },
  {
   "cell_type": "code",
   "execution_count": null,
   "metadata": {},
   "outputs": [],
   "source": []
  }
 ],
 "metadata": {
  "kernelspec": {
   "display_name": "python3",
   "language": "python",
   "name": "python3"
  }
 },
 "nbformat": 4,
 "nbformat_minor": 4
}
